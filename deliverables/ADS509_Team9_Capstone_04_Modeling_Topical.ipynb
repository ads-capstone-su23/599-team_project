{
 "cells": [
  {
   "cell_type": "markdown",
   "metadata": {},
   "source": [
    "# Daily Retreat: Using Sentiment Analysis to<br>Find, Personalize, and Share Positive News from Popular Online Sources\n",
    "__Aaron Carr, Azucena Faus, and Dave Friesen - ADS-599-01-SU23__"
   ]
  },
  {
   "cell_type": "markdown",
   "metadata": {},
   "source": [
    "## Setup"
   ]
  },
  {
   "cell_type": "code",
   "execution_count": 1,
   "metadata": {},
   "outputs": [
    {
     "name": "stderr",
     "output_type": "stream",
     "text": [
      "c:\\Users\\Susy\\anaconda3\\envs\\humans\\lib\\site-packages\\requests\\__init__.py:102: RequestsDependencyWarning: urllib3 (1.26.7) or chardet (5.1.0)/charset_normalizer (2.0.12) doesn't match a supported version!\n",
      "  warnings.warn(\"urllib3 ({}) or chardet ({})/charset_normalizer ({}) doesn't match a supported \"\n",
      "c:\\Users\\Susy\\anaconda3\\envs\\humans\\lib\\site-packages\\plotly\\express\\imshow_utils.py:24: DeprecationWarning: `np.bool8` is a deprecated alias for `np.bool_`.  (Deprecated NumPy 1.24)\n",
      "  np.bool8: (False, True),\n"
     ]
    }
   ],
   "source": [
    "#! pip install pyLDavis\n",
    "\n",
    "import numpy as np\n",
    "import pandas as pd\n",
    "\n",
    "# Text preprocessing libraries\n",
    "import requests\n",
    "import os\n",
    "import shutil\n",
    "import re\n",
    "import logging\n",
    "import time\n",
    "import zipfile\n",
    "import requests\n",
    "from bs4 import BeautifulSoup\n",
    "import datetime\n",
    "import re\n",
    "import regex as rex\n",
    "from bs4 import BeautifulSoup\n",
    "import datetime\n",
    "import json\n",
    "from string import punctuation\n",
    "from nltk.corpus import stopwords\n",
    "import re\n",
    "import emoji\n",
    "import itertools\n",
    "import pickle\n",
    "\n",
    "# EDA for text libraries\n",
    "import nltk\n",
    "import collections\n",
    "import textstat\n",
    "from collections import defaultdict, Counter\n",
    "from gensim.corpora import Dictionary\n",
    "import random\n",
    "#import textacy.preprocessing as tprep\n",
    "#from textacy.extract import keyword_in_context\n",
    "import pyLDAvis\n",
    "pyLDAvis.enable_notebook()\n",
    "from tqdm.auto import tqdm\n",
    "#import spacy\n",
    "import pyLDAvis.lda_model\n",
    "import pyLDAvis.gensim_models\n",
    "from wordcloud import WordCloud \n",
    "from sklearn.feature_extraction.text import TfidfVectorizer, CountVectorizer\n",
    "from sklearn.decomposition import NMF\n",
    "from sklearn.pipeline import Pipeline\n",
    "from sklearn.decomposition import LatentDirichletAllocation\n",
    "from gensim import models, interfaces, utils\n",
    "from gensim.models import Nmf\n",
    "from gensim.models.coherencemodel import CoherenceModel\n",
    "from gensim.models import TfidfModel\n",
    "from gensim.models import LdaModel\n",
    "from gensim.models.ldamulticore import LdaMulticore\n",
    "\n",
    "\n",
    "# visuals\n",
    "import matplotlib.pyplot as plt\n",
    "import seaborn as sns\n",
    "import calendar \n",
    "from tabulate import tabulate\n",
    "\n",
    "# modeling\n",
    "from sklearn.svm import SVC\n",
    "from sklearn.svm import LinearSVC\n",
    "from sklearn.metrics import ConfusionMatrixDisplay\n",
    "from sklearn.metrics import accuracy_score, f1_score, recall_score, precision_recall_curve\n",
    "from sklearn.metrics import confusion_matrix\n",
    "from sklearn.metrics import classification_report\n",
    "from sklearn.model_selection import GridSearchCV\n",
    "from sklearn.model_selection import train_test_split\n",
    "import random\n",
    "import statsmodels.tools.tools as stattools\n",
    "from sklearn.tree import plot_tree\n",
    "from sklearn.metrics import confusion_matrix\n",
    "from tabulate import tabulate\n",
    "from sklearn.ensemble import RandomForestClassifier\n",
    "from scipy import stats\n",
    "import seaborn as sns\n",
    "import plotly.express as px\n",
    "from sklearn  import metrics\n",
    "from sklearn.datasets import make_classification\n",
    "from sklearn.multioutput import MultiOutputClassifier\n",
    "from sklearn.preprocessing import MultiLabelBinarizer\n",
    "from sklearn.ensemble import RandomForestClassifier\n",
    "from sklearn.utils import shuffle\n",
    "\n",
    "\n",
    "import warnings\n",
    "warnings.filterwarnings('ignore')\n",
    "warnings.simplefilter('ignore')"
   ]
  },
  {
   "cell_type": "markdown",
   "metadata": {},
   "source": [
    "### Functions:"
   ]
  },
  {
   "cell_type": "markdown",
   "metadata": {},
   "source": [
    "Functions to clean data whenever needed:"
   ]
  },
  {
   "cell_type": "code",
   "execution_count": 2,
   "metadata": {},
   "outputs": [],
   "source": [
    "# CASE LOAD, REMOVE STOPWORDS,\n",
    "# EMOJI and PUNCTUATION REMAL,\n",
    "# URL REMOVAL\n",
    "# TOKENIZE\n",
    "# REMOVE MESSY text\n",
    "\n",
    "punctuation = set(punctuation) # speeds up comparison\n",
    "tw_punct = punctuation - {\"#\"}\n",
    "\n",
    "sw = stopwords.words(\"english\")\n",
    "sw = sw + ['nan']\n",
    "sw = sw + ['said'] + ['news'] + ['us'] + ['reuters'] + ['ap'] \\\n",
    "    + ['fox'] + ['cnn'] + ['breitbart'] + ['digital'] + ['follow'] \\\n",
    "    + ['associated press'] + ['press contributed'] + ['press'] \\\n",
    "    + ['dont'] + ['2023'] + ['told digital'] + ['associated contributed']\\\n",
    "    + ['contributed report'] + ['associated'] + ['contributed'] +\\\n",
    "    ['report'] + ['continued'] + ['reportedly'] + ['im']\n",
    "\n",
    "# Two useful regex\n",
    "whitespace_pattern = re.compile(r\"\\s+\")\n",
    "hashtag_pattern = re.compile(r\"^#[0-9a-zA-Z]+\")\n",
    "\n",
    "def emoji_split(text):\n",
    "    return(\"\".join([' ' + ch + ' ' if emoji.is_emoji(ch) else ch for ch in text]))\n",
    "\n",
    "def remove_stop(tokens) :\n",
    "    # modify this function to remove stopwords\n",
    "\n",
    "    return[t for t in tokens if t not in sw]\n",
    " \n",
    "def remove_punctuation(text, punct_set=tw_punct) : \n",
    "    return(\"\".join([ch for ch in text if ch not in punct_set]))\n",
    "\n",
    "def tokenize(text) : \n",
    "    \"\"\" Splitting on whitespace rather than the book's tokenize function. That \n",
    "        function will drop tokens like '#hashtag' or '2A', which we need for Twitter. \"\"\"\n",
    "    \n",
    "    return([item.lower() for item in whitespace_pattern.split(text)])\n",
    "    \n",
    "def remove_url(text):\n",
    "    return(re.sub(r'http\\S+', '', text))\n",
    "\n",
    "def remove_messy(text): # remove words that give away the source\n",
    "    text1=re.sub(r'cnn', '', text)\n",
    "    text2=re.sub(r'fox', '', text1)\n",
    "    text3=re.sub(r' — ', '', text2)\n",
    "    text4=re.sub(r'breitbart', '', text3)\n",
    "    return(re.sub(r'\\\\n', '', text4))\n",
    "\n",
    "\n",
    "\n",
    "\n",
    "def prepare(text, pipeline) : \n",
    "    tokens = str(text)\n",
    "    \n",
    "    for transform in pipeline : \n",
    "        tokens = transform(tokens)\n",
    "        \n",
    "    return(tokens)"
   ]
  },
  {
   "cell_type": "markdown",
   "metadata": {},
   "source": [
    "Function to map NMF topics to generalized topics:"
   ]
  },
  {
   "cell_type": "code",
   "execution_count": 3,
   "metadata": {},
   "outputs": [],
   "source": [
    "def mapping_topics(article_df):\n",
    "    customer_topics=[]\n",
    "    mapped_topic = 'misc'\n",
    "    for items in article_df['topic_name']:\n",
    "        if (items == 'season draft') | (items == 'prop runs'):\n",
    "            mapped_topic = 'sports'\n",
    "        elif (items == 'trump president') | (items == 'russian prigozhin'):\n",
    "            mapped_topic = 'politics/government'\n",
    "        elif items == 'amazon review':\n",
    "            mapped_topic = 'shopping'\n",
    "        elif (items == 'inflation rates') | (items == 'business work'):\n",
    "            mapped_topic = 'business'\n",
    "        elif items == 'ai generative':\n",
    "            mapped_topic = 'technology'\n",
    "        elif (items == 'titanic submersible') | (items == 'police court'):\n",
    "            mapped_topic = 'public_concerns'\n",
    "        customer_topics.append(mapped_topic)\n",
    "    article_df['customer_topics'] = customer_topics\n",
    "    return article_df"
   ]
  },
  {
   "cell_type": "markdown",
   "metadata": {},
   "source": [
    "### Load data:"
   ]
  },
  {
   "cell_type": "code",
   "execution_count": 4,
   "metadata": {},
   "outputs": [],
   "source": [
    "api_data_complete_modeling_df=pd.read_csv('../data/capstone_master_model_topic_input.csv')\n"
   ]
  },
  {
   "cell_type": "markdown",
   "metadata": {},
   "source": [
    "## Topic Classification Model"
   ]
  },
  {
   "cell_type": "markdown",
   "metadata": {},
   "source": [
    "To develop a topic classification model, the findings from EDA that showed NMF to be the best topic model for this corpus were used to assign topics to each article, and then map these topics were mapped to a more general set of topics that can be offered as options to the end user of the product.\n",
    "\n",
    "1. Label creation\n",
    "    * Clean and vectorize (TFIDF) processed_text that does not contain stop words.\n",
    "    * Run NMF modeling\n",
    "    * Add feature to each article with the most relevant topic found using NMF\n",
    "    * Map those topics to generalized topic list\n",
    "    * Topic list becomes label for each record (article)\n",
    "2. Split data into train/test\n",
    "3. Train and Test a Topic Classification model\n",
    "\n",
    "**PURPOSE OF THE MODEL:**\n",
    "For future renditions of this application - the model can predict the best-fit topic of a new set of articles (real-time) just by looking at the (cleaned) text of the article, and then provide those articles to the user when that topic is selected in the User interface of the end product."
   ]
  },
  {
   "cell_type": "markdown",
   "metadata": {},
   "source": [
    "### Topic Modeling Non-Negative Matrix (NMF):"
   ]
  },
  {
   "cell_type": "code",
   "execution_count": 5,
   "metadata": {},
   "outputs": [
    {
     "data": {
      "text/html": [
       "<div>\n",
       "<style scoped>\n",
       "    .dataframe tbody tr th:only-of-type {\n",
       "        vertical-align: middle;\n",
       "    }\n",
       "\n",
       "    .dataframe tbody tr th {\n",
       "        vertical-align: top;\n",
       "    }\n",
       "\n",
       "    .dataframe thead th {\n",
       "        text-align: right;\n",
       "    }\n",
       "</style>\n",
       "<table border=\"1\" class=\"dataframe\">\n",
       "  <thead>\n",
       "    <tr style=\"text-align: right;\">\n",
       "      <th></th>\n",
       "      <th>Unnamed: 0</th>\n",
       "      <th>index</th>\n",
       "      <th>text_id</th>\n",
       "      <th>source_name</th>\n",
       "      <th>author</th>\n",
       "      <th>title</th>\n",
       "      <th>url</th>\n",
       "      <th>publish_date</th>\n",
       "      <th>article_text</th>\n",
       "      <th>content</th>\n",
       "      <th>processed_text</th>\n",
       "      <th>processed_text_split</th>\n",
       "      <th>num_tokens</th>\n",
       "      <th>original_word_count</th>\n",
       "    </tr>\n",
       "  </thead>\n",
       "  <tbody>\n",
       "    <tr>\n",
       "      <th>0</th>\n",
       "      <td>0</td>\n",
       "      <td>0</td>\n",
       "      <td>2</td>\n",
       "      <td>USA Today</td>\n",
       "      <td>USA TODAY, Emily DeLetter, USA TODAY</td>\n",
       "      <td>Tito's launches 'Tito's in a Big Can,' an empt...</td>\n",
       "      <td>https://www.usatoday.com/story/money/food/2023...</td>\n",
       "      <td>2023-06-21</td>\n",
       "      <td>Have you ever wanted to own your very own keg ...</td>\n",
       "      <td>Have you ever wanted to own your very own keg ...</td>\n",
       "      <td>ever wanted keg titos handmade vodka dream bec...</td>\n",
       "      <td>['ever', 'wanted', 'keg', 'titos', 'handmade',...</td>\n",
       "      <td>117</td>\n",
       "      <td>202</td>\n",
       "    </tr>\n",
       "    <tr>\n",
       "      <th>1</th>\n",
       "      <td>1</td>\n",
       "      <td>1</td>\n",
       "      <td>3</td>\n",
       "      <td>USA Today</td>\n",
       "      <td>USA TODAY, Joy Ashford, USA TODAY</td>\n",
       "      <td>Search for missing actor Julian Sands continue...</td>\n",
       "      <td>https://www.usatoday.com/story/entertainment/c...</td>\n",
       "      <td>2023-06-20</td>\n",
       "      <td>Over five months after Julian Sands went missi...</td>\n",
       "      <td>Over five months after Julian Sandswent missin...</td>\n",
       "      <td>five months julian sands went missing solo hik...</td>\n",
       "      <td>['five', 'months', 'julian', 'sands', 'went', ...</td>\n",
       "      <td>215</td>\n",
       "      <td>340</td>\n",
       "    </tr>\n",
       "    <tr>\n",
       "      <th>2</th>\n",
       "      <td>2</td>\n",
       "      <td>2</td>\n",
       "      <td>5</td>\n",
       "      <td>USA Today</td>\n",
       "      <td>Tar Heels Wire</td>\n",
       "      <td>Four star running back picks Michigan State ov...</td>\n",
       "      <td>https://tarheelswire.usatoday.com/2023/06/24/f...</td>\n",
       "      <td>2023-06-25</td>\n",
       "      <td>\\n\\n\\n\\n\\n\\n\\n\\n\\n\\n\\n\\n\\n\\nFour star running ...</td>\n",
       "      <td>Mack Brown and the UNC football program have b...</td>\n",
       "      <td>four star running back picks michigan state un...</td>\n",
       "      <td>['four', 'star', 'running', 'back', 'picks', '...</td>\n",
       "      <td>161</td>\n",
       "      <td>286</td>\n",
       "    </tr>\n",
       "    <tr>\n",
       "      <th>3</th>\n",
       "      <td>3</td>\n",
       "      <td>3</td>\n",
       "      <td>6</td>\n",
       "      <td>USA Today</td>\n",
       "      <td>Roll Tide Wire</td>\n",
       "      <td>Alabama center Charles Bediako signs one-year ...</td>\n",
       "      <td>https://rolltidewire.usatoday.com/2023/06/23/a...</td>\n",
       "      <td>2023-06-23</td>\n",
       "      <td>\\n\\n\\n\\n\\n\\n\\n\\n\\n\\n\\n\\n\\n\\nAlabama center Cha...</td>\n",
       "      <td>Alabama center Charles Bediako was signed to a...</td>\n",
       "      <td>alabama center charles bediako signs one year ...</td>\n",
       "      <td>['alabama', 'center', 'charles', 'bediako', 's...</td>\n",
       "      <td>237</td>\n",
       "      <td>381</td>\n",
       "    </tr>\n",
       "    <tr>\n",
       "      <th>4</th>\n",
       "      <td>4</td>\n",
       "      <td>4</td>\n",
       "      <td>7</td>\n",
       "      <td>USA Today</td>\n",
       "      <td>Celtics Wire</td>\n",
       "      <td>Ralph Sampson breaks down iconic Boston Celtic...</td>\n",
       "      <td>https://celticswire.usatoday.com/2023/06/23/nb...</td>\n",
       "      <td>2023-06-23</td>\n",
       "      <td>\\n\\n\\n\\n\\n\\n\\n\\n\\n\\n\\n\\n\\n\\nRalph Sampson brea...</td>\n",
       "      <td>It was one of the most memorable moments in NB...</td>\n",
       "      <td>ralph sampson breaks iconic boston houston roc...</td>\n",
       "      <td>['ralph', 'sampson', 'breaks', 'iconic', 'bost...</td>\n",
       "      <td>134</td>\n",
       "      <td>228</td>\n",
       "    </tr>\n",
       "  </tbody>\n",
       "</table>\n",
       "</div>"
      ],
      "text/plain": [
       "   Unnamed: 0  index  text_id source_name  \\\n",
       "0           0      0        2   USA Today   \n",
       "1           1      1        3   USA Today   \n",
       "2           2      2        5   USA Today   \n",
       "3           3      3        6   USA Today   \n",
       "4           4      4        7   USA Today   \n",
       "\n",
       "                                 author  \\\n",
       "0  USA TODAY, Emily DeLetter, USA TODAY   \n",
       "1     USA TODAY, Joy Ashford, USA TODAY   \n",
       "2                        Tar Heels Wire   \n",
       "3                        Roll Tide Wire   \n",
       "4                          Celtics Wire   \n",
       "\n",
       "                                               title  \\\n",
       "0  Tito's launches 'Tito's in a Big Can,' an empt...   \n",
       "1  Search for missing actor Julian Sands continue...   \n",
       "2  Four star running back picks Michigan State ov...   \n",
       "3  Alabama center Charles Bediako signs one-year ...   \n",
       "4  Ralph Sampson breaks down iconic Boston Celtic...   \n",
       "\n",
       "                                                 url publish_date  \\\n",
       "0  https://www.usatoday.com/story/money/food/2023...   2023-06-21   \n",
       "1  https://www.usatoday.com/story/entertainment/c...   2023-06-20   \n",
       "2  https://tarheelswire.usatoday.com/2023/06/24/f...   2023-06-25   \n",
       "3  https://rolltidewire.usatoday.com/2023/06/23/a...   2023-06-23   \n",
       "4  https://celticswire.usatoday.com/2023/06/23/nb...   2023-06-23   \n",
       "\n",
       "                                        article_text  \\\n",
       "0  Have you ever wanted to own your very own keg ...   \n",
       "1  Over five months after Julian Sands went missi...   \n",
       "2  \\n\\n\\n\\n\\n\\n\\n\\n\\n\\n\\n\\n\\n\\nFour star running ...   \n",
       "3  \\n\\n\\n\\n\\n\\n\\n\\n\\n\\n\\n\\n\\n\\nAlabama center Cha...   \n",
       "4  \\n\\n\\n\\n\\n\\n\\n\\n\\n\\n\\n\\n\\n\\nRalph Sampson brea...   \n",
       "\n",
       "                                             content  \\\n",
       "0  Have you ever wanted to own your very own keg ...   \n",
       "1  Over five months after Julian Sandswent missin...   \n",
       "2  Mack Brown and the UNC football program have b...   \n",
       "3  Alabama center Charles Bediako was signed to a...   \n",
       "4  It was one of the most memorable moments in NB...   \n",
       "\n",
       "                                      processed_text  \\\n",
       "0  ever wanted keg titos handmade vodka dream bec...   \n",
       "1  five months julian sands went missing solo hik...   \n",
       "2  four star running back picks michigan state un...   \n",
       "3  alabama center charles bediako signs one year ...   \n",
       "4  ralph sampson breaks iconic boston houston roc...   \n",
       "\n",
       "                                processed_text_split  num_tokens  \\\n",
       "0  ['ever', 'wanted', 'keg', 'titos', 'handmade',...         117   \n",
       "1  ['five', 'months', 'julian', 'sands', 'went', ...         215   \n",
       "2  ['four', 'star', 'running', 'back', 'picks', '...         161   \n",
       "3  ['alabama', 'center', 'charles', 'bediako', 's...         237   \n",
       "4  ['ralph', 'sampson', 'breaks', 'iconic', 'bost...         134   \n",
       "\n",
       "   original_word_count  \n",
       "0                  202  \n",
       "1                  340  \n",
       "2                  286  \n",
       "3                  381  \n",
       "4                  228  "
      ]
     },
     "execution_count": 5,
     "metadata": {},
     "output_type": "execute_result"
    }
   ],
   "source": [
    "api_data_complete_modeling_df.head()"
   ]
  },
  {
   "cell_type": "code",
   "execution_count": 6,
   "metadata": {},
   "outputs": [],
   "source": [
    "pipeline_basic = [remove_punctuation,remove_messy]\n",
    "api_data_complete_modeling_df['clean_processed_text']=api_data_complete_modeling_df['processed_text'].apply(prepare,\n",
    "                                                                                          pipeline = pipeline_basic)"
   ]
  },
  {
   "cell_type": "code",
   "execution_count": 7,
   "metadata": {},
   "outputs": [],
   "source": [
    "# The best parameters for vectorization as recommended (Albrecht et al., 2021) are used:\n",
    "\n",
    "tfidf_topic = TfidfVectorizer(stop_words=list(sw), min_df=5, max_df=0.7, ngram_range=(1,2))\n",
    "topic_modeling_input = tfidf_topic.fit_transform(api_data_complete_modeling_df['clean_processed_text'])"
   ]
  },
  {
   "cell_type": "code",
   "execution_count": 8,
   "metadata": {},
   "outputs": [],
   "source": [
    "# The best performance was found with 10 topics for the NMF topic model:\n",
    "\n",
    "nmf_text_model_news = NMF(n_components=10, random_state=314)\n",
    "text_matrix = nmf_text_model_news.fit_transform(topic_modeling_input)\n",
    "H_text_matrix = nmf_text_model_news.components_"
   ]
  },
  {
   "cell_type": "markdown",
   "metadata": {},
   "source": [
    "### Add a feature with NMF-Assigned Topic per Article "
   ]
  },
  {
   "cell_type": "code",
   "execution_count": 9,
   "metadata": {},
   "outputs": [],
   "source": [
    "# extract topics from the model and \"name them\"\n",
    "# based on the top two word features for that topic\n",
    "\n",
    "topic_names = []\n",
    "voc=tfidf_topic.get_feature_names_out()\n",
    "for topic in nmf_text_model_news.components_:\n",
    "    important = topic.argsort()\n",
    "    top_word=voc[important[-1]] + \" \" + voc[important[-2]]\n",
    "    topic_names.append(top_word)"
   ]
  },
  {
   "cell_type": "code",
   "execution_count": 11,
   "metadata": {},
   "outputs": [],
   "source": [
    "# Use the word topic names just gathered previously and \n",
    "# Add them as a feature for each article that has that\n",
    "# topic assigned to itself through the NMF topic model\n",
    "# only take the topic with the highest score for that article\n",
    "# and use it as an assigned topic to the article:\n",
    "\n",
    "for idx, row in enumerate(text_matrix) : \n",
    "    topic3 = np.where(row == np.amax(row))[0]\n",
    "\n",
    "    api_data_complete_modeling_df.at[idx,\"topic_number\"]=topic3[0]\n",
    "    api_data_complete_modeling_df.at[idx,\"topic_name\"]=topic_names[topic3[0]]\n",
    "\n"
   ]
  },
  {
   "cell_type": "markdown",
   "metadata": {},
   "source": [
    "### Map NMF topics to Generalized Topics:"
   ]
  },
  {
   "cell_type": "code",
   "execution_count": 12,
   "metadata": {},
   "outputs": [],
   "source": [
    "predefined_topics = ['business', 'politics/government', 'sports','shopping', 'technology',\n",
    "                     'public_concerns']\n"
   ]
  },
  {
   "cell_type": "code",
   "execution_count": null,
   "metadata": {},
   "outputs": [],
   "source": [
    "# Save this array for use with the user interface application:\n",
    "\n",
    "np.save(\"../data/capstone_master_customer_topics.npy\", list(predefined_topics))\n"
   ]
  },
  {
   "cell_type": "code",
   "execution_count": 13,
   "metadata": {},
   "outputs": [],
   "source": [
    "# Run the function to map topics that were assigned (previously came\n",
    "# from the NMF topics that were named according to the top 2 word features)\n",
    "# to topics that are more generalized and will\n",
    "# be used as a label for modeling:\n",
    "\n",
    "api_data_complete_modeling_df=mapping_topics(api_data_complete_modeling_df)"
   ]
  },
  {
   "cell_type": "markdown",
   "metadata": {},
   "source": [
    "### Generate classifier "
   ]
  },
  {
   "cell_type": "markdown",
   "metadata": {},
   "source": [
    "split data train/test:"
   ]
  },
  {
   "cell_type": "code",
   "execution_count": 14,
   "metadata": {},
   "outputs": [
    {
     "name": "stdout",
     "output_type": "stream",
     "text": [
      "Size of Training Data  29121\n",
      "Size of Test Data  7281\n"
     ]
    }
   ],
   "source": [
    "# A stratified sampling method is used to split the data into\n",
    "# train and test on the mapped customer topics;\n",
    "\n",
    "Xtopic_train, Xtopic_test, Ytopic_train, Ytopic_test = train_test_split(api_data_complete_modeling_df['clean_processed_text'],\n",
    "                                                    api_data_complete_modeling_df['customer_topics'],\n",
    "                                                    test_size=0.2,\n",
    "                                                    random_state=42,\n",
    "                                                    stratify=api_data_complete_modeling_df['customer_topics'])\n",
    "\n",
    "print('Size of Training Data ', Xtopic_train.shape[0])\n",
    "print('Size of Test Data ', Xtopic_test.shape[0])"
   ]
  },
  {
   "cell_type": "markdown",
   "metadata": {},
   "source": [
    "Vectorize the training set of clean_processed_text and then run that same model on test data to prepare for model training and test:"
   ]
  },
  {
   "cell_type": "code",
   "execution_count": 15,
   "metadata": {},
   "outputs": [],
   "source": [
    "tfidf_topicmodel = TfidfVectorizer(min_df = 10, max_df=0.7, ngram_range=(1,2), stop_words=sw)\n",
    "Xtopic_train_tf = tfidf_topicmodel.fit_transform(Xtopic_train)\n",
    "Xtopic_test_tf = tfidf_topicmodel.transform(Xtopic_test)"
   ]
  },
  {
   "cell_type": "code",
   "execution_count": 15,
   "metadata": {},
   "outputs": [
    {
     "data": {
      "text/plain": [
       "customer_topics\n",
       "technology              763\n",
       "shopping               1097\n",
       "politics/government    2872\n",
       "sports                 5986\n",
       "public_concerns        8422\n",
       "business               9981\n",
       "Name: count, dtype: int64"
      ]
     },
     "execution_count": 15,
     "metadata": {},
     "output_type": "execute_result"
    }
   ],
   "source": [
    "Ytopic_train_plot=Ytopic_train.value_counts().sort_values()\n",
    "Ytopic_train_plot"
   ]
  },
  {
   "cell_type": "markdown",
   "metadata": {},
   "source": [
    "technology class is about 2.6% of the articles, so imbalanced. A classifier can achieve 98% accuracy overall and not classify this topic correctly. It is important we confirm this class is mostly correctly classified in test data"
   ]
  },
  {
   "cell_type": "markdown",
   "metadata": {},
   "source": [
    "---"
   ]
  },
  {
   "cell_type": "markdown",
   "metadata": {},
   "source": [
    "The Support Vector Classification algorithm was selected since it works well with sparse data, as is the case with vectorized word features, has a fast run time compared to other models like XGBoost, and had results well within margin for our purposes. If requirements become more strict, a more complex model may be necessary.\n",
    "\n",
    "The Linear kernel was also selected since it is the simplest kernel, and in accordance with the law of parsimony, it is best to keep models as simple as possible with passing evaluation metrics. Text data does tend to be lienarly seperable, which is why the linear kernel also worked quite well.\n"
   ]
  },
  {
   "cell_type": "markdown",
   "metadata": {},
   "source": [
    "At the end of the notebook, other models are tried to show the SVC model was the best option for its results, speed, and simplicity in comparison."
   ]
  },
  {
   "cell_type": "markdown",
   "metadata": {},
   "source": [
    "---"
   ]
  },
  {
   "cell_type": "markdown",
   "metadata": {},
   "source": [
    "**Hyperparameter tuning using Cross Validation Grid Search function for the Linear Support Vector Classifier model**"
   ]
  },
  {
   "cell_type": "code",
   "execution_count": 16,
   "metadata": {},
   "outputs": [
    {
     "name": "stdout",
     "output_type": "stream",
     "text": [
      "Fitting 5 folds for each of 25 candidates, totalling 125 fits\n"
     ]
    },
    {
     "data": {
      "text/html": [
       "<style>#sk-container-id-1 {color: black;background-color: white;}#sk-container-id-1 pre{padding: 0;}#sk-container-id-1 div.sk-toggleable {background-color: white;}#sk-container-id-1 label.sk-toggleable__label {cursor: pointer;display: block;width: 100%;margin-bottom: 0;padding: 0.3em;box-sizing: border-box;text-align: center;}#sk-container-id-1 label.sk-toggleable__label-arrow:before {content: \"▸\";float: left;margin-right: 0.25em;color: #696969;}#sk-container-id-1 label.sk-toggleable__label-arrow:hover:before {color: black;}#sk-container-id-1 div.sk-estimator:hover label.sk-toggleable__label-arrow:before {color: black;}#sk-container-id-1 div.sk-toggleable__content {max-height: 0;max-width: 0;overflow: hidden;text-align: left;background-color: #f0f8ff;}#sk-container-id-1 div.sk-toggleable__content pre {margin: 0.2em;color: black;border-radius: 0.25em;background-color: #f0f8ff;}#sk-container-id-1 input.sk-toggleable__control:checked~div.sk-toggleable__content {max-height: 200px;max-width: 100%;overflow: auto;}#sk-container-id-1 input.sk-toggleable__control:checked~label.sk-toggleable__label-arrow:before {content: \"▾\";}#sk-container-id-1 div.sk-estimator input.sk-toggleable__control:checked~label.sk-toggleable__label {background-color: #d4ebff;}#sk-container-id-1 div.sk-label input.sk-toggleable__control:checked~label.sk-toggleable__label {background-color: #d4ebff;}#sk-container-id-1 input.sk-hidden--visually {border: 0;clip: rect(1px 1px 1px 1px);clip: rect(1px, 1px, 1px, 1px);height: 1px;margin: -1px;overflow: hidden;padding: 0;position: absolute;width: 1px;}#sk-container-id-1 div.sk-estimator {font-family: monospace;background-color: #f0f8ff;border: 1px dotted black;border-radius: 0.25em;box-sizing: border-box;margin-bottom: 0.5em;}#sk-container-id-1 div.sk-estimator:hover {background-color: #d4ebff;}#sk-container-id-1 div.sk-parallel-item::after {content: \"\";width: 100%;border-bottom: 1px solid gray;flex-grow: 1;}#sk-container-id-1 div.sk-label:hover label.sk-toggleable__label {background-color: #d4ebff;}#sk-container-id-1 div.sk-serial::before {content: \"\";position: absolute;border-left: 1px solid gray;box-sizing: border-box;top: 0;bottom: 0;left: 50%;z-index: 0;}#sk-container-id-1 div.sk-serial {display: flex;flex-direction: column;align-items: center;background-color: white;padding-right: 0.2em;padding-left: 0.2em;position: relative;}#sk-container-id-1 div.sk-item {position: relative;z-index: 1;}#sk-container-id-1 div.sk-parallel {display: flex;align-items: stretch;justify-content: center;background-color: white;position: relative;}#sk-container-id-1 div.sk-item::before, #sk-container-id-1 div.sk-parallel-item::before {content: \"\";position: absolute;border-left: 1px solid gray;box-sizing: border-box;top: 0;bottom: 0;left: 50%;z-index: -1;}#sk-container-id-1 div.sk-parallel-item {display: flex;flex-direction: column;z-index: 1;position: relative;background-color: white;}#sk-container-id-1 div.sk-parallel-item:first-child::after {align-self: flex-end;width: 50%;}#sk-container-id-1 div.sk-parallel-item:last-child::after {align-self: flex-start;width: 50%;}#sk-container-id-1 div.sk-parallel-item:only-child::after {width: 0;}#sk-container-id-1 div.sk-dashed-wrapped {border: 1px dashed gray;margin: 0 0.4em 0.5em 0.4em;box-sizing: border-box;padding-bottom: 0.4em;background-color: white;}#sk-container-id-1 div.sk-label label {font-family: monospace;font-weight: bold;display: inline-block;line-height: 1.2em;}#sk-container-id-1 div.sk-label-container {text-align: center;}#sk-container-id-1 div.sk-container {/* jupyter's `normalize.less` sets `[hidden] { display: none; }` but bootstrap.min.css set `[hidden] { display: none !important; }` so we also need the `!important` here to be able to override the default hidden behavior on the sphinx rendered scikit-learn.org. See: https://github.com/scikit-learn/scikit-learn/issues/21755 */display: inline-block !important;position: relative;}#sk-container-id-1 div.sk-text-repr-fallback {display: none;}</style><div id=\"sk-container-id-1\" class=\"sk-top-container\"><div class=\"sk-text-repr-fallback\"><pre>GridSearchCV(estimator=LinearSVC(random_state=0),\n",
       "             param_grid={&#x27;C&#x27;: [0.1, 1, 6, 6.5, 8],\n",
       "                         &#x27;tol&#x27;: [1e-07, 1e-05, 0.0001, 0.001, 0.01]},\n",
       "             verbose=1)</pre><b>In a Jupyter environment, please rerun this cell to show the HTML representation or trust the notebook. <br />On GitHub, the HTML representation is unable to render, please try loading this page with nbviewer.org.</b></div><div class=\"sk-container\" hidden><div class=\"sk-item sk-dashed-wrapped\"><div class=\"sk-label-container\"><div class=\"sk-label sk-toggleable\"><input class=\"sk-toggleable__control sk-hidden--visually\" id=\"sk-estimator-id-1\" type=\"checkbox\" ><label for=\"sk-estimator-id-1\" class=\"sk-toggleable__label sk-toggleable__label-arrow\">GridSearchCV</label><div class=\"sk-toggleable__content\"><pre>GridSearchCV(estimator=LinearSVC(random_state=0),\n",
       "             param_grid={&#x27;C&#x27;: [0.1, 1, 6, 6.5, 8],\n",
       "                         &#x27;tol&#x27;: [1e-07, 1e-05, 0.0001, 0.001, 0.01]},\n",
       "             verbose=1)</pre></div></div></div><div class=\"sk-parallel\"><div class=\"sk-parallel-item\"><div class=\"sk-item\"><div class=\"sk-label-container\"><div class=\"sk-label sk-toggleable\"><input class=\"sk-toggleable__control sk-hidden--visually\" id=\"sk-estimator-id-2\" type=\"checkbox\" ><label for=\"sk-estimator-id-2\" class=\"sk-toggleable__label sk-toggleable__label-arrow\">estimator: LinearSVC</label><div class=\"sk-toggleable__content\"><pre>LinearSVC(random_state=0)</pre></div></div></div><div class=\"sk-serial\"><div class=\"sk-item\"><div class=\"sk-estimator sk-toggleable\"><input class=\"sk-toggleable__control sk-hidden--visually\" id=\"sk-estimator-id-3\" type=\"checkbox\" ><label for=\"sk-estimator-id-3\" class=\"sk-toggleable__label sk-toggleable__label-arrow\">LinearSVC</label><div class=\"sk-toggleable__content\"><pre>LinearSVC(random_state=0)</pre></div></div></div></div></div></div></div></div></div></div>"
      ],
      "text/plain": [
       "GridSearchCV(estimator=LinearSVC(random_state=0),\n",
       "             param_grid={'C': [0.1, 1, 6, 6.5, 8],\n",
       "                         'tol': [1e-07, 1e-05, 0.0001, 0.001, 0.01]},\n",
       "             verbose=1)"
      ]
     },
     "execution_count": 16,
     "metadata": {},
     "output_type": "execute_result"
    }
   ],
   "source": [
    "# hyperparameter tuning for the SVC model:\n",
    "\n",
    "parameters = {'C':[0.1, 1, 6, 6.5, 8], 'tol':[0.0000001, 0.00001, 0.0001, 0.001, 0.01]}\n",
    "svc_grid = LinearSVC(random_state=0)\n",
    "clf_grid = GridSearchCV(svc_grid, parameters, refit=True, verbose=1)\n",
    "clf_grid.fit(Xtopic_train_tf, Ytopic_train)"
   ]
  },
  {
   "cell_type": "code",
   "execution_count": 17,
   "metadata": {},
   "outputs": [
    {
     "data": {
      "text/plain": [
       "{'C': 1, 'tol': 1e-07}"
      ]
     },
     "execution_count": 17,
     "metadata": {},
     "output_type": "execute_result"
    }
   ],
   "source": [
    "clf_grid.best_params_"
   ]
  },
  {
   "cell_type": "markdown",
   "metadata": {},
   "source": [
    "**Train Model and output Results on Training dataset:**"
   ]
  },
  {
   "cell_type": "code",
   "execution_count": 18,
   "metadata": {},
   "outputs": [
    {
     "data": {
      "text/html": [
       "<style>#sk-container-id-2 {color: black;background-color: white;}#sk-container-id-2 pre{padding: 0;}#sk-container-id-2 div.sk-toggleable {background-color: white;}#sk-container-id-2 label.sk-toggleable__label {cursor: pointer;display: block;width: 100%;margin-bottom: 0;padding: 0.3em;box-sizing: border-box;text-align: center;}#sk-container-id-2 label.sk-toggleable__label-arrow:before {content: \"▸\";float: left;margin-right: 0.25em;color: #696969;}#sk-container-id-2 label.sk-toggleable__label-arrow:hover:before {color: black;}#sk-container-id-2 div.sk-estimator:hover label.sk-toggleable__label-arrow:before {color: black;}#sk-container-id-2 div.sk-toggleable__content {max-height: 0;max-width: 0;overflow: hidden;text-align: left;background-color: #f0f8ff;}#sk-container-id-2 div.sk-toggleable__content pre {margin: 0.2em;color: black;border-radius: 0.25em;background-color: #f0f8ff;}#sk-container-id-2 input.sk-toggleable__control:checked~div.sk-toggleable__content {max-height: 200px;max-width: 100%;overflow: auto;}#sk-container-id-2 input.sk-toggleable__control:checked~label.sk-toggleable__label-arrow:before {content: \"▾\";}#sk-container-id-2 div.sk-estimator input.sk-toggleable__control:checked~label.sk-toggleable__label {background-color: #d4ebff;}#sk-container-id-2 div.sk-label input.sk-toggleable__control:checked~label.sk-toggleable__label {background-color: #d4ebff;}#sk-container-id-2 input.sk-hidden--visually {border: 0;clip: rect(1px 1px 1px 1px);clip: rect(1px, 1px, 1px, 1px);height: 1px;margin: -1px;overflow: hidden;padding: 0;position: absolute;width: 1px;}#sk-container-id-2 div.sk-estimator {font-family: monospace;background-color: #f0f8ff;border: 1px dotted black;border-radius: 0.25em;box-sizing: border-box;margin-bottom: 0.5em;}#sk-container-id-2 div.sk-estimator:hover {background-color: #d4ebff;}#sk-container-id-2 div.sk-parallel-item::after {content: \"\";width: 100%;border-bottom: 1px solid gray;flex-grow: 1;}#sk-container-id-2 div.sk-label:hover label.sk-toggleable__label {background-color: #d4ebff;}#sk-container-id-2 div.sk-serial::before {content: \"\";position: absolute;border-left: 1px solid gray;box-sizing: border-box;top: 0;bottom: 0;left: 50%;z-index: 0;}#sk-container-id-2 div.sk-serial {display: flex;flex-direction: column;align-items: center;background-color: white;padding-right: 0.2em;padding-left: 0.2em;position: relative;}#sk-container-id-2 div.sk-item {position: relative;z-index: 1;}#sk-container-id-2 div.sk-parallel {display: flex;align-items: stretch;justify-content: center;background-color: white;position: relative;}#sk-container-id-2 div.sk-item::before, #sk-container-id-2 div.sk-parallel-item::before {content: \"\";position: absolute;border-left: 1px solid gray;box-sizing: border-box;top: 0;bottom: 0;left: 50%;z-index: -1;}#sk-container-id-2 div.sk-parallel-item {display: flex;flex-direction: column;z-index: 1;position: relative;background-color: white;}#sk-container-id-2 div.sk-parallel-item:first-child::after {align-self: flex-end;width: 50%;}#sk-container-id-2 div.sk-parallel-item:last-child::after {align-self: flex-start;width: 50%;}#sk-container-id-2 div.sk-parallel-item:only-child::after {width: 0;}#sk-container-id-2 div.sk-dashed-wrapped {border: 1px dashed gray;margin: 0 0.4em 0.5em 0.4em;box-sizing: border-box;padding-bottom: 0.4em;background-color: white;}#sk-container-id-2 div.sk-label label {font-family: monospace;font-weight: bold;display: inline-block;line-height: 1.2em;}#sk-container-id-2 div.sk-label-container {text-align: center;}#sk-container-id-2 div.sk-container {/* jupyter's `normalize.less` sets `[hidden] { display: none; }` but bootstrap.min.css set `[hidden] { display: none !important; }` so we also need the `!important` here to be able to override the default hidden behavior on the sphinx rendered scikit-learn.org. See: https://github.com/scikit-learn/scikit-learn/issues/21755 */display: inline-block !important;position: relative;}#sk-container-id-2 div.sk-text-repr-fallback {display: none;}</style><div id=\"sk-container-id-2\" class=\"sk-top-container\"><div class=\"sk-text-repr-fallback\"><pre>LinearSVC(random_state=0)</pre><b>In a Jupyter environment, please rerun this cell to show the HTML representation or trust the notebook. <br />On GitHub, the HTML representation is unable to render, please try loading this page with nbviewer.org.</b></div><div class=\"sk-container\" hidden><div class=\"sk-item\"><div class=\"sk-estimator sk-toggleable\"><input class=\"sk-toggleable__control sk-hidden--visually\" id=\"sk-estimator-id-4\" type=\"checkbox\" checked><label for=\"sk-estimator-id-4\" class=\"sk-toggleable__label sk-toggleable__label-arrow\">LinearSVC</label><div class=\"sk-toggleable__content\"><pre>LinearSVC(random_state=0)</pre></div></div></div></div></div>"
      ],
      "text/plain": [
       "LinearSVC(random_state=0)"
      ]
     },
     "execution_count": 18,
     "metadata": {},
     "output_type": "execute_result"
    }
   ],
   "source": [
    "# Train and fit the model using ideal parameters \n",
    "# (which match the default settings) on training data: \n",
    "\n",
    "model_topic_class = LinearSVC(random_state=0)\n",
    "model_topic_class.fit(Xtopic_train_tf, Ytopic_train)"
   ]
  },
  {
   "cell_type": "code",
   "execution_count": 19,
   "metadata": {},
   "outputs": [
    {
     "name": "stdout",
     "output_type": "stream",
     "text": [
      "Training Accuracy Score -  0.9994505683183956\n"
     ]
    }
   ],
   "source": [
    "# Output evaluation metrics:\n",
    "\n",
    "Ytopic_train_pred = model_topic_class.predict(Xtopic_train_tf)\n",
    "\n",
    "print ('Training Accuracy Score - ', accuracy_score(Ytopic_train, Ytopic_train_pred))"
   ]
  },
  {
   "cell_type": "code",
   "execution_count": 20,
   "metadata": {},
   "outputs": [
    {
     "name": "stdout",
     "output_type": "stream",
     "text": [
      "\n",
      " training clasification report:\n",
      "                      precision    recall  f1-score   support\n",
      "\n",
      "           business       1.00      1.00      1.00      9981\n",
      "politics/government       1.00      1.00      1.00      2872\n",
      "    public_concerns       1.00      1.00      1.00      8422\n",
      "           shopping       1.00      1.00      1.00      1097\n",
      "             sports       1.00      1.00      1.00      5986\n",
      "         technology       1.00      1.00      1.00       763\n",
      "\n",
      "           accuracy                           1.00     29121\n",
      "          macro avg       1.00      1.00      1.00     29121\n",
      "       weighted avg       1.00      1.00      1.00     29121\n",
      "\n"
     ]
    }
   ],
   "source": [
    "print('\\n training clasification report:\\n', \n",
    "      classification_report(Ytopic_train,Ytopic_train_pred))\n"
   ]
  },
  {
   "cell_type": "code",
   "execution_count": 21,
   "metadata": {},
   "outputs": [
    {
     "data": {
      "image/png": "[encoded data removed]",
      "text/plain": [
       "<Figure size 640x480 with 2 Axes>"
      ]
     },
     "metadata": {},
     "output_type": "display_data"
    }
   ],
   "source": [
    "#confusion_matrix(Ytopic_train, Ytopic_pred)\n",
    "cm_train = confusion_matrix(Ytopic_train, Ytopic_train_pred)\n",
    "disp_train = ConfusionMatrixDisplay(confusion_matrix=cm_train, display_labels = model_topic_class.classes_)\n",
    "disp_train.plot()\n",
    "plt.xticks(rotation=45)\n",
    "plt.show()"
   ]
  },
  {
   "cell_type": "markdown",
   "metadata": {},
   "source": [
    "### Test/Evaluate Model on Test dataset:"
   ]
  },
  {
   "cell_type": "code",
   "execution_count": 22,
   "metadata": {},
   "outputs": [
    {
     "name": "stdout",
     "output_type": "stream",
     "text": [
      "Accuracy Score -  0.9544018678752919\n"
     ]
    }
   ],
   "source": [
    "# Test/validate the model on test dataset \n",
    "# and output evaluation metrics:\n",
    "\n",
    "Ytopic_pred = model_topic_class.predict(Xtopic_test_tf)\n",
    "print ('Accuracy Score - ', accuracy_score(Ytopic_test, Ytopic_pred))\n",
    "#print ('F1 Score - ', recall_score(Y_test, Y_pred))"
   ]
  },
  {
   "cell_type": "code",
   "execution_count": 23,
   "metadata": {},
   "outputs": [
    {
     "name": "stdout",
     "output_type": "stream",
     "text": [
      "\n",
      " clasification report:\n",
      "                      precision    recall  f1-score   support\n",
      "\n",
      "           business       0.94      0.96      0.95      2496\n",
      "politics/government       0.98      0.95      0.97       718\n",
      "    public_concerns       0.94      0.95      0.95      2105\n",
      "           shopping       0.99      0.87      0.93       274\n",
      "             sports       0.97      0.98      0.97      1497\n",
      "         technology       0.99      0.93      0.96       191\n",
      "\n",
      "           accuracy                           0.95      7281\n",
      "          macro avg       0.97      0.94      0.95      7281\n",
      "       weighted avg       0.95      0.95      0.95      7281\n",
      "\n"
     ]
    }
   ],
   "source": [
    "print('\\n clasification report:\\n', classification_report(Ytopic_test,Ytopic_pred))\n"
   ]
  },
  {
   "cell_type": "code",
   "execution_count": 24,
   "metadata": {},
   "outputs": [
    {
     "data": {
      "image/png": "[encoded data removed]",
      "text/plain": [
       "<Figure size 640x480 with 2 Axes>"
      ]
     },
     "metadata": {},
     "output_type": "display_data"
    }
   ],
   "source": [
    "#Y_pred = model_topic_class.predict(X_test_tf)\n",
    "confusion_matrix(Ytopic_test, Ytopic_pred)\n",
    "cm = confusion_matrix(Ytopic_test, Ytopic_pred)\n",
    "disp = ConfusionMatrixDisplay(confusion_matrix=cm, display_labels = model_topic_class.classes_)\n",
    "disp.plot()\n",
    "plt.xticks(rotation=45)\n",
    "plt.show()"
   ]
  },
  {
   "cell_type": "markdown",
   "metadata": {},
   "source": [
    "---"
   ]
  },
  {
   "cell_type": "markdown",
   "metadata": {},
   "source": [
    "Recall and Accuracy values for all classes were above 90% for the SVC topic classification model, which surpasses the required evaluation metrics for the model. "
   ]
  },
  {
   "cell_type": "markdown",
   "metadata": {},
   "source": [
    "---"
   ]
  },
  {
   "cell_type": "markdown",
   "metadata": {},
   "source": [
    "## Other models attempted:"
   ]
  },
  {
   "cell_type": "markdown",
   "metadata": {},
   "source": [
    "### Random Forest:"
   ]
  },
  {
   "cell_type": "code",
   "execution_count": 25,
   "metadata": {},
   "outputs": [
    {
     "name": "stdout",
     "output_type": "stream",
     "text": [
      "Fitting 5 folds for each of 5 candidates, totalling 25 fits\n"
     ]
    }
   ],
   "source": [
    "parametersRF = {'n_estimators':[500, 1000]}\n",
    "#parametersRF={'bootstrap': [True, False],\n",
    "#              'max_depth': [10, 20, 30, 40, 50, 60, 70, 80, 90, 100, None],\n",
    "#              'max_features': ['auto', 'sqrt'],\n",
    "#              'min_samples_leaf': [1, 2, 4],\n",
    "#              'min_samples_split': [5, 10],\n",
    "#              'n_estimators': [1000, 1200]}\n",
    "svc_gridRF = RandomForestClassifier(random_state=0)\n",
    "clf_gridRF = GridSearchCV(svc_gridRF, parametersRF, refit=True, verbose=1)\n",
    "clf_gridRF.fit(Xtopic_train_tf, Ytopic_train)"
   ]
  },
  {
   "cell_type": "markdown",
   "metadata": {},
   "source": [
    "---"
   ]
  },
  {
   "cell_type": "markdown",
   "metadata": {},
   "source": [
    "Took prohibitivelly too long to test out all combinations. It is understood that most of the time the best indicator for best random forest performance has to do with n_estimators parameter. \n",
    "\n",
    "At n_estimators = 20, accuracy of test data was 82% and the minority class had a low recall, at 43%.\n",
    "\n",
    "To see if there can be better accuracy and recall of the minority class, maximized this parameter at n_estimators = 1000, it took ~36 min to train, and 50s to run predictions in real-time. Accuracy improved to 92% but the recall for the minority class remained low at 52%. \n",
    "\n",
    "Rebalancing data to achieve better results in Random Forest was not considered worthwhile given the superior results using SVC without having to artificially modify the data."
   ]
  },
  {
   "cell_type": "markdown",
   "metadata": {},
   "source": [
    "---"
   ]
  },
  {
   "cell_type": "code",
   "execution_count": null,
   "metadata": {},
   "outputs": [],
   "source": [
    "clf_gridRF.best_params_"
   ]
  },
  {
   "cell_type": "code",
   "execution_count": 24,
   "metadata": {},
   "outputs": [
    {
     "data": {
      "text/html": [
       "<style>#sk-container-id-2 {color: black;background-color: white;}#sk-container-id-2 pre{padding: 0;}#sk-container-id-2 div.sk-toggleable {background-color: white;}#sk-container-id-2 label.sk-toggleable__label {cursor: pointer;display: block;width: 100%;margin-bottom: 0;padding: 0.3em;box-sizing: border-box;text-align: center;}#sk-container-id-2 label.sk-toggleable__label-arrow:before {content: \"▸\";float: left;margin-right: 0.25em;color: #696969;}#sk-container-id-2 label.sk-toggleable__label-arrow:hover:before {color: black;}#sk-container-id-2 div.sk-estimator:hover label.sk-toggleable__label-arrow:before {color: black;}#sk-container-id-2 div.sk-toggleable__content {max-height: 0;max-width: 0;overflow: hidden;text-align: left;background-color: #f0f8ff;}#sk-container-id-2 div.sk-toggleable__content pre {margin: 0.2em;color: black;border-radius: 0.25em;background-color: #f0f8ff;}#sk-container-id-2 input.sk-toggleable__control:checked~div.sk-toggleable__content {max-height: 200px;max-width: 100%;overflow: auto;}#sk-container-id-2 input.sk-toggleable__control:checked~label.sk-toggleable__label-arrow:before {content: \"▾\";}#sk-container-id-2 div.sk-estimator input.sk-toggleable__control:checked~label.sk-toggleable__label {background-color: #d4ebff;}#sk-container-id-2 div.sk-label input.sk-toggleable__control:checked~label.sk-toggleable__label {background-color: #d4ebff;}#sk-container-id-2 input.sk-hidden--visually {border: 0;clip: rect(1px 1px 1px 1px);clip: rect(1px, 1px, 1px, 1px);height: 1px;margin: -1px;overflow: hidden;padding: 0;position: absolute;width: 1px;}#sk-container-id-2 div.sk-estimator {font-family: monospace;background-color: #f0f8ff;border: 1px dotted black;border-radius: 0.25em;box-sizing: border-box;margin-bottom: 0.5em;}#sk-container-id-2 div.sk-estimator:hover {background-color: #d4ebff;}#sk-container-id-2 div.sk-parallel-item::after {content: \"\";width: 100%;border-bottom: 1px solid gray;flex-grow: 1;}#sk-container-id-2 div.sk-label:hover label.sk-toggleable__label {background-color: #d4ebff;}#sk-container-id-2 div.sk-serial::before {content: \"\";position: absolute;border-left: 1px solid gray;box-sizing: border-box;top: 0;bottom: 0;left: 50%;z-index: 0;}#sk-container-id-2 div.sk-serial {display: flex;flex-direction: column;align-items: center;background-color: white;padding-right: 0.2em;padding-left: 0.2em;position: relative;}#sk-container-id-2 div.sk-item {position: relative;z-index: 1;}#sk-container-id-2 div.sk-parallel {display: flex;align-items: stretch;justify-content: center;background-color: white;position: relative;}#sk-container-id-2 div.sk-item::before, #sk-container-id-2 div.sk-parallel-item::before {content: \"\";position: absolute;border-left: 1px solid gray;box-sizing: border-box;top: 0;bottom: 0;left: 50%;z-index: -1;}#sk-container-id-2 div.sk-parallel-item {display: flex;flex-direction: column;z-index: 1;position: relative;background-color: white;}#sk-container-id-2 div.sk-parallel-item:first-child::after {align-self: flex-end;width: 50%;}#sk-container-id-2 div.sk-parallel-item:last-child::after {align-self: flex-start;width: 50%;}#sk-container-id-2 div.sk-parallel-item:only-child::after {width: 0;}#sk-container-id-2 div.sk-dashed-wrapped {border: 1px dashed gray;margin: 0 0.4em 0.5em 0.4em;box-sizing: border-box;padding-bottom: 0.4em;background-color: white;}#sk-container-id-2 div.sk-label label {font-family: monospace;font-weight: bold;display: inline-block;line-height: 1.2em;}#sk-container-id-2 div.sk-label-container {text-align: center;}#sk-container-id-2 div.sk-container {/* jupyter's `normalize.less` sets `[hidden] { display: none; }` but bootstrap.min.css set `[hidden] { display: none !important; }` so we also need the `!important` here to be able to override the default hidden behavior on the sphinx rendered scikit-learn.org. See: https://github.com/scikit-learn/scikit-learn/issues/21755 */display: inline-block !important;position: relative;}#sk-container-id-2 div.sk-text-repr-fallback {display: none;}</style><div id=\"sk-container-id-2\" class=\"sk-top-container\"><div class=\"sk-text-repr-fallback\"><pre>RandomForestClassifier(n_estimators=1000, random_state=0)</pre><b>In a Jupyter environment, please rerun this cell to show the HTML representation or trust the notebook. <br />On GitHub, the HTML representation is unable to render, please try loading this page with nbviewer.org.</b></div><div class=\"sk-container\" hidden><div class=\"sk-item\"><div class=\"sk-estimator sk-toggleable\"><input class=\"sk-toggleable__control sk-hidden--visually\" id=\"sk-estimator-id-2\" type=\"checkbox\" checked><label for=\"sk-estimator-id-2\" class=\"sk-toggleable__label sk-toggleable__label-arrow\">RandomForestClassifier</label><div class=\"sk-toggleable__content\"><pre>RandomForestClassifier(n_estimators=1000, random_state=0)</pre></div></div></div></div></div>"
      ],
      "text/plain": [
       "RandomForestClassifier(n_estimators=1000, random_state=0)"
      ]
     },
     "execution_count": 24,
     "metadata": {},
     "output_type": "execute_result"
    }
   ],
   "source": [
    "RFclassifier = RandomForestClassifier(n_estimators=1000, random_state=0)\n",
    "RFclassifier.fit(Xtopic_train_tf, Ytopic_train) \n"
   ]
  },
  {
   "cell_type": "code",
   "execution_count": 25,
   "metadata": {},
   "outputs": [
    {
     "name": "stdout",
     "output_type": "stream",
     "text": [
      "Training Accuracy Score -  0.9999656605198998\n"
     ]
    }
   ],
   "source": [
    "\n",
    "RFYtopic_train_pred = RFclassifier.predict(Xtopic_train_tf)\n",
    "\n",
    "print ('Training Accuracy Score - ', accuracy_score(Ytopic_train, RFYtopic_train_pred))"
   ]
  },
  {
   "cell_type": "code",
   "execution_count": 26,
   "metadata": {},
   "outputs": [
    {
     "name": "stdout",
     "output_type": "stream",
     "text": [
      "\n",
      " Random Forest training clasification report:\n",
      "                      precision    recall  f1-score   support\n",
      "\n",
      "           business       1.00      1.00      1.00      9981\n",
      "politics/government       1.00      1.00      1.00      2872\n",
      "    public_concerns       1.00      1.00      1.00      8422\n",
      "           shopping       1.00      1.00      1.00      1097\n",
      "             sports       1.00      1.00      1.00      5986\n",
      "         technology       1.00      1.00      1.00       763\n",
      "\n",
      "           accuracy                           1.00     29121\n",
      "          macro avg       1.00      1.00      1.00     29121\n",
      "       weighted avg       1.00      1.00      1.00     29121\n",
      "\n"
     ]
    }
   ],
   "source": [
    "print('\\n Random Forest training clasification report:\\n', \n",
    "      classification_report(Ytopic_train,RFYtopic_train_pred))"
   ]
  },
  {
   "cell_type": "code",
   "execution_count": 27,
   "metadata": {},
   "outputs": [
    {
     "name": "stdout",
     "output_type": "stream",
     "text": [
      "Accuracy Score -  0.9215767064963604\n"
     ]
    }
   ],
   "source": [
    "RFYtopic_pred = RFclassifier.predict(Xtopic_test_tf)\n",
    "print ('Accuracy Score - ', accuracy_score(Ytopic_test, RFYtopic_pred))\n",
    "#print ('F1 Score - ', recall_score(Y_test, Y_pred))"
   ]
  },
  {
   "cell_type": "code",
   "execution_count": 28,
   "metadata": {},
   "outputs": [
    {
     "name": "stdout",
     "output_type": "stream",
     "text": [
      "\n",
      " clasification report:\n",
      "                      precision    recall  f1-score   support\n",
      "\n",
      "           business       0.88      0.94      0.91      2496\n",
      "politics/government       0.97      0.88      0.93       718\n",
      "    public_concerns       0.92      0.94      0.93      2105\n",
      "           shopping       0.98      0.69      0.81       274\n",
      "             sports       0.97      0.97      0.97      1497\n",
      "         technology       1.00      0.52      0.69       191\n",
      "\n",
      "           accuracy                           0.92      7281\n",
      "          macro avg       0.95      0.83      0.87      7281\n",
      "       weighted avg       0.92      0.92      0.92      7281\n",
      "\n"
     ]
    }
   ],
   "source": [
    "print('\\n clasification report:\\n', classification_report(Ytopic_test,RFYtopic_pred))\n"
   ]
  },
  {
   "cell_type": "code",
   "execution_count": 29,
   "metadata": {},
   "outputs": [
    {
     "data": {
      "image/png": "[encoded data removed]",
      "text/plain": [
       "<Figure size 640x480 with 2 Axes>"
      ]
     },
     "metadata": {},
     "output_type": "display_data"
    }
   ],
   "source": [
    "confusion_matrix(Ytopic_test, RFYtopic_pred)\n",
    "cmRF = confusion_matrix(Ytopic_test, RFYtopic_pred)\n",
    "dispRF = ConfusionMatrixDisplay(confusion_matrix=cmRF, display_labels = RFclassifier.classes_)\n",
    "dispRF.plot()\n",
    "plt.xticks(rotation=45)\n",
    "plt.show()"
   ]
  },
  {
   "cell_type": "markdown",
   "metadata": {},
   "source": [
    "### Multi-Label, Multi-Class Random Forest Model:"
   ]
  },
  {
   "cell_type": "code",
   "execution_count": null,
   "metadata": {},
   "outputs": [],
   "source": [
    "\n",
    "\n",
    "'''Obtain row-wise proportions for W matrix and convert top 3 topics over a\n",
    "threshold for each document to a (n, t) binary array, where n is the\n",
    "number of records and t is the number of topics citation:\n",
    "https://chat.openai.com/share/c8cbd38a-b024-4915-939d-cf5f9209926b\n",
    "'''\n",
    "np.set_printoptions(suppress=True,\n",
    "                    precision=4)\n",
    "\n",
    "# Calculate the row totals\n",
    "row_totals = np.sum(text_matrix, axis=1)\n",
    "\n",
    "# Divide each element in the array by its corresponding row total\n",
    "row_proportions = text_matrix / row_totals[:, np.newaxis]\n",
    "\n",
    "\n",
    "# Define the threshold for selection (0.33 in this case)\n",
    "threshold = 0.33\n",
    "n_top = 5\n",
    "\n",
    "# Create an empty array to store the results\n",
    "topic = np.zeros((len(row_proportions), 10), dtype=int)\n",
    "\n",
    "for idx, row in enumerate(row_proportions):\n",
    "    # Get indices of elements that satisfy the condition: above the threshold\n",
    "    above_threshold_indices = np.where(row > threshold)[0]\n",
    "    \n",
    "    # Sort the indices based on their corresponding values in descending order\n",
    "    sorted_indices = above_threshold_indices[np.argsort(row[above_threshold_indices])[::-1]]\n",
    "    \n",
    "    # Choose the top X indices if available, or fewer if there are fewer elements above the threshold\n",
    "    top_3_indices = sorted_indices[:min(n_top, len(sorted_indices))]\n",
    "    \n",
    "    # Set the corresponding elements in the 'topic' array to 1\n",
    "    topic[idx, top_3_indices] = 1\n",
    "\n",
    "\n",
    "api_data_complete_df['multilabel'] = topic.tolist()\n",
    "\n",
    "out_cols = ['text_id', 'source_name', 'processed_text']\n"
   ]
  },
  {
   "cell_type": "code",
   "execution_count": null,
   "metadata": {},
   "outputs": [
    {
     "name": "stdout",
     "output_type": "stream",
     "text": [
      "Size of Training Data  29121\n",
      "Size of Test Data  7281\n"
     ]
    }
   ],
   "source": [
    "Xtopic_train_RF, Xtopic_test_RF, Ytopic_train_RF, Ytopic_test_RF = train_test_split(api_data_complete_modeling_df['clean_processed_text'],\n",
    "                                                    api_data_complete_modeling_df['multilabel'],\n",
    "                                                    test_size=0.2,\n",
    "                                                    random_state=42#,\n",
    "                                                    #stratify=api_data_complete_modeling_df['multilabel']\n",
    "                                                    )\n",
    "\n",
    "print('Size of Training Data ', Xtopic_train_RF.shape[0])\n",
    "print('Size of Test Data ', Xtopic_test_RF.shape[0])"
   ]
  },
  {
   "cell_type": "code",
   "execution_count": null,
   "metadata": {},
   "outputs": [],
   "source": [
    "tfidf_topicmodel_RF = TfidfVectorizer(min_df = 10, max_df=0.7, ngram_range=(1,2), stop_words=sw)\n",
    "Xtopic_train_tf_RF = tfidf_topicmodel_RF.fit_transform(Xtopic_train_RF)\n",
    "Xtopic_test_tf_RF = tfidf_topicmodel_RF.transform(Xtopic_test_RF)"
   ]
  },
  {
   "cell_type": "code",
   "execution_count": null,
   "metadata": {},
   "outputs": [],
   "source": [
    "n_samples, n_features = Xtopic_train_tf_RF.shape # 10,100\n",
    "\n",
    "#Ytopic_train_RF\n",
    "n_outputs = Ytopic_train_RF.shape # 3\n",
    "\n",
    "mlb = MultiLabelBinarizer()\n",
    "Ytopic_train_RF_bin = mlb.fit_transform(Ytopic_train_RF)\n",
    "\n"
   ]
  },
  {
   "cell_type": "code",
   "execution_count": null,
   "metadata": {},
   "outputs": [],
   "source": [
    "Ytopic_test_RF_bin = mlb.transform(Ytopic_test_RF)"
   ]
  },
  {
   "cell_type": "code",
   "execution_count": null,
   "metadata": {},
   "outputs": [
    {
     "name": "stdout",
     "output_type": "stream",
     "text": [
      "\n",
      "Elapsed processing time = 1.919566553333425 mins\n"
     ]
    }
   ],
   "source": [
    "n_classes = 10\n",
    "forest = RandomForestClassifier(random_state=1)\n",
    "\n",
    "start_time = time.perf_counter()\n",
    "multi_target_forest = MultiOutputClassifier(forest)\n",
    "multi_target_forest.fit(Xtopic_train_tf_RF, Ytopic_train_RF_bin)\n",
    "end_time = time.perf_counter()\n",
    "print(f'\\nElapsed processing time = {(end_time - start_time) / 60} mins')"
   ]
  },
  {
   "cell_type": "code",
   "execution_count": null,
   "metadata": {},
   "outputs": [
    {
     "data": {
      "text/html": [
       "<div>\n",
       "<style scoped>\n",
       "    .dataframe tbody tr th:only-of-type {\n",
       "        vertical-align: middle;\n",
       "    }\n",
       "\n",
       "    .dataframe tbody tr th {\n",
       "        vertical-align: top;\n",
       "    }\n",
       "\n",
       "    .dataframe thead th {\n",
       "        text-align: right;\n",
       "    }\n",
       "</style>\n",
       "<table border=\"1\" class=\"dataframe\">\n",
       "  <thead>\n",
       "    <tr style=\"text-align: right;\">\n",
       "      <th></th>\n",
       "      <th>index</th>\n",
       "      <th>text_id</th>\n",
       "      <th>source_name</th>\n",
       "      <th>author</th>\n",
       "      <th>title</th>\n",
       "      <th>url</th>\n",
       "      <th>publish_date</th>\n",
       "      <th>article_text</th>\n",
       "      <th>content</th>\n",
       "      <th>processed_text</th>\n",
       "      <th>processed_text_split</th>\n",
       "      <th>num_tokens</th>\n",
       "      <th>original_word_count</th>\n",
       "      <th>clean_processed_text</th>\n",
       "      <th>topic</th>\n",
       "      <th>topic_name</th>\n",
       "      <th>topic_name_2nd</th>\n",
       "      <th>topic_name_3rd</th>\n",
       "      <th>customer_topics</th>\n",
       "      <th>multilabel</th>\n",
       "    </tr>\n",
       "  </thead>\n",
       "  <tbody>\n",
       "    <tr>\n",
       "      <th>0</th>\n",
       "      <td>0</td>\n",
       "      <td>2</td>\n",
       "      <td>USA Today</td>\n",
       "      <td>USA TODAY, Emily DeLetter, USA TODAY</td>\n",
       "      <td>Tito's launches 'Tito's in a Big Can,' an empt...</td>\n",
       "      <td>https://www.usatoday.com/story/money/food/2023...</td>\n",
       "      <td>2023-06-21</td>\n",
       "      <td>Have you ever wanted to own your very own keg ...</td>\n",
       "      <td>Have you ever wanted to own your very own keg ...</td>\n",
       "      <td>ever wanted keg titos handmade vodka dream bec...</td>\n",
       "      <td>['ever', 'wanted', 'keg', 'titos', 'handmade',...</td>\n",
       "      <td>117</td>\n",
       "      <td>202</td>\n",
       "      <td>ever wanted keg titos handmade vodka dream bec...</td>\n",
       "      <td>2.0</td>\n",
       "      <td>amazon review</td>\n",
       "      <td>business work</td>\n",
       "      <td></td>\n",
       "      <td>shopping</td>\n",
       "      <td>[0, 0, 1, 0, 1, 0, 0, 0, 0, 0]</td>\n",
       "    </tr>\n",
       "    <tr>\n",
       "      <th>1</th>\n",
       "      <td>1</td>\n",
       "      <td>3</td>\n",
       "      <td>USA Today</td>\n",
       "      <td>USA TODAY, Joy Ashford, USA TODAY</td>\n",
       "      <td>Search for missing actor Julian Sands continue...</td>\n",
       "      <td>https://www.usatoday.com/story/entertainment/c...</td>\n",
       "      <td>2023-06-20</td>\n",
       "      <td>Over five months after Julian Sands went missi...</td>\n",
       "      <td>Over five months after Julian Sandswent missin...</td>\n",
       "      <td>five months julian sands went missing solo hik...</td>\n",
       "      <td>['five', 'months', 'julian', 'sands', 'went', ...</td>\n",
       "      <td>215</td>\n",
       "      <td>340</td>\n",
       "      <td>five months julian sands went missing solo hik...</td>\n",
       "      <td>9.0</td>\n",
       "      <td>police court</td>\n",
       "      <td>titanic submersible</td>\n",
       "      <td></td>\n",
       "      <td>public_concerns</td>\n",
       "      <td>[0, 0, 0, 0, 0, 0, 0, 1, 0, 1]</td>\n",
       "    </tr>\n",
       "    <tr>\n",
       "      <th>2</th>\n",
       "      <td>2</td>\n",
       "      <td>5</td>\n",
       "      <td>USA Today</td>\n",
       "      <td>Tar Heels Wire</td>\n",
       "      <td>Four star running back picks Michigan State ov...</td>\n",
       "      <td>https://tarheelswire.usatoday.com/2023/06/24/f...</td>\n",
       "      <td>2023-06-25</td>\n",
       "      <td>\\n\\n\\n\\n\\n\\n\\n\\n\\n\\n\\n\\n\\n\\nFour star running ...</td>\n",
       "      <td>Mack Brown and the UNC football program have b...</td>\n",
       "      <td>four star running back picks michigan state un...</td>\n",
       "      <td>['four', 'star', 'running', 'back', 'picks', '...</td>\n",
       "      <td>161</td>\n",
       "      <td>286</td>\n",
       "      <td>four star running back picks michigan state un...</td>\n",
       "      <td>0.0</td>\n",
       "      <td>season draft</td>\n",
       "      <td></td>\n",
       "      <td></td>\n",
       "      <td>sports</td>\n",
       "      <td>[1, 0, 0, 0, 0, 0, 0, 0, 0, 0]</td>\n",
       "    </tr>\n",
       "    <tr>\n",
       "      <th>3</th>\n",
       "      <td>3</td>\n",
       "      <td>6</td>\n",
       "      <td>USA Today</td>\n",
       "      <td>Roll Tide Wire</td>\n",
       "      <td>Alabama center Charles Bediako signs one-year ...</td>\n",
       "      <td>https://rolltidewire.usatoday.com/2023/06/23/a...</td>\n",
       "      <td>2023-06-23</td>\n",
       "      <td>\\n\\n\\n\\n\\n\\n\\n\\n\\n\\n\\n\\n\\n\\nAlabama center Cha...</td>\n",
       "      <td>Alabama center Charles Bediako was signed to a...</td>\n",
       "      <td>alabama center charles bediako signs one year ...</td>\n",
       "      <td>['alabama', 'center', 'charles', 'bediako', 's...</td>\n",
       "      <td>237</td>\n",
       "      <td>381</td>\n",
       "      <td>alabama center charles bediako signs one year ...</td>\n",
       "      <td>0.0</td>\n",
       "      <td>season draft</td>\n",
       "      <td></td>\n",
       "      <td></td>\n",
       "      <td>sports</td>\n",
       "      <td>[1, 0, 0, 0, 0, 0, 0, 0, 0, 0]</td>\n",
       "    </tr>\n",
       "    <tr>\n",
       "      <th>4</th>\n",
       "      <td>4</td>\n",
       "      <td>7</td>\n",
       "      <td>USA Today</td>\n",
       "      <td>Celtics Wire</td>\n",
       "      <td>Ralph Sampson breaks down iconic Boston Celtic...</td>\n",
       "      <td>https://celticswire.usatoday.com/2023/06/23/nb...</td>\n",
       "      <td>2023-06-23</td>\n",
       "      <td>\\n\\n\\n\\n\\n\\n\\n\\n\\n\\n\\n\\n\\n\\nRalph Sampson brea...</td>\n",
       "      <td>It was one of the most memorable moments in NB...</td>\n",
       "      <td>ralph sampson breaks iconic boston houston roc...</td>\n",
       "      <td>['ralph', 'sampson', 'breaks', 'iconic', 'bost...</td>\n",
       "      <td>134</td>\n",
       "      <td>228</td>\n",
       "      <td>ralph sampson breaks iconic boston houston roc...</td>\n",
       "      <td>0.0</td>\n",
       "      <td>season draft</td>\n",
       "      <td></td>\n",
       "      <td></td>\n",
       "      <td>sports</td>\n",
       "      <td>[1, 0, 0, 0, 0, 0, 0, 0, 0, 0]</td>\n",
       "    </tr>\n",
       "  </tbody>\n",
       "</table>\n",
       "</div>"
      ],
      "text/plain": [
       "   index  text_id source_name                                author  \\\n",
       "0      0        2   USA Today  USA TODAY, Emily DeLetter, USA TODAY   \n",
       "1      1        3   USA Today     USA TODAY, Joy Ashford, USA TODAY   \n",
       "2      2        5   USA Today                        Tar Heels Wire   \n",
       "3      3        6   USA Today                        Roll Tide Wire   \n",
       "4      4        7   USA Today                          Celtics Wire   \n",
       "\n",
       "                                               title  \\\n",
       "0  Tito's launches 'Tito's in a Big Can,' an empt...   \n",
       "1  Search for missing actor Julian Sands continue...   \n",
       "2  Four star running back picks Michigan State ov...   \n",
       "3  Alabama center Charles Bediako signs one-year ...   \n",
       "4  Ralph Sampson breaks down iconic Boston Celtic...   \n",
       "\n",
       "                                                 url publish_date  \\\n",
       "0  https://www.usatoday.com/story/money/food/2023...   2023-06-21   \n",
       "1  https://www.usatoday.com/story/entertainment/c...   2023-06-20   \n",
       "2  https://tarheelswire.usatoday.com/2023/06/24/f...   2023-06-25   \n",
       "3  https://rolltidewire.usatoday.com/2023/06/23/a...   2023-06-23   \n",
       "4  https://celticswire.usatoday.com/2023/06/23/nb...   2023-06-23   \n",
       "\n",
       "                                        article_text  \\\n",
       "0  Have you ever wanted to own your very own keg ...   \n",
       "1  Over five months after Julian Sands went missi...   \n",
       "2  \\n\\n\\n\\n\\n\\n\\n\\n\\n\\n\\n\\n\\n\\nFour star running ...   \n",
       "3  \\n\\n\\n\\n\\n\\n\\n\\n\\n\\n\\n\\n\\n\\nAlabama center Cha...   \n",
       "4  \\n\\n\\n\\n\\n\\n\\n\\n\\n\\n\\n\\n\\n\\nRalph Sampson brea...   \n",
       "\n",
       "                                             content  \\\n",
       "0  Have you ever wanted to own your very own keg ...   \n",
       "1  Over five months after Julian Sandswent missin...   \n",
       "2  Mack Brown and the UNC football program have b...   \n",
       "3  Alabama center Charles Bediako was signed to a...   \n",
       "4  It was one of the most memorable moments in NB...   \n",
       "\n",
       "                                      processed_text  \\\n",
       "0  ever wanted keg titos handmade vodka dream bec...   \n",
       "1  five months julian sands went missing solo hik...   \n",
       "2  four star running back picks michigan state un...   \n",
       "3  alabama center charles bediako signs one year ...   \n",
       "4  ralph sampson breaks iconic boston houston roc...   \n",
       "\n",
       "                                processed_text_split  num_tokens  \\\n",
       "0  ['ever', 'wanted', 'keg', 'titos', 'handmade',...         117   \n",
       "1  ['five', 'months', 'julian', 'sands', 'went', ...         215   \n",
       "2  ['four', 'star', 'running', 'back', 'picks', '...         161   \n",
       "3  ['alabama', 'center', 'charles', 'bediako', 's...         237   \n",
       "4  ['ralph', 'sampson', 'breaks', 'iconic', 'bost...         134   \n",
       "\n",
       "   original_word_count                               clean_processed_text  \\\n",
       "0                  202  ever wanted keg titos handmade vodka dream bec...   \n",
       "1                  340  five months julian sands went missing solo hik...   \n",
       "2                  286  four star running back picks michigan state un...   \n",
       "3                  381  alabama center charles bediako signs one year ...   \n",
       "4                  228  ralph sampson breaks iconic boston houston roc...   \n",
       "\n",
       "   topic     topic_name       topic_name_2nd topic_name_3rd  customer_topics  \\\n",
       "0    2.0  amazon review        business work                        shopping   \n",
       "1    9.0   police court  titanic submersible                 public_concerns   \n",
       "2    0.0   season draft                                               sports   \n",
       "3    0.0   season draft                                               sports   \n",
       "4    0.0   season draft                                               sports   \n",
       "\n",
       "                       multilabel  \n",
       "0  [0, 0, 1, 0, 1, 0, 0, 0, 0, 0]  \n",
       "1  [0, 0, 0, 0, 0, 0, 0, 1, 0, 1]  \n",
       "2  [1, 0, 0, 0, 0, 0, 0, 0, 0, 0]  \n",
       "3  [1, 0, 0, 0, 0, 0, 0, 0, 0, 0]  \n",
       "4  [1, 0, 0, 0, 0, 0, 0, 0, 0, 0]  "
      ]
     },
     "metadata": {},
     "output_type": "display_data"
    }
   ],
   "source": [
    "api_data_complete_df.head()"
   ]
  },
  {
   "cell_type": "code",
   "execution_count": null,
   "metadata": {},
   "outputs": [
    {
     "name": "stdout",
     "output_type": "stream",
     "text": [
      "              precision    recall  f1-score   support\n",
      "\n",
      "           0       1.00      1.00      1.00     29121\n",
      "           1       1.00      1.00      1.00     27480\n",
      "\n",
      "   micro avg       1.00      1.00      1.00     56601\n",
      "   macro avg       1.00      1.00      1.00     56601\n",
      "weighted avg       1.00      1.00      1.00     56601\n",
      " samples avg       1.00      1.00      1.00     56601\n",
      "\n"
     ]
    }
   ],
   "source": [
    "#writable_nlm_train_x01_mtx = np.copy(nlm_train_x01_mtx)\n",
    "\n",
    "y_pred_RF= multi_target_forest.predict(Xtopic_train_tf_RF)\n",
    "#train_RF_CM = confusion_matrix(Ytopic_train_RF_bin, y_pred_RF)\n",
    "\n",
    "print(classification_report(Ytopic_train_RF_bin, y_pred_RF))\n",
    "#print(train_RF_CM)"
   ]
  },
  {
   "cell_type": "code",
   "execution_count": null,
   "metadata": {},
   "outputs": [
    {
     "name": "stdout",
     "output_type": "stream",
     "text": [
      "              precision    recall  f1-score   support\n",
      "\n",
      "           0       1.00      1.00      1.00      7281\n",
      "           1       0.95      1.00      0.98      6868\n",
      "\n",
      "   micro avg       0.98      1.00      0.99     14149\n",
      "   macro avg       0.98      1.00      0.99     14149\n",
      "weighted avg       0.98      1.00      0.99     14149\n",
      " samples avg       0.98      1.00      0.98     14149\n",
      "\n"
     ]
    }
   ],
   "source": [
    "\n",
    "y_pred_test_RF= multi_target_forest.predict(Xtopic_test_tf_RF)\n",
    "#test_RF_CM = confusion_matrix(Ytopic_test_RF_bin, y_pred_test_RF)\n",
    "\n",
    "print(classification_report(Ytopic_test_RF_bin, y_pred_test_RF))\n",
    "#print(test_RF_CM)"
   ]
  },
  {
   "cell_type": "code",
   "execution_count": null,
   "metadata": {},
   "outputs": [],
   "source": [
    "# Start timer script\n",
    "start_time = dt.datetime.today()\n",
    "\n",
    "# Citation: Hochberg, 2018; Shanmukh, 2021\n",
    "m1v1_rfc_pip = Pipeline([('rfc',\n",
    "                          RandomForestClassifier(random_state=random_state))])\n",
    "\n",
    "rskf_splits = 2\n",
    "rskf_repeats = 2\n",
    "bsg_iters = 5\n",
    "bsg_jobs = 2\n",
    "\n",
    "#loss_hparam = Categorical(['log_loss', 'exponential'])\n",
    "#lrate_hparam = Real(1e-3, 1e3, prior='log-uniform')\n",
    "#nest_hparam = Integer(1e2, 1e3, prior='log-uniform')\n",
    "\n",
    "nest_hparam = Integer(1e2, 1e3, prior='log-uniform')\n",
    "mndepth_hparam = Integer(1e0, 1e2, prior='log-uniform')\n",
    "mnsamps_hparam = Integer(1e0, 1e2, prior='log-uniform')\n",
    "mnsampl_hparam = Integer(1e0, 1e2, prior='log-uniform')\n",
    "mxfeat_hparam = Categorical(['sqrt', 'log2', None])\n",
    "minimpd_hparam = Real(1e-3, 1e3, prior='log-uniform')\n",
    "oob_hparam = Categorical([True, False])\n",
    "ccp_hparam = Real(1e-3, 1e3, prior='log-uniform')\n",
    "maxsamp_hparam = Real(1e-3, 1e0, prior='log-uniform')\n",
    "\n",
    "m1v1_rfc_grd = {'rfc__n_estimators': nest_hparam,\n",
    "                'rfc__max_depth': mndepth_hparam,\n",
    "                'rfc__min_samples_split': mnsamps_hparam,\n",
    "                'rfc__min_samples_leaf': mnsampl_hparam,\n",
    "                'rfc__max_features': mxfeat_hparam,\n",
    "                'rfc__min_impurity_decrease': minimpd_hparam,\n",
    "                'rfc__oob_score': oob_hparam,\n",
    "                'rfc__ccp_alpha': ccp_hparam,\n",
    "                'rfc__max_samples': maxsamp_hparam,\n",
    "               }\n",
    "\n",
    "'''Change rfc default scoring from accuracy to F1 score citation:\n",
    "https://chat.openai.com/share/254f382b-4a8e-48e8-acd5-2918f0bbc59d\n",
    "'''\n",
    "f1_scorer = make_scorer(f1_score,\n",
    "                        pos_label='right')\n",
    "\n",
    "'''Customize cross-validation citation:\n",
    "https://machinelearningmastery.com\n",
    "/scikit-optimize-for-hyperparameter-tuning-in-machine-learning/\n",
    "'''\n",
    "cv = RepeatedStratifiedKFold(n_splits=rskf_splits,\n",
    "                             n_repeats=rskf_repeats,\n",
    "                             random_state=random_state)\n",
    "\n",
    "m1v1_rfc = BayesSearchCV(m1v1_rfc_pip,\n",
    "                         m1v1_rfc_grd,\n",
    "                         n_iter=bsg_iters,\n",
    "                         scoring=None,\n",
    "                         cv=cv,\n",
    "                         n_jobs=bsg_jobs,\n",
    "                         refit=True,\n",
    "                         verbose=4,\n",
    "                         random_state=random_state)\n",
    "\n",
    "m1v1_rfc.fit(nlm_train_x01_mtx, nlm_train_y01)\n",
    "\n",
    "# End timer script\n",
    "end_time = dt.datetime.today()\n",
    "time_elapse = end_time - start_time\n",
    "print(f'Start Time = {start_time}')\n",
    "print(f'End Time = {end_time}')\n",
    "print(f'Elapsed Time = {time_elapse}')"
   ]
  },
  {
   "cell_type": "markdown",
   "metadata": {},
   "source": [
    "### Pickle best model"
   ]
  },
  {
   "cell_type": "code",
   "execution_count": null,
   "metadata": {},
   "outputs": [],
   "source": [
    "# Path to save the pickled model\n",
    "mod_folder_name = 'trained_models'\n",
    "m1v1_pkl_file_name = 'm1v1_rfc.pkl'\n",
    "\n",
    "pkl_file_path01 = os.path.join(curr_dir, mod_folder_name, m1v1_pkl_file_name)\n",
    "\n",
    "print(f'Pickle file 1 in path: {pkl_file_path01}')"
   ]
  },
  {
   "cell_type": "raw",
   "metadata": {},
   "source": [
    "with open(pkl_file_path01, \"wb\") as file:\n",
    "    pickle.dump(m1v1_rfc, file)\n",
    "\n",
    "print(\"Model pickled and saved successfully.\")"
   ]
  },
  {
   "cell_type": "markdown",
   "metadata": {},
   "source": [
    "### Load pickled best model"
   ]
  },
  {
   "cell_type": "code",
   "execution_count": null,
   "metadata": {},
   "outputs": [],
   "source": [
    "with open(pkl_file_path01, 'rb') as file:\n",
    "    m1v1_rfc = pickle.load(file)"
   ]
  },
  {
   "cell_type": "code",
   "execution_count": null,
   "metadata": {},
   "outputs": [],
   "source": [
    "print(f'\\nBest Estimator:\\n{m1v1_rfc.best_estimator_}')\n",
    "\n",
    "print('\\nCross-validaton results:')\n",
    "display(pd.DataFrame(m1v1_rfc.cv_results_))\n",
    "\n",
    "train_m1v1_rfc_y01_pred = m1v1_rfc.predict_proba(nlm_train_x01_mtx)\n",
    "print(f'\\nFirst 10 train set predictions:\\n{train_m1v1_rfc_y01_pred[:10]}')\n",
    "\n",
    "test_m1v1_rfc_y01_pred = m1v1_rfc.predict_proba(nlm_test_x01_mtx)\n",
    "print(f'\\nFirst 10 test set predictions:\\n{test_m1v1_rfc_y01_pred[:10]}')\n",
    "\n",
    "print(f'\\nBest Score for \"{m1v1_rfc.scorer_}\" is {m1v1_rfc.best_score_}')"
   ]
  },
  {
   "cell_type": "markdown",
   "metadata": {},
   "source": [
    "#### Train set check"
   ]
  },
  {
   "cell_type": "code",
   "execution_count": null,
   "metadata": {},
   "outputs": [],
   "source": [
    "nlm_train_y01_pred = m1v1_rfc.predict(nlm_train_x01_mtx)\n",
    "nlm_train_y01_pred_cm = confusion_matrix(nlm_train_y01, nlm_train_y01_pred)\n",
    "\n",
    "print(classification_report(nlm_train_y01, nlm_train_y01_pred))\n",
    "print(nlm_train_y01_pred_cm)\n",
    "\n",
    "'''Citation:\n",
    "https://scikit-learn.org/stable/modules/generated\n",
    "/sklearn.metrics.ConfusionMatrixDisplay.html\n",
    "#sklearn.metrics.ConfusionMatrixDisplay.plot\n",
    "'''\n",
    "nlm_train_cm_dsp = ConfusionMatrixDisplay(confusion_matrix=nlm_train_y01_pred_cm,\n",
    "                                          display_labels=m1v1_rfc.classes_)\n",
    "nlm_train_cm_dsp.plot()\n",
    "plt.show()"
   ]
  },
  {
   "cell_type": "markdown",
   "metadata": {},
   "source": [
    "#### ROC-AUC Curve"
   ]
  },
  {
   "cell_type": "code",
   "execution_count": null,
   "metadata": {},
   "outputs": [],
   "source": [
    "nlm_train_y01_pred_decf = m1v1_rfc.decision_function(nlm_train_x01_mtx)\n",
    "RocCurveDisplay.from_predictions(nlm_train_y01, nlm_train_y01_pred_decf,\n",
    "                                 pos_label='right')\n",
    "plt.show()"
   ]
  },
  {
   "cell_type": "markdown",
   "metadata": {},
   "source": [
    "#### Test set results"
   ]
  },
  {
   "cell_type": "code",
   "execution_count": null,
   "metadata": {},
   "outputs": [],
   "source": [
    "nlm_test_y01_pred = m1v1_rfc.predict(nlm_test_x01_mtx)\n",
    "nlm_test_y01_pred_cm = confusion_matrix(nlm_test_y01, nlm_test_y01_pred)\n",
    "\n",
    "print('Test Set Evaluation Metrics')\n",
    "print(classification_report(nlm_test_y01, nlm_test_y01_pred))\n",
    "print(nlm_test_y01_pred_cm)\n",
    "\n",
    "'''Citation:\n",
    "https://scikit-learn.org/stable/modules/generated\n",
    "/sklearn.metrics.ConfusionMatrixDisplay.html\n",
    "#sklearn.metrics.ConfusionMatrixDisplay.plot\n",
    "'''\n",
    "nlm_test_cm_dsp = ConfusionMatrixDisplay(confusion_matrix=nlm_test_y01_pred_cm,\n",
    "                                         display_labels=m1v1_rfc.classes_)\n",
    "nlm_test_cm_dsp.plot()\n",
    "plt.show()"
   ]
  },
  {
   "cell_type": "markdown",
   "metadata": {},
   "source": [
    "#### Variable importance"
   ]
  },
  {
   "cell_type": "code",
   "execution_count": null,
   "metadata": {},
   "outputs": [],
   "source": [
    "print(nlm_train_x01_mtx_cols)\n",
    "print(type(nlm_train_x01_mtx_cols))\n",
    "print(nlm_train_x01_mtx_cols.shape)\n",
    "\n",
    "x = m1v1_rfc.best_estimator_.named_steps['rfc'].feature_importances_\n",
    "x_df01 = pd.DataFrame(x, columns=['var_imp'])\n",
    "x_df01['feature'] = nlm_train_x01_mtx_cols\n",
    "x_df02 = x_df01.sort_values(by=['var_imp'], ascending=False)\n",
    "x_df03 = x_df02.head(20)\n",
    "\n",
    "display(x_df02.head())\n",
    "print(type(x_df02))\n",
    "print(x_df02.shape)"
   ]
  },
  {
   "cell_type": "code",
   "execution_count": null,
   "metadata": {},
   "outputs": [],
   "source": [
    "'''Citation:\n",
    "https://machinelearningmastery.com/calculate-feature-importance-with-python/\n",
    "'''\n",
    "# plot feature importance\n",
    "#figure = plt.figsize((10,9))\n",
    "plt.figure(figsize=(15,7))\n",
    "plt.title('Feature Importance (Top 20)')\n",
    "plt.barh([x for x in range(len(x_df03['var_imp']))], x_df03['var_imp'],\n",
    "         tick_label=x_df03['feature'])\n",
    "plt.show()"
   ]
  },
  {
   "cell_type": "code",
   "execution_count": null,
   "metadata": {},
   "outputs": [],
   "source": [
    "TNmodel1=nlm_test_y01_pred_cm[0][0]\n",
    "FPmodel1=nlm_test_y01_pred_cm[0][1]\n",
    "FNmodel1=nlm_test_y01_pred_cm[1][0]\n",
    "TPmodel1=nlm_test_y01_pred_cm[1][1]"
   ]
  },
  {
   "cell_type": "code",
   "execution_count": null,
   "metadata": {},
   "outputs": [],
   "source": [
    "# Results:\n",
    "from tabulate import tabulate\n",
    "\n",
    "TANmodel1=TNmodel1+FPmodel1\n",
    "TAPmodel1=TPmodel1+FNmodel1\n",
    "TPPmodel1=FPmodel1+TPmodel1\n",
    "TPNmodel1=TNmodel1+FNmodel1\n",
    "GTmodel1=TANmodel1+TAPmodel1\n",
    "AccuracyM1=(TNmodel1+TPmodel1)/GTmodel1\n",
    "ErrorRateM1=1-AccuracyM1\n",
    "SensitivityM1=TPmodel1/(TAPmodel1)\n",
    "RecallM1=SensitivityM1\n",
    "SpecificityM1=TNmodel1/TANmodel1\n",
    "PrecisionM1=TPmodel1/TPPmodel1\n",
    "F1M1=2*PrecisionM1*RecallM1/(PrecisionM1 + RecallM1)\n",
    "F2M1=5*(PrecisionM1*RecallM1)/((4*PrecisionM1)+RecallM1)\n",
    "Fp5M1=(1.25)*(PrecisionM1*RecallM1)/((0.25*PrecisionM1)+RecallM1)\n",
    "\n",
    "header = [\"Accuracy\", \"Error Rate\", \"Sensitivity\", \"Recall\", \"Specificity\",\n",
    "          \"Precision\", \"F1\", \"F2\", \"F0.5\"]\n",
    "data1 = [[\"Accuracy\", AccuracyM1], [\"Error Rate\", ErrorRateM1],\n",
    "         [\"Sensitivity\", SensitivityM1],\n",
    "         [\"Recall\", RecallM1], [\"Specificity\", SpecificityM1],\n",
    "         [\"Precision\", PrecisionM1],\n",
    "         [\"F1\", F1M1], [\"F2\", F2M1], [\"F0.5\", Fp5M1]]\n",
    "\n",
    "col_names=[\"Measurement\", \"Linear SVC Model\"]\n",
    "\n",
    "ModelEvaluationTable = tabulate(data1, headers=col_names,\n",
    "                                tablefmt=\"fancy_grid\")\n",
    "\n",
    "print(ModelEvaluationTable)"
   ]
  },
  {
   "cell_type": "markdown",
   "metadata": {},
   "source": []
  }
 ],
 "metadata": {
  "kernelspec": {
   "display_name": "humans",
   "language": "python",
   "name": "python3"
  },
  "language_info": {
   "codemirror_mode": {
    "name": "ipython",
    "version": 3
   },
   "file_extension": ".py",
   "mimetype": "text/x-python",
   "name": "python",
   "nbconvert_exporter": "python",
   "pygments_lexer": "ipython3",
   "version": "3.9.17"
  },
  "orig_nbformat": 4
 },
 "nbformat": 4,
 "nbformat_minor": 2
}
