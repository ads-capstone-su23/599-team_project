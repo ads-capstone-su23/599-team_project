{
 "cells": [
  {
   "attachments": {},
   "cell_type": "markdown",
   "id": "72e49e21-4b1f-4603-a619-84b9e1998f03",
   "metadata": {},
   "source": [
    "# 599 Final EDA\n",
    "\n",
    "* Import Libraries\n",
    "\n",
    "* Define Functions for EDA\n",
    "\n",
    "* Load Cleaned/tokenized data\n",
    "\n",
    "* EDA  \n",
    "\n",
    "* Derive insights"
   ]
  },
  {
   "attachments": {},
   "cell_type": "markdown",
   "id": "81c57862-dbc2-4515-b62e-14adccbf6d2b",
   "metadata": {},
   "source": [
    "## Globally import libraries"
   ]
  },
  {
   "cell_type": "code",
   "execution_count": 3,
   "id": "f3c1e3ef-8619-4237-88c3-e4a06edaf6c5",
   "metadata": {},
   "outputs": [
    {
     "name": "stderr",
     "output_type": "stream",
     "text": [
      "c:\\Users\\Susy\\anaconda3\\envs\\humans\\lib\\site-packages\\requests\\__init__.py:102: RequestsDependencyWarning: urllib3 (1.26.7) or chardet (5.1.0)/charset_normalizer (2.0.12) doesn't match a supported version!\n",
      "  warnings.warn(\"urllib3 ({}) or chardet ({})/charset_normalizer ({}) doesn't match a supported \"\n"
     ]
    }
   ],
   "source": [
    "#! pip install pyLDavis\n",
    "\n",
    "import numpy as np\n",
    "import pandas as pd\n",
    "\n",
    "# Text preprocessing libraries\n",
    "import requests\n",
    "import os\n",
    "import shutil\n",
    "import re\n",
    "import logging\n",
    "import time\n",
    "import zipfile\n",
    "import requests\n",
    "from bs4 import BeautifulSoup\n",
    "import datetime\n",
    "import re\n",
    "import regex as rex\n",
    "from bs4 import BeautifulSoup\n",
    "import datetime\n",
    "import json\n",
    "from string import punctuation\n",
    "from nltk.corpus import stopwords\n",
    "import re\n",
    "import emoji\n",
    "import itertools\n",
    "import pickle\n",
    "\n",
    "# EDA for text libraries\n",
    "import nltk\n",
    "import collections\n",
    "from collections import defaultdict, Counter\n",
    "import random\n",
    "import textacy.preprocessing as tprep\n",
    "from textacy.extract import keyword_in_context\n",
    "import pyLDAvis\n",
    "pyLDAvis.enable_notebook()\n",
    "from tqdm.auto import tqdm\n",
    "import spacy\n",
    "import pyLDAvis.lda_model\n",
    "import pyLDAvis.gensim_models\n",
    "from wordcloud import WordCloud \n",
    "from sklearn.feature_extraction.text import TfidfVectorizer, CountVectorizer\n",
    "from sklearn.decomposition import NMF\n",
    "from sklearn.pipeline import Pipeline\n",
    "from sklearn.decomposition import LatentDirichletAllocation\n",
    "\n",
    "# visuals\n",
    "import matplotlib.pyplot as plt\n",
    "import seaborn \n",
    "from tabulate import tabulate\n",
    "\n",
    "# SQL libraries\n",
    "#import pymysql as mysql\n",
    "#import mysql.connector\n",
    "#import sqlite3\n",
    "\n",
    "# Set pandas global options\n",
    "#pd.options.display.max_rows = 17\n",
    "\n",
    "import warnings\n",
    "warnings.filterwarnings('ignore')\n",
    "warnings.simplefilter('ignore')"
   ]
  },
  {
   "cell_type": "code",
   "execution_count": null,
   "id": "8f519d1e",
   "metadata": {},
   "outputs": [],
   "source": [
    "## Libraries for modeling/etc\n",
    "### Depracated:\n",
    "## from sklearn.metrics import plot_confusion_matrix\n",
    "### New version:\n",
    "#from sklearn.metrics import ConfusionMatrixDisplay\n",
    "#from sklearn.model_selection import cross_val_score\n",
    "#from sklearn.model_selection import GridSearchCV\n",
    "#from sklearn.svm import LinearSVCfrom sklearn.svm import SVC\n",
    "#from sklearn.metrics import accuracy_score, f1_score, recall_score, precision_recall_curve\n",
    "#from sklearn.metrics import confusion_matrix\n",
    "#from sklearn.metrics import classification_report\n",
    "#from sklearn.model_selection import GridSearchCV\n",
    "#from sklearn.model_selection import train_test_split\n",
    "#from nltk.metrics import ConfusionMatrix\n",
    "#from sklearn.svm import SVC"
   ]
  },
  {
   "attachments": {},
   "cell_type": "markdown",
   "id": "b1bf7e4b",
   "metadata": {},
   "source": [
    "## Functions:"
   ]
  },
  {
   "attachments": {},
   "cell_type": "markdown",
   "id": "aa6f0d76",
   "metadata": {},
   "source": [
    "### Data pre-processing:"
   ]
  },
  {
   "attachments": {},
   "cell_type": "markdown",
   "id": "ec6e6389",
   "metadata": {},
   "source": [
    "REGEX and NORMALIZE FUNCTIONS"
   ]
  },
  {
   "cell_type": "code",
   "execution_count": 17,
   "id": "edcff03c",
   "metadata": {},
   "outputs": [],
   "source": [
    "rex_sep = rex.compile(r'&nbsp;')\n",
    "rex_ucode = rex.compile(r'[\\\\]u20*')\n",
    "\n",
    "'''re.sub lambda citation:\n",
    "https://chat.openai.com/share/402ec66e-2802-4cda-af8c-6f9f5b097d85\n",
    "'''\n",
    "sep_lst = []\n",
    "ucode_lst = []\n",
    "# Add leading and trailing space to URLs\n",
    "def rex_replace(text):\n",
    "    #txt = str(text)\n",
    "    #print(lambda x: x.replace('&nbsp;', ' '))\n",
    "    #sep_lst.append(rex_sep.findall(txt))\n",
    "    #ucode_lst.append(rex_ucode.findall(txt))\n",
    "    text = text.replace(r'&nbsp;', ' ').replace(r'-', ' ')\\\n",
    "    .replace(r'\\n', ' ').replace('\\u2063', ' ').replace('\\u2066', ' ')\\\n",
    "    .replace('\\u2069', ' ').replace('\\u200b', ' ').replace('\\u200d', ' ')\\\n",
    "    .replace('(click to view)', ' ')\\\n",
    "    .replace('a post shared by', ' ')\\\n",
    "    .replace('app users click here', ' ')\\\n",
    "    .replace('app users: click here', ' ')\\\n",
    "    .replace('app users, click here:', ' ')\\\n",
    "    .replace('click here.', ' ')\\\n",
    "    .replace('click here for more cartoons', ' ')\\\n",
    "    .replace('click here for more', ' ')\\\n",
    "    .replace('click here for more sports coverage on foxnews.com', ' ')\\\n",
    "    .replace('click here for other fox news digital adoptable pets stories', ' ')\\\n",
    "    .replace('click here for the fox news app', ' ')\\\n",
    "    .replace('click here for the latest fox news reporting', ' ')\\\n",
    "    .replace('click here for topline and cross tabs conducted', ' ')\\\n",
    "    .replace('click here to hear more', ' ')\\\n",
    "    .replace('click here to ge the fox news app', ' ')\\\n",
    "    .replace('click here to get the fox news app', ' ')\\\n",
    "    .replace('click here to get the opinion newsletter', ' ')\\\n",
    "    .replace('click here to learn more', ' ')\\\n",
    "    .replace('click here to read more', ' ')\\\n",
    "    .replace('click here to sign up for our health newsletter', ' ')\\\n",
    "    .replace('click here to sign up for our lifestyle newsletter', ' ')\\\n",
    "    .replace('click here to sign up for our opinion newsletter', ' ')\\\n",
    "    .replace('click here to sign up for the entertainment newsletter', ' ')\\\n",
    "    .replace('click here to subscribe and get your first year of fox nation free of charge', ' ')\\\n",
    "    .replace('click here to view', ' ')\\\n",
    "    .replace(\"click to get kurt's cyberguy newsletter with quick tips, tech reviews, security alerts and easy how to's to make you smarter\", ' ')\\\n",
    "    .replace(\"click to get kurt's cyberguy newsletter with security alerts, quick tips, tech reviews, security and easy how to's to make you smarter\", ' ')\\\n",
    "    .replace(\"click to get kurt's free cyberguy newsletter with quick tips, tech reviews, security alerts and easy how to's to make you smarter\", ' ')\\\n",
    "    .replace(\"click to get kurt's free cyberguy newsletter with security alerts, quick tips, tech reviews, and easy how to's to make you smarter\", ' ')\\\n",
    "    .replace('click to get the fox news app', ' ')\\\n",
    "    .replace('fox news digital', ' ')\\\n",
    "    .replace('request for comment', ' ')\\\n",
    "    .replace('the ap ', ' ')\\\n",
    "    .replace('copyright © 2023 breitbart', ' ')\\\n",
    "    .replace('all rights reserved', ' ')\\\n",
    "    .replace('copyright 2023 cyberguy.com', ' ')\\\n",
    "    .replace('copyright 2023 fox news network', ' ')\\\n",
    "    .replace('copyright 2023 viq media transcription', ' ')\\\n",
    "    .replace(\"please let us know if you're having issues with commenting\", ' ')\\\n",
    "    .replace('view this post on instagram', ' ')\n",
    "    #txt = txt\n",
    "    #text = text.replace(r'200b', 'd171c')\n",
    "    #text = rex_ucode.sub('', text)\n",
    "    return text\n",
    "\n",
    "def normalize(text):\n",
    "    text = tprep.normalize.hyphenated_words(text)\n",
    "    text = tprep.normalize.quotation_marks(text)\n",
    "    text = tprep.normalize.unicode(text)\n",
    "    text = tprep.remove.accents(text)\n",
    "    return text"
   ]
  },
  {
   "attachments": {},
   "cell_type": "markdown",
   "id": "ab6fb9ae",
   "metadata": {},
   "source": [
    "LEMMATIZATION FUNCTION"
   ]
  },
  {
   "cell_type": "code",
   "execution_count": 18,
   "id": "245cc3a7",
   "metadata": {},
   "outputs": [],
   "source": [
    "nlp_trans = spacy.load('en_core_web_sm')\n",
    "\n",
    "def lemma(text):\n",
    "    trans_txt = nlp_trans(text)\n",
    "    tokens = [t.lemma_ for t in trans_txt]\n",
    "    return tokens"
   ]
  },
  {
   "attachments": {},
   "cell_type": "markdown",
   "id": "801cf64d",
   "metadata": {},
   "source": [
    "* CASE LOAD \n",
    "* STOPWORD REMOVAL \n",
    "* URL REMOVAL \n",
    "* EMOJI REMOVAL \n",
    "* PUNCTUATION REMOVAL \n",
    "* MESSY TEXT REMOVAL\n",
    "* TOKENIZE"
   ]
  },
  {
   "cell_type": "code",
   "execution_count": 50,
   "id": "34ba223f",
   "metadata": {},
   "outputs": [],
   "source": [
    "# CASE LOAD, REMOVE STOPWORDS,\n",
    "# EMOJI and PUNCTUATION REMAL,\n",
    "# URL REMOVAL\n",
    "# TOKENIZE\n",
    "# REMOVE MESSY text\n",
    "\n",
    "punctuation = set(punctuation) # speeds up comparison\n",
    "tw_punct = punctuation - {\"#\"}\n",
    "\n",
    "sw = stopwords.words(\"english\")\n",
    "sw = sw + ['nan']\n",
    "sw = sw + ['said'] + ['news'] + ['us'] + ['reuters'] + ['ap'] \\\n",
    "    + ['fox'] + ['cnn'] + ['breitbart'] + ['digital'] + ['follow'] \\\n",
    "    + ['associated press'] + ['press contributed'] + ['press'] \\\n",
    "    + ['dont'] + ['2023'] + ['told digital'] + ['associated contributed']\\\n",
    "    + ['contributed report'] + ['associated'] + ['contributed'] +\\\n",
    "    ['report'] + ['continued'] + ['reportedly'] + ['im']\n",
    "\n",
    "# Two useful regex\n",
    "whitespace_pattern = re.compile(r\"\\s+\")\n",
    "hashtag_pattern = re.compile(r\"^#[0-9a-zA-Z]+\")\n",
    "\n",
    "def emoji_split(text):\n",
    "    return(\"\".join([' ' + ch + ' ' if emoji.is_emoji(ch) else ch for ch in text]))\n",
    "\n",
    "def remove_stop(tokens) :\n",
    "    # modify this function to remove stopwords\n",
    "\n",
    "    return[t for t in tokens if t not in sw]\n",
    " \n",
    "def remove_punctuation(text, punct_set=tw_punct) : \n",
    "    return(\"\".join([ch for ch in text if ch not in punct_set]))\n",
    "\n",
    "def tokenize(text) : \n",
    "    \"\"\" Splitting on whitespace rather than the book's tokenize function. That \n",
    "        function will drop tokens like '#hashtag' or '2A', which we need for Twitter. \"\"\"\n",
    "    \n",
    "    return([item.lower() for item in whitespace_pattern.split(text)])\n",
    "    \n",
    "def remove_url(text):\n",
    "    return(re.sub(r'http\\S+', '', text))\n",
    "\n",
    "def remove_messy(text): # remove words that give away the source\n",
    "    text1=re.sub(r'cnn', '', text)\n",
    "    text2=re.sub(r'fox', '', text1)\n",
    "    text3=re.sub(r' — ', '', text2)\n",
    "    text4=re.sub(r'breitbart', '', text3)\n",
    "    return(re.sub(r'\\\\n', '', text4))\n",
    "\n",
    "# two pipelines to either tokenize or simply remove punctuation\n",
    "# and lowercase as we will need to extract feature words:\n",
    "\n",
    "full_pipeline = [str.lower, remove_url, rex_replace, emoji_split, remove_messy, \n",
    "                 remove_punctuation, tokenize, remove_stop]\n",
    "first_pipeline = [str.lower, remove_url, rex_replace, emoji_split, remove_messy, \n",
    "                  remove_punctuation]\n",
    "tokenize_sw_pipeline = [remove_punctuation, remove_messy,tokenize, remove_stop]\n",
    "\n",
    "\n",
    "def prepare(text, pipeline) : \n",
    "    tokens = str(text)\n",
    "    \n",
    "    for transform in pipeline : \n",
    "        tokens = transform(tokens)\n",
    "        \n",
    "    return(tokens)"
   ]
  },
  {
   "attachments": {},
   "cell_type": "markdown",
   "id": "5c4c7c5a",
   "metadata": {},
   "source": [
    "### Feature extraction Function:"
   ]
  },
  {
   "cell_type": "code",
   "execution_count": 20,
   "id": "355a6b8f",
   "metadata": {},
   "outputs": [],
   "source": [
    "def conv_features(text,fw) :\n",
    "     feature_set=dict()\n",
    "     for word in text.split():\n",
    "          if word in fw:\n",
    "               feature_set[word]=True\n",
    "     return(feature_set)"
   ]
  },
  {
   "attachments": {},
   "cell_type": "markdown",
   "id": "ebe59220",
   "metadata": {},
   "source": [
    "### EDA functions:"
   ]
  },
  {
   "attachments": {},
   "cell_type": "markdown",
   "id": "1bb6edaf",
   "metadata": {},
   "source": [
    "* GET PATTERNS\n",
    "* WORD COUNTS\n",
    "* WORDCLOUD\n",
    "* TOPIC MODELING"
   ]
  },
  {
   "cell_type": "code",
   "execution_count": 4,
   "id": "4409c612",
   "metadata": {},
   "outputs": [],
   "source": [
    "def get_patterns(text_analyze, num_words, T):\n",
    "    if(len(text_analyze)==0):\n",
    "        raise ValueError(\"Can't work with empty text object\")\n",
    "    total_tokens = 1\n",
    "    unique_tokens = 0\n",
    "    avg_token_len = 0.0\n",
    "    lexical_diversityP = 0.0\n",
    "    top_words = []\n",
    "\n",
    "    # Only applying the token_normal, which takes only alphanumeric values\n",
    "    # to twitter data:\n",
    "    if T ==1:\n",
    "        text_analyze=token_normal(text_analyze)\n",
    "\n",
    "    total_tokens = len(text_analyze)\n",
    "    unique_tokens = len(set(text_analyze))\n",
    "    lexical_diversityP = unique_tokens/total_tokens\n",
    "    avg_token_len = np.mean([len(ta) for ta in text_analyze])\n",
    "\n",
    "    top_words_1 = collections.Counter(text_analyze)\n",
    "    top_words = top_words_1.most_common(num_words)\n",
    "\n",
    "    results={'tokens': total_tokens,\n",
    "             'unique_tokens': unique_tokens,\n",
    "             'avg_token_length': avg_token_len,\n",
    "             'lexical_diversity': lexical_diversityP,\n",
    "             'top_words': top_words}\n",
    "    return(results)"
   ]
  },
  {
   "cell_type": "code",
   "execution_count": 5,
   "id": "035ee7d2",
   "metadata": {},
   "outputs": [],
   "source": [
    "def wordcloud(word_freq, title=None, max_words=200, stopwords=None):\n",
    "\n",
    "    wc = WordCloud(width=800, height=400, \n",
    "                   background_color= \"black\", colormap=\"Paired\", \n",
    "                   max_font_size=150, max_words=max_words)\n",
    "    \n",
    "    # convert data frame into dict\n",
    "    if type(word_freq) == pd.Series:\n",
    "        counter = Counter(word_freq.fillna(0).to_dict())\n",
    "    else:\n",
    "        counter = word_freq\n",
    "\n",
    "    # filter stop words in frequency counter\n",
    "    if stopwords is not None:\n",
    "        \n",
    "        counter = {token:freq for (token, freq) in counter.items() \n",
    "                              if token not in stopwords}\n",
    "    wc.generate_from_frequencies(counter)\n",
    " \n",
    "    plt.title(title) \n",
    "\n",
    "    plt.imshow(wc, interpolation='bilinear')\n",
    "    plt.axis(\"off\")\n",
    "    \n",
    "# Here, we only apply splitting to the lyrics data due to the difference\n",
    "# in dataframe/data ingestion between twitter and lycis data:\n",
    "    \n",
    "#def count_words(df, column='tokens', preprocess=None, min_freq=2, split=0):\n",
    "def count_words(x, preprocess=None, min_freq=2, split=0):\n",
    "\n",
    "    # process tokens and update counter\n",
    "    def update(doc):\n",
    "        tokens = doc if preprocess is None else preprocess(doc)\n",
    "        counter.update(tokens)\n",
    "\n",
    "    # create counter and run through all data\n",
    "    #counter = collections.Counter()\n",
    "    #top_words_1 = collections.Counter(text_analyze)\n",
    "    #top_words = top_words_1.most_common(num_words)\n",
    "    if split == 0:\n",
    "        counter = collections.Counter(x)\n",
    "    else: \n",
    "        counter = collections.Counter(x.split())\n",
    "\n",
    "    #df[column].map(update)\n",
    "\n",
    "    # transform counter into data frame\n",
    "    freq_df = pd.DataFrame.from_dict(counter, orient='index', columns=['freq'])\n",
    "    freq_df = freq_df.query('freq >= @min_freq')\n",
    "    freq_df.index.name = 'token'\n",
    "    \n",
    "    return freq_df.sort_values('freq', ascending=False)"
   ]
  },
  {
   "cell_type": "code",
   "execution_count": 6,
   "id": "68a04565",
   "metadata": {},
   "outputs": [],
   "source": [
    "def display_topics(model, features, no_top_words=5):\n",
    "    for topic, words in enumerate(model.components_):\n",
    "        total = words.sum()\n",
    "        largest = words.argsort()[::-1] # invert sort order\n",
    "        print(\"\\nTopic %02d\" % topic)\n",
    "        for i in range(0, no_top_words):\n",
    "            print(\"  %s (%2.2f)\" % (features[largest[i]], \n",
    "                                    abs(words[largest[i]]*100.0/total)))"
   ]
  },
  {
   "attachments": {},
   "cell_type": "markdown",
   "id": "bcda7590",
   "metadata": {},
   "source": [
    "### Load Data from CSV's:"
   ]
  },
  {
   "attachments": {},
   "cell_type": "markdown",
   "id": "aa7d95a1",
   "metadata": {},
   "source": [
    "**Full Dataset**"
   ]
  },
  {
   "cell_type": "code",
   "execution_count": 7,
   "id": "9122a540",
   "metadata": {},
   "outputs": [],
   "source": [
    "news_data_df=pd.read_csv('../data/data_preprocessed_wo_sw_2023-07-14_16-37-39516053.csv')\n",
    "news_data_w_sw_df=pd.read_csv('../data/data_preprocessed_w_sw_2023-07-14_16-37-39516053.csv')\n",
    "\n"
   ]
  },
  {
   "cell_type": "code",
   "execution_count": 10,
   "id": "6610ab7f",
   "metadata": {},
   "outputs": [
    {
     "data": {
      "text/html": [
       "<div>\n",
       "<style scoped>\n",
       "    .dataframe tbody tr th:only-of-type {\n",
       "        vertical-align: middle;\n",
       "    }\n",
       "\n",
       "    .dataframe tbody tr th {\n",
       "        vertical-align: top;\n",
       "    }\n",
       "\n",
       "    .dataframe thead th {\n",
       "        text-align: right;\n",
       "    }\n",
       "</style>\n",
       "<table border=\"1\" class=\"dataframe\">\n",
       "  <thead>\n",
       "    <tr style=\"text-align: right;\">\n",
       "      <th></th>\n",
       "      <th>text_id</th>\n",
       "      <th>source_name</th>\n",
       "      <th>author</th>\n",
       "      <th>title</th>\n",
       "      <th>url</th>\n",
       "      <th>publish_date</th>\n",
       "      <th>article_text</th>\n",
       "      <th>content</th>\n",
       "      <th>processed_text</th>\n",
       "      <th>processed_text_split</th>\n",
       "      <th>num_tokens</th>\n",
       "    </tr>\n",
       "  </thead>\n",
       "  <tbody>\n",
       "    <tr>\n",
       "      <th>0</th>\n",
       "      <td>2</td>\n",
       "      <td>USA Today</td>\n",
       "      <td>USA TODAY, Emily DeLetter, USA TODAY</td>\n",
       "      <td>Tito's launches 'Tito's in a Big Can,' an empt...</td>\n",
       "      <td>https://www.usatoday.com/story/money/food/2023...</td>\n",
       "      <td>2023-06-21T17:37:40Z</td>\n",
       "      <td>Have you ever wanted to own your very own keg ...</td>\n",
       "      <td>Have you ever wanted to own your very own keg ...</td>\n",
       "      <td>ever wanted keg titos handmade vodka now dream...</td>\n",
       "      <td>['ever', 'wanted', 'keg', 'titos', 'handmade',...</td>\n",
       "      <td>120</td>\n",
       "    </tr>\n",
       "    <tr>\n",
       "      <th>1</th>\n",
       "      <td>3</td>\n",
       "      <td>USA Today</td>\n",
       "      <td>USA TODAY, Joy Ashford, USA TODAY</td>\n",
       "      <td>Search for missing actor Julian Sands continue...</td>\n",
       "      <td>https://www.usatoday.com/story/entertainment/c...</td>\n",
       "      <td>2023-06-20T17:36:09Z</td>\n",
       "      <td>Over five months after Julian Sands went missi...</td>\n",
       "      <td>Over five months after Julian Sandswent missin...</td>\n",
       "      <td>five months julian sands went missing solo hik...</td>\n",
       "      <td>['five', 'months', 'julian', 'sands', 'went', ...</td>\n",
       "      <td>222</td>\n",
       "    </tr>\n",
       "    <tr>\n",
       "      <th>2</th>\n",
       "      <td>5</td>\n",
       "      <td>USA Today</td>\n",
       "      <td>Tar Heels Wire</td>\n",
       "      <td>Four star running back picks Michigan State ov...</td>\n",
       "      <td>https://tarheelswire.usatoday.com/2023/06/24/f...</td>\n",
       "      <td>2023-06-25T03:51:10Z</td>\n",
       "      <td>\\n\\n\\n\\n\\n\\n\\n\\n\\n\\n\\n\\n\\n\\nFour star running ...</td>\n",
       "      <td>Mack Brown and the UNC football program have b...</td>\n",
       "      <td>four star running back picks michigan state un...</td>\n",
       "      <td>['four', 'star', 'running', 'back', 'picks', '...</td>\n",
       "      <td>175</td>\n",
       "    </tr>\n",
       "    <tr>\n",
       "      <th>3</th>\n",
       "      <td>6</td>\n",
       "      <td>USA Today</td>\n",
       "      <td>Roll Tide Wire</td>\n",
       "      <td>Alabama center Charles Bediako signs one-year ...</td>\n",
       "      <td>https://rolltidewire.usatoday.com/2023/06/23/a...</td>\n",
       "      <td>2023-06-23T21:29:24Z</td>\n",
       "      <td>\\n\\n\\n\\n\\n\\n\\n\\n\\n\\n\\n\\n\\n\\nAlabama center Cha...</td>\n",
       "      <td>Alabama center Charles Bediako was signed to a...</td>\n",
       "      <td>alabama center charles bediako signs one year ...</td>\n",
       "      <td>['alabama', 'center', 'charles', 'bediako', 's...</td>\n",
       "      <td>260</td>\n",
       "    </tr>\n",
       "    <tr>\n",
       "      <th>4</th>\n",
       "      <td>7</td>\n",
       "      <td>USA Today</td>\n",
       "      <td>Celtics Wire</td>\n",
       "      <td>Ralph Sampson breaks down iconic Boston Celtic...</td>\n",
       "      <td>https://celticswire.usatoday.com/2023/06/23/nb...</td>\n",
       "      <td>2023-06-23T11:00:41Z</td>\n",
       "      <td>\\n\\n\\n\\n\\n\\n\\n\\n\\n\\n\\n\\n\\n\\nRalph Sampson brea...</td>\n",
       "      <td>It was one of the most memorable moments in NB...</td>\n",
       "      <td>ralph sampson breaks iconic boston celtics hou...</td>\n",
       "      <td>['ralph', 'sampson', 'breaks', 'iconic', 'bost...</td>\n",
       "      <td>151</td>\n",
       "    </tr>\n",
       "  </tbody>\n",
       "</table>\n",
       "</div>"
      ],
      "text/plain": [
       "   text_id source_name                                author  \\\n",
       "0        2   USA Today  USA TODAY, Emily DeLetter, USA TODAY   \n",
       "1        3   USA Today     USA TODAY, Joy Ashford, USA TODAY   \n",
       "2        5   USA Today                        Tar Heels Wire   \n",
       "3        6   USA Today                        Roll Tide Wire   \n",
       "4        7   USA Today                          Celtics Wire   \n",
       "\n",
       "                                               title  \\\n",
       "0  Tito's launches 'Tito's in a Big Can,' an empt...   \n",
       "1  Search for missing actor Julian Sands continue...   \n",
       "2  Four star running back picks Michigan State ov...   \n",
       "3  Alabama center Charles Bediako signs one-year ...   \n",
       "4  Ralph Sampson breaks down iconic Boston Celtic...   \n",
       "\n",
       "                                                 url          publish_date  \\\n",
       "0  https://www.usatoday.com/story/money/food/2023...  2023-06-21T17:37:40Z   \n",
       "1  https://www.usatoday.com/story/entertainment/c...  2023-06-20T17:36:09Z   \n",
       "2  https://tarheelswire.usatoday.com/2023/06/24/f...  2023-06-25T03:51:10Z   \n",
       "3  https://rolltidewire.usatoday.com/2023/06/23/a...  2023-06-23T21:29:24Z   \n",
       "4  https://celticswire.usatoday.com/2023/06/23/nb...  2023-06-23T11:00:41Z   \n",
       "\n",
       "                                        article_text  \\\n",
       "0  Have you ever wanted to own your very own keg ...   \n",
       "1  Over five months after Julian Sands went missi...   \n",
       "2  \\n\\n\\n\\n\\n\\n\\n\\n\\n\\n\\n\\n\\n\\nFour star running ...   \n",
       "3  \\n\\n\\n\\n\\n\\n\\n\\n\\n\\n\\n\\n\\n\\nAlabama center Cha...   \n",
       "4  \\n\\n\\n\\n\\n\\n\\n\\n\\n\\n\\n\\n\\n\\nRalph Sampson brea...   \n",
       "\n",
       "                                             content  \\\n",
       "0  Have you ever wanted to own your very own keg ...   \n",
       "1  Over five months after Julian Sandswent missin...   \n",
       "2  Mack Brown and the UNC football program have b...   \n",
       "3  Alabama center Charles Bediako was signed to a...   \n",
       "4  It was one of the most memorable moments in NB...   \n",
       "\n",
       "                                      processed_text  \\\n",
       "0  ever wanted keg titos handmade vodka now dream...   \n",
       "1  five months julian sands went missing solo hik...   \n",
       "2  four star running back picks michigan state un...   \n",
       "3  alabama center charles bediako signs one year ...   \n",
       "4  ralph sampson breaks iconic boston celtics hou...   \n",
       "\n",
       "                                processed_text_split  num_tokens  \n",
       "0  ['ever', 'wanted', 'keg', 'titos', 'handmade',...         120  \n",
       "1  ['five', 'months', 'julian', 'sands', 'went', ...         222  \n",
       "2  ['four', 'star', 'running', 'back', 'picks', '...         175  \n",
       "3  ['alabama', 'center', 'charles', 'bediako', 's...         260  \n",
       "4  ['ralph', 'sampson', 'breaks', 'iconic', 'bost...         151  "
      ]
     },
     "execution_count": 10,
     "metadata": {},
     "output_type": "execute_result"
    }
   ],
   "source": [
    "news_data_df.head()"
   ]
  },
  {
   "cell_type": "code",
   "execution_count": 11,
   "id": "87a11f44",
   "metadata": {},
   "outputs": [
    {
     "data": {
      "text/plain": [
       "(36418, 11)"
      ]
     },
     "execution_count": 11,
     "metadata": {},
     "output_type": "execute_result"
    }
   ],
   "source": [
    "news_data_df.shape"
   ]
  },
  {
   "attachments": {},
   "cell_type": "markdown",
   "id": "9530d6e9",
   "metadata": {},
   "source": [
    "## Pre-Process Data: \n",
    "\n",
    "(same process done to MASTER and THE_HILL_MASTER):"
   ]
  },
  {
   "attachments": {},
   "cell_type": "markdown",
   "id": "e1370107",
   "metadata": {},
   "source": [
    "### CHOOSE 1:"
   ]
  },
  {
   "cell_type": "code",
   "execution_count": 155,
   "id": "f5158e54",
   "metadata": {},
   "outputs": [],
   "source": [
    "# Train/Test data loaded:\n",
    "api_data_complete_df=api_data_complete_df.copy()"
   ]
  },
  {
   "attachments": {},
   "cell_type": "markdown",
   "id": "dd447cb2",
   "metadata": {},
   "source": [
    "TOKENIZE COLUMN added:"
   ]
  },
  {
   "cell_type": "code",
   "execution_count": 218,
   "id": "b620c660",
   "metadata": {},
   "outputs": [],
   "source": [
    "# Tokenize text:\n",
    "\n",
    "api_data_complete_df['tokens']= api_data_complete_df['article_text'].apply(prepare,\n",
    "                                                     pipeline=full_pipeline)"
   ]
  },
  {
   "cell_type": "code",
   "execution_count": 241,
   "id": "b4aff4b4",
   "metadata": {},
   "outputs": [],
   "source": [
    "api_data_complete_df_business['tokens']= api_data_complete_df_business['article_text'].apply(prepare,\n",
    "                                                     pipeline=full_pipeline)"
   ]
  },
  {
   "attachments": {},
   "cell_type": "markdown",
   "id": "1c5f66ca",
   "metadata": {},
   "source": [
    "CLEAN DATA (without tokenizing) COLUMN added:"
   ]
  },
  {
   "cell_type": "code",
   "execution_count": 177,
   "id": "b4b94607",
   "metadata": {},
   "outputs": [],
   "source": [
    "# Clean data into lowercase/no punctuation:\n",
    "\n",
    "api_data_complete_df['cleaner_text']= api_data_complete_df['article_text'].apply(prepare,\n",
    "                                                     pipeline=first_pipeline)"
   ]
  },
  {
   "cell_type": "code",
   "execution_count": 242,
   "id": "f0821092",
   "metadata": {},
   "outputs": [],
   "source": [
    "api_data_complete_df_business['cleaner_text']= api_data_complete_df_business['article_text'].apply(prepare,\n",
    "                                                     pipeline=first_pipeline)"
   ]
  },
  {
   "cell_type": "code",
   "execution_count": 158,
   "id": "de9bbfec",
   "metadata": {},
   "outputs": [
    {
     "data": {
      "text/plain": [
       "(4509, 9)"
      ]
     },
     "execution_count": 158,
     "metadata": {},
     "output_type": "execute_result"
    }
   ],
   "source": [
    "# These results change depending on the data loaded that is being worked on:\n",
    "\n",
    "api_data_complete_df.shape"
   ]
  },
  {
   "attachments": {},
   "cell_type": "markdown",
   "id": "a00308b4",
   "metadata": {},
   "source": [
    "### If TRAIN data used: LABEL target variable:"
   ]
  },
  {
   "cell_type": "code",
   "execution_count": 159,
   "id": "b3d2a6a2",
   "metadata": {},
   "outputs": [],
   "source": [
    "# Add target variable values:\n",
    "\n",
    "api_data_complete_df['Political_Lean'] = np.where((api_data_complete_df['source_name'] == \"CNN\") | \\\n",
    "                                                  (api_data_complete_df['source_name'] == \\\n",
    "                                                   \"The Washington Post\"), 'Left', 'Right')"
   ]
  },
  {
   "attachments": {},
   "cell_type": "markdown",
   "id": "edfbc66c",
   "metadata": {},
   "source": [
    "Saving new MASTER CSV;s (tokenized/labeled/etc) for the Business and training datasets"
   ]
  },
  {
   "cell_type": "code",
   "execution_count": 369,
   "id": "b01d12ba",
   "metadata": {},
   "outputs": [],
   "source": [
    "#api_data_complete_df.to_csv(\"master_business_TheHill.csv\", sep=',')"
   ]
  },
  {
   "attachments": {},
   "cell_type": "markdown",
   "id": "bc07a5be",
   "metadata": {},
   "source": [
    "----------"
   ]
  },
  {
   "attachments": {},
   "cell_type": "markdown",
   "id": "4894e793",
   "metadata": {},
   "source": [
    "## EDA\n"
   ]
  },
  {
   "attachments": {},
   "cell_type": "markdown",
   "id": "07cc68af",
   "metadata": {},
   "source": [
    "### Add Word Counts Columns:"
   ]
  },
  {
   "cell_type": "code",
   "execution_count": 9,
   "id": "96b97b5c",
   "metadata": {},
   "outputs": [],
   "source": [
    "api_data_complete_df=news_data_df.copy()"
   ]
  },
  {
   "cell_type": "code",
   "execution_count": 19,
   "id": "86ae3d03",
   "metadata": {},
   "outputs": [],
   "source": [
    "api_data_complete_df['word_count'] = api_data_complete_df['article_text'].apply(lambda x: \\\n",
    "                                                                                 len(str(x).split(\" \")))\n",
    "#api_data_complete_df['word_count'] = api_data_complete_df['article_text'].apply(lambda x: len(str(x).split(\" \")))"
   ]
  },
  {
   "cell_type": "code",
   "execution_count": 20,
   "id": "45e870b0",
   "metadata": {},
   "outputs": [
    {
     "data": {
      "text/html": [
       "<div>\n",
       "<style scoped>\n",
       "    .dataframe tbody tr th:only-of-type {\n",
       "        vertical-align: middle;\n",
       "    }\n",
       "\n",
       "    .dataframe tbody tr th {\n",
       "        vertical-align: top;\n",
       "    }\n",
       "\n",
       "    .dataframe thead th {\n",
       "        text-align: right;\n",
       "    }\n",
       "</style>\n",
       "<table border=\"1\" class=\"dataframe\">\n",
       "  <thead>\n",
       "    <tr style=\"text-align: right;\">\n",
       "      <th></th>\n",
       "      <th>text_id</th>\n",
       "      <th>source_name</th>\n",
       "      <th>author</th>\n",
       "      <th>title</th>\n",
       "      <th>url</th>\n",
       "      <th>publish_date</th>\n",
       "      <th>article_text</th>\n",
       "      <th>content</th>\n",
       "      <th>processed_text</th>\n",
       "      <th>processed_text_split</th>\n",
       "      <th>num_tokens</th>\n",
       "      <th>word_count</th>\n",
       "    </tr>\n",
       "  </thead>\n",
       "  <tbody>\n",
       "    <tr>\n",
       "      <th>36413</th>\n",
       "      <td>71275</td>\n",
       "      <td>CNN</td>\n",
       "      <td>Laura He</td>\n",
       "      <td>LVMH owner Bernard Arnault reportedly visits C...</td>\n",
       "      <td>https://www.cnn.com/2023/06/28/economy/china-l...</td>\n",
       "      <td>2023-06-28T06:38:30Z</td>\n",
       "      <td>Bernard Arnault, chairman and CEO of LVMH\\n   ...</td>\n",
       "      <td>Bernard Arnault, chairman and CEO of LVMH, has...</td>\n",
       "      <td>bernard arnault chairman ceo lvmh lvmhf arrive...</td>\n",
       "      <td>['bernard', 'arnault', 'chairman', 'ceo', 'lvm...</td>\n",
       "      <td>451</td>\n",
       "      <td>824</td>\n",
       "    </tr>\n",
       "    <tr>\n",
       "      <th>36414</th>\n",
       "      <td>71448</td>\n",
       "      <td>CNN</td>\n",
       "      <td>Jessie Yeung</td>\n",
       "      <td>Russia pulls back from brink of crisis after d...</td>\n",
       "      <td>https://www.cnn.com/2023/06/25/europe/russia-p...</td>\n",
       "      <td>2023-06-25T06:21:28Z</td>\n",
       "      <td>In the end, the uprising was short-lived. But ...</td>\n",
       "      <td>In the end, the uprising was short-lived. But ...</td>\n",
       "      <td>end uprising short lived. brief chaotic hours ...</td>\n",
       "      <td>['end', 'uprising', 'short', 'lived.', 'brief'...</td>\n",
       "      <td>838</td>\n",
       "      <td>1437</td>\n",
       "    </tr>\n",
       "    <tr>\n",
       "      <th>36415</th>\n",
       "      <td>71455</td>\n",
       "      <td>CNN</td>\n",
       "      <td>Jessie Yeung</td>\n",
       "      <td>Russia pulls back from brink of crisis after d...</td>\n",
       "      <td>https://www.cnn.com/2023/06/25/europe/russia-p...</td>\n",
       "      <td>2023-06-25T06:21:28Z</td>\n",
       "      <td>In the end, the uprising was short-lived. But ...</td>\n",
       "      <td>In the end, the uprising was short-lived. But ...</td>\n",
       "      <td>end uprising short lived. brief chaotic hours ...</td>\n",
       "      <td>['end', 'uprising', 'short', 'lived.', 'brief'...</td>\n",
       "      <td>838</td>\n",
       "      <td>1437</td>\n",
       "    </tr>\n",
       "    <tr>\n",
       "      <th>36416</th>\n",
       "      <td>71587</td>\n",
       "      <td>CNN</td>\n",
       "      <td>Christian Edwards</td>\n",
       "      <td>Putin strives to reassert control after Wagner...</td>\n",
       "      <td>https://www.cnn.com/2023/06/27/europe/putin-co...</td>\n",
       "      <td>2023-06-27T16:04:39Z</td>\n",
       "      <td>For two days after Wagner chief Yevgeny Prigoz...</td>\n",
       "      <td>For two days after Wagner chief Yevgeny Prigoz...</td>\n",
       "      <td>two days wagner chief yevgeny prigozhin called...</td>\n",
       "      <td>['two', 'days', 'wagner', 'chief', 'yevgeny', ...</td>\n",
       "      <td>658</td>\n",
       "      <td>1191</td>\n",
       "    </tr>\n",
       "    <tr>\n",
       "      <th>36417</th>\n",
       "      <td>71592</td>\n",
       "      <td>CNN</td>\n",
       "      <td>Christian Edwards</td>\n",
       "      <td>Putin strives to reassert control after Wagner...</td>\n",
       "      <td>https://www.cnn.com/2023/06/27/europe/putin-co...</td>\n",
       "      <td>2023-06-27T16:46:17Z</td>\n",
       "      <td>For two days after Wagner chief Yevgeny Prigoz...</td>\n",
       "      <td>For two days after Wagner chief Yevgeny Prigoz...</td>\n",
       "      <td>two days wagner chief yevgeny prigozhin called...</td>\n",
       "      <td>['two', 'days', 'wagner', 'chief', 'yevgeny', ...</td>\n",
       "      <td>658</td>\n",
       "      <td>1191</td>\n",
       "    </tr>\n",
       "  </tbody>\n",
       "</table>\n",
       "</div>"
      ],
      "text/plain": [
       "       text_id source_name             author  \\\n",
       "36413    71275         CNN           Laura He   \n",
       "36414    71448         CNN       Jessie Yeung   \n",
       "36415    71455         CNN       Jessie Yeung   \n",
       "36416    71587         CNN  Christian Edwards   \n",
       "36417    71592         CNN  Christian Edwards   \n",
       "\n",
       "                                                   title  \\\n",
       "36413  LVMH owner Bernard Arnault reportedly visits C...   \n",
       "36414  Russia pulls back from brink of crisis after d...   \n",
       "36415  Russia pulls back from brink of crisis after d...   \n",
       "36416  Putin strives to reassert control after Wagner...   \n",
       "36417  Putin strives to reassert control after Wagner...   \n",
       "\n",
       "                                                     url  \\\n",
       "36413  https://www.cnn.com/2023/06/28/economy/china-l...   \n",
       "36414  https://www.cnn.com/2023/06/25/europe/russia-p...   \n",
       "36415  https://www.cnn.com/2023/06/25/europe/russia-p...   \n",
       "36416  https://www.cnn.com/2023/06/27/europe/putin-co...   \n",
       "36417  https://www.cnn.com/2023/06/27/europe/putin-co...   \n",
       "\n",
       "               publish_date  \\\n",
       "36413  2023-06-28T06:38:30Z   \n",
       "36414  2023-06-25T06:21:28Z   \n",
       "36415  2023-06-25T06:21:28Z   \n",
       "36416  2023-06-27T16:04:39Z   \n",
       "36417  2023-06-27T16:46:17Z   \n",
       "\n",
       "                                            article_text  \\\n",
       "36413  Bernard Arnault, chairman and CEO of LVMH\\n   ...   \n",
       "36414  In the end, the uprising was short-lived. But ...   \n",
       "36415  In the end, the uprising was short-lived. But ...   \n",
       "36416  For two days after Wagner chief Yevgeny Prigoz...   \n",
       "36417  For two days after Wagner chief Yevgeny Prigoz...   \n",
       "\n",
       "                                                 content  \\\n",
       "36413  Bernard Arnault, chairman and CEO of LVMH, has...   \n",
       "36414  In the end, the uprising was short-lived. But ...   \n",
       "36415  In the end, the uprising was short-lived. But ...   \n",
       "36416  For two days after Wagner chief Yevgeny Prigoz...   \n",
       "36417  For two days after Wagner chief Yevgeny Prigoz...   \n",
       "\n",
       "                                          processed_text  \\\n",
       "36413  bernard arnault chairman ceo lvmh lvmhf arrive...   \n",
       "36414  end uprising short lived. brief chaotic hours ...   \n",
       "36415  end uprising short lived. brief chaotic hours ...   \n",
       "36416  two days wagner chief yevgeny prigozhin called...   \n",
       "36417  two days wagner chief yevgeny prigozhin called...   \n",
       "\n",
       "                                    processed_text_split  num_tokens  \\\n",
       "36413  ['bernard', 'arnault', 'chairman', 'ceo', 'lvm...         451   \n",
       "36414  ['end', 'uprising', 'short', 'lived.', 'brief'...         838   \n",
       "36415  ['end', 'uprising', 'short', 'lived.', 'brief'...         838   \n",
       "36416  ['two', 'days', 'wagner', 'chief', 'yevgeny', ...         658   \n",
       "36417  ['two', 'days', 'wagner', 'chief', 'yevgeny', ...         658   \n",
       "\n",
       "       word_count  \n",
       "36413         824  \n",
       "36414        1437  \n",
       "36415        1437  \n",
       "36416        1191  \n",
       "36417        1191  "
      ]
     },
     "execution_count": 20,
     "metadata": {},
     "output_type": "execute_result"
    }
   ],
   "source": [
    "api_data_complete_df.tail()"
   ]
  },
  {
   "cell_type": "code",
   "execution_count": 10,
   "id": "5eeb3d4b",
   "metadata": {},
   "outputs": [
    {
     "data": {
      "text/plain": [
       "457.7045691690922"
      ]
     },
     "execution_count": 10,
     "metadata": {},
     "output_type": "execute_result"
    }
   ],
   "source": [
    "api_data_complete_df['num_tokens'].mean()"
   ]
  },
  {
   "cell_type": "code",
   "execution_count": 11,
   "id": "0cd2d7d0",
   "metadata": {},
   "outputs": [
    {
     "data": {
      "text/plain": [
       "(36418, 11)"
      ]
     },
     "execution_count": 11,
     "metadata": {},
     "output_type": "execute_result"
    }
   ],
   "source": [
    "api_data_complete_df.shape\n"
   ]
  },
  {
   "cell_type": "code",
   "execution_count": 12,
   "id": "f296da42",
   "metadata": {},
   "outputs": [],
   "source": [
    "api_data_complete_df = api_data_complete_df[api_data_complete_df['num_tokens']>1]"
   ]
  },
  {
   "cell_type": "code",
   "execution_count": 13,
   "id": "0f754bb8",
   "metadata": {},
   "outputs": [
    {
     "data": {
      "text/plain": [
       "(36413, 11)"
      ]
     },
     "execution_count": 13,
     "metadata": {},
     "output_type": "execute_result"
    }
   ],
   "source": [
    "api_data_complete_df.shape\n"
   ]
  },
  {
   "attachments": {},
   "cell_type": "markdown",
   "id": "63a3d3c0",
   "metadata": {},
   "source": [
    "### Remove \"centered\" authors from Training/Test Data:"
   ]
  },
  {
   "cell_type": "code",
   "execution_count": 182,
   "id": "b7a1909d",
   "metadata": {},
   "outputs": [
    {
     "data": {
      "text/html": [
       "<div>\n",
       "<style scoped>\n",
       "    .dataframe tbody tr th:only-of-type {\n",
       "        vertical-align: middle;\n",
       "    }\n",
       "\n",
       "    .dataframe tbody tr th {\n",
       "        vertical-align: top;\n",
       "    }\n",
       "\n",
       "    .dataframe thead th {\n",
       "        text-align: right;\n",
       "    }\n",
       "</style>\n",
       "<table border=\"1\" class=\"dataframe\">\n",
       "  <thead>\n",
       "    <tr style=\"text-align: right;\">\n",
       "      <th></th>\n",
       "      <th>source_name</th>\n",
       "      <th>author</th>\n",
       "      <th>title</th>\n",
       "      <th>url</th>\n",
       "      <th>publish_date</th>\n",
       "      <th>content</th>\n",
       "      <th>article_text</th>\n",
       "      <th>tokens</th>\n",
       "      <th>cleaner_text</th>\n",
       "      <th>Political_Lean</th>\n",
       "      <th>word_count_tokens</th>\n",
       "      <th>word_count_cleaner</th>\n",
       "    </tr>\n",
       "  </thead>\n",
       "  <tbody>\n",
       "    <tr>\n",
       "      <th>0</th>\n",
       "      <td>The Washington Post</td>\n",
       "      <td>NaN</td>\n",
       "      <td>Alabama Highway sign hacked with white suprema...</td>\n",
       "      <td>https://www.washingtonpost.com/nation/2023/05/...</td>\n",
       "      <td>2023-05-30T16:31:36Z</td>\n",
       "      <td>Travelers in Alabama driving on Interstate 65 ...</td>\n",
       "      <td>Travelers in Alabama driving on Interstate 65 ...</td>\n",
       "      <td>[travelers, alabama, driving, interstate, 65, ...</td>\n",
       "      <td>travelers in alabama driving on interstate 65 ...</td>\n",
       "      <td>Left</td>\n",
       "      <td>564</td>\n",
       "      <td>933</td>\n",
       "    </tr>\n",
       "    <tr>\n",
       "      <th>1</th>\n",
       "      <td>The Washington Post</td>\n",
       "      <td>Amber Phillips</td>\n",
       "      <td>Breaking down the GOP investigation into the B...</td>\n",
       "      <td>https://www.washingtonpost.com/politics/2023/0...</td>\n",
       "      <td>2023-05-30T19:56:33Z</td>\n",
       "      <td>Comment on this story\\r\\nComment\\r\\nA federal ...</td>\n",
       "      <td>A federal prosecutor may be nearing a decision...</td>\n",
       "      <td>[federal, prosecutor, may, nearing, decision, ...</td>\n",
       "      <td>a federal prosecutor may be nearing a decision...</td>\n",
       "      <td>Left</td>\n",
       "      <td>637</td>\n",
       "      <td>1085</td>\n",
       "    </tr>\n",
       "    <tr>\n",
       "      <th>2</th>\n",
       "      <td>The Washington Post</td>\n",
       "      <td>David Ovalle</td>\n",
       "      <td>Appeals court paves way for Purdue Pharma opio...</td>\n",
       "      <td>https://www.washingtonpost.com/health/2023/05/...</td>\n",
       "      <td>2023-05-30T23:52:34Z</td>\n",
       "      <td>Comment on this story\\r\\nComment\\r\\nA federal ...</td>\n",
       "      <td>A federal appeals court Tuesday cleared the wa...</td>\n",
       "      <td>[federal, appeals, court, tuesday, cleared, wa...</td>\n",
       "      <td>a federal appeals court tuesday cleared the wa...</td>\n",
       "      <td>Left</td>\n",
       "      <td>510</td>\n",
       "      <td>858</td>\n",
       "    </tr>\n",
       "    <tr>\n",
       "      <th>3</th>\n",
       "      <td>The Washington Post</td>\n",
       "      <td>Philip Bump</td>\n",
       "      <td>Trump pledges to win an immigration fight he d...</td>\n",
       "      <td>https://www.washingtonpost.com/politics/2023/0...</td>\n",
       "      <td>2023-05-30T18:30:47Z</td>\n",
       "      <td>Comment on this story\\r\\nComment\\r\\nSpeaking i...</td>\n",
       "      <td>Speaking in Orlando in November 2015, Republic...</td>\n",
       "      <td>[speaking, orlando, november, 2015, republican...</td>\n",
       "      <td>speaking in orlando in november 2015 republica...</td>\n",
       "      <td>Left</td>\n",
       "      <td>534</td>\n",
       "      <td>960</td>\n",
       "    </tr>\n",
       "    <tr>\n",
       "      <th>5</th>\n",
       "      <td>The Washington Post</td>\n",
       "      <td>Paul Waldman</td>\n",
       "      <td>Why fear of change will drive the GOP presiden...</td>\n",
       "      <td>https://www.washingtonpost.com/opinions/2023/0...</td>\n",
       "      <td>2023-05-30T10:00:00Z</td>\n",
       "      <td>Comment on this story\\r\\nComment\\r\\nLook, we k...</td>\n",
       "      <td>“Look, we know our country’s going in the wron...</td>\n",
       "      <td>[“look, know, country’s, going, wrong, directi...</td>\n",
       "      <td>“look we know our country’s going in the wrong...</td>\n",
       "      <td>Left</td>\n",
       "      <td>390</td>\n",
       "      <td>743</td>\n",
       "    </tr>\n",
       "  </tbody>\n",
       "</table>\n",
       "</div>"
      ],
      "text/plain": [
       "           source_name          author  \\\n",
       "0  The Washington Post             NaN   \n",
       "1  The Washington Post  Amber Phillips   \n",
       "2  The Washington Post    David Ovalle   \n",
       "3  The Washington Post     Philip Bump   \n",
       "5  The Washington Post    Paul Waldman   \n",
       "\n",
       "                                               title  \\\n",
       "0  Alabama Highway sign hacked with white suprema...   \n",
       "1  Breaking down the GOP investigation into the B...   \n",
       "2  Appeals court paves way for Purdue Pharma opio...   \n",
       "3  Trump pledges to win an immigration fight he d...   \n",
       "5  Why fear of change will drive the GOP presiden...   \n",
       "\n",
       "                                                 url          publish_date  \\\n",
       "0  https://www.washingtonpost.com/nation/2023/05/...  2023-05-30T16:31:36Z   \n",
       "1  https://www.washingtonpost.com/politics/2023/0...  2023-05-30T19:56:33Z   \n",
       "2  https://www.washingtonpost.com/health/2023/05/...  2023-05-30T23:52:34Z   \n",
       "3  https://www.washingtonpost.com/politics/2023/0...  2023-05-30T18:30:47Z   \n",
       "5  https://www.washingtonpost.com/opinions/2023/0...  2023-05-30T10:00:00Z   \n",
       "\n",
       "                                             content  \\\n",
       "0  Travelers in Alabama driving on Interstate 65 ...   \n",
       "1  Comment on this story\\r\\nComment\\r\\nA federal ...   \n",
       "2  Comment on this story\\r\\nComment\\r\\nA federal ...   \n",
       "3  Comment on this story\\r\\nComment\\r\\nSpeaking i...   \n",
       "5  Comment on this story\\r\\nComment\\r\\nLook, we k...   \n",
       "\n",
       "                                        article_text  \\\n",
       "0  Travelers in Alabama driving on Interstate 65 ...   \n",
       "1  A federal prosecutor may be nearing a decision...   \n",
       "2  A federal appeals court Tuesday cleared the wa...   \n",
       "3  Speaking in Orlando in November 2015, Republic...   \n",
       "5  “Look, we know our country’s going in the wron...   \n",
       "\n",
       "                                              tokens  \\\n",
       "0  [travelers, alabama, driving, interstate, 65, ...   \n",
       "1  [federal, prosecutor, may, nearing, decision, ...   \n",
       "2  [federal, appeals, court, tuesday, cleared, wa...   \n",
       "3  [speaking, orlando, november, 2015, republican...   \n",
       "5  [“look, know, country’s, going, wrong, directi...   \n",
       "\n",
       "                                        cleaner_text Political_Lean  \\\n",
       "0  travelers in alabama driving on interstate 65 ...           Left   \n",
       "1  a federal prosecutor may be nearing a decision...           Left   \n",
       "2  a federal appeals court tuesday cleared the wa...           Left   \n",
       "3  speaking in orlando in november 2015 republica...           Left   \n",
       "5  “look we know our country’s going in the wrong...           Left   \n",
       "\n",
       "   word_count_tokens  word_count_cleaner  \n",
       "0                564                 933  \n",
       "1                637                1085  \n",
       "2                510                 858  \n",
       "3                534                 960  \n",
       "5                390                 743  "
      ]
     },
     "metadata": {},
     "output_type": "display_data"
    },
    {
     "data": {
      "text/plain": [
       "Political_Lean\n",
       "Right    2758\n",
       "Left     1268\n",
       "Name: count, dtype: int64"
      ]
     },
     "metadata": {},
     "output_type": "display_data"
    }
   ],
   "source": [
    "# Removing Reuters, ms, and Associated Press authors from data:\n",
    "\n",
    "api_data_complete_df2 = api_data_complete_df[~api_data_complete_df['author'].isin(['msn', 'Associated Press', 'Reuters'])]\n",
    "\n",
    "display(api_data_complete_df2.head())\n",
    "\n",
    "display(api_data_complete_df2['Political_Lean'].value_counts())"
   ]
  },
  {
   "cell_type": "code",
   "execution_count": 183,
   "id": "c8ec9584",
   "metadata": {},
   "outputs": [],
   "source": [
    "api_data_complete_df2.to_csv(\"master_tokenized_labeled_af.csv\", sep=',')"
   ]
  },
  {
   "attachments": {},
   "cell_type": "markdown",
   "id": "09273258",
   "metadata": {},
   "source": [
    "### Word Clouds"
   ]
  },
  {
   "cell_type": "code",
   "execution_count": 366,
   "id": "6a6855a5",
   "metadata": {},
   "outputs": [],
   "source": [
    "# Separate Left and Right Lean articles to analyze as groups:\n",
    "\n",
    "#Left_lean_articles_df=api_data_complete_df2[api_data_complete_df2['Political_Lean']==\"Left\"]\n",
    "#Right_lean_articles_df=api_data_complete_df2[api_data_complete_df2['Political_Lean']==\"Right\"]\n",
    "\n"
   ]
  },
  {
   "cell_type": "code",
   "execution_count": 51,
   "id": "db0ebfd3",
   "metadata": {},
   "outputs": [],
   "source": [
    "api_data_complete_df['tokens']=api_data_complete_df['processed_text'].apply(prepare,\n",
    "                                                     pipeline=tokenize_sw_pipeline)"
   ]
  },
  {
   "cell_type": "code",
   "execution_count": 52,
   "id": "5403fad2",
   "metadata": {},
   "outputs": [],
   "source": [
    "\n",
    "#text_used_df = pd.DataFrame(api_data_complete_df['processed_text'])\n",
    "#Text_Words=[token for (index,row) in\n",
    "#           text_used_df.iterrows() \n",
    "#           for token in (index,row)]\n",
    "\n",
    "Text_Words=[token for sublist in\n",
    "           api_data_complete_df['tokens'] \n",
    "           for token in sublist]\n",
    "\n",
    "#Text_Words=[row for (index,row) in \n",
    "#            text_used_df.iterrows()\n",
    "#            for row in (index,row)]"
   ]
  },
  {
   "cell_type": "code",
   "execution_count": 64,
   "id": "1c14f325",
   "metadata": {},
   "outputs": [],
   "source": [
    "# Generate list from Left an Right dataframes:\n",
    "\n",
    "#Left_text=[token for sublist in\n",
    "#           Left_lean_articles_df['tokens'] \n",
    "#           for token in sublist]\n",
    "#Right_text=[token for sublist in \n",
    "#            Right_lean_articles_df['tokens']\n",
    "#            for token in sublist]\n"
   ]
  },
  {
   "cell_type": "code",
   "execution_count": 53,
   "id": "c906cd03",
   "metadata": {},
   "outputs": [
    {
     "data": {
      "text/plain": [
       "['ever',\n",
       " 'wanted',\n",
       " 'keg',\n",
       " 'titos',\n",
       " 'handmade',\n",
       " 'vodka',\n",
       " 'dream',\n",
       " 'become',\n",
       " 'realitythe',\n",
       " 'vodka',\n",
       " 'brand',\n",
       " 'launching',\n",
       " 'titos',\n",
       " 'big',\n",
       " 'ounce',\n",
       " 'stainless',\n",
       " 'steel',\n",
       " 'mini',\n",
       " 'cocktail',\n",
       " 'keg',\n",
       " 'keg',\n",
       " 'includes',\n",
       " 'airtight',\n",
       " 'cap',\n",
       " 'co',\n",
       " 'regulator',\n",
       " 'stainless',\n",
       " 'steel',\n",
       " 'spear',\n",
       " 'tap',\n",
       " 'handle',\n",
       " 'extra',\n",
       " 'set',\n",
       " 'rings',\n",
       " 'comes',\n",
       " 'empty',\n",
       " 'titos',\n",
       " 'filled',\n",
       " 'vodka',\n",
       " 'anything',\n",
       " 'elsetitos',\n",
       " 'also',\n",
       " 'releasing',\n",
       " 'titos',\n",
       " 'smaller',\n",
       " 'insulated',\n",
       " 'cooler',\n",
       " 'also',\n",
       " 'functions',\n",
       " 'refillable',\n",
       " 'cup',\n",
       " 'fit',\n",
       " 'ounce',\n",
       " 'ounce',\n",
       " 'cans',\n",
       " 'converts',\n",
       " 'refillable',\n",
       " 'pint',\n",
       " 'tumbler',\n",
       " 'leak',\n",
       " 'proof',\n",
       " 'lidrebel',\n",
       " 'canformity',\n",
       " 'products',\n",
       " 'description',\n",
       " 'reads',\n",
       " 'make',\n",
       " 'canned',\n",
       " 'cocktails',\n",
       " 'pre',\n",
       " 'mixes',\n",
       " 'seltzers',\n",
       " 'bestwhich',\n",
       " 'fast',\n",
       " 'food',\n",
       " 'restaurants',\n",
       " 'reign',\n",
       " 'supreme',\n",
       " 'cast',\n",
       " 'votes',\n",
       " 'nowwhat',\n",
       " 'americans',\n",
       " 'drinking',\n",
       " 'summertequila',\n",
       " 'modelo',\n",
       " 'canned',\n",
       " 'cocktails',\n",
       " 'non',\n",
       " 'alcoholic',\n",
       " 'drinksboth',\n",
       " 'products',\n",
       " 'available',\n",
       " 'limited',\n",
       " 'time',\n",
       " 'purchased',\n",
       " 'online',\n",
       " 'love',\n",
       " 'titos',\n",
       " 'physical',\n",
       " 'store',\n",
       " 'austin',\n",
       " 'texas',\n",
       " 'release',\n",
       " 'titos',\n",
       " 'net',\n",
       " 'proceeds',\n",
       " 'cans',\n",
       " 'go',\n",
       " 'toward',\n",
       " 'customers',\n",
       " 'choice',\n",
       " 'nonprofit',\n",
       " 'brand',\n",
       " 'teamed',\n",
       " 'five',\n",
       " 'months',\n",
       " 'julian',\n",
       " 'sands',\n",
       " 'went',\n",
       " 'missing',\n",
       " 'solo',\n",
       " 'hike',\n",
       " 'california',\n",
       " 'local',\n",
       " 'police',\n",
       " 'announced',\n",
       " 'ongoing',\n",
       " 'search',\n",
       " 'actor',\n",
       " 'continue',\n",
       " 'limited',\n",
       " 'capacitythe',\n",
       " 'san',\n",
       " 'bernardino',\n",
       " 'county',\n",
       " 'sheriffs',\n",
       " 'office',\n",
       " 'released',\n",
       " 'departments',\n",
       " 'efforts',\n",
       " 'locate',\n",
       " 'room',\n",
       " 'view',\n",
       " 'actorsands',\n",
       " 'missing',\n",
       " 'jan',\n",
       " 'hiking',\n",
       " 'trail',\n",
       " 'mount',\n",
       " 'baldy',\n",
       " 'southern',\n",
       " 'california',\n",
       " 'san',\n",
       " 'bernardino',\n",
       " 'county',\n",
       " 'sheriffs',\n",
       " 'department',\n",
       " 'spokeswoman',\n",
       " 'gloria',\n",
       " 'huerta',\n",
       " 'time',\n",
       " 'authorities',\n",
       " 'search',\n",
       " 'efforts',\n",
       " 'ground',\n",
       " 'air',\n",
       " 'paused',\n",
       " 'resumed',\n",
       " 'based',\n",
       " 'series',\n",
       " 'storms',\n",
       " 'created',\n",
       " 'dangerous',\n",
       " 'mountain',\n",
       " 'conditions',\n",
       " 'areaon',\n",
       " 'saturday',\n",
       " 'sheriffs',\n",
       " 'office',\n",
       " 'conducted',\n",
       " 'another',\n",
       " 'search',\n",
       " 'sands',\n",
       " 'involving',\n",
       " 'search',\n",
       " 'rescue',\n",
       " 'volunteers',\n",
       " 'deputies',\n",
       " 'staff',\n",
       " 'two',\n",
       " 'helicopters',\n",
       " 'helped',\n",
       " 'search',\n",
       " 'teams',\n",
       " 'reach',\n",
       " 'remote',\n",
       " 'areas',\n",
       " 'mount',\n",
       " 'baldy',\n",
       " 'drone',\n",
       " 'crews',\n",
       " 'searched',\n",
       " 'areas',\n",
       " 'inaccessible',\n",
       " 'hikers',\n",
       " 'grounddespite',\n",
       " 'departments',\n",
       " 'efforts',\n",
       " 'sands',\n",
       " 'still',\n",
       " 'found',\n",
       " 'areas',\n",
       " 'mountain',\n",
       " 'remain',\n",
       " 'inaccessible',\n",
       " 'due',\n",
       " 'extreme',\n",
       " 'alpine',\n",
       " 'conditions',\n",
       " 'explained',\n",
       " 'multiple',\n",
       " 'areas',\n",
       " 'include',\n",
       " 'steep',\n",
       " 'terrain',\n",
       " 'ravines',\n",
       " 'still',\n",
       " 'plus',\n",
       " 'feet',\n",
       " 'ice',\n",
       " 'snowwhile',\n",
       " 'sands',\n",
       " 'missing',\n",
       " 'person',\n",
       " 'case',\n",
       " 'remains',\n",
       " 'active',\n",
       " 'search',\n",
       " 'efforts',\n",
       " 'continue',\n",
       " 'limited',\n",
       " 'capacity',\n",
       " 'department',\n",
       " 'sheriffs',\n",
       " 'department',\n",
       " 'conducted',\n",
       " 'eight',\n",
       " 'searches',\n",
       " 'including',\n",
       " 'ground',\n",
       " 'air',\n",
       " 'locate',\n",
       " 'actor',\n",
       " 'since',\n",
       " 'went',\n",
       " 'missing',\n",
       " 'january',\n",
       " 'logging',\n",
       " 'volunteer',\n",
       " 'searcher',\n",
       " 'hourssands',\n",
       " 'family',\n",
       " 'expressed',\n",
       " 'gratitude',\n",
       " 'authorities',\n",
       " 'heroic',\n",
       " 'search',\n",
       " 'effortsour',\n",
       " 'heartfelt',\n",
       " 'thanks',\n",
       " 'compassionate',\n",
       " 'members',\n",
       " 'san',\n",
       " 'bernardino',\n",
       " 'county',\n",
       " 'sheriffs',\n",
       " 'department',\n",
       " 'coordinating',\n",
       " 'search',\n",
       " 'beloved',\n",
       " 'julian',\n",
       " 'actors',\n",
       " 'family',\n",
       " 'late',\n",
       " 'january',\n",
       " 'deeply',\n",
       " 'touched',\n",
       " 'outpouring',\n",
       " 'love',\n",
       " 'supportsands',\n",
       " 'starred',\n",
       " 'opposite',\n",
       " 'helena',\n",
       " 'bonham',\n",
       " 'carter',\n",
       " 'room',\n",
       " 'view',\n",
       " 'british',\n",
       " 'romance',\n",
       " 'director',\n",
       " 'james',\n",
       " 'ivory',\n",
       " 'also',\n",
       " 'major',\n",
       " 'roles',\n",
       " 'warlock',\n",
       " 'arachnophobia',\n",
       " 'naked',\n",
       " 'lunch',\n",
       " 'boxing',\n",
       " 'helena',\n",
       " 'leaving',\n",
       " 'las',\n",
       " 'vegascontributing',\n",
       " 'naledi',\n",
       " 'ushe',\n",
       " 'edward',\n",
       " 'segarrajohn',\n",
       " 'malkovichactor',\n",
       " 'talks',\n",
       " 'close',\n",
       " 'relationship',\n",
       " 'julian',\n",
       " 'sands',\n",
       " 'actors',\n",
       " 'disappearance',\n",
       " 'four',\n",
       " 'star',\n",
       " 'running',\n",
       " 'back',\n",
       " 'picks',\n",
       " 'michigan',\n",
       " 'state',\n",
       " 'unc',\n",
       " 'share',\n",
       " 'article',\n",
       " 'shares',\n",
       " 'share',\n",
       " 'tweet',\n",
       " 'text',\n",
       " 'email',\n",
       " 'link',\n",
       " 'facebook',\n",
       " 'twitter',\n",
       " 'via',\n",
       " 'text',\n",
       " 'message',\n",
       " 'linkedin',\n",
       " 'via',\n",
       " 'email',\n",
       " 'star',\n",
       " 'running',\n",
       " 'back',\n",
       " 'picks',\n",
       " 'michigan',\n",
       " 'state',\n",
       " 'unc',\n",
       " 'zack',\n",
       " 'pearson',\n",
       " 'pm',\n",
       " 'et',\n",
       " 'mack',\n",
       " 'brown',\n",
       " 'unc',\n",
       " 'football',\n",
       " 'program',\n",
       " 'bit',\n",
       " 'hot',\n",
       " 'streak',\n",
       " 'lately',\n",
       " 'terms',\n",
       " 'landing',\n",
       " 'commitments',\n",
       " 'recruiting',\n",
       " 'class',\n",
       " 'saturday',\n",
       " 'keep',\n",
       " 'good',\n",
       " 'luck',\n",
       " 'rolling',\n",
       " 'buy',\n",
       " 'tar',\n",
       " 'heels',\n",
       " 'tickets',\n",
       " 'chance',\n",
       " 'add',\n",
       " 'second',\n",
       " 'four',\n",
       " 'star',\n",
       " 'running',\n",
       " 'back',\n",
       " 'cycle',\n",
       " 'unc',\n",
       " 'saw',\n",
       " 'target',\n",
       " 'anthony',\n",
       " 'carrie',\n",
       " 'commit',\n",
       " 'michigan',\n",
       " 'state',\n",
       " 'instead',\n",
       " 'florida',\n",
       " 'native',\n",
       " 'made',\n",
       " 'commitment',\n",
       " 'saturday',\n",
       " 'picking',\n",
       " 'spartans',\n",
       " 'unc',\n",
       " 'well',\n",
       " 'offers',\n",
       " 'south',\n",
       " 'carolina',\n",
       " 'alabama',\n",
       " 'arkansas',\n",
       " 'auburn',\n",
       " 'florida',\n",
       " 'georgia',\n",
       " 'lsu',\n",
       " 'among',\n",
       " 'others',\n",
       " 'foot',\n",
       " 'pound',\n",
       " 'currie',\n",
       " 'tampa',\n",
       " 'florida',\n",
       " 'native',\n",
       " 'racked',\n",
       " 'offers',\n",
       " 'recruitment',\n",
       " 'committed',\n",
       " 'lets',\n",
       " 'get',\n",
       " 'work',\n",
       " '💚',\n",
       " 'pictwittercomdokk',\n",
       " 'f',\n",
       " 'anthony',\n",
       " 'scoota',\n",
       " 'carrie',\n",
       " 'anthonycarrie',\n",
       " 'took',\n",
       " 'two',\n",
       " 'visits',\n",
       " 'recently',\n",
       " 'heading',\n",
       " 'michigan',\n",
       " 'state',\n",
       " 'early',\n",
       " 'uncs',\n",
       " 'campus',\n",
       " 'th',\n",
       " 'brown',\n",
       " 'tar',\n",
       " 'heels',\n",
       " 'staff',\n",
       " 'chance',\n",
       " 'impress',\n",
       " 'potentially',\n",
       " 'land',\n",
       " 'commitment',\n",
       " 'end',\n",
       " 'spartans',\n",
       " 'strong',\n",
       " 'unc',\n",
       " 'four',\n",
       " 'star',\n",
       " 'running',\n",
       " 'back',\n",
       " 'already',\n",
       " 'committed',\n",
       " 'davion',\n",
       " 'gause',\n",
       " 'targets',\n",
       " 'left',\n",
       " 'moment',\n",
       " 'class',\n",
       " 'position',\n",
       " 'tarheelswire',\n",
       " 'twitter',\n",
       " 'like',\n",
       " 'page',\n",
       " 'facebook',\n",
       " 'ongoing',\n",
       " 'coverage',\n",
       " 'north',\n",
       " 'carolina',\n",
       " 'tar',\n",
       " 'heels',\n",
       " 'notes',\n",
       " 'opinions',\n",
       " 'favorite',\n",
       " 'carolina',\n",
       " 'teams',\n",
       " 'tar',\n",
       " 'heels',\n",
       " 'wire',\n",
       " 'panthers',\n",
       " 'wire',\n",
       " 'alabama',\n",
       " 'center',\n",
       " 'charles',\n",
       " 'bediako',\n",
       " 'signs',\n",
       " 'one',\n",
       " 'year',\n",
       " 'deal',\n",
       " 'san',\n",
       " 'antonio',\n",
       " 'spurs',\n",
       " 'share',\n",
       " 'article',\n",
       " 'shares',\n",
       " 'share',\n",
       " 'tweet',\n",
       " 'text',\n",
       " 'email',\n",
       " 'link',\n",
       " 'facebook',\n",
       " 'twitter',\n",
       " 'via',\n",
       " 'text',\n",
       " 'message',\n",
       " 'linkedin',\n",
       " 'via',\n",
       " 'email',\n",
       " 'basketball',\n",
       " 'center',\n",
       " 'charles',\n",
       " 'bediako',\n",
       " 'signs',\n",
       " 'one',\n",
       " 'year',\n",
       " 'deal',\n",
       " 'san',\n",
       " 'antonio',\n",
       " 'spurs',\n",
       " 'steve',\n",
       " 'roberts',\n",
       " 'usa',\n",
       " 'today',\n",
       " 'sports',\n",
       " 'brody',\n",
       " 'smoot',\n",
       " 'pm',\n",
       " 'ct',\n",
       " 'alabama',\n",
       " 'center',\n",
       " 'charles',\n",
       " 'bediako',\n",
       " 'signed',\n",
       " 'one',\n",
       " 'year',\n",
       " 'deal',\n",
       " 'san',\n",
       " 'antonio',\n",
       " 'spurs',\n",
       " 'bediako',\n",
       " 'went',\n",
       " 'undrafted',\n",
       " 'nba',\n",
       " 'draft',\n",
       " 'native',\n",
       " 'brampton',\n",
       " 'ontario',\n",
       " 'spent',\n",
       " 'two',\n",
       " 'seasons',\n",
       " 'tuscaloosa',\n",
       " 'freshman',\n",
       " 'bediako',\n",
       " 'averaged',\n",
       " 'points',\n",
       " 'per',\n",
       " 'game',\n",
       " 'rebounds',\n",
       " 'per',\n",
       " 'game',\n",
       " 'blocks',\n",
       " 'per',\n",
       " 'game',\n",
       " 'named',\n",
       " 'sec',\n",
       " 'freshman',\n",
       " 'team',\n",
       " 'buy',\n",
       " 'crimson',\n",
       " 'tide',\n",
       " 'tickets',\n",
       " 'sophomore',\n",
       " 'season',\n",
       " 'bediako',\n",
       " 'showed',\n",
       " 'strides',\n",
       " 'improvement',\n",
       " 'bediako',\n",
       " 'effective',\n",
       " 'defensive',\n",
       " 'end',\n",
       " 'rebounder',\n",
       " 'shot',\n",
       " 'blocker',\n",
       " 'averaged',\n",
       " 'points',\n",
       " 'per',\n",
       " 'game',\n",
       " 'rebounds',\n",
       " 'per',\n",
       " 'game',\n",
       " 'blocks',\n",
       " 'per',\n",
       " 'game',\n",
       " 'bediako',\n",
       " 'listed',\n",
       " 'sec',\n",
       " 'defensive',\n",
       " 'team',\n",
       " 'best',\n",
       " 'game',\n",
       " 'bediakos',\n",
       " 'career',\n",
       " 'came',\n",
       " 'scored',\n",
       " 'points',\n",
       " 'grabbed',\n",
       " 'rebounds',\n",
       " 'triple',\n",
       " 'overtime',\n",
       " 'win',\n",
       " 'north',\n",
       " 'carolina',\n",
       " 'surprising',\n",
       " 'series',\n",
       " 'unexpected',\n",
       " 'events',\n",
       " 'bediako',\n",
       " 'entered',\n",
       " 'name',\n",
       " 'nba',\n",
       " 'draft',\n",
       " 'ultimately',\n",
       " 'chose',\n",
       " 'remain',\n",
       " 'draft',\n",
       " 'could',\n",
       " 'chosen',\n",
       " 'return',\n",
       " 'junior',\n",
       " 'season',\n",
       " 'crimson',\n",
       " 'tide',\n",
       " 'alabama',\n",
       " 'head',\n",
       " 'coach',\n",
       " 'nate',\n",
       " 'oats',\n",
       " 'rest',\n",
       " 'coaching',\n",
       " 'staff',\n",
       " 'surprised',\n",
       " 'see',\n",
       " 'bediako',\n",
       " 'forgo',\n",
       " 'college',\n",
       " 'eligibility',\n",
       " 'bediako',\n",
       " 'likely',\n",
       " 'compete',\n",
       " 'spurs',\n",
       " 'summer',\n",
       " 'league',\n",
       " 'team',\n",
       " 'interesting',\n",
       " 'see',\n",
       " 'franchise',\n",
       " 'chooses',\n",
       " 'use',\n",
       " 'bediako',\n",
       " 'drafted',\n",
       " 'victor',\n",
       " 'wembanyama',\n",
       " 'overall',\n",
       " 'pick',\n",
       " 'spurs',\n",
       " 'plenty',\n",
       " 'size',\n",
       " 'heading',\n",
       " 'season',\n",
       " 'bediako',\n",
       " 'feet',\n",
       " 'tall',\n",
       " 'wembanyama',\n",
       " 'foot',\n",
       " 'undrafted',\n",
       " 'center',\n",
       " 'charles',\n",
       " 'bediako',\n",
       " 'alabama',\n",
       " 'agrees',\n",
       " 'one',\n",
       " 'year',\n",
       " 'deal',\n",
       " 'san',\n",
       " 'antonio',\n",
       " 'spurs',\n",
       " 'agent',\n",
       " 'daniel',\n",
       " 'green',\n",
       " 'greensportsmgmt',\n",
       " 'tells',\n",
       " 'nbaontnt',\n",
       " 'bleacherreport',\n",
       " 'chris',\n",
       " 'haynes',\n",
       " 'chrisbhaynes',\n",
       " 'roll',\n",
       " 'tide',\n",
       " 'wire',\n",
       " 'continue',\n",
       " 'alabama',\n",
       " 'basketball',\n",
       " 'program',\n",
       " 'basketball',\n",
       " 'photo',\n",
       " 'gallery',\n",
       " 'top',\n",
       " 'images',\n",
       " 'brandon',\n",
       " 'millers',\n",
       " 'nba',\n",
       " 'summer',\n",
       " 'league',\n",
       " 'debut',\n",
       " 'basketball',\n",
       " 'twitter',\n",
       " 'reacts',\n",
       " 'brandon',\n",
       " 'millers',\n",
       " 'nba',\n",
       " 'summer',\n",
       " 'league',\n",
       " 'debut',\n",
       " 'performance',\n",
       " 'favorite',\n",
       " 'alabama',\n",
       " 'teams',\n",
       " 'roll',\n",
       " 'tide',\n",
       " 'wire',\n",
       " 'auburn',\n",
       " 'wire',\n",
       " 'ralph',\n",
       " 'sampson',\n",
       " 'breaks',\n",
       " 'iconic',\n",
       " 'boston',\n",
       " 'celtics',\n",
       " 'houston',\n",
       " 'rockets',\n",
       " 'fight',\n",
       " 'playoffs',\n",
       " 'share',\n",
       " 'article',\n",
       " 'share',\n",
       " 'tweet',\n",
       " 'text',\n",
       " 'email',\n",
       " 'link',\n",
       " 'facebook',\n",
       " 'twitter',\n",
       " 'via',\n",
       " 'text',\n",
       " 'message',\n",
       " 'linkedin',\n",
       " 'via',\n",
       " 'email',\n",
       " 'boston',\n",
       " 'celtics',\n",
       " 'sampson',\n",
       " 'rox',\n",
       " 'fight',\n",
       " 'mps',\n",
       " 'usa',\n",
       " 'today',\n",
       " 'sports',\n",
       " 'celtics',\n",
       " 'wire',\n",
       " 'et',\n",
       " 'one',\n",
       " 'memorable',\n",
       " 'moments',\n",
       " 'nba',\n",
       " 'history',\n",
       " 'fight',\n",
       " 'postseason',\n",
       " 'matchup',\n",
       " 'boston',\n",
       " 'celtics',\n",
       " 'houston',\n",
       " 'rockets',\n",
       " 'infamous',\n",
       " 'brawl',\n",
       " 'nba',\n",
       " 'history',\n",
       " 'supplanted',\n",
       " 'malice',\n",
       " 'palace',\n",
       " 'many',\n",
       " 'years',\n",
       " 'later',\n",
       " 'rockets',\n",
       " 'star',\n",
       " 'ralph',\n",
       " 'sampson',\n",
       " 'former',\n",
       " 'nba',\n",
       " 'star',\n",
       " 'hall',\n",
       " 'famer',\n",
       " 'played',\n",
       " 'instrumental',\n",
       " 'role',\n",
       " 'game',\n",
       " 'remembered',\n",
       " 'one',\n",
       " 'intense',\n",
       " 'physical',\n",
       " 'playoff',\n",
       " 'games',\n",
       " 'ever',\n",
       " 'played',\n",
       " 'alongside',\n",
       " 'hakeem',\n",
       " 'olajuwon',\n",
       " 'sampson',\n",
       " 'helped',\n",
       " 'lead',\n",
       " 'rockets',\n",
       " 'hard',\n",
       " 'fought',\n",
       " 'victory',\n",
       " 'celtics',\n",
       " 'buy',\n",
       " 'celtics',\n",
       " 'tickets',\n",
       " 'hear',\n",
       " 'account',\n",
       " 'famous',\n",
       " 'altercation',\n",
       " 'side',\n",
       " 'check',\n",
       " 'sampsons',\n",
       " 'interview',\n",
       " 'clns',\n",
       " 'media',\n",
       " 'cedric',\n",
       " 'maxwell',\n",
       " 'podcast',\n",
       " 'shows',\n",
       " 'eponymous',\n",
       " 'host',\n",
       " 'video',\n",
       " 'embedded',\n",
       " 'listen',\n",
       " 'celtics',\n",
       " 'lab',\n",
       " 'podcast',\n",
       " 'apple',\n",
       " 'podcasts',\n",
       " 'spotify',\n",
       " 'youtube',\n",
       " 'analysis',\n",
       " 'mavs',\n",
       " 'interest',\n",
       " 'celtics',\n",
       " 'restricted',\n",
       " 'free',\n",
       " 'agent',\n",
       " 'grant',\n",
       " 'williams',\n",
       " 'remains',\n",
       " 'high',\n",
       " 'nba',\n",
       " 'draft',\n",
       " 'hub',\n",
       " 'see',\n",
       " 'complete',\n",
       " 'draft',\n",
       " 'results',\n",
       " 'grades',\n",
       " 'every',\n",
       " 'first',\n",
       " 'round',\n",
       " 'pick',\n",
       " 'email',\n",
       " 'sign',\n",
       " 'view',\n",
       " 'newsletters',\n",
       " 'audiovideo',\n",
       " 'cowherd',\n",
       " 'lakers',\n",
       " 'delusional',\n",
       " 'wanting',\n",
       " 'pay',\n",
       " 'austin',\n",
       " 'reaves',\n",
       " 'big',\n",
       " 'bucks',\n",
       " 'share',\n",
       " 'article',\n",
       " 'share',\n",
       " 'tweet',\n",
       " 'text',\n",
       " 'email',\n",
       " 'link',\n",
       " 'facebook',\n",
       " 'twitter',\n",
       " 'via',\n",
       " 'text',\n",
       " 'message',\n",
       " 'linkedin',\n",
       " 'via',\n",
       " 'email',\n",
       " 'lakers',\n",
       " 'delusional',\n",
       " 'wanting',\n",
       " 'pay',\n",
       " 'austin',\n",
       " 'reaves',\n",
       " 'big',\n",
       " 'bucks',\n",
       " 'robert',\n",
       " 'marvi',\n",
       " 'pm',\n",
       " 'et',\n",
       " 'one',\n",
       " 'bright',\n",
       " 'spots',\n",
       " 'last',\n",
       " 'two',\n",
       " 'seasons',\n",
       " 'los',\n",
       " 'angeles',\n",
       " 'lakers',\n",
       " 'guard',\n",
       " 'austin',\n",
       " 'reaves',\n",
       " 'emerged',\n",
       " 'good',\n",
       " 'player',\n",
       " 'improbable',\n",
       " 'story',\n",
       " 'buy',\n",
       " 'lakers',\n",
       " 'tickets',\n",
       " 'went',\n",
       " 'undrafted',\n",
       " 'two',\n",
       " 'years',\n",
       " 'ago',\n",
       " 'signed',\n",
       " 'free',\n",
       " 'agent',\n",
       " 'two',\n",
       " 'way',\n",
       " 'contract',\n",
       " 'first',\n",
       " 'little',\n",
       " 'expected',\n",
       " 'quickly',\n",
       " 'showed',\n",
       " 'potential',\n",
       " 'rookie',\n",
       " 'season',\n",
       " 'year',\n",
       " 'greatly',\n",
       " 'improved',\n",
       " 'point',\n",
       " 'shooting',\n",
       " 'showing',\n",
       " 'increased',\n",
       " 'poise',\n",
       " 'ball',\n",
       " 'handler',\n",
       " 'facilitator',\n",
       " 'grew',\n",
       " 'better',\n",
       " 'season',\n",
       " 'wore',\n",
       " 'first',\n",
       " 'postseason',\n",
       " 'shine',\n",
       " 'brightly',\n",
       " 'displaying',\n",
       " 'plenty',\n",
       " 'confidence',\n",
       " 'reaves',\n",
       " 'never',\n",
       " 'become',\n",
       " 'star',\n",
       " ...]"
      ]
     },
     "execution_count": 53,
     "metadata": {},
     "output_type": "execute_result"
    }
   ],
   "source": [
    "Text_Words"
   ]
  },
  {
   "cell_type": "code",
   "execution_count": 54,
   "id": "54038f35",
   "metadata": {},
   "outputs": [],
   "source": [
    "Text_Words_counts = collections.Counter(Text_Words)\n"
   ]
  },
  {
   "cell_type": "code",
   "execution_count": 55,
   "id": "715b96f0",
   "metadata": {},
   "outputs": [
    {
     "name": "stdout",
     "output_type": "stream",
     "text": [
      "\n",
      "News articles' top 5 words:\n",
      "\n",
      "one: 67686\n",
      "also: 59404\n",
      "new: 57790\n",
      "year: 51917\n",
      "time: 48797\n",
      "like: 47440\n",
      "two: 43231\n",
      "would: 41756\n",
      "people: 40222\n",
      "first: 39894\n",
      "get: 35541\n",
      "last: 33295\n",
      "years: 31507\n",
      "could: 31504\n",
      "share: 29369\n",
      "make: 29172\n",
      "even: 27359\n",
      "best: 26152\n",
      "three: 26017\n",
      "back: 25126\n"
     ]
    }
   ],
   "source": [
    "print(\"\\nNews articles' top 5 words:\\n\")\n",
    "for HT, count in Text_Words_counts.most_common(20):\n",
    "    print(f\"{HT}: {count}\")"
   ]
  },
  {
   "cell_type": "code",
   "execution_count": 56,
   "id": "f369077e",
   "metadata": {},
   "outputs": [
    {
     "data": {
      "text/html": [
       "<div>\n",
       "<style scoped>\n",
       "    .dataframe tbody tr th:only-of-type {\n",
       "        vertical-align: middle;\n",
       "    }\n",
       "\n",
       "    .dataframe tbody tr th {\n",
       "        vertical-align: top;\n",
       "    }\n",
       "\n",
       "    .dataframe thead th {\n",
       "        text-align: right;\n",
       "    }\n",
       "</style>\n",
       "<table border=\"1\" class=\"dataframe\">\n",
       "  <thead>\n",
       "    <tr style=\"text-align: right;\">\n",
       "      <th></th>\n",
       "      <th>freq</th>\n",
       "    </tr>\n",
       "    <tr>\n",
       "      <th>token</th>\n",
       "      <th></th>\n",
       "    </tr>\n",
       "  </thead>\n",
       "  <tbody>\n",
       "    <tr>\n",
       "      <th>one</th>\n",
       "      <td>67686</td>\n",
       "    </tr>\n",
       "    <tr>\n",
       "      <th>also</th>\n",
       "      <td>59404</td>\n",
       "    </tr>\n",
       "    <tr>\n",
       "      <th>new</th>\n",
       "      <td>57790</td>\n",
       "    </tr>\n",
       "    <tr>\n",
       "      <th>year</th>\n",
       "      <td>51917</td>\n",
       "    </tr>\n",
       "    <tr>\n",
       "      <th>time</th>\n",
       "      <td>48797</td>\n",
       "    </tr>\n",
       "    <tr>\n",
       "      <th>...</th>\n",
       "      <td>...</td>\n",
       "    </tr>\n",
       "    <tr>\n",
       "      <th>chiarelli</th>\n",
       "      <td>2</td>\n",
       "    </tr>\n",
       "    <tr>\n",
       "      <th>waycbs</th>\n",
       "      <td>2</td>\n",
       "    </tr>\n",
       "    <tr>\n",
       "      <th>billera</th>\n",
       "      <td>2</td>\n",
       "    </tr>\n",
       "    <tr>\n",
       "      <th>paschal</th>\n",
       "      <td>2</td>\n",
       "    </tr>\n",
       "    <tr>\n",
       "      <th>behead</th>\n",
       "      <td>2</td>\n",
       "    </tr>\n",
       "  </tbody>\n",
       "</table>\n",
       "<p>150580 rows × 1 columns</p>\n",
       "</div>"
      ],
      "text/plain": [
       "            freq\n",
       "token           \n",
       "one        67686\n",
       "also       59404\n",
       "new        57790\n",
       "year       51917\n",
       "time       48797\n",
       "...          ...\n",
       "chiarelli      2\n",
       "waycbs         2\n",
       "billera        2\n",
       "paschal        2\n",
       "behead         2\n",
       "\n",
       "[150580 rows x 1 columns]"
      ]
     },
     "metadata": {},
     "output_type": "display_data"
    }
   ],
   "source": [
    "Text_Words_counts2 = count_words(Text_Words, split=0)\n",
    "display(Text_Words_counts2)"
   ]
  },
  {
   "cell_type": "code",
   "execution_count": 39,
   "id": "0ddef98e",
   "metadata": {},
   "outputs": [],
   "source": [
    "## Left lean vs Right lean word clouds:\n",
    "\n",
    "#Left_Lean_counts = collections.Counter(Left_text)\n",
    "\n",
    "\n",
    "#Right_Lean_counts = collections.Counter(Right_text)\n",
    "\n",
    "\n",
    "\n",
    "#print(\"\\nLeft Leaning Article's top 5 words:\\n\")\n",
    "#for HT, count in Left_Lean_counts.most_common(5):\n",
    "#    print(f\"{HT}: {count}\")\n",
    "\n",
    "#print(\"\\nRight Leaning Article's top 5 words:\\n\")\n",
    "#for HT, count in Right_Lean_counts.most_common(5):\n",
    "#    print(f\"{HT}: {count}\")"
   ]
  },
  {
   "cell_type": "code",
   "execution_count": 42,
   "id": "beaa71f4",
   "metadata": {},
   "outputs": [],
   "source": [
    "#Left_Lean_counts = count_words(Text_Words, split=0)\n",
    "#Right_Lean_counts = count_words(Right_text, split=0)\n",
    "#display(Left_Lean_counts)"
   ]
  },
  {
   "cell_type": "code",
   "execution_count": null,
   "id": "fb3f3d68",
   "metadata": {},
   "outputs": [],
   "source": [
    "#her_df=lyrics_data_df.loc[0,:]\n",
    "#robyn_df=lyrics_data_df.loc[1,:]"
   ]
  },
  {
   "cell_type": "code",
   "execution_count": 57,
   "id": "95448954",
   "metadata": {},
   "outputs": [
    {
     "data": {
      "image/png": "[encoded data removed]",
      "text/plain": [
       "<Figure size 432x288 with 1 Axes>"
      ]
     },
     "metadata": {
      "needs_background": "light"
     },
     "output_type": "display_data"
    }
   ],
   "source": [
    "wordcloud(Text_Words_counts2['freq'], title=\"Entire News Articles WordCloud\", max_words=500)"
   ]
  },
  {
   "attachments": {},
   "cell_type": "markdown",
   "id": "ef8e94de",
   "metadata": {},
   "source": [
    "*With the preprocessing already done, the wordcloud doesn't tell us much. Further preprocessing is needed or other versions (perhaps per news source) of wordclouds are needed to derive insights and meaning*"
   ]
  },
  {
   "cell_type": "code",
   "execution_count": 44,
   "id": "769a4e9d",
   "metadata": {},
   "outputs": [],
   "source": [
    "#wordcloud(Right_Lean_counts['freq'], title=\"Right Leaning Article WordCloud\", max_words=500)"
   ]
  },
  {
   "attachments": {},
   "cell_type": "markdown",
   "id": "f722adab",
   "metadata": {},
   "source": [
    "### Topic Modeling NMF:"
   ]
  },
  {
   "cell_type": "code",
   "execution_count": 58,
   "id": "fb26b5ef",
   "metadata": {},
   "outputs": [],
   "source": [
    "pipeline_basic = [remove_punctuation,remove_messy]\n",
    "api_data_complete_df['clean_processed_text']=api_data_complete_df['processed_text'].apply(prepare,\n",
    "                                                                                          pipeline = pipeline_basic)"
   ]
  },
  {
   "cell_type": "code",
   "execution_count": 59,
   "id": "9802c9a6",
   "metadata": {},
   "outputs": [],
   "source": [
    "tfidf_topic = TfidfVectorizer(stop_words=list(sw), min_df=5, max_df=0.7, ngram_range=(1,2))\n",
    "topic_modeling_input = tfidf_topic.fit_transform(api_data_complete_df['clean_processed_text'])"
   ]
  },
  {
   "cell_type": "code",
   "execution_count": 40,
   "id": "24b09741",
   "metadata": {},
   "outputs": [],
   "source": [
    "#Right_tfidf_topic = TfidfVectorizer(stop_words=list(sw), min_df=5, max_df=0.7, ngram_range=(1,2))\n",
    "#Right_topic_modeling_input = Right_tfidf_topic.fit_transform(Right_lean_articles_df['cleaner_text'])"
   ]
  },
  {
   "cell_type": "code",
   "execution_count": 60,
   "id": "b33795dc",
   "metadata": {},
   "outputs": [],
   "source": [
    "nmf_text_model_news = NMF(n_components=10, random_state=314)\n",
    "text_matrix = nmf_text_model_news.fit_transform(topic_modeling_input)\n",
    "H_text_matrix = nmf_text_model_news.components_"
   ]
  },
  {
   "cell_type": "code",
   "execution_count": 50,
   "id": "3fd3da1f",
   "metadata": {},
   "outputs": [],
   "source": [
    "#nmf_text_model_newsR = NMF(n_components=3, random_state=314)\n",
    "#Right_text_matrix = nmf_text_model_newsR.fit_transform(Right_topic_modeling_input)\n",
    "#HRight_text_matrix = nmf_text_model_newsR.components_"
   ]
  },
  {
   "attachments": {},
   "cell_type": "markdown",
   "id": "673745a8",
   "metadata": {},
   "source": [
    "Display Topics for Left vs Right:"
   ]
  },
  {
   "cell_type": "code",
   "execution_count": 61,
   "id": "d0d84204",
   "metadata": {},
   "outputs": [
    {
     "name": "stdout",
     "output_type": "stream",
     "text": [
      "\n",
      "Topic 00\n",
      "  inflation (0.33)\n",
      "  rates (0.30)\n",
      "  rate (0.28)\n",
      "  loan (0.26)\n",
      "  interest (0.21)\n",
      "\n",
      "Topic 01\n",
      "  prop (0.98)\n",
      "  runs (0.78)\n",
      "  odds (0.74)\n",
      "  rbi (0.65)\n",
      "  games (0.63)\n",
      "\n",
      "Topic 02\n",
      "  trump (0.98)\n",
      "  biden (0.41)\n",
      "  president (0.38)\n",
      "  trumps (0.29)\n",
      "  former (0.27)\n",
      "\n",
      "Topic 03\n",
      "  people (0.12)\n",
      "  new (0.10)\n",
      "  police (0.09)\n",
      "  one (0.08)\n",
      "  like (0.08)\n",
      "\n",
      "Topic 04\n",
      "  amazon (0.55)\n",
      "  review (0.44)\n",
      "  amazon available (0.30)\n",
      "  available (0.26)\n",
      "  colors (0.22)\n",
      "\n",
      "Topic 05\n",
      "  russian (0.92)\n",
      "  prigozhin (0.66)\n",
      "  ukraine (0.64)\n",
      "  wagner (0.59)\n",
      "  putin (0.51)\n",
      "\n",
      "Topic 06\n",
      "  ai (1.28)\n",
      "  data (0.28)\n",
      "  technology (0.25)\n",
      "  generative (0.23)\n",
      "  generative ai (0.22)\n",
      "\n",
      "Topic 07\n",
      "  titanic (0.91)\n",
      "  submersible (0.80)\n",
      "  titan (0.69)\n",
      "  oceangate (0.66)\n",
      "  coast (0.44)\n",
      "\n",
      "Topic 08\n",
      "  celtics (1.22)\n",
      "  nba (0.84)\n",
      "  draft (0.74)\n",
      "  boston (0.53)\n",
      "  nba draft (0.42)\n",
      "\n",
      "Topic 09\n",
      "  wire (0.38)\n",
      "  football (0.29)\n",
      "  season (0.28)\n",
      "  nfl (0.25)\n",
      "  text (0.24)\n"
     ]
    }
   ],
   "source": [
    "display_topics(nmf_text_model_news, tfidf_topic.get_feature_names_out())"
   ]
  },
  {
   "cell_type": "code",
   "execution_count": 52,
   "id": "f19e46f2",
   "metadata": {},
   "outputs": [
    {
     "name": "stdout",
     "output_type": "stream",
     "text": [
      "\n",
      "Topic 00\n",
      "  biden (0.22)\n",
      "  debt (0.17)\n",
      "  house (0.16)\n",
      "  ai (0.14)\n",
      "  bill (0.13)\n",
      "\n",
      "Topic 01\n",
      "  border (1.72)\n",
      "  migrants (1.12)\n",
      "  title (0.71)\n",
      "  title 42 (0.65)\n",
      "  42 (0.64)\n",
      "\n",
      "Topic 02\n",
      "  desantis (1.29)\n",
      "  trump (1.24)\n",
      "  percent (0.59)\n",
      "  president (0.41)\n",
      "  florida (0.39)\n"
     ]
    }
   ],
   "source": [
    "#display_topics(nmf_text_model_newsR, Right_tfidf_topic.get_feature_names_out())"
   ]
  },
  {
   "attachments": {},
   "cell_type": "markdown",
   "id": "bef83464",
   "metadata": {},
   "source": [
    "---"
   ]
  },
  {
   "attachments": {},
   "cell_type": "markdown",
   "id": "aa050ed8",
   "metadata": {},
   "source": [
    "*Topic Modeling using NMF reveals that the top three topics depending on political lean are:*\n",
    "\n",
    "\n",
    "**Left:**\n",
    "* Trump/Desantis relationship\n",
    "* US debt ceiling\n",
    "* Abortion Laws\n",
    "\n",
    "**Right:**\n",
    "* Bills to change Bill of Rights and regulate AI\n",
    "* Title 42/Migrants\n",
    "* Relationship DeSantis and Trump"
   ]
  },
  {
   "attachments": {},
   "cell_type": "markdown",
   "id": "7382f4c7",
   "metadata": {},
   "source": [
    "---"
   ]
  },
  {
   "attachments": {},
   "cell_type": "markdown",
   "id": "45093109",
   "metadata": {},
   "source": [
    "### LDA topic modeling for visualization:"
   ]
  },
  {
   "cell_type": "code",
   "execution_count": 368,
   "id": "858ffb3e",
   "metadata": {},
   "outputs": [
    {
     "data": {
      "text/plain": [
       "(2758, 13356)"
      ]
     },
     "execution_count": 368,
     "metadata": {},
     "output_type": "execute_result"
    }
   ],
   "source": [
    "Lcount_text_vectorizer = CountVectorizer(stop_words=list(sw), min_df=5, max_df=0.7)\n",
    "Left_count_text_vectors = Lcount_text_vectorizer.fit_transform(Left_lean_articles_df['cleaner_text'])\n",
    "Left_count_text_vectors.shape\n",
    "\n",
    "Rcount_text_vectorizer = CountVectorizer(stop_words=list(sw), min_df=5, max_df=0.7)\n",
    "Right_count_text_vectors = Rcount_text_vectorizer.fit_transform(Right_lean_articles_df['cleaner_text'])\n",
    "Right_count_text_vectors.shape"
   ]
  },
  {
   "cell_type": "code",
   "execution_count": 376,
   "id": "eba7512c",
   "metadata": {},
   "outputs": [],
   "source": [
    "\n",
    "\n",
    "Left_lda_para_model = LatentDirichletAllocation(n_components = 3, random_state=42)\n",
    "W_lda_para_matrix_Left = Left_lda_para_model.fit_transform(Left_count_text_vectors)\n",
    "H_lda_para_matrix_Left = Left_lda_para_model.components_"
   ]
  },
  {
   "cell_type": "code",
   "execution_count": 377,
   "id": "2c0e7eda",
   "metadata": {},
   "outputs": [],
   "source": [
    "Right_lda_para_model = LatentDirichletAllocation(n_components = 3, random_state=42)\n",
    "W_lda_para_matrix_Right = Right_lda_para_model.fit_transform(Right_count_text_vectors)\n",
    "H_lda_para_matrix_Right = Right_lda_para_model.components_"
   ]
  },
  {
   "cell_type": "code",
   "execution_count": 378,
   "id": "0a2e8006",
   "metadata": {},
   "outputs": [
    {
     "name": "stdout",
     "output_type": "stream",
     "text": [
      "\n",
      "Topic 00\n",
      "  trump (1.59)\n",
      "  people (0.49)\n",
      "  election (0.45)\n",
      "  president (0.44)\n",
      "  former (0.38)\n",
      "\n",
      "Topic 01\n",
      "  state (0.69)\n",
      "  people (0.57)\n",
      "  health (0.44)\n",
      "  new (0.42)\n",
      "  abortion (0.39)\n",
      "\n",
      "Topic 02\n",
      "  biden (1.01)\n",
      "  house (0.98)\n",
      "  republicans (0.67)\n",
      "  debt (0.67)\n",
      "  president (0.55)\n"
     ]
    }
   ],
   "source": [
    "display_topics(Left_lda_para_model, Lcount_text_vectorizer.get_feature_names_out())\n"
   ]
  },
  {
   "cell_type": "code",
   "execution_count": 379,
   "id": "a8cf99ef",
   "metadata": {},
   "outputs": [
    {
     "name": "stdout",
     "output_type": "stream",
     "text": [
      "\n",
      "Topic 00\n",
      "  police (0.46)\n",
      "  people (0.39)\n",
      "  also (0.38)\n",
      "  ai (0.36)\n",
      "  one (0.35)\n",
      "\n",
      "Topic 01\n",
      "  trump (1.05)\n",
      "  desantis (0.65)\n",
      "  president (0.50)\n",
      "  former (0.50)\n",
      "  also (0.41)\n",
      "\n",
      "Topic 02\n",
      "  biden (1.78)\n",
      "  border (0.94)\n",
      "  house (0.88)\n",
      "  president (0.80)\n",
      "  would (0.53)\n"
     ]
    }
   ],
   "source": [
    "display_topics(Right_lda_para_model, Rcount_text_vectorizer.get_feature_names_out())\n"
   ]
  },
  {
   "cell_type": "code",
   "execution_count": 380,
   "id": "2fec75eb",
   "metadata": {},
   "outputs": [
    {
     "data": {
      "text/html": [
       "\n",
       "<link rel=\"stylesheet\" type=\"text/css\" href=\"https://cdn.jsdelivr.net/gh/bmabey/pyLDAvis@3.4.0/pyLDAvis/js/ldavis.v1.0.0.css\">\n",
       "\n",
       "\n",
       "<div id=\"ldavis_el3868424574792197921582599621\" style=\"background-color:white;\"></div>\n",
       "<script type=\"text/javascript\">\n",
       "\n",
       "var ldavis_el3868424574792197921582599621_data = {\"mdsDat\": {\"x\": [-0.062389326486711236, -0.04783963162394146, 0.11022895811065268], \"y\": [0.08278840451992661, -0.09040880542287005, 0.007620400902943432], \"topics\": [1, 2, 3], \"cluster\": [1, 1, 1], \"Freq\": [38.67582278173789, 26.089255515567977, 35.23492170269413]}, \"tinfo\": {\"Term\": [\"trump\", \"biden\", \"debt\", \"house\", \"republicans\", \"mccarthy\", \"ceiling\", \"police\", \"abortion\", \"democrats\", \"health\", \"deal\", \"china\", \"default\", \"spending\", \"investigation\", \"gop\", \"election\", \"fbi\", \"state\", \"bill\", \"senate\", \"chinese\", \"border\", \"women\", \"committee\", \"migrants\", \"documents\", \"ban\", \"congress\", \"erdogan\", \"durham\", \"classified\", \"turkey\", \"jury\", \"carroll\", \"neely\", \"conspiracy\", \"investigators\", \"rhodes\", \"convicted\", \"musk\", \"kilicdaroglu\", \"verdict\", \"arrest\", \"prosecutor\", \"penny\", \"mar\", \"lago\", \"boxes\", \"mehta\", \"russian\", \"prosecutors\", \"allen\", \"riot\", \"police\", \"sentenced\", \"shooting\", \"gunman\", \"keepers\", \"documents\", \"fbi\", \"investigation\", \"arrested\", \"paxton\", \"collins\", \"indictment\", \"trump\", \"criminal\", \"charges\", \"attorney\", \"mr\", \"trial\", \"jan\", \"election\", \"records\", \"county\", \"town\", \"russia\", \"evidence\", \"former\", \"man\", \"2020\", \"office\", \"twitter\", \"ukraine\", \"department\", \"people\", \"told\", \"president\", \"campaign\", \"according\", \"presidential\", \"information\", \"justice\", \"case\", \"year\", \"two\", \"first\", \"years\", \"like\", \"new\", \"time\", \"last\", \"state\", \"country\", \"desantis\", \"could\", \"fda\", \"tiktok\", \"beijing\", \"medication\", \"amazon\", \"taiwan\", \"lord\", \"pride\", \"israel\", \"korea\", \"mifepristone\", \"bud\", \"palestinian\", \"thailand\", \"medications\", \"gay\", \"gaza\", \"reproductive\", \"affirming\", \"japanese\", \"antiabortion\", \"der\", \"meta\", \"pill\", \"holy\", \"thai\", \"idf\", \"hong\", \"kong\", \"bytedance\", \"chinese\", \"birth\", \"pregnancy\", \"gender\", \"lgbtq\", \"drugs\", \"china\", \"drug\", \"patients\", \"abortion\", \"abortions\", \"ban\", \"king\", \"transgender\", \"study\", \"studies\", \"bans\", \"health\", \"women\", \"google\", \"rights\", \"care\", \"students\", \"school\", \"data\", \"state\", \"company\", \"schools\", \"university\", \"people\", \"world\", \"states\", \"laws\", \"life\", \"law\", \"new\", \"use\", \"year\", \"many\", \"public\", \"like\", \"years\", \"military\", \"may\", \"court\", \"united\", \"according\", \"time\", \"last\", \"bill\", \"first\", \"two\", \"debt\", \"santos\", \"default\", \"mccarthy\", \"ceiling\", \"caucus\", \"feinstein\", \"yellen\", \"borrowing\", \"trillion\", \"treasury\", \"negotiators\", \"mcconnell\", \"crow\", \"schumer\", \"recession\", \"altman\", \"irs\", \"jeffries\", \"banking\", \"manchin\", \"epa\", \"bonds\", \"mayorkas\", \"durbin\", \"concessions\", \"stamps\", \"moody\", \"economists\", \"migrants\", \"spending\", \"fiscal\", \"budget\", \"deadline\", \"negotiations\", \"tax\", \"cuts\", \"asylum\", \"immigration\", \"biden\", \"democrats\", \"deal\", \"border\", \"republicans\", \"house\", \"thomas\", \"payments\", \"congressional\", \"rep\", \"limit\", \"gop\", \"senate\", \"congress\", \"committee\", \"financial\", \"speaker\", \"sen\", \"white\", \"federal\", \"republican\", \"desantis\", \"could\", \"bill\", \"president\", \"administration\", \"vote\", \"democratic\", \"government\", \"new\", \"court\", \"time\", \"last\", \"year\", \"two\", \"state\"], \"Freq\": [4453.0, 2551.0, 1549.0, 2594.0, 1713.0, 847.0, 814.0, 847.0, 746.0, 1005.0, 995.0, 899.0, 574.0, 572.0, 648.0, 661.0, 924.0, 1349.0, 631.0, 2457.0, 1089.0, 891.0, 365.0, 591.0, 599.0, 851.0, 458.0, 513.0, 434.0, 754.0, 333.50738035524466, 256.25929048417504, 267.81476531780004, 250.4268331829781, 244.6376622638843, 187.664891574763, 203.05843893653685, 186.63087128540738, 159.6485431666464, 134.56205521029423, 148.97742494590364, 220.97173217826497, 121.03069159364152, 120.03444889287393, 121.94653801521174, 126.6852368494269, 103.62645954248835, 99.78686544272477, 98.82091464874838, 103.613074470728, 86.2776243311259, 398.7506597955944, 332.54312111212846, 90.08040063758033, 82.4012646903402, 839.6021138580334, 106.27767499641187, 274.697617213672, 71.76109043111046, 65.99451226474689, 505.9316335934966, 618.8349832405061, 647.4608349601206, 156.44727866204843, 207.03958527711896, 315.42335155306154, 157.92136144533308, 4039.1431033491094, 421.3520652424228, 391.2134820340911, 625.2992478383449, 229.6854613058057, 265.56217339436586, 205.12281292771723, 1131.3974383147786, 267.0590417959221, 446.05809578863983, 239.25744521333735, 445.22525717365176, 383.87627431356066, 953.4738467764993, 272.26634999002016, 546.064808560695, 672.6394499297563, 334.519939396487, 374.9451582045667, 595.4135958346865, 1234.9927165349957, 855.1204210161484, 1127.255847409965, 625.1888082099653, 841.1535335219262, 498.44781716815737, 432.66556820050175, 530.3946562886941, 538.804222005159, 788.4035103674682, 685.2951040132529, 648.8712074280392, 624.0077498411224, 598.2583996243488, 737.1488847032568, 655.2363149416631, 630.0058165098902, 639.7919117518579, 524.3171017239383, 537.5754125156178, 519.1913205822888, 221.01541942626636, 181.26650464612337, 135.23338925085437, 101.50733804843534, 149.1661248918542, 122.76692469701119, 88.24359113828658, 91.2734718443996, 108.49028430276981, 85.12998317457537, 71.88922179773728, 68.8258434971998, 71.85910037382268, 68.79971969575948, 64.73768026598835, 73.8369467913352, 60.645762829112854, 61.65407837170714, 62.66030825928065, 54.50180573122207, 59.5471033986423, 60.545409774300445, 54.42876097143108, 46.33238713787541, 45.303705661922045, 43.266901278934874, 44.27194071948364, 43.25647758115383, 42.23481213544316, 41.22681871782536, 358.4151198371006, 98.9107779506535, 134.20655095538314, 203.32429262361424, 191.23983765913195, 123.6061706582244, 538.3235089331514, 312.07008408985354, 228.3948593446327, 668.4977174979864, 133.4263751489543, 386.5373671178922, 205.60361728884195, 117.3397758741243, 206.69664081120374, 126.65114943718264, 99.28807619545533, 754.7897000135459, 458.9608052397644, 115.23539740667589, 397.64797753021935, 417.7716987346842, 210.97746691722537, 430.3787433185132, 357.52782153388426, 1185.4469610841716, 444.0306357326226, 195.3746362087041, 296.91458769954767, 970.6193960054876, 371.91774913703154, 571.9537738447551, 253.23204735734268, 312.96868149416974, 538.245684834473, 717.5124211820672, 331.3275941499102, 645.1880922078312, 447.0218602438205, 427.6568013388093, 448.5092119274023, 456.5274598371785, 308.76616719737615, 399.0450650528962, 437.6061730659634, 344.5765531519943, 419.7196420225011, 414.1773963174832, 408.4056504679235, 365.37994778170025, 388.909559970055, 372.64389703385206, 1549.0067618749692, 356.26299387218575, 570.9947687952547, 845.3122526215012, 812.1488173357205, 240.11708761831798, 162.22045225541586, 143.68780545490392, 143.68745718732131, 127.07457488535975, 385.8699714622834, 109.54814203171752, 150.26221095336086, 108.54098917295391, 100.76890967953616, 98.78828843717748, 88.02721490713688, 82.18358646483084, 75.41340124384503, 74.43914126051344, 77.33966991484945, 69.56503911434768, 71.48743110561142, 67.61162517327386, 66.62551076977297, 62.73414426773596, 61.76060946335482, 60.78669887894631, 60.77579884767069, 453.2457709077743, 631.4375379943564, 187.32308715664735, 312.2980401442203, 97.23626419766642, 286.5770914793446, 293.6982428081246, 276.78836363372665, 148.66981983339574, 210.9825535831074, 2322.9238122268284, 935.8047751725308, 839.2898723976438, 556.1526535651785, 1549.9986988462845, 2255.065158192544, 336.5128537466067, 256.39626091983973, 329.2178041719474, 524.7956515858327, 453.4320451479599, 800.0510832297572, 764.3804387928432, 654.153418250993, 730.068837435176, 385.25675058152575, 357.94835013535914, 458.74284607284926, 913.9057952897396, 904.6341653583121, 1051.209216276344, 1011.6654785390331, 1119.1395497315489, 719.8969511419731, 1275.2870061425642, 558.7317936490743, 590.1461666569381, 517.3263566786467, 765.2416754955326, 820.0687513496479, 665.1768191308058, 647.0062413393645, 638.004230617353, 647.1314896328512, 613.3660190918126, 631.8737211239492], \"Total\": [4453.0, 2551.0, 1549.0, 2594.0, 1713.0, 847.0, 814.0, 847.0, 746.0, 1005.0, 995.0, 899.0, 574.0, 572.0, 648.0, 661.0, 924.0, 1349.0, 631.0, 2457.0, 1089.0, 891.0, 365.0, 591.0, 599.0, 851.0, 458.0, 513.0, 434.0, 754.0, 334.19230848880744, 256.9269412961459, 268.51806910723076, 251.13372634000788, 245.3381024288632, 188.35486090802908, 203.8083650948174, 187.39151783640023, 160.34708369382773, 135.23547579804776, 149.72412893167254, 222.16722612313671, 121.71439492434988, 120.75009493774931, 122.68308987817895, 127.51091773150995, 104.32969004730619, 100.46633625730327, 99.50053165018203, 104.3316671934772, 86.94475282322121, 401.86885224320105, 335.1781396696492, 90.81082071700855, 83.08195139357025, 847.1692631537592, 107.2425481499857, 277.3106700676586, 72.45858241954721, 66.66283065387859, 513.9034629117091, 631.7800977643298, 661.7655292829824, 158.42891953186185, 210.59660897938423, 323.64123498856327, 160.36700755477972, 4453.553640274136, 440.93346426813576, 412.96277597517616, 680.719818826861, 239.65623587431114, 279.78258531812816, 213.6437041142852, 1349.51566701033, 290.3700722701019, 523.6939521764956, 260.13882684837944, 542.9241375422345, 458.36897695246086, 1412.5114472236542, 304.5521625505797, 773.6756444940606, 1047.9561254936793, 403.8934376004165, 477.45696951162034, 917.3460217283125, 2705.709127900327, 1581.3602989930619, 2540.8019900767786, 1051.754327513039, 1683.637192498281, 754.8678816378374, 620.535992275004, 894.8049496857225, 921.7719476610987, 2080.723092208151, 1671.3050201389176, 1538.7932670244672, 1491.4253470132508, 1365.4965563689038, 2274.730057234972, 1716.419952598511, 1676.4156975951666, 2457.1125939599788, 1184.4242211270903, 1594.3290827076257, 1986.8530419180715, 221.77980061333264, 181.9197782801834, 135.91845741994229, 102.18549325384797, 150.20843335654047, 123.64245211234017, 88.89799244230583, 91.96265704242019, 109.33176947373444, 85.8287930801951, 72.54262221419933, 69.47611343804071, 72.54094052506841, 69.47476644962362, 65.3872900783347, 74.58196746908924, 61.298243069601874, 62.319841825230014, 63.34129831694236, 55.164425288074376, 60.272158452958564, 61.292792050265, 55.16112798912099, 46.987117846440434, 45.96452678500423, 43.920519565641506, 44.94176296974126, 43.919960265539366, 42.89776497187824, 41.876303179859306, 365.60412513039853, 101.0765409859249, 137.79619064116045, 211.20157758281837, 198.9041769125419, 127.5563762529243, 574.6691297323357, 330.1705676685934, 240.53744815001275, 746.2582589492828, 140.66559080434646, 434.88270976395086, 224.79503483982563, 124.32635595067475, 229.80394868056908, 135.46446132781878, 104.033934596427, 995.2811811732458, 599.141365931445, 124.1918987894329, 539.1230968266871, 590.9363052149182, 263.77276873651635, 660.7161896490051, 526.3441717217711, 2457.1125939599788, 715.8877567357193, 243.68477972408914, 472.9202447677511, 2705.709127900327, 673.7225323166099, 1312.5168628883177, 378.6150994579959, 538.0297452374009, 1370.9044940889396, 2274.730057234972, 618.0810096050731, 2080.723092208151, 1264.905087718266, 1171.1411575326733, 1365.4965563689038, 1491.4253470132508, 594.4772334507763, 1196.1548606912313, 1554.6681219159502, 817.1513766479893, 1683.637192498281, 1716.419952598511, 1676.4156975951666, 1089.558869605299, 1538.7932670244672, 1671.3050201389176, 1549.7706101157694, 356.9727901586532, 572.5296484925115, 847.6250254839956, 814.4637132160276, 240.91791558533433, 162.88791244312173, 144.3572715705561, 144.35725396599133, 127.77746516012384, 388.2414830758919, 110.22192251853902, 151.19596674170765, 109.24763385915539, 101.4440985397997, 99.49464904271638, 88.76600970289277, 82.91473755544217, 76.08614728595612, 75.1108591597533, 78.03789899627861, 70.23439591917335, 72.186081990809, 68.2835571294092, 67.30824657979812, 63.407085532451724, 62.43217329129517, 61.45649903855359, 61.456680670481205, 458.3674194168806, 648.1084303365282, 190.18429958558633, 319.22227145394066, 98.54723600059887, 293.80416632975823, 301.3149823226863, 284.76432095728387, 152.13343481779435, 217.4508493419073, 2551.9867262519183, 1005.464870143083, 899.7665822664013, 591.2683861353321, 1713.0044098311114, 2594.3889706279074, 357.0912392215, 269.0788684843002, 350.270508338106, 581.4180291017462, 501.3424394403094, 924.2917271463389, 891.0181973900958, 754.488443812083, 851.5459761306615, 422.24327303013644, 390.4380716911003, 533.8084809072942, 1262.6872603973038, 1295.4916455227535, 1626.8775278727862, 1594.3290827076257, 1986.8530419180715, 1089.558869605299, 2540.8019900767786, 792.2644591284538, 875.6800323147422, 705.6264061769541, 1467.8141408566642, 2274.730057234972, 1554.6681219159502, 1716.419952598511, 1676.4156975951666, 2080.723092208151, 1671.3050201389176, 2457.1125939599788], \"Category\": [\"Default\", \"Default\", \"Default\", \"Default\", \"Default\", \"Default\", \"Default\", \"Default\", \"Default\", \"Default\", \"Default\", \"Default\", \"Default\", \"Default\", \"Default\", \"Default\", \"Default\", \"Default\", \"Default\", \"Default\", \"Default\", \"Default\", \"Default\", \"Default\", \"Default\", \"Default\", \"Default\", \"Default\", \"Default\", \"Default\", \"Topic1\", \"Topic1\", \"Topic1\", \"Topic1\", \"Topic1\", \"Topic1\", \"Topic1\", \"Topic1\", \"Topic1\", \"Topic1\", \"Topic1\", \"Topic1\", \"Topic1\", \"Topic1\", \"Topic1\", \"Topic1\", \"Topic1\", \"Topic1\", \"Topic1\", \"Topic1\", \"Topic1\", \"Topic1\", \"Topic1\", \"Topic1\", \"Topic1\", \"Topic1\", \"Topic1\", \"Topic1\", \"Topic1\", \"Topic1\", \"Topic1\", \"Topic1\", \"Topic1\", \"Topic1\", \"Topic1\", \"Topic1\", \"Topic1\", \"Topic1\", \"Topic1\", \"Topic1\", \"Topic1\", \"Topic1\", \"Topic1\", \"Topic1\", \"Topic1\", \"Topic1\", \"Topic1\", \"Topic1\", \"Topic1\", \"Topic1\", \"Topic1\", \"Topic1\", \"Topic1\", \"Topic1\", \"Topic1\", \"Topic1\", \"Topic1\", \"Topic1\", \"Topic1\", \"Topic1\", \"Topic1\", \"Topic1\", \"Topic1\", \"Topic1\", \"Topic1\", \"Topic1\", \"Topic1\", \"Topic1\", \"Topic1\", \"Topic1\", \"Topic1\", \"Topic1\", \"Topic1\", \"Topic1\", \"Topic1\", \"Topic1\", \"Topic1\", \"Topic1\", \"Topic2\", \"Topic2\", \"Topic2\", \"Topic2\", \"Topic2\", \"Topic2\", \"Topic2\", \"Topic2\", \"Topic2\", \"Topic2\", \"Topic2\", \"Topic2\", \"Topic2\", \"Topic2\", \"Topic2\", \"Topic2\", \"Topic2\", \"Topic2\", \"Topic2\", \"Topic2\", \"Topic2\", \"Topic2\", \"Topic2\", \"Topic2\", \"Topic2\", \"Topic2\", \"Topic2\", \"Topic2\", \"Topic2\", \"Topic2\", \"Topic2\", \"Topic2\", \"Topic2\", \"Topic2\", \"Topic2\", \"Topic2\", \"Topic2\", \"Topic2\", \"Topic2\", \"Topic2\", \"Topic2\", \"Topic2\", \"Topic2\", \"Topic2\", \"Topic2\", \"Topic2\", \"Topic2\", \"Topic2\", \"Topic2\", \"Topic2\", \"Topic2\", \"Topic2\", \"Topic2\", \"Topic2\", \"Topic2\", \"Topic2\", \"Topic2\", \"Topic2\", \"Topic2\", \"Topic2\", \"Topic2\", \"Topic2\", \"Topic2\", \"Topic2\", \"Topic2\", \"Topic2\", \"Topic2\", \"Topic2\", \"Topic2\", \"Topic2\", \"Topic2\", \"Topic2\", \"Topic2\", \"Topic2\", \"Topic2\", \"Topic2\", \"Topic2\", \"Topic2\", \"Topic2\", \"Topic2\", \"Topic2\", \"Topic2\", \"Topic3\", \"Topic3\", \"Topic3\", \"Topic3\", \"Topic3\", \"Topic3\", \"Topic3\", \"Topic3\", \"Topic3\", \"Topic3\", \"Topic3\", \"Topic3\", \"Topic3\", \"Topic3\", \"Topic3\", \"Topic3\", \"Topic3\", \"Topic3\", \"Topic3\", \"Topic3\", \"Topic3\", \"Topic3\", \"Topic3\", \"Topic3\", \"Topic3\", \"Topic3\", \"Topic3\", \"Topic3\", \"Topic3\", \"Topic3\", \"Topic3\", \"Topic3\", \"Topic3\", \"Topic3\", \"Topic3\", \"Topic3\", \"Topic3\", \"Topic3\", \"Topic3\", \"Topic3\", \"Topic3\", \"Topic3\", \"Topic3\", \"Topic3\", \"Topic3\", \"Topic3\", \"Topic3\", \"Topic3\", \"Topic3\", \"Topic3\", \"Topic3\", \"Topic3\", \"Topic3\", \"Topic3\", \"Topic3\", \"Topic3\", \"Topic3\", \"Topic3\", \"Topic3\", \"Topic3\", \"Topic3\", \"Topic3\", \"Topic3\", \"Topic3\", \"Topic3\", \"Topic3\", \"Topic3\", \"Topic3\", \"Topic3\", \"Topic3\", \"Topic3\", \"Topic3\", \"Topic3\", \"Topic3\", \"Topic3\"], \"logprob\": [30.0, 29.0, 28.0, 27.0, 26.0, 25.0, 24.0, 23.0, 22.0, 21.0, 20.0, 19.0, 18.0, 17.0, 16.0, 15.0, 14.0, 13.0, 12.0, 11.0, 10.0, 9.0, 8.0, 7.0, 6.0, 5.0, 4.0, 3.0, 2.0, 1.0, -6.633, -6.8964, -6.8523, -6.9195, -6.9428, -7.208, -7.1291, -7.2135, -7.3697, -7.5406, -7.4388, -7.0446, -7.6466, -7.6548, -7.639, -7.6009, -7.8018, -7.8396, -7.8493, -7.802, -7.9851, -6.4543, -6.6359, -7.9419, -8.031, -5.7097, -7.7766, -6.827, -8.1693, -8.2531, -6.2162, -6.0148, -5.9696, -7.3899, -7.1097, -6.6887, -7.3805, -4.1388, -6.3992, -6.4734, -6.0044, -7.0059, -6.8608, -7.119, -5.4114, -6.8552, -6.3422, -6.9651, -6.344, -6.4923, -5.5825, -6.8358, -6.1399, -5.9314, -6.6299, -6.5158, -6.0534, -5.3238, -5.6914, -5.4151, -6.0046, -5.7079, -6.2311, -6.3727, -6.169, -6.1533, -5.7726, -5.9128, -5.9674, -6.0065, -6.0486, -5.8398, -5.9576, -5.9969, -5.9815, -6.1805, -6.1556, -6.1904, -6.6507, -6.849, -7.1419, -7.4288, -7.0439, -7.2386, -7.5688, -7.5351, -7.3623, -7.6048, -7.7738, -7.8174, -7.7742, -7.8177, -7.8786, -7.7471, -7.9439, -7.9274, -7.9112, -8.0507, -7.9622, -7.9455, -8.052, -8.2131, -8.2355, -8.2815, -8.2586, -8.2818, -8.3057, -8.3298, -6.1672, -7.4547, -7.1496, -6.7341, -6.7954, -7.2318, -5.7605, -6.3057, -6.6179, -5.5439, -7.1554, -6.0917, -6.723, -7.2839, -6.7177, -7.2075, -7.4509, -5.4225, -5.92, -7.302, -6.0634, -6.014, -6.6972, -5.9843, -6.1697, -4.9711, -5.953, -6.774, -6.3555, -5.171, -6.1303, -5.6999, -6.5146, -6.3028, -5.7606, -5.4731, -6.2458, -5.5794, -5.9463, -5.9906, -5.943, -5.9253, -6.3164, -6.0599, -5.9676, -6.2066, -6.0093, -6.0226, -6.0367, -6.148, -6.0856, -6.1283, -5.0041, -6.4738, -6.0021, -5.6097, -5.6498, -6.8683, -7.2605, -7.3818, -7.3818, -7.5047, -6.3939, -7.6531, -7.3371, -7.6623, -7.7366, -7.7565, -7.8718, -7.9405, -8.0265, -8.0395, -8.0012, -8.1072, -8.0799, -8.1357, -8.1504, -8.2105, -8.2262, -8.2421, -8.2423, -6.233, -5.9014, -7.1166, -6.6055, -7.7723, -6.6914, -6.6669, -6.7262, -7.3477, -6.9977, -4.5989, -5.508, -5.6169, -6.0284, -5.0034, -4.6285, -6.5308, -6.8027, -6.5527, -6.0864, -6.2326, -5.6648, -5.7104, -5.8661, -5.7563, -6.3955, -6.4691, -6.221, -5.5317, -5.5419, -5.3918, -5.4301, -5.3291, -5.7703, -5.1985, -6.0238, -5.9691, -6.1008, -5.7093, -5.6401, -5.8494, -5.8771, -5.8911, -5.8769, -5.9305, -5.9008], \"loglift\": [30.0, 29.0, 28.0, 27.0, 26.0, 25.0, 24.0, 23.0, 22.0, 21.0, 20.0, 19.0, 18.0, 17.0, 16.0, 15.0, 14.0, 13.0, 12.0, 11.0, 10.0, 9.0, 8.0, 7.0, 6.0, 5.0, 4.0, 3.0, 2.0, 1.0, 0.9479, 0.9474, 0.9473, 0.9471, 0.9471, 0.9463, 0.9463, 0.9459, 0.9456, 0.945, 0.945, 0.9446, 0.9443, 0.944, 0.9439, 0.9435, 0.9432, 0.9432, 0.9431, 0.943, 0.9423, 0.9422, 0.9421, 0.9419, 0.9417, 0.941, 0.9409, 0.9405, 0.9403, 0.9399, 0.9343, 0.9293, 0.9281, 0.9374, 0.9329, 0.9242, 0.9346, 0.8523, 0.9045, 0.8959, 0.865, 0.9075, 0.8978, 0.9093, 0.7737, 0.8663, 0.7895, 0.8663, 0.7516, 0.7726, 0.5569, 0.8379, 0.6015, 0.5066, 0.7615, 0.7083, 0.5177, 0.1657, 0.3352, 0.1373, 0.4298, 0.256, 0.5349, 0.5893, 0.427, 0.413, -0.0205, 0.0584, 0.0864, 0.0786, 0.1247, -0.1769, -0.013, -0.0287, -0.3956, 0.135, -0.1372, -0.3921, 1.3402, 1.34, 1.3386, 1.337, 1.3367, 1.3365, 1.3363, 1.3361, 1.3359, 1.3355, 1.3346, 1.3342, 1.3342, 1.3339, 1.3337, 1.3336, 1.3329, 1.3329, 1.3328, 1.3316, 1.3315, 1.3314, 1.3303, 1.3296, 1.3292, 1.3287, 1.3286, 1.3284, 1.3281, 1.328, 1.3238, 1.322, 1.3173, 1.3056, 1.3044, 1.3122, 1.2783, 1.2873, 1.2918, 1.2336, 1.2908, 1.2258, 1.2544, 1.2858, 1.2377, 1.2764, 1.297, 1.0671, 1.0771, 1.2688, 1.0393, 0.9969, 1.1203, 0.915, 0.9569, 0.6148, 0.866, 1.1227, 0.8782, 0.3185, 0.7495, 0.513, 0.9414, 0.8018, 0.4087, 0.1898, 0.7201, 0.1727, 0.3035, 0.3362, 0.2303, 0.1598, 0.6885, 0.2459, 0.0759, 0.4801, -0.0455, -0.0781, -0.0685, 0.2511, -0.0318, -0.1571, 1.0426, 1.0411, 1.0404, 1.0404, 1.0403, 1.0398, 1.039, 1.0385, 1.0385, 1.0376, 1.037, 1.037, 1.0369, 1.0366, 1.0365, 1.036, 1.0348, 1.0343, 1.0343, 1.0341, 1.0341, 1.0336, 1.0334, 1.0332, 1.0329, 1.0325, 1.0323, 1.0322, 1.032, 1.0319, 1.0171, 1.028, 1.0212, 1.0297, 1.0182, 1.0175, 1.0147, 1.0201, 1.0129, 0.9491, 0.9713, 0.9736, 0.9819, 0.9431, 0.903, 0.9838, 0.9949, 0.9811, 0.9407, 0.9427, 0.8988, 0.8898, 0.9004, 0.8892, 0.9515, 0.9563, 0.8916, 0.7199, 0.684, 0.6064, 0.5883, 0.4691, 0.6287, 0.3538, 0.6939, 0.6485, 0.7327, 0.3918, 0.0229, 0.1942, 0.0675, 0.0771, -0.1248, 0.0407, -0.3149]}, \"token.table\": {\"Topic\": [1, 2, 3, 1, 2, 3, 1, 2, 3, 1, 2, 3, 1, 2, 3, 2, 1, 3, 1, 2, 2, 1, 1, 3, 1, 3, 1, 2, 3, 1, 2, 3, 3, 2, 3, 2, 1, 2, 3, 1, 2, 3, 1, 2, 3, 1, 2, 3, 3, 1, 2, 2, 3, 2, 1, 2, 3, 1, 2, 3, 1, 1, 2, 3, 3, 2, 3, 1, 2, 3, 1, 2, 3, 2, 3, 1, 1, 3, 1, 2, 3, 1, 2, 3, 3, 1, 2, 3, 1, 2, 3, 1, 1, 1, 2, 3, 1, 2, 3, 1, 2, 3, 1, 2, 3, 1, 2, 3, 3, 1, 2, 3, 1, 2, 3, 2, 3, 1, 2, 3, 3, 1, 2, 3, 1, 2, 3, 1, 2, 3, 1, 2, 3, 2, 1, 2, 3, 1, 3, 1, 2, 3, 1, 2, 3, 3, 1, 3, 1, 2, 3, 3, 1, 1, 2, 3, 1, 3, 2, 1, 2, 3, 3, 1, 2, 3, 1, 2, 3, 1, 2, 3, 1, 2, 3, 2, 2, 1, 2, 3, 1, 2, 1, 2, 3, 1, 2, 3, 1, 1, 2, 3, 2, 2, 1, 2, 3, 2, 1, 3, 1, 3, 1, 2, 3, 1, 2, 3, 1, 3, 2, 1, 2, 3, 2, 3, 1, 1, 2, 3, 1, 1, 1, 2, 3, 2, 2, 1, 1, 2, 3, 1, 2, 3, 1, 2, 3, 1, 2, 3, 1, 2, 3, 1, 2, 3, 1, 2, 3, 2, 1, 2, 3, 3, 1, 2, 3, 1, 1, 2, 3, 3, 2, 3, 2, 3, 2, 2, 1, 2, 2, 1, 3, 1, 2, 3, 3, 1, 2, 3, 1, 3, 1, 1, 2, 3, 3, 1, 2, 3, 1, 2, 3, 2, 1, 2, 1, 3, 1, 3, 1, 1, 2, 3, 2, 1, 2, 3, 1, 2, 3, 1, 2, 3, 1, 2, 3, 2, 1, 1, 3, 1, 2, 3, 3, 1, 2, 3, 1, 2, 3, 2, 1, 2, 3, 1, 2, 3, 1, 1, 2, 3, 1, 1, 2, 3, 1, 2, 3, 3, 1, 2, 3, 1, 2, 3, 3, 1, 2, 3, 1, 2, 3, 1, 2, 1, 2, 1, 2, 3, 1, 2, 3, 3, 1, 2, 3, 1, 2, 3, 1, 2, 3, 1, 2, 3, 1, 2, 3, 2, 3, 1, 3, 2, 2, 1, 2, 3, 2, 1, 2, 3, 1, 2, 3, 1, 2, 3, 1, 2, 3, 1, 2, 3, 1, 2, 3, 3, 1, 2, 3, 1, 1, 2, 3, 1, 2, 3, 1, 2, 3, 1, 2, 3, 1, 2, 3, 1, 2, 3, 1, 1, 2, 3, 1, 2, 3, 1, 2, 3, 1, 2, 3, 1, 2, 3, 1, 2, 3, 3], \"Freq\": [0.7057220992875542, 0.04911619006030597, 0.24558095030152988, 0.040200560114724115, 0.895132471887857, 0.06432089618355859, 0.03554529555813378, 0.9455048618463585, 0.014218118223253511, 0.49951379296395454, 0.24945992038627932, 0.251241776960467, 0.14767796113018644, 0.14767796113018644, 0.7055724809553353, 0.9946117568472532, 0.9910713204593173, 0.9913704614473865, 0.006657415816503204, 0.9919549566589775, 0.9954845079395824, 0.9944320779753979, 0.9846687111226977, 0.012623957834906382, 0.019719531105000094, 0.9794033782150047, 0.9181457373712324, 0.03966389585443724, 0.04260196221402518, 0.06668464702986433, 0.8898951172606034, 0.043689941157497324, 0.9852104053637488, 0.9516125712638395, 0.038448992778336945, 0.9932425850221022, 0.07641105574494694, 0.013322953309375366, 0.9102711922846757, 0.0036712105344514617, 0.3349979612686959, 0.6608178962012631, 0.019786984996632444, 0.9794557573333059, 0.9835691042082043, 0.04228198325198109, 0.016912793300792435, 0.9403513075240595, 0.9975252094634919, 0.996821030446469, 0.993147091648048, 0.021928294564528848, 0.977375414876143, 0.9790740081306707, 0.5942452373624787, 0.07416180562283733, 0.33087574816342813, 0.1269172317526221, 0.7073520383012805, 0.16583851615675954, 0.9981159981413893, 0.5847433319788663, 0.17357872563380075, 0.2419253488521098, 0.996189923928637, 0.0024556035677792336, 0.9969750485183689, 0.9468165722120766, 0.019372206081065508, 0.033901360641864636, 0.019141449280777413, 0.9361908830052954, 0.04350329381994867, 0.9792012053264267, 0.01914639228291896, 0.9980706359577468, 0.9732999566978273, 0.02471872905899244, 0.09512111180192029, 0.04814772325776212, 0.8572643409308865, 0.1215274310552532, 0.6202089584888784, 0.258420399370366, 0.9935798100632873, 0.09542889701029365, 0.03711123772622531, 0.8668124811768341, 0.0428240449678993, 0.017129617987159722, 0.9392740529625914, 0.9979106960607361, 0.9951635789312022, 0.2612171051659497, 0.1756546622406868, 0.5632021978433482, 0.4424090546724594, 0.2997236916197005, 0.25750908716622156, 0.8516424490800475, 0.059194878747716305, 0.08974707423040859, 0.2907372921771637, 0.2817321548088445, 0.42774402499516345, 0.9547925800977218, 0.01587541107050844, 0.027214990406585895, 0.9977332794275925, 0.024581731224151627, 0.0035116758891645177, 0.9727342212985715, 0.2165883201994704, 0.6801633213281615, 0.10449436500851643, 0.010147418036097157, 0.9842995495014242, 0.0444559742363902, 0.0222279871181951, 0.9324640596082845, 0.9995027585948918, 0.001746634436544957, 0.001746634436544957, 0.9973282632671704, 0.15730703815549085, 0.10912290034209725, 0.7326823308683673, 0.040777158126037244, 0.028842380137928784, 0.93091268307246, 0.6486102145829322, 0.08284769127445857, 0.26816489544101063, 0.9952230590176919, 0.3374460177859407, 0.028225038662392808, 0.634749758363145, 0.9846207245482855, 0.01556712607981479, 0.04543106342251607, 0.9449661191883343, 0.009086212684503214, 0.023519012440832203, 0.9721191808877311, 0.007839670813610734, 0.9954203742414731, 0.9963921989205582, 0.992569063843037, 0.8380784511420887, 0.032604289876438465, 0.1289351463295521, 0.9966626619891044, 0.999424557406252, 0.8377530315273193, 0.13089891117614363, 0.030543079274433515, 0.9797712878111317, 0.020576779873254784, 0.9964838970403251, 0.21767797652311996, 0.08413794128021304, 0.6985764849412184, 0.9945489359535393, 0.033156241660244966, 0.05447096844183102, 0.9117966456567366, 0.4217590588077877, 0.252795491334714, 0.325579797323115, 0.010516115180685376, 0.005258057590342688, 0.9832567693940827, 0.6746847976865309, 0.043185490722852445, 0.2817676279950045, 0.992196941313858, 0.9951345576207914, 0.009469626235228953, 0.9611670628757387, 0.028408878705686858, 0.07246849502848395, 0.9259863253639616, 0.11684622595664632, 0.018392461493175808, 0.8655275996788616, 0.3106660355062825, 0.16759615073365242, 0.521183151671724, 0.9936711096983385, 0.10348834274007143, 0.7585795996966401, 0.1386542844478627, 0.9790158443376186, 0.9790537090658257, 0.09366367293073555, 0.037002932515846146, 0.8691834669086776, 0.9790448147222142, 0.02759244223767525, 0.9703342186915797, 0.9852400590940055, 0.012471393153088678, 0.6977838600667448, 0.15792798680494455, 0.14503590624943888, 0.977687672401159, 0.0015111092309136923, 0.019644420001878, 0.9978354224733488, 0.988967732608084, 0.9878190074107016, 0.9595414985425388, 0.014042070710378617, 0.028084141420757235, 0.9970193600818692, 0.9857247695579324, 0.9986218918891278, 0.5923078545622139, 0.09052252116894212, 0.3162700430964274, 0.9900569680678566, 0.9941305633997203, 0.084521439779745, 0.9163903470856563, 0.004448496830512894, 0.9790719872593182, 0.9903436475050895, 0.9949695580326972, 0.37580177810535936, 0.24337638963013747, 0.3805738641765385, 0.3406510096170876, 0.3924416342055528, 0.2669770225264541, 0.18752553741686376, 0.668224802344599, 0.14526626137926066, 0.030165279046091613, 0.9602613829672497, 0.010055093015363871, 0.3828784594597169, 0.5817522223829679, 0.035314032668614666, 0.4379359268324978, 0.3288181122872768, 0.23361464993238595, 0.007978578483133275, 0.08776436331446603, 0.9035740132148434, 0.9898986195566944, 0.8931146563598167, 0.06895370508660349, 0.03611860742631612, 0.9867000648450555, 0.32176327216311396, 0.35338619817423084, 0.3249255647642257, 0.9953582834342746, 0.3594852256433691, 0.33356884891094013, 0.3068164600258522, 0.995847358554098, 0.002359533921096768, 0.9969030816633845, 0.006613933040345767, 0.9920899560518651, 0.9981847398496461, 0.994076982271773, 0.9891338718836534, 0.9789502493612895, 0.9925199531304906, 0.010908279664293832, 0.9882901375850212, 0.33306574055101257, 0.5197844132841559, 0.14634706781786916, 0.9925719973364052, 0.959707971548984, 0.0041726433545608, 0.0375537901910472, 0.9947461822182099, 0.004501113946688733, 0.9960337001160805, 0.006807255407519482, 0.020421766222558445, 0.9768411509790457, 0.9979865845789281, 0.3239944878979855, 0.3156418484542111, 0.36048233388921047, 0.6422024583166188, 0.08683569644400047, 0.2710037119790784, 0.9925429623443954, 0.04988828181346682, 0.9478773544558696, 0.9829218096302001, 0.014245243617828987, 0.044596590091206506, 0.9513939219457388, 0.9968399211465433, 0.4564422639762388, 0.3588708002598606, 0.18479443885677685, 0.9789917345076058, 0.9915373899106418, 0.002360803309311052, 0.007082409927933155, 0.021771283995886345, 0.97245068514959, 0.007257094665295448, 0.4435607357053212, 0.054313559474120955, 0.5018100603587262, 0.6597180938729159, 0.027819437693436214, 0.31131275514083384, 0.9895320875518403, 0.995993145209842, 0.9935015461575268, 0.0059669762531983596, 0.36630938742158536, 0.36545551938563764, 0.268114563287594, 0.9950283854712226, 0.919516250116978, 0.030994929779223978, 0.04821433521212619, 0.04643818844371455, 0.05159798715968283, 0.9029647752944495, 0.99486773688985, 0.22620018636631864, 0.12785227925052792, 0.6460228148668502, 0.04378272441656727, 0.05137172998210559, 0.9048429712757234, 0.9982587719926433, 0.17250234788196597, 0.7382358543765856, 0.09088833383028315, 0.9869772992157478, 0.819635689830392, 0.16208526001140336, 0.016576901592075345, 0.992861222691962, 0.0024883739917091778, 0.0049767479834183555, 0.9972748898922497, 0.2709181382328332, 0.6508089354196552, 0.07718896675907538, 0.13952451211149228, 0.8002141135806174, 0.06155493181389365, 0.9956222338589222, 0.03933995196986584, 0.10115987649394073, 0.8598589501984962, 0.04713708443107366, 0.09539648039622049, 0.8574460120319113, 0.9884136644324424, 0.009324657211626815, 0.9916675760543407, 0.007212127825849751, 0.05378573843745033, 0.02817348203866446, 0.9169187790765342, 0.007714758466270477, 0.018515420319049142, 0.9736025184433341, 0.9930777150864388, 0.26046832431417033, 0.482273381737956, 0.2572124702602432, 0.1630455242525972, 0.43580392463778317, 0.4007567558732062, 0.17818367007759048, 0.7999309443908849, 0.02274685149926687, 0.044292059638285725, 0.9375152623437145, 0.014764019879428575, 0.04351535322789492, 0.9007678118174248, 0.0565699591962634, 0.9948039520297087, 0.008087837008371615, 0.023231503279526645, 0.9757231377401191, 0.9790412414346388, 0.9931663469503295, 0.04200607114501528, 0.01680242845800611, 0.9437363983913433, 0.9949440446284691, 0.38160824162431045, 0.24119971302666338, 0.3769473776044715, 0.5406737481296483, 0.10813474962592966, 0.35159602802349055, 0.9187402084322457, 0.011532303871534465, 0.0691938232292068, 0.04021673410892619, 0.9410715781488729, 0.016086693643570477, 0.0025757165156009977, 0.005151433031201995, 0.9942265750219851, 0.9507382301780627, 0.04289044647419832, 0.01072261161854958, 0.9939154751649709, 0.9069162125891407, 0.00022453979019290435, 0.0927349333496695, 0.9954855671656265, 0.8294266972750995, 0.1312227312106874, 0.03961440942209431, 0.4098593564585017, 0.22317889045112574, 0.366779248918338, 0.7854110924039476, 0.19268752133643513, 0.023038725377182462, 0.16643183122065006, 0.42219839537591375, 0.41240828765705195, 0.22625379476521923, 0.6280128695819637, 0.14590197980187034, 0.2976956048488984, 0.5355285065488335, 0.16502691138362846, 0.9937880385258827, 0.19185089736020888, 0.13475241600300386, 0.6737620800150192, 0.21858144027932677, 0.057813207030401645, 0.7238530304902343, 0.2119700077836582, 0.7660963273440875, 0.021697717332185486, 0.25232939651795705, 0.5521560912040002, 0.1944420643756022, 0.3787144973547351, 0.30998838933223877, 0.3109495936402457, 0.41839170914563784, 0.3064182869864687, 0.2755753084276557, 0.9975250878139417], \"Term\": [\"2020\", \"2020\", \"2020\", \"abortion\", \"abortion\", \"abortion\", \"abortions\", \"abortions\", \"abortions\", \"according\", \"according\", \"according\", \"administration\", \"administration\", \"administration\", \"affirming\", \"allen\", \"altman\", \"amazon\", \"amazon\", \"antiabortion\", \"arrest\", \"arrested\", \"arrested\", \"asylum\", \"asylum\", \"attorney\", \"attorney\", \"attorney\", \"ban\", \"ban\", \"ban\", \"banking\", \"bans\", \"bans\", \"beijing\", \"biden\", \"biden\", \"biden\", \"bill\", \"bill\", \"bill\", \"birth\", \"birth\", \"bonds\", \"border\", \"border\", \"border\", \"borrowing\", \"boxes\", \"bud\", \"budget\", \"budget\", \"bytedance\", \"campaign\", \"campaign\", \"campaign\", \"care\", \"care\", \"care\", \"carroll\", \"case\", \"case\", \"case\", \"caucus\", \"ceiling\", \"ceiling\", \"charges\", \"charges\", \"charges\", \"china\", \"china\", \"china\", \"chinese\", \"chinese\", \"classified\", \"collins\", \"collins\", \"committee\", \"committee\", \"committee\", \"company\", \"company\", \"company\", \"concessions\", \"congress\", \"congress\", \"congress\", \"congressional\", \"congressional\", \"congressional\", \"conspiracy\", \"convicted\", \"could\", \"could\", \"could\", \"country\", \"country\", \"country\", \"county\", \"county\", \"county\", \"court\", \"court\", \"court\", \"criminal\", \"criminal\", \"criminal\", \"crow\", \"cuts\", \"cuts\", \"cuts\", \"data\", \"data\", \"data\", \"deadline\", \"deadline\", \"deal\", \"deal\", \"deal\", \"debt\", \"default\", \"default\", \"default\", \"democratic\", \"democratic\", \"democratic\", \"democrats\", \"democrats\", \"democrats\", \"department\", \"department\", \"department\", \"der\", \"desantis\", \"desantis\", \"desantis\", \"documents\", \"documents\", \"drug\", \"drug\", \"drug\", \"drugs\", \"drugs\", \"drugs\", \"durbin\", \"durham\", \"economists\", \"election\", \"election\", \"election\", \"epa\", \"erdogan\", \"evidence\", \"evidence\", \"evidence\", \"fbi\", \"fbi\", \"fda\", \"federal\", \"federal\", \"federal\", \"feinstein\", \"financial\", \"financial\", \"financial\", \"first\", \"first\", \"first\", \"fiscal\", \"fiscal\", \"fiscal\", \"former\", \"former\", \"former\", \"gay\", \"gaza\", \"gender\", \"gender\", \"gender\", \"google\", \"google\", \"gop\", \"gop\", \"gop\", \"government\", \"government\", \"government\", \"gunman\", \"health\", \"health\", \"health\", \"holy\", \"hong\", \"house\", \"house\", \"house\", \"idf\", \"immigration\", \"immigration\", \"indictment\", \"indictment\", \"information\", \"information\", \"information\", \"investigation\", \"investigation\", \"investigation\", \"investigators\", \"irs\", \"israel\", \"jan\", \"jan\", \"jan\", \"japanese\", \"jeffries\", \"jury\", \"justice\", \"justice\", \"justice\", \"keepers\", \"kilicdaroglu\", \"king\", \"king\", \"king\", \"kong\", \"korea\", \"lago\", \"last\", \"last\", \"last\", \"law\", \"law\", \"law\", \"laws\", \"laws\", \"laws\", \"lgbtq\", \"lgbtq\", \"lgbtq\", \"life\", \"life\", \"life\", \"like\", \"like\", \"like\", \"limit\", \"limit\", \"limit\", \"lord\", \"man\", \"man\", \"man\", \"manchin\", \"many\", \"many\", \"many\", \"mar\", \"may\", \"may\", \"may\", \"mayorkas\", \"mccarthy\", \"mccarthy\", \"mcconnell\", \"mcconnell\", \"medication\", \"medications\", \"mehta\", \"meta\", \"mifepristone\", \"migrants\", \"migrants\", \"military\", \"military\", \"military\", \"moody\", \"mr\", \"mr\", \"mr\", \"musk\", \"musk\", \"neely\", \"negotiations\", \"negotiations\", \"negotiations\", \"negotiators\", \"new\", \"new\", \"new\", \"office\", \"office\", \"office\", \"palestinian\", \"patients\", \"patients\", \"paxton\", \"paxton\", \"payments\", \"payments\", \"penny\", \"people\", \"people\", \"people\", \"pill\", \"police\", \"police\", \"police\", \"pregnancy\", \"pregnancy\", \"pregnancy\", \"president\", \"president\", \"president\", \"presidential\", \"presidential\", \"presidential\", \"pride\", \"prosecutor\", \"prosecutors\", \"prosecutors\", \"public\", \"public\", \"public\", \"recession\", \"records\", \"records\", \"records\", \"rep\", \"rep\", \"rep\", \"reproductive\", \"republican\", \"republican\", \"republican\", \"republicans\", \"republicans\", \"republicans\", \"rhodes\", \"rights\", \"rights\", \"rights\", \"riot\", \"russia\", \"russia\", \"russia\", \"russian\", \"russian\", \"russian\", \"santos\", \"school\", \"school\", \"school\", \"schools\", \"schools\", \"schools\", \"schumer\", \"sen\", \"sen\", \"sen\", \"senate\", \"senate\", \"senate\", \"sentenced\", \"sentenced\", \"shooting\", \"shooting\", \"speaker\", \"speaker\", \"speaker\", \"spending\", \"spending\", \"spending\", \"stamps\", \"state\", \"state\", \"state\", \"states\", \"states\", \"states\", \"students\", \"students\", \"students\", \"studies\", \"studies\", \"studies\", \"study\", \"study\", \"study\", \"taiwan\", \"taiwan\", \"tax\", \"tax\", \"thai\", \"thailand\", \"thomas\", \"thomas\", \"thomas\", \"tiktok\", \"time\", \"time\", \"time\", \"told\", \"told\", \"told\", \"town\", \"town\", \"town\", \"transgender\", \"transgender\", \"transgender\", \"treasury\", \"treasury\", \"treasury\", \"trial\", \"trial\", \"trial\", \"trillion\", \"trump\", \"trump\", \"trump\", \"turkey\", \"twitter\", \"twitter\", \"twitter\", \"two\", \"two\", \"two\", \"ukraine\", \"ukraine\", \"ukraine\", \"united\", \"united\", \"united\", \"university\", \"university\", \"university\", \"use\", \"use\", \"use\", \"verdict\", \"vote\", \"vote\", \"vote\", \"white\", \"white\", \"white\", \"women\", \"women\", \"women\", \"world\", \"world\", \"world\", \"year\", \"year\", \"year\", \"years\", \"years\", \"years\", \"yellen\"]}, \"R\": 30, \"lambda.step\": 0.01, \"plot.opts\": {\"xlab\": \"PC1\", \"ylab\": \"PC2\"}, \"topic.order\": [1, 2, 3]};\n",
       "\n",
       "function LDAvis_load_lib(url, callback){\n",
       "  var s = document.createElement('script');\n",
       "  s.src = url;\n",
       "  s.async = true;\n",
       "  s.onreadystatechange = s.onload = callback;\n",
       "  s.onerror = function(){console.warn(\"failed to load library \" + url);};\n",
       "  document.getElementsByTagName(\"head\")[0].appendChild(s);\n",
       "}\n",
       "\n",
       "if(typeof(LDAvis) !== \"undefined\"){\n",
       "   // already loaded: just create the visualization\n",
       "   !function(LDAvis){\n",
       "       new LDAvis(\"#\" + \"ldavis_el3868424574792197921582599621\", ldavis_el3868424574792197921582599621_data);\n",
       "   }(LDAvis);\n",
       "}else if(typeof define === \"function\" && define.amd){\n",
       "   // require.js is available: use it to load d3/LDAvis\n",
       "   require.config({paths: {d3: \"https://d3js.org/d3.v5\"}});\n",
       "   require([\"d3\"], function(d3){\n",
       "      window.d3 = d3;\n",
       "      LDAvis_load_lib(\"https://cdn.jsdelivr.net/gh/bmabey/pyLDAvis@3.4.0/pyLDAvis/js/ldavis.v3.0.0.js\", function(){\n",
       "        new LDAvis(\"#\" + \"ldavis_el3868424574792197921582599621\", ldavis_el3868424574792197921582599621_data);\n",
       "      });\n",
       "    });\n",
       "}else{\n",
       "    // require.js not available: dynamically load d3 & LDAvis\n",
       "    LDAvis_load_lib(\"https://d3js.org/d3.v5.js\", function(){\n",
       "         LDAvis_load_lib(\"https://cdn.jsdelivr.net/gh/bmabey/pyLDAvis@3.4.0/pyLDAvis/js/ldavis.v3.0.0.js\", function(){\n",
       "                 new LDAvis(\"#\" + \"ldavis_el3868424574792197921582599621\", ldavis_el3868424574792197921582599621_data);\n",
       "            })\n",
       "         });\n",
       "}\n",
       "</script>"
      ],
      "text/plain": [
       "<IPython.core.display.HTML object>"
      ]
     },
     "execution_count": 380,
     "metadata": {},
     "output_type": "execute_result"
    }
   ],
   "source": [
    "lda_display_left = pyLDAvis.lda_model.prepare(Left_lda_para_model, Left_count_text_vectors, \n",
    "                                              Lcount_text_vectorizer, sort_topics=False)\n",
    "pyLDAvis.display(lda_display_left)"
   ]
  },
  {
   "cell_type": "code",
   "execution_count": 381,
   "id": "18ab3246",
   "metadata": {},
   "outputs": [],
   "source": [
    "pyLDAvis.save_html(lda_display_left, 'lda_left.html')"
   ]
  },
  {
   "cell_type": "code",
   "execution_count": 382,
   "id": "94859206",
   "metadata": {},
   "outputs": [
    {
     "data": {
      "text/html": [
       "\n",
       "<link rel=\"stylesheet\" type=\"text/css\" href=\"https://cdn.jsdelivr.net/gh/bmabey/pyLDAvis@3.4.0/pyLDAvis/js/ldavis.v1.0.0.css\">\n",
       "\n",
       "\n",
       "<div id=\"ldavis_el3868424574792208008280950021\" style=\"background-color:white;\"></div>\n",
       "<script type=\"text/javascript\">\n",
       "\n",
       "var ldavis_el3868424574792208008280950021_data = {\"mdsDat\": {\"x\": [-0.05712042063861704, -0.060728714391896685, 0.1178491350305138], \"y\": [0.0899369342709076, -0.08811969389552816, -0.0018172403753794416], \"topics\": [1, 2, 3], \"cluster\": [1, 1, 1], \"Freq\": [37.974194864582664, 33.22900605408961, 28.796799081327716]}, \"tinfo\": {\"Term\": [\"biden\", \"border\", \"trump\", \"desantis\", \"house\", \"migrants\", \"debt\", \"police\", \"president\", \"ai\", \"republicans\", \"fbi\", \"title\", \"democrats\", \"percent\", \"42\", \"administration\", \"bill\", \"republican\", \"women\", \"hunter\", \"ceiling\", \"campaign\", \"immigration\", \"former\", \"joe\", \"transgender\", \"china\", \"mccarthy\", \"spending\", \"ai\", \"khan\", \"sloot\", \"reparations\", \"beijing\", \"der\", \"holloway\", \"chatgpt\", \"nuclear\", \"natalee\", \"korean\", \"hong\", \"patient\", \"kong\", \"patients\", \"altman\", \"software\", \"africa\", \"epa\", \"xi\", \"suspects\", \"regime\", \"oakland\", \"openai\", \"wuhan\", \"vehicles\", \"plants\", \"joran\", \"emissions\", \"pakistan\", \"suspect\", \"police\", \"iran\", \"minister\", \"chinese\", \"artificial\", \"hospital\", \"korea\", \"murder\", \"china\", \"arrested\", \"technology\", \"arrest\", \"shooting\", \"communist\", \"london\", \"van\", \"prison\", \"victims\", \"property\", \"reading\", \"ukraine\", \"military\", \"crime\", \"global\", \"health\", \"according\", \"officers\", \"old\", \"medical\", \"home\", \"california\", \"government\", \"world\", \"year\", \"use\", \"security\", \"told\", \"people\", \"state\", \"also\", \"could\", \"one\", \"city\", \"time\", \"new\", \"black\", \"two\", \"public\", \"years\", \"school\", \"may\", \"would\", \"law\", \"like\", \"first\", \"last\", \"durham\", \"neely\", \"sports\", \"disney\", \"collusion\", \"feinstein\", \"subway\", \"christie\", \"gaines\", \"antisemitism\", \"wray\", \"carroll\", \"penny\", \"womens\", \"dodgers\", \"licht\", \"schiff\", \"ix\", \"comey\", \"verdict\", \"crossfire\", \"locker\", \"chokehold\", \"pollak\", \"hawkins\", \"hostin\", \"jews\", \"kaitlan\", \"carlson\", \"newscom\", \"transgender\", \"trans\", \"desantis\", \"abortion\", \"pence\", \"hutchinson\", \"fbi\", \"hampshire\", \"athletes\", \"trump\", \"audience\", \"ramaswamy\", \"ron\", \"biological\", \"hall\", \"clinton\", \"gender\", \"iowa\", \"women\", \"campaign\", \"presidential\", \"donald\", \"girls\", \"counsel\", \"nomination\", \"former\", \"lgbtq\", \"florida\", \"pride\", \"race\", \"2024\", \"governor\", \"twitter\", \"gov\", \"media\", \"election\", \"investigation\", \"event\", \"republican\", \"president\", \"like\", \"one\", \"think\", \"also\", \"state\", \"new\", \"people\", \"school\", \"first\", \"would\", \"may\", \"going\", \"told\", \"time\", \"last\", \"migrants\", \"border\", \"ceiling\", \"immigration\", \"migrant\", \"mayorkas\", \"asylum\", \"default\", \"paxton\", \"dhs\", \"mccarthy\", \"debt\", \"aliens\", \"cbp\", \"erdogan\", \"manchin\", \"paso\", \"coronation\", \"cartels\", \"morell\", \"alejandro\", \"expiration\", \"inflow\", \"migration\", \"encounters\", \"trillion\", \"busch\", \"massie\", \"crossings\", \"anheuser\", \"kennedy\", \"hunter\", \"42\", \"fiscal\", \"immigrants\", \"biden\", \"spending\", \"title\", \"cuts\", \"bidens\", \"patrol\", \"surge\", \"abbott\", \"house\", \"limit\", \"illegal\", \"republicans\", \"joe\", \"democrats\", \"deal\", \"administration\", \"vote\", \"texas\", \"percent\", \"bill\", \"rep\", \"congress\", \"president\", \"americans\", \"senate\", \"committee\", \"would\", \"republican\", \"new\", \"people\", \"white\", \"also\", \"may\", \"one\", \"country\", \"going\"], \"Freq\": [5117.0, 2526.0, 3596.0, 2070.0, 2937.0, 1435.0, 1168.0, 1701.0, 3944.0, 1280.0, 1495.0, 1264.0, 910.0, 1194.0, 1428.0, 765.0, 1337.0, 1647.0, 1883.0, 1206.0, 673.0, 623.0, 1404.0, 615.0, 2065.0, 969.0, 720.0, 1137.0, 596.0, 684.0, 1279.7407444031066, 184.3733004461654, 181.40836238483203, 278.0082672420597, 176.4414160979988, 208.96420454334503, 127.97444690651015, 127.97230483892939, 133.86050458621878, 122.03737792947086, 111.1468902730043, 109.16623831436216, 132.75926625023982, 104.21854396738526, 152.3344096984003, 96.30772728475205, 104.16854012914949, 123.80995032509475, 95.29859427429727, 94.31582152622569, 102.14812667989776, 158.1227320982717, 90.34903097743471, 84.4314581752835, 79.47838628828683, 80.44496450247922, 82.39120440974949, 74.54163502159837, 74.52259288832413, 69.59093397838608, 319.1578570921014, 1644.0751787731724, 162.711226320674, 296.10085460614044, 793.9813254065245, 232.80848437464712, 203.14777571160292, 181.26402165677328, 312.4737066170258, 1043.2712297345856, 330.03150125582874, 377.8565926846441, 262.40425081652296, 293.1425218525327, 261.3993381390107, 439.076384493434, 240.13629412860996, 340.66122753755843, 239.79377701344265, 228.0152901035082, 378.96997858867337, 389.78846731695296, 529.638566263956, 463.23665558617876, 230.98467710247863, 794.9866197694853, 1105.6273890080674, 335.84114302530065, 659.328719013062, 362.3394514566175, 492.0934582024459, 527.9118846028409, 882.8577280801094, 582.3595855641526, 1201.8872751517727, 618.6193578127529, 715.2507790240732, 1118.5360984137149, 1369.9122790409515, 1166.1831226110091, 1355.3577241759676, 861.473733762274, 1253.4205093396074, 738.7045525905991, 923.6189336451076, 1163.5531600313159, 550.1312476050961, 840.7732792459362, 773.2971697608011, 805.1738996516381, 734.1064511414559, 985.678712962527, 1033.084871305891, 761.5368372057814, 806.5369756407795, 706.1745055178494, 631.2996814037292, 486.2845942319008, 278.42489574192126, 557.8218865610615, 231.87818461458878, 202.23273497742179, 171.51615901654367, 182.27587121992485, 129.98047614136308, 128.99088864295896, 129.96585253645895, 130.90519786705033, 101.26932554301031, 197.61166542834064, 104.15090673983703, 87.41720599197228, 83.46871092612605, 84.44844579007236, 86.38716783324404, 80.49243602529013, 84.41492658122361, 86.36858902426066, 76.53457209237199, 78.46468971648162, 77.47395804662905, 72.54816148807, 69.60538678893668, 70.57990681140588, 70.57927739209029, 130.3623695754217, 71.54558376449235, 713.1100697420663, 407.5818093895879, 2016.7336303431407, 468.1711412705533, 211.97361612292983, 94.04638597539439, 1200.5359488266208, 250.26229511184926, 193.29273505315953, 3243.4681419571248, 206.65966161795998, 150.16166954377735, 495.1406454222404, 251.48774225140352, 362.96868277973095, 225.13923988396934, 628.3294459711984, 337.68862328993833, 1035.6178658771419, 1161.8697241250702, 907.1999136649455, 569.4363068450481, 289.332273186358, 206.20998805627536, 258.4395248269954, 1537.5415938571268, 337.03341197763336, 873.5201937186275, 440.46278766449296, 535.1204103282525, 709.4199898370019, 553.6057617325974, 850.0193694720009, 609.3699911892941, 874.3389668837453, 769.5593888948933, 566.6369343644058, 415.05619291067325, 967.9846699366099, 1555.35111641056, 1075.940312553083, 1236.1907412361495, 829.8851809160836, 1264.9531135594743, 1058.150280301673, 1151.281087997732, 1163.2672694311561, 781.8031461149778, 870.3315287009473, 1036.088444554433, 930.4253881626988, 739.9037328095689, 782.8491600368716, 703.286483263564, 688.8154921283834, 1435.1795810451906, 2525.386464438489, 622.4395606970967, 614.5797623068066, 403.70374581762445, 323.6278013970199, 299.17309321433527, 218.11705785747998, 202.5015768857624, 223.9072934731665, 594.5986519205951, 1163.364118768333, 151.68335271036904, 140.96703661266298, 136.05124416410166, 144.6970521967367, 110.68584433912552, 116.47546594638997, 113.53561316594748, 99.93766299857495, 94.08932602611418, 92.13571152884953, 83.3462268721968, 255.8405086305586, 92.94317424695289, 161.651113930179, 110.29978754403605, 69.64617248045246, 65.75961166649833, 93.76809148702155, 334.91134994691527, 660.3080197735478, 745.3516684338528, 207.8545980857935, 265.76853272255215, 4784.729806819023, 654.8096541289376, 853.6025315970544, 226.7918186157881, 458.4441023470981, 339.0152964113479, 181.54924246045084, 178.67251999679885, 2373.7951459081473, 362.6575593819983, 612.4087106138869, 1232.263659477263, 815.3068101427858, 976.7557573034641, 630.876232470787, 1059.8581616759773, 672.730414175229, 949.8355951759025, 1052.6873845960138, 1161.1695647950903, 708.7943533901099, 702.4710435230929, 2137.7653026712946, 796.1485923584682, 733.12096311783, 719.2323059507496, 1435.9803774261784, 894.1503226122322, 1019.6465235986685, 1034.6313535486215, 775.0735265026201, 964.2753649040329, 883.7822756757948, 795.3721133707903, 709.1306562025019, 709.045311180745], \"Total\": [5117.0, 2526.0, 3596.0, 2070.0, 2937.0, 1435.0, 1168.0, 1701.0, 3944.0, 1280.0, 1495.0, 1264.0, 910.0, 1194.0, 1428.0, 765.0, 1337.0, 1647.0, 1883.0, 1206.0, 673.0, 623.0, 1404.0, 615.0, 2065.0, 969.0, 720.0, 1137.0, 596.0, 684.0, 1280.4114568724615, 185.03271421015188, 182.06422849368528, 279.03095197698303, 177.11649811204677, 209.76873510096806, 128.63110853825108, 128.63109633715905, 134.56779594492977, 122.69409544725983, 111.80952642071989, 109.83048529220972, 133.57688122122823, 104.88297193051511, 153.3672546932686, 96.96699968633405, 104.88298028292046, 124.67188687834182, 95.97726350169043, 94.98795765898596, 102.90403965350757, 159.3031043861224, 91.02994147365412, 85.09295704824544, 80.14542396774335, 81.13464755570014, 83.11330680422152, 75.19799633706022, 75.19776666131453, 70.2504691617872, 324.508284906966, 1701.8657320902137, 165.21904767637375, 302.765848942735, 832.6624070152761, 238.40180524181733, 207.79201679594962, 185.03343281773766, 323.56531879710104, 1137.70569626104, 348.16047447798337, 403.39920595334945, 274.96404906665464, 311.6927533814936, 276.86355876214145, 480.7177341836642, 253.26297691318214, 368.9928380444349, 257.26552713119577, 244.3544019456495, 433.3109570663017, 453.75303133672116, 657.694766897145, 587.3197853498366, 252.09381156646052, 1138.800123185714, 1811.7015061537998, 402.9784414607376, 968.0850500914187, 446.1467801571318, 676.9440379957999, 746.6587645365636, 1559.0890107968305, 875.8237243422643, 2485.947936601207, 977.1609372194187, 1259.0858914192588, 2480.2579750592, 3567.8109020207294, 2779.466989428756, 3584.586202639475, 1746.9405870524654, 3284.9833639465473, 1368.806667488219, 2085.0221814759475, 3334.480771627716, 868.9603927814775, 1901.3541110253734, 1629.5945784503685, 1814.3152353379178, 1529.7875304273566, 2799.8863768010206, 3505.153693286502, 1776.7684857140716, 2325.7591356265552, 2032.6466894568412, 1854.4599572738516, 486.9540095929869, 279.10591397188284, 559.2057942104507, 232.5874758393954, 202.89491428295656, 172.21211667067845, 183.0997916693847, 130.64291853868986, 129.65321605714996, 130.6428943066248, 131.63183229724598, 101.94007537138167, 198.93118937466676, 104.90898806554301, 88.08356369045629, 84.12459303366761, 85.11422597700479, 87.09338957966656, 81.15526438046481, 85.11431096798353, 87.09381294070313, 77.19629423699259, 79.17578730875641, 78.18591200127236, 73.23726860322233, 70.26799786641945, 71.25773102055597, 71.25751217971371, 131.6323475789804, 72.2472643510241, 720.4600410424194, 411.69960248641235, 2070.8381334894434, 474.02850812066424, 214.7441761053945, 95.01160798518544, 1264.761754533187, 256.2708178192346, 196.95560646868745, 3596.0423875600172, 212.72576551689244, 153.38015600929336, 528.0951033547932, 262.27748594122534, 385.847443499955, 236.40767449690784, 699.727946293351, 362.96503044292746, 1206.18661897489, 1404.0491911361564, 1074.6906770348342, 657.0259679335178, 312.75144447019744, 216.68426015861382, 277.89475266024476, 2065.4041343832837, 374.82561911463523, 1129.5620143812855, 512.7316033029655, 680.3722940426809, 970.549692450159, 713.7282455355864, 1287.5410762338433, 859.289905922752, 1422.8613280792665, 1222.1229818458573, 813.2049363977457, 531.0261655829898, 1883.4817197446173, 3944.3780960418826, 2325.7591356265552, 3284.9833639465473, 1675.426444377435, 3584.586202639475, 2779.466989428756, 3334.480771627716, 3567.8109020207294, 1529.7875304273566, 2032.6466894568412, 3505.153693286502, 2799.8863768010206, 1804.698603788881, 2480.2579750592, 2085.0221814759475, 1854.4599572738516, 1435.8525818257344, 2526.909490105518, 623.1854631837277, 615.3719466204558, 404.3894201998285, 324.2944837481514, 299.87583680330727, 218.8041809937151, 203.17578250201103, 224.66568928046644, 596.8323464948749, 1168.2736477068033, 152.38437417393106, 141.63959497373867, 136.75619118433605, 145.54898250278998, 111.35991477492702, 117.22143281344385, 114.29126039637305, 100.61555807928859, 94.75480747814893, 92.80127946579813, 84.01038028762993, 257.89232794900306, 93.7802864387808, 163.13893156962718, 111.3650410098558, 70.33601326669826, 66.42868285172099, 94.75907473759361, 338.9898972077387, 673.1592995626359, 765.061893409463, 211.0220041742311, 270.62640764895394, 5117.716618490465, 684.1149864012025, 910.1072897330067, 232.54464023674197, 480.8589871264208, 352.7893843337523, 185.63802968065238, 182.70699823458247, 2937.6622376982345, 391.0724994534061, 689.6162236381155, 1495.9563209191278, 969.0096229094773, 1194.5090042709157, 737.8682713723176, 1337.8581402451855, 805.6142429227889, 1236.3888359889968, 1428.0651656858302, 1647.3212906749782, 905.1022771186774, 915.074936156056, 3944.3780960418826, 1079.0873343867734, 977.0247746623452, 1004.909046407081, 3505.153693286502, 1883.4817197446173, 3334.480771627716, 3567.8109020207294, 1544.5390042551376, 3584.586202639475, 2799.8863768010206, 3284.9833639465473, 1674.985768151248, 1804.698603788881], \"Category\": [\"Default\", \"Default\", \"Default\", \"Default\", \"Default\", \"Default\", \"Default\", \"Default\", \"Default\", \"Default\", \"Default\", \"Default\", \"Default\", \"Default\", \"Default\", \"Default\", \"Default\", \"Default\", \"Default\", \"Default\", \"Default\", \"Default\", \"Default\", \"Default\", \"Default\", \"Default\", \"Default\", \"Default\", \"Default\", \"Default\", \"Topic1\", \"Topic1\", \"Topic1\", \"Topic1\", \"Topic1\", \"Topic1\", \"Topic1\", \"Topic1\", \"Topic1\", \"Topic1\", \"Topic1\", \"Topic1\", \"Topic1\", \"Topic1\", \"Topic1\", \"Topic1\", \"Topic1\", \"Topic1\", \"Topic1\", \"Topic1\", \"Topic1\", \"Topic1\", \"Topic1\", \"Topic1\", \"Topic1\", \"Topic1\", \"Topic1\", \"Topic1\", \"Topic1\", \"Topic1\", \"Topic1\", \"Topic1\", \"Topic1\", \"Topic1\", \"Topic1\", \"Topic1\", \"Topic1\", \"Topic1\", \"Topic1\", \"Topic1\", \"Topic1\", \"Topic1\", \"Topic1\", \"Topic1\", \"Topic1\", \"Topic1\", \"Topic1\", \"Topic1\", \"Topic1\", \"Topic1\", \"Topic1\", \"Topic1\", \"Topic1\", \"Topic1\", \"Topic1\", \"Topic1\", \"Topic1\", \"Topic1\", \"Topic1\", \"Topic1\", \"Topic1\", \"Topic1\", \"Topic1\", \"Topic1\", \"Topic1\", \"Topic1\", \"Topic1\", \"Topic1\", \"Topic1\", \"Topic1\", \"Topic1\", \"Topic1\", \"Topic1\", \"Topic1\", \"Topic1\", \"Topic1\", \"Topic1\", \"Topic1\", \"Topic1\", \"Topic1\", \"Topic1\", \"Topic1\", \"Topic1\", \"Topic1\", \"Topic1\", \"Topic1\", \"Topic1\", \"Topic2\", \"Topic2\", \"Topic2\", \"Topic2\", \"Topic2\", \"Topic2\", \"Topic2\", \"Topic2\", \"Topic2\", \"Topic2\", \"Topic2\", \"Topic2\", \"Topic2\", \"Topic2\", \"Topic2\", \"Topic2\", \"Topic2\", \"Topic2\", \"Topic2\", \"Topic2\", \"Topic2\", \"Topic2\", \"Topic2\", \"Topic2\", \"Topic2\", \"Topic2\", \"Topic2\", \"Topic2\", \"Topic2\", \"Topic2\", \"Topic2\", \"Topic2\", \"Topic2\", \"Topic2\", \"Topic2\", \"Topic2\", \"Topic2\", \"Topic2\", \"Topic2\", \"Topic2\", \"Topic2\", \"Topic2\", \"Topic2\", \"Topic2\", \"Topic2\", \"Topic2\", \"Topic2\", \"Topic2\", \"Topic2\", \"Topic2\", \"Topic2\", \"Topic2\", \"Topic2\", \"Topic2\", \"Topic2\", \"Topic2\", \"Topic2\", \"Topic2\", \"Topic2\", \"Topic2\", \"Topic2\", \"Topic2\", \"Topic2\", \"Topic2\", \"Topic2\", \"Topic2\", \"Topic2\", \"Topic2\", \"Topic2\", \"Topic2\", \"Topic2\", \"Topic2\", \"Topic2\", \"Topic2\", \"Topic2\", \"Topic2\", \"Topic2\", \"Topic2\", \"Topic2\", \"Topic2\", \"Topic2\", \"Topic2\", \"Topic2\", \"Topic2\", \"Topic2\", \"Topic3\", \"Topic3\", \"Topic3\", \"Topic3\", \"Topic3\", \"Topic3\", \"Topic3\", \"Topic3\", \"Topic3\", \"Topic3\", \"Topic3\", \"Topic3\", \"Topic3\", \"Topic3\", \"Topic3\", \"Topic3\", \"Topic3\", \"Topic3\", \"Topic3\", \"Topic3\", \"Topic3\", \"Topic3\", \"Topic3\", \"Topic3\", \"Topic3\", \"Topic3\", \"Topic3\", \"Topic3\", \"Topic3\", \"Topic3\", \"Topic3\", \"Topic3\", \"Topic3\", \"Topic3\", \"Topic3\", \"Topic3\", \"Topic3\", \"Topic3\", \"Topic3\", \"Topic3\", \"Topic3\", \"Topic3\", \"Topic3\", \"Topic3\", \"Topic3\", \"Topic3\", \"Topic3\", \"Topic3\", \"Topic3\", \"Topic3\", \"Topic3\", \"Topic3\", \"Topic3\", \"Topic3\", \"Topic3\", \"Topic3\", \"Topic3\", \"Topic3\", \"Topic3\", \"Topic3\", \"Topic3\", \"Topic3\", \"Topic3\", \"Topic3\", \"Topic3\", \"Topic3\", \"Topic3\", \"Topic3\", \"Topic3\", \"Topic3\", \"Topic3\"], \"logprob\": [30.0, 29.0, 28.0, 27.0, 26.0, 25.0, 24.0, 23.0, 22.0, 21.0, 20.0, 19.0, 18.0, 17.0, 16.0, 15.0, 14.0, 13.0, 12.0, 11.0, 10.0, 9.0, 8.0, 7.0, 6.0, 5.0, 4.0, 3.0, 2.0, 1.0, -5.6232, -7.5606, -7.5769, -7.15, -7.6046, -7.4354, -7.9258, -7.9258, -7.8808, -7.9733, -8.0668, -8.0847, -7.8891, -8.1311, -7.7515, -8.2101, -8.1316, -7.9589, -8.2206, -8.231, -8.1512, -7.7142, -8.2739, -8.3417, -8.4021, -8.39, -8.3661, -8.4663, -8.4665, -8.535, -7.0119, -5.3727, -7.6856, -7.0869, -6.1005, -7.3274, -7.4637, -7.5777, -7.0331, -5.8275, -6.9784, -6.8431, -7.2077, -7.097, -7.2116, -6.6929, -7.2964, -6.9467, -7.2978, -7.3482, -6.8402, -6.812, -6.5054, -6.6394, -7.3353, -6.0993, -5.7694, -6.961, -6.2864, -6.885, -6.5789, -6.5087, -5.9944, -6.4105, -5.686, -6.3501, -6.205, -5.7578, -5.5551, -5.7161, -5.5658, -6.019, -5.644, -6.1727, -5.9493, -5.7184, -6.4675, -6.0433, -6.1269, -6.0866, -6.179, -5.8843, -5.8373, -6.1423, -6.0849, -6.2177, -6.3298, -6.4573, -7.015, -6.3201, -7.1979, -7.3347, -7.4994, -7.4386, -7.7767, -7.7844, -7.7769, -7.7697, -8.0263, -7.3578, -7.9983, -8.1734, -8.2197, -8.208, -8.1853, -8.256, -8.2084, -8.1855, -8.3064, -8.2815, -8.2942, -8.3599, -8.4013, -8.3874, -8.3874, -7.7738, -8.3738, -6.0745, -6.6339, -5.0349, -6.4953, -7.2877, -8.1003, -5.5536, -7.1216, -7.3799, -4.5597, -7.3131, -7.6324, -6.4393, -7.1167, -6.7498, -7.2274, -6.2011, -6.822, -5.7014, -5.5863, -5.8338, -6.2995, -6.9766, -7.3152, -7.0895, -5.3062, -6.8239, -5.8716, -6.5563, -6.3616, -6.0797, -6.3277, -5.8989, -6.2317, -5.8707, -5.9983, -6.3044, -6.6157, -5.7689, -5.2947, -5.6632, -5.5243, -5.9228, -5.5013, -5.6798, -5.5955, -5.5851, -5.9825, -5.8753, -5.7009, -5.8085, -6.0376, -5.9812, -6.0884, -6.1092, -5.2319, -4.6668, -6.0673, -6.08, -6.5003, -6.7214, -6.7999, -7.1159, -7.1902, -7.0897, -6.1131, -5.4419, -7.4792, -7.5524, -7.5879, -7.5263, -7.7943, -7.7433, -7.7689, -7.8964, -7.9567, -7.9777, -8.078, -6.9564, -7.969, -7.4155, -7.7978, -8.2575, -8.315, -7.9601, -6.6871, -6.0083, -5.8871, -7.1641, -6.9183, -4.0278, -6.0166, -5.7515, -7.0769, -6.3731, -6.6749, -7.2994, -7.3154, -4.7287, -6.6075, -6.0836, -5.3844, -5.7974, -5.6167, -6.0539, -5.5351, -5.9896, -5.6447, -5.5419, -5.4438, -5.9374, -5.9464, -4.8335, -5.8212, -5.9037, -5.9228, -5.2314, -5.7051, -5.5738, -5.5592, -5.848, -5.6296, -5.7168, -5.8222, -5.9369, -5.937], \"loglift\": [30.0, 29.0, 28.0, 27.0, 26.0, 25.0, 24.0, 23.0, 22.0, 21.0, 20.0, 19.0, 18.0, 17.0, 16.0, 15.0, 14.0, 13.0, 12.0, 11.0, 10.0, 9.0, 8.0, 7.0, 6.0, 5.0, 4.0, 3.0, 2.0, 1.0, 0.9677, 0.9647, 0.9647, 0.9646, 0.9644, 0.9644, 0.9631, 0.9631, 0.963, 0.9629, 0.9623, 0.9622, 0.9621, 0.9619, 0.9615, 0.9614, 0.9614, 0.9613, 0.9612, 0.9612, 0.9609, 0.9608, 0.9608, 0.9605, 0.9599, 0.9597, 0.9595, 0.9595, 0.9592, 0.9588, 0.9516, 0.9337, 0.953, 0.946, 0.9207, 0.9445, 0.9457, 0.9477, 0.9334, 0.8816, 0.9148, 0.9029, 0.9215, 0.9069, 0.9108, 0.8777, 0.915, 0.8884, 0.8979, 0.8991, 0.8343, 0.8163, 0.7517, 0.7309, 0.8808, 0.6089, 0.4744, 0.786, 0.5842, 0.7602, 0.6493, 0.6216, 0.3996, 0.5602, 0.2415, 0.5111, 0.4028, 0.1719, 0.0111, 0.0997, -0.0043, 0.2613, 0.0048, 0.3515, 0.154, -0.0846, 0.5111, 0.1523, 0.2228, 0.1559, 0.234, -0.0757, -0.2534, 0.1211, -0.0908, -0.089, -0.1093, 1.1004, 1.0993, 1.0993, 1.0987, 1.0985, 1.0977, 1.0972, 1.0967, 1.0966, 1.0966, 1.0962, 1.0951, 1.0951, 1.0945, 1.0942, 1.0939, 1.0939, 1.0936, 1.0935, 1.0935, 1.0934, 1.0931, 1.0927, 1.0926, 1.0923, 1.0923, 1.0922, 1.0922, 1.0921, 1.092, 1.0915, 1.0917, 1.0753, 1.0893, 1.0888, 1.0915, 1.0496, 1.078, 1.083, 0.9986, 1.0728, 1.0805, 1.0373, 1.0597, 1.0406, 1.0529, 0.9941, 1.0296, 0.9493, 0.9124, 0.9323, 0.9587, 1.0239, 1.0522, 1.0292, 0.8066, 0.9955, 0.8447, 0.9498, 0.8616, 0.7883, 0.8477, 0.6865, 0.7581, 0.6148, 0.6392, 0.7405, 0.8553, 0.4361, 0.1712, 0.3309, 0.1244, 0.3992, 0.0601, 0.136, 0.0383, -0.019, 0.4305, 0.2535, -0.117, 0.0001, 0.2101, -0.0514, 0.015, 0.1114, 1.2444, 1.2443, 1.2437, 1.2436, 1.2432, 1.2428, 1.2426, 1.2418, 1.2416, 1.2415, 1.2412, 1.2407, 1.2403, 1.2401, 1.2397, 1.239, 1.2388, 1.2385, 1.2383, 1.2381, 1.2379, 1.2377, 1.237, 1.2369, 1.2359, 1.2357, 1.2353, 1.235, 1.2348, 1.2344, 1.2328, 1.2256, 1.2188, 1.2298, 1.2268, 1.1776, 1.2011, 1.1808, 1.2199, 1.1972, 1.2051, 1.2226, 1.2226, 1.0318, 1.1695, 1.1262, 1.051, 1.0722, 1.0437, 1.0883, 1.012, 1.0646, 0.9812, 0.9399, 0.8952, 1.0004, 0.9805, 0.6324, 0.9408, 0.9577, 0.9104, 0.3525, 0.4999, 0.06, 0.007, 0.5554, -0.0681, 0.0918, -0.1734, 0.3854, 0.3107]}, \"token.table\": {\"Topic\": [1, 2, 3, 1, 2, 3, 1, 3, 1, 2, 3, 1, 2, 3, 1, 2, 3, 1, 1, 3, 3, 1, 2, 3, 1, 1, 2, 3, 2, 3, 2, 1, 2, 3, 1, 2, 3, 1, 3, 3, 1, 2, 1, 2, 3, 1, 1, 2, 3, 1, 2, 3, 1, 2, 3, 1, 2, 1, 2, 3, 1, 3, 2, 3, 1, 2, 3, 1, 2, 3, 1, 2, 2, 3, 3, 3, 1, 1, 2, 3, 1, 3, 2, 2, 1, 2, 3, 1, 2, 3, 2, 2, 1, 2, 3, 1, 3, 1, 2, 3, 3, 1, 2, 3, 1, 2, 3, 1, 2, 3, 1, 2, 3, 2, 3, 1, 2, 3, 1, 2, 3, 1, 3, 3, 1, 2, 3, 1, 2, 3, 3, 2, 2, 2, 3, 2, 1, 2, 3, 1, 3, 1, 3, 1, 2, 3, 3, 1, 2, 3, 2, 1, 2, 3, 1, 3, 1, 2, 3, 1, 2, 3, 2, 1, 2, 3, 1, 2, 1, 2, 3, 1, 2, 3, 1, 2, 3, 1, 2, 3, 1, 2, 3, 1, 2, 3, 2, 3, 2, 1, 2, 3, 1, 1, 2, 3, 1, 1, 2, 2, 1, 2, 3, 2, 3, 1, 2, 1, 2, 3, 1, 3, 3, 3, 1, 2, 3, 1, 2, 3, 1, 3, 2, 2, 1, 2, 3, 1, 2, 1, 3, 1, 1, 1, 2, 1, 1, 2, 3, 1, 2, 3, 1, 2, 3, 2, 1, 2, 3, 1, 2, 3, 2, 1, 2, 3, 3, 3, 1, 2, 3, 3, 2, 3, 1, 2, 3, 1, 2, 3, 3, 3, 1, 3, 1, 2, 3, 1, 2, 3, 3, 1, 2, 1, 2, 1, 2, 3, 2, 1, 2, 3, 1, 1, 1, 2, 3, 1, 2, 3, 1, 2, 3, 1, 1, 3, 1, 1, 2, 1, 3, 3, 2, 3, 1, 2, 3, 1, 2, 3, 1, 2, 3, 1, 1, 2, 3, 2, 1, 2, 3, 1, 2, 3, 1, 2, 3, 1, 2, 3, 1, 2, 3, 1, 2, 3, 1, 2, 3, 1, 2, 3, 1, 2, 3, 1, 2, 3, 1, 2, 3, 1, 3, 1, 2, 3, 1, 2, 3, 2, 3, 2, 1, 2, 3, 1, 2, 3, 1, 2, 3, 1, 2, 1, 1, 1, 2, 3, 1, 2, 1, 2, 3, 2, 1, 2, 3, 1, 2, 3, 1, 1, 2, 3, 1, 2, 3, 1, 2, 3, 1, 2, 3, 1, 2, 3, 1, 2, 3, 1, 2, 3, 1, 2, 3, 1, 3, 1, 2, 3, 1, 2, 3, 1, 2, 3, 1, 2, 3, 1, 2, 3, 1, 2, 3, 1, 2, 1, 2, 3, 1, 2, 3, 1, 2, 3, 1, 2, 3, 2, 1, 2, 3, 1, 2, 3, 2, 1, 1, 1, 2, 3, 1, 2, 3], \"Freq\": [0.008242751568756822, 0.7305138577810735, 0.2606770183619345, 0.01829917307423279, 0.007842502746099766, 0.9737774243073877, 0.021892976397457374, 0.9797106937862174, 0.002109577763507526, 0.9872823933215221, 0.01054788881753763, 0.6104758406631854, 0.21471528211390517, 0.17497363606711552, 0.15024014426758528, 0.05755468213235854, 0.7923112085753253, 0.994610758727046, 0.9996786526157252, 0.9920340983403613, 0.9974776011253468, 0.37800736916363153, 0.35289986862877776, 0.2689292279511002, 0.9900275383433326, 0.16032066588781982, 0.10101128659984024, 0.7376604048942461, 0.010553078982347553, 0.99198942434067, 0.9950789952255964, 0.9528518396835508, 0.010910517248284932, 0.0327315517448548, 0.9478387817996503, 0.020105671129083492, 0.03159462605998834, 0.9773415925423126, 0.020972995548118295, 0.9970793351920457, 0.015231858862961327, 0.9799162535171786, 0.004700888007478298, 0.9730838175480075, 0.023504440037391487, 0.9936962500729861, 0.012114777863235358, 0.052953303240915836, 0.9349872915416321, 0.027034952757537253, 0.018716505755218098, 0.9524621817655432, 0.05524119703613701, 0.2397832179041112, 0.7047805468017041, 0.0381275577814595, 0.9570017003146334, 0.6329402405091111, 0.2900017101969018, 0.07710362929838263, 0.0003957403317830122, 0.9992443377521059, 0.008979478577226942, 0.9877426434949637, 0.7071503410633896, 0.2450918795731066, 0.04687549609321711, 0.045582448538153575, 0.8276063312708508, 0.12748841075514827, 0.00759691685510655, 0.9875991911638515, 0.9907781569911849, 0.9974515952019172, 0.9954843490349061, 0.998097736141547, 0.9950937498386482, 0.9167572979793622, 0.0017579238695673294, 0.08174345993488082, 0.9535677284220581, 0.04563674267007331, 0.9851496606636664, 0.9950788106551718, 0.5398863240168724, 0.08912873008126987, 0.37185675091283904, 0.004229981121078537, 0.9517457522426708, 0.046529792331863905, 0.995589271982892, 0.9857647635149236, 0.09354080385293032, 0.1910620674442832, 0.7154876379814563, 0.9427026119541787, 0.054178311031849356, 0.05682594719339135, 0.174849068287358, 0.7671502871107833, 0.9895801238380378, 0.4928616384445717, 0.21924042685745757, 0.28793194441070796, 0.023075049366022147, 0.9506920338801125, 0.023075049366022147, 0.33970437887841226, 0.2370169392174511, 0.42328717860245046, 0.7883269243589579, 0.14983319512654059, 0.061295398006312056, 0.9874409799758355, 0.9935467205833679, 0.012900748849536379, 0.012900748849536379, 0.9761566629482527, 0.08809160458832352, 0.05692072911860904, 0.8551661922343406, 0.004279819210006548, 0.9954859482475232, 0.9963246543550363, 0.004185820267677108, 0.1783159434030448, 0.8179092803041068, 0.9963353208923243, 0.9740017664254984, 0.02607639830787155, 0.9970369784429548, 0.9974741725139101, 0.9876984576343419, 0.8660236090662023, 0.13241485762523655, 0.9980408630503232, 0.05318613671909351, 0.6300511580569539, 0.3174803238001274, 0.997370046078559, 0.9916796325921848, 0.9898177603107717, 0.9944705159028833, 0.15441800294336885, 0.781505746603635, 0.06402697683017733, 0.9913656420427539, 0.04348645094846344, 0.9495859561655381, 0.007906627445175172, 0.9987682825414422, 0.3473304060474256, 0.4280133898884706, 0.22433805263119838, 0.014216526905521373, 0.9856791987828152, 0.046920841286461464, 0.7737512317805155, 0.1797156751160694, 0.10554835074206598, 0.7446484561527407, 0.14960752467568067, 0.9949618214108779, 0.10146800678193044, 0.8974916656204551, 0.0014291268560835274, 0.07354082740996487, 0.924056483542602, 0.9163255478768487, 0.011900331790608424, 0.07140199074365056, 0.19726285555526807, 0.41004076716544485, 0.39286338367608165, 0.04771381546251492, 0.7087247223578436, 0.24322408369916143, 0.5663563747067334, 0.07376102275342507, 0.35982551099714316, 0.02802186984346103, 0.7762057946638705, 0.19615308890422722, 0.028508676642304314, 0.9407863291960423, 0.031100374518877434, 0.9755305037358649, 0.02341273208966076, 0.9967602750928931, 0.698103191081542, 0.0922023082560527, 0.20987001593520568, 0.9950936554506687, 0.7267956764293898, 0.1713583302150594, 0.10192866193826809, 0.9924384810829145, 0.9769383979719715, 0.019250017694028992, 0.9961860608732738, 0.04221043468127177, 0.14977896177225467, 0.8081255801075741, 0.017826389693786634, 0.9804514331582648, 0.010525029743270145, 0.9893527958673937, 0.0928052412432582, 0.018851064627536822, 0.8874501193886565, 0.014780523581381771, 0.9829048181618878, 0.9993955742986035, 0.9879731494587853, 0.1807662415960803, 0.6972412175848811, 0.12297023237828592, 0.013775431737593241, 0.9312191854613031, 0.057856813297891614, 0.9865690566094997, 0.012105141798889567, 0.9874457799272307, 0.9963831149706182, 0.017543685426938325, 0.14138146491120887, 0.8410649189973374, 0.9973669998310495, 0.9963861749893224, 0.011799761683011847, 0.9882300409522422, 0.994418747978917, 0.991581360498632, 0.9782015998065026, 0.016213286184638166, 0.9927597723858181, 0.34026078456156117, 0.3715367362328299, 0.28795445159409455, 0.4288684801237665, 0.3770890835733905, 0.19417273706391003, 0.042686516566805485, 0.8990847551883405, 0.05869396027935754, 0.9866318160586223, 0.34698348063570894, 0.4626446408476119, 0.19047544228205585, 0.06392676558679523, 0.010228282493887237, 0.9282166363202667, 0.9974572064769073, 0.913217817406908, 0.056166016104752886, 0.029123119461723718, 0.9962281941560157, 0.9952227422184966, 0.3521571475791612, 0.3321563359519472, 0.3157270978295928, 0.999091924892623, 0.0033510248091373753, 0.9969298807183692, 0.3176697483304005, 0.6142552213291372, 0.067469681061324, 0.8113921608321469, 0.16362328105178656, 0.02465556289821441, 0.9990370168447135, 0.9994062191087539, 0.007755174478844869, 0.9926623332921433, 0.805844940047828, 0.04105247807790822, 0.1535666772543974, 0.9776531964672982, 0.016514412102488146, 0.006605764840995258, 0.9938820785667808, 0.9642566179833589, 0.03399622691607996, 0.9943428781578313, 0.9960376548237733, 0.34907983572860646, 0.3451811777694382, 0.30589470141166547, 0.996577526453836, 0.010795453930962892, 0.9284090380628087, 0.06117423894212306, 0.9957805956399692, 0.9886856845453185, 0.8337915020516964, 0.024815223275348106, 0.14144677266948422, 0.6807253143076313, 0.26340660872298327, 0.05578022302369058, 0.381432677483839, 0.37625761322428175, 0.2420103580204725, 0.9871557284391261, 0.9964346264903888, 0.9967680042171866, 0.9956812794552913, 0.9910850937770056, 0.006520296669585563, 0.036849181345268316, 0.9609132673881507, 0.9991348255198216, 0.9872211849691901, 0.009313407405369718, 0.005026863827353896, 0.9953190378160713, 0.005026863827353896, 0.38398896063243215, 0.3259701906682617, 0.290093849820852, 0.01890670023243177, 0.24368635855134282, 0.7373613090648391, 0.9866049511560888, 0.9659986501877892, 0.029967111410935065, 0.004113132938755793, 0.984832152354339, 0.0636348732013988, 0.39423198337918375, 0.5420372864724726, 0.004652501512151793, 0.8439637743043352, 0.1507410489937181, 0.0019503381370645002, 0.85814878030838, 0.1384740077315795, 0.9241371778574631, 0.05691167370969714, 0.01897055790323238, 0.9330709747177498, 0.04910899866935525, 0.016369666223118418, 0.47435111175631756, 0.2362550815345178, 0.28964259346569454, 0.15285748833487317, 0.786334194799588, 0.06026112520894039, 0.006519748225705349, 0.9779622338558024, 0.013039496451410698, 0.8746605499339093, 0.10615932796031617, 0.018462491819185422, 0.9918199686619796, 0.006277341573809997, 0.006277341573809997, 0.018782407723156078, 0.19776770484970224, 0.7833368868069212, 0.9963052415164749, 0.0035838318040160968, 0.011149564012146295, 0.5139418077979816, 0.4746528679456566, 0.0006684687153068693, 0.17513880341039975, 0.823553457258063, 0.9373311679192777, 0.06248874452795185, 0.9869090511695915, 0.47980519215956224, 0.5111820984588251, 0.009151597670618353, 0.5678722991598629, 0.03574021463243893, 0.3955250419323241, 0.041964135468488394, 0.20777364634397913, 0.750236860936634, 0.9400282708574402, 0.05774917704926254, 0.9941546535390823, 0.991581281533585, 0.027773108874503388, 0.014617425723422835, 0.9574413848841957, 0.0017882504265033805, 0.9978437379888863, 0.41950489228139376, 0.38064852146973804, 0.19967857222656393, 0.9939934848676915, 0.0215473090663647, 0.005386827266591175, 0.9804025625195938, 0.9830257495319566, 0.006163170843460543, 0.012326341686921085, 0.9912147311558264, 0.9370370452432504, 0.002478933982125001, 0.05949441557100003, 0.15609975954337846, 0.0752190551167575, 0.7683666920528992, 0.18741497190387132, 0.49539626331278086, 0.31753109889445713, 0.44316075301698615, 0.337166676808378, 0.2196619316902377, 0.008790172422799643, 0.053839806089647814, 0.9383509061338619, 0.45116274647732607, 0.31569296737421476, 0.23344345863304006, 0.0024289554664629624, 0.9910138303168887, 0.007286866399388888, 0.001388002030692944, 0.989645447884069, 0.008328012184157664, 0.006129744692934949, 0.9930186402554617, 0.00027808348518342104, 0.9018247424498343, 0.0978853867845642, 0.10329767527808528, 0.6601731126794924, 0.2368856463144061, 0.44231634450589563, 0.2934750537863136, 0.264022360216361, 0.8594983902390477, 0.06831910281387302, 0.07272678686638095, 0.6334678111073584, 0.17192664340232022, 0.19546421958239976, 0.9476315998696934, 0.0355361849951135, 0.015793859997828223, 0.9860152525476716, 0.9869080656905901, 0.9328882990125956, 0.06607958784672553, 0.0038870345792191485, 0.03351479971610645, 0.13157662110767718, 0.8353874151459127, 0.14437964945245457, 0.35415097870176077, 0.5017678400253466, 0.1235298067944342, 0.8589052338190191, 0.017410241226061197, 0.9913354605520062, 0.6645172810739703, 0.25347566391481346, 0.08106654116194484, 0.29470890305852426, 0.29556478564243094, 0.40968246349665133, 0.9952000037816142, 0.9857081800677184, 0.989599127264818, 0.48351776893742066, 0.27675559486601115, 0.23974757927346316, 0.44369356786560193, 0.3224356983868039, 0.2336969848136835], \"Term\": [\"2024\", \"2024\", \"2024\", \"42\", \"42\", \"42\", \"abbott\", \"abbott\", \"abortion\", \"abortion\", \"abortion\", \"according\", \"according\", \"according\", \"administration\", \"administration\", \"administration\", \"africa\", \"ai\", \"alejandro\", \"aliens\", \"also\", \"also\", \"also\", \"altman\", \"americans\", \"americans\", \"americans\", \"anheuser\", \"anheuser\", \"antisemitism\", \"arrest\", \"arrest\", \"arrest\", \"arrested\", \"arrested\", \"arrested\", \"artificial\", \"artificial\", \"asylum\", \"athletes\", \"athletes\", \"audience\", \"audience\", \"audience\", \"beijing\", \"biden\", \"biden\", \"biden\", \"bidens\", \"bidens\", \"bidens\", \"bill\", \"bill\", \"bill\", \"biological\", \"biological\", \"black\", \"black\", \"black\", \"border\", \"border\", \"busch\", \"busch\", \"california\", \"california\", \"california\", \"campaign\", \"campaign\", \"campaign\", \"carlson\", \"carlson\", \"carroll\", \"cartels\", \"cbp\", \"ceiling\", \"chatgpt\", \"china\", \"china\", \"china\", \"chinese\", \"chinese\", \"chokehold\", \"christie\", \"city\", \"city\", \"city\", \"clinton\", \"clinton\", \"clinton\", \"collusion\", \"comey\", \"committee\", \"committee\", \"committee\", \"communist\", \"communist\", \"congress\", \"congress\", \"congress\", \"coronation\", \"could\", \"could\", \"could\", \"counsel\", \"counsel\", \"counsel\", \"country\", \"country\", \"country\", \"crime\", \"crime\", \"crime\", \"crossfire\", \"crossings\", \"cuts\", \"cuts\", \"cuts\", \"deal\", \"deal\", \"deal\", \"debt\", \"debt\", \"default\", \"democrats\", \"democrats\", \"democrats\", \"der\", \"desantis\", \"desantis\", \"dhs\", \"disney\", \"dodgers\", \"donald\", \"donald\", \"durham\", \"election\", \"election\", \"election\", \"emissions\", \"encounters\", \"epa\", \"erdogan\", \"event\", \"event\", \"event\", \"expiration\", \"fbi\", \"fbi\", \"fbi\", \"feinstein\", \"first\", \"first\", \"first\", \"fiscal\", \"fiscal\", \"florida\", \"florida\", \"florida\", \"former\", \"former\", \"former\", \"gaines\", \"gender\", \"gender\", \"gender\", \"girls\", \"girls\", \"global\", \"global\", \"global\", \"going\", \"going\", \"going\", \"gov\", \"gov\", \"gov\", \"government\", \"government\", \"government\", \"governor\", \"governor\", \"governor\", \"hall\", \"hall\", \"hall\", \"hampshire\", \"hampshire\", \"hawkins\", \"health\", \"health\", \"health\", \"holloway\", \"home\", \"home\", \"home\", \"hong\", \"hospital\", \"hospital\", \"hostin\", \"house\", \"house\", \"house\", \"hunter\", \"hunter\", \"hutchinson\", \"hutchinson\", \"illegal\", \"illegal\", \"illegal\", \"immigrants\", \"immigrants\", \"immigration\", \"inflow\", \"investigation\", \"investigation\", \"investigation\", \"iowa\", \"iowa\", \"iowa\", \"iran\", \"iran\", \"ix\", \"jews\", \"joe\", \"joe\", \"joe\", \"joran\", \"kaitlan\", \"kennedy\", \"kennedy\", \"khan\", \"kong\", \"korea\", \"korea\", \"korean\", \"last\", \"last\", \"last\", \"law\", \"law\", \"law\", \"lgbtq\", \"lgbtq\", \"lgbtq\", \"licht\", \"like\", \"like\", \"like\", \"limit\", \"limit\", \"limit\", \"locker\", \"london\", \"london\", \"london\", \"manchin\", \"massie\", \"may\", \"may\", \"may\", \"mayorkas\", \"mccarthy\", \"mccarthy\", \"media\", \"media\", \"media\", \"medical\", \"medical\", \"medical\", \"migrant\", \"migrants\", \"migration\", \"migration\", \"military\", \"military\", \"military\", \"minister\", \"minister\", \"minister\", \"morell\", \"murder\", \"murder\", \"natalee\", \"neely\", \"new\", \"new\", \"new\", \"newscom\", \"nomination\", \"nomination\", \"nomination\", \"nuclear\", \"oakland\", \"officers\", \"officers\", \"officers\", \"old\", \"old\", \"old\", \"one\", \"one\", \"one\", \"openai\", \"pakistan\", \"paso\", \"patient\", \"patients\", \"patients\", \"patrol\", \"patrol\", \"paxton\", \"pence\", \"pence\", \"penny\", \"penny\", \"penny\", \"people\", \"people\", \"people\", \"percent\", \"percent\", \"percent\", \"plants\", \"police\", \"police\", \"police\", \"pollak\", \"president\", \"president\", \"president\", \"presidential\", \"presidential\", \"presidential\", \"pride\", \"pride\", \"pride\", \"prison\", \"prison\", \"prison\", \"property\", \"property\", \"property\", \"public\", \"public\", \"public\", \"race\", \"race\", \"race\", \"ramaswamy\", \"ramaswamy\", \"ramaswamy\", \"reading\", \"reading\", \"reading\", \"regime\", \"regime\", \"regime\", \"rep\", \"rep\", \"rep\", \"reparations\", \"reparations\", \"republican\", \"republican\", \"republican\", \"republicans\", \"republicans\", \"republicans\", \"ron\", \"ron\", \"schiff\", \"school\", \"school\", \"school\", \"security\", \"security\", \"security\", \"senate\", \"senate\", \"senate\", \"shooting\", \"shooting\", \"sloot\", \"software\", \"spending\", \"spending\", \"spending\", \"sports\", \"sports\", \"state\", \"state\", \"state\", \"subway\", \"surge\", \"surge\", \"surge\", \"suspect\", \"suspect\", \"suspect\", \"suspects\", \"technology\", \"technology\", \"technology\", \"texas\", \"texas\", \"texas\", \"think\", \"think\", \"think\", \"time\", \"time\", \"time\", \"title\", \"title\", \"title\", \"told\", \"told\", \"told\", \"trans\", \"trans\", \"trans\", \"transgender\", \"transgender\", \"transgender\", \"trillion\", \"trillion\", \"trump\", \"trump\", \"trump\", \"twitter\", \"twitter\", \"twitter\", \"two\", \"two\", \"two\", \"ukraine\", \"ukraine\", \"ukraine\", \"use\", \"use\", \"use\", \"van\", \"van\", \"van\", \"vehicles\", \"verdict\", \"victims\", \"victims\", \"victims\", \"vote\", \"vote\", \"vote\", \"white\", \"white\", \"white\", \"women\", \"women\", \"women\", \"womens\", \"world\", \"world\", \"world\", \"would\", \"would\", \"would\", \"wray\", \"wuhan\", \"xi\", \"year\", \"year\", \"year\", \"years\", \"years\", \"years\"]}, \"R\": 30, \"lambda.step\": 0.01, \"plot.opts\": {\"xlab\": \"PC1\", \"ylab\": \"PC2\"}, \"topic.order\": [1, 2, 3]};\n",
       "\n",
       "function LDAvis_load_lib(url, callback){\n",
       "  var s = document.createElement('script');\n",
       "  s.src = url;\n",
       "  s.async = true;\n",
       "  s.onreadystatechange = s.onload = callback;\n",
       "  s.onerror = function(){console.warn(\"failed to load library \" + url);};\n",
       "  document.getElementsByTagName(\"head\")[0].appendChild(s);\n",
       "}\n",
       "\n",
       "if(typeof(LDAvis) !== \"undefined\"){\n",
       "   // already loaded: just create the visualization\n",
       "   !function(LDAvis){\n",
       "       new LDAvis(\"#\" + \"ldavis_el3868424574792208008280950021\", ldavis_el3868424574792208008280950021_data);\n",
       "   }(LDAvis);\n",
       "}else if(typeof define === \"function\" && define.amd){\n",
       "   // require.js is available: use it to load d3/LDAvis\n",
       "   require.config({paths: {d3: \"https://d3js.org/d3.v5\"}});\n",
       "   require([\"d3\"], function(d3){\n",
       "      window.d3 = d3;\n",
       "      LDAvis_load_lib(\"https://cdn.jsdelivr.net/gh/bmabey/pyLDAvis@3.4.0/pyLDAvis/js/ldavis.v3.0.0.js\", function(){\n",
       "        new LDAvis(\"#\" + \"ldavis_el3868424574792208008280950021\", ldavis_el3868424574792208008280950021_data);\n",
       "      });\n",
       "    });\n",
       "}else{\n",
       "    // require.js not available: dynamically load d3 & LDAvis\n",
       "    LDAvis_load_lib(\"https://d3js.org/d3.v5.js\", function(){\n",
       "         LDAvis_load_lib(\"https://cdn.jsdelivr.net/gh/bmabey/pyLDAvis@3.4.0/pyLDAvis/js/ldavis.v3.0.0.js\", function(){\n",
       "                 new LDAvis(\"#\" + \"ldavis_el3868424574792208008280950021\", ldavis_el3868424574792208008280950021_data);\n",
       "            })\n",
       "         });\n",
       "}\n",
       "</script>"
      ],
      "text/plain": [
       "<IPython.core.display.HTML object>"
      ]
     },
     "execution_count": 382,
     "metadata": {},
     "output_type": "execute_result"
    }
   ],
   "source": [
    "lda_display_right = pyLDAvis.lda_model.prepare(Right_lda_para_model, Right_count_text_vectors, \n",
    "                                               Rcount_text_vectorizer, sort_topics=False)\n",
    "pyLDAvis.display(lda_display_right)"
   ]
  },
  {
   "cell_type": "code",
   "execution_count": 383,
   "id": "07557e5b",
   "metadata": {},
   "outputs": [],
   "source": [
    "pyLDAvis.save_html(lda_display_right, 'lda_right.html')"
   ]
  },
  {
   "attachments": {},
   "cell_type": "markdown",
   "id": "78fb9c72",
   "metadata": {},
   "source": [
    "---"
   ]
  },
  {
   "attachments": {},
   "cell_type": "markdown",
   "id": "870bca95",
   "metadata": {},
   "source": [
    "*Topic Modeling using LDA reveals that the top three topics depending on political lean are:*\n",
    "\n",
    "\n",
    "**Left:**\n",
    "* Healthcare\n",
    "* McCarthy/Biden Debt Ceiling\n",
    "* Trump/DeSantis relationship\n",
    "* Justice system, police\n",
    "\n",
    "**Right:**\n",
    "* Unclear/school-related (the visualization shows this topic overlaps with the following one a bit)\n",
    "* President, Biden, Trump, politics\n",
    "* Justice system, fbi\n",
    "* Immigration "
   ]
  },
  {
   "attachments": {},
   "cell_type": "markdown",
   "id": "1ed66655",
   "metadata": {},
   "source": [
    "----"
   ]
  },
  {
   "attachments": {},
   "cell_type": "markdown",
   "id": "783c1af9",
   "metadata": {},
   "source": [
    "### Missing Values:"
   ]
  },
  {
   "attachments": {},
   "cell_type": "markdown",
   "id": "59f93149",
   "metadata": {},
   "source": [
    "Only one missing value for training data:"
   ]
  },
  {
   "cell_type": "code",
   "execution_count": 223,
   "id": "1920f0c9",
   "metadata": {},
   "outputs": [],
   "source": [
    "#api_data_complete_df2.isna().sum()"
   ]
  },
  {
   "attachments": {},
   "cell_type": "markdown",
   "id": "b0b526da",
   "metadata": {},
   "source": [
    "----------------\n"
   ]
  },
  {
   "attachments": {},
   "cell_type": "markdown",
   "id": "7ca66e1e",
   "metadata": {},
   "source": [
    "## Modeling:"
   ]
  },
  {
   "cell_type": "code",
   "execution_count": 57,
   "id": "1cc021e4",
   "metadata": {},
   "outputs": [],
   "source": [
    "# Obtain total counts of words in the entire corpus:\n",
    "\n",
    "word_dist=Counter([item for sublist in api_data_complete_df['tokens'] \n",
    "                   for item in sublist])"
   ]
  },
  {
   "attachments": {},
   "cell_type": "markdown",
   "id": "afdc6763",
   "metadata": {},
   "source": [
    "### Prepare data for modeling (Target defined, clean text as X)"
   ]
  },
  {
   "cell_type": "code",
   "execution_count": 46,
   "id": "fea18003",
   "metadata": {},
   "outputs": [],
   "source": [
    "# generate the dict data to then be filtered through\n",
    "# the filtered_words list:\n",
    "\n",
    "news_data=dict()\n",
    "\n",
    "    \n",
    "news_data=[(api_data_complete_df2.at[index,'cleaner_text'],\n",
    "            api_data_complete_df2.at[index,'Political_Lean']) \\\n",
    "           for (index,row) in api_data_complete_df2.iterrows()]"
   ]
  },
  {
   "attachments": {},
   "cell_type": "markdown",
   "id": "b07be997",
   "metadata": {},
   "source": [
    "### Feature Words filtering:"
   ]
  },
  {
   "cell_type": "code",
   "execution_count": 47,
   "id": "262340e5",
   "metadata": {},
   "outputs": [
    {
     "name": "stdout",
     "output_type": "stream",
     "text": [
      "With a word cutoff of 5, we have 22181 as features in the model.\n"
     ]
    }
   ],
   "source": [
    "word_cutoff=5\n",
    "feature_words2=[]\n",
    "for word, count in word_dist.items() :\n",
    "    #for convention_data_df['word_dist']\n",
    "    if count > word_cutoff :\n",
    "        feature_words2.append(word)\n",
    "            \n",
    "print(f\"With a word cutoff of {word_cutoff}, we have {len(feature_words2)} as features in the model.\")"
   ]
  },
  {
   "cell_type": "code",
   "execution_count": 48,
   "id": "746e1127",
   "metadata": {},
   "outputs": [],
   "source": [
    "# Filter the data through the feature words set\n",
    "# determined above:\n",
    "\n",
    "featuresets=dict()\n",
    "featuresets = [(conv_features(text,feature_words2), \n",
    "                lean) for (text, lean) in news_data]"
   ]
  },
  {
   "attachments": {},
   "cell_type": "markdown",
   "id": "928d7fcc",
   "metadata": {},
   "source": [
    "### Rough Naive-Bayes Classifier setup and run-through:"
   ]
  },
  {
   "cell_type": "code",
   "execution_count": 49,
   "id": "1370a24e",
   "metadata": {},
   "outputs": [],
   "source": [
    "random.seed(42)\n",
    "random.shuffle(featuresets)\n",
    "test_size = 20\n"
   ]
  },
  {
   "cell_type": "code",
   "execution_count": 50,
   "id": "d9e34df4",
   "metadata": {},
   "outputs": [],
   "source": [
    "test_set=dict()\n",
    "train_set=dict()\n",
    "test_set, train_set = featuresets[:test_size], featuresets[test_size:]"
   ]
  },
  {
   "cell_type": "code",
   "execution_count": 51,
   "id": "47c92a7b",
   "metadata": {},
   "outputs": [
    {
     "name": "stdout",
     "output_type": "stream",
     "text": [
      "0.2\n"
     ]
    }
   ],
   "source": [
    "classifier = nltk.NaiveBayesClassifier.train(train_set)\n",
    "print(nltk.classify.accuracy(classifier, test_set))"
   ]
  },
  {
   "cell_type": "code",
   "execution_count": 52,
   "id": "51c9f8f9",
   "metadata": {},
   "outputs": [
    {
     "name": "stdout",
     "output_type": "stream",
     "text": [
      "      |      R        |\n",
      "      |      i      L |\n",
      "      |      g      e |\n",
      "      |      h      f |\n",
      "      |      t      t |\n",
      "------+---------------+\n",
      "Right |     <.> 80.0% |\n",
      " Left |      . <20.0%>|\n",
      "------+---------------+\n",
      "(row = reference; col = test)\n",
      "\n"
     ]
    }
   ],
   "source": [
    "# Confusion Matrix:\n",
    "\n",
    "predicted_labels = [classifier.classify(features) for features, \n",
    "                    label in test_set]\n",
    "gold_labels = [label for features, label in test_set]\n",
    "\n",
    "cm = ConfusionMatrix(gold_labels, predicted_labels)\n",
    "print(cm.pretty_format(sort_by_count=True, show_percents=True))"
   ]
  },
  {
   "attachments": {},
   "cell_type": "markdown",
   "id": "551421dc",
   "metadata": {},
   "source": [
    "### Linear SVC classifier:"
   ]
  },
  {
   "attachments": {},
   "cell_type": "markdown",
   "id": "745281c9",
   "metadata": {},
   "source": [
    "#### Prepare Data for Linear SVC (SVM) implementation:"
   ]
  },
  {
   "cell_type": "code",
   "execution_count": 184,
   "id": "ed33feeb",
   "metadata": {},
   "outputs": [
    {
     "name": "stdout",
     "output_type": "stream",
     "text": [
      "Size of Training Data  3220\n",
      "Size of Test Data  806\n"
     ]
    }
   ],
   "source": [
    "X_train, X_test, Y_train, Y_test = train_test_split(api_data_complete_df2['cleaner_text'],\n",
    "                                                    api_data_complete_df2['Political_Lean'],\n",
    "                                                    test_size=0.2,\n",
    "                                                    random_state=42,\n",
    "                                                    stratify=api_data_complete_df2['Political_Lean'])\n",
    "\n",
    "print('Size of Training Data ', X_train.shape[0])\n",
    "print('Size of Test Data ', X_test.shape[0])"
   ]
  },
  {
   "cell_type": "code",
   "execution_count": 185,
   "id": "c168c326",
   "metadata": {},
   "outputs": [],
   "source": [
    "# TF-IDF Vectorization for Training/Test Data:\n",
    "\n",
    "tfidf = TfidfVectorizer(min_df = 10, max_df=0.7, ngram_range=(1,2), stop_words=sw)\n",
    "X_train_tf = tfidf.fit_transform(X_train)\n",
    "X_test_tf = tfidf.transform(X_test)"
   ]
  },
  {
   "attachments": {},
   "cell_type": "markdown",
   "id": "7211bcf3",
   "metadata": {},
   "source": [
    "#### Hyperparameter tuning:"
   ]
  },
  {
   "cell_type": "code",
   "execution_count": 361,
   "id": "e917aebf",
   "metadata": {},
   "outputs": [
    {
     "data": {
      "text/html": [
       "<style>#sk-container-id-32 {color: black;background-color: white;}#sk-container-id-32 pre{padding: 0;}#sk-container-id-32 div.sk-toggleable {background-color: white;}#sk-container-id-32 label.sk-toggleable__label {cursor: pointer;display: block;width: 100%;margin-bottom: 0;padding: 0.3em;box-sizing: border-box;text-align: center;}#sk-container-id-32 label.sk-toggleable__label-arrow:before {content: \"▸\";float: left;margin-right: 0.25em;color: #696969;}#sk-container-id-32 label.sk-toggleable__label-arrow:hover:before {color: black;}#sk-container-id-32 div.sk-estimator:hover label.sk-toggleable__label-arrow:before {color: black;}#sk-container-id-32 div.sk-toggleable__content {max-height: 0;max-width: 0;overflow: hidden;text-align: left;background-color: #f0f8ff;}#sk-container-id-32 div.sk-toggleable__content pre {margin: 0.2em;color: black;border-radius: 0.25em;background-color: #f0f8ff;}#sk-container-id-32 input.sk-toggleable__control:checked~div.sk-toggleable__content {max-height: 200px;max-width: 100%;overflow: auto;}#sk-container-id-32 input.sk-toggleable__control:checked~label.sk-toggleable__label-arrow:before {content: \"▾\";}#sk-container-id-32 div.sk-estimator input.sk-toggleable__control:checked~label.sk-toggleable__label {background-color: #d4ebff;}#sk-container-id-32 div.sk-label input.sk-toggleable__control:checked~label.sk-toggleable__label {background-color: #d4ebff;}#sk-container-id-32 input.sk-hidden--visually {border: 0;clip: rect(1px 1px 1px 1px);clip: rect(1px, 1px, 1px, 1px);height: 1px;margin: -1px;overflow: hidden;padding: 0;position: absolute;width: 1px;}#sk-container-id-32 div.sk-estimator {font-family: monospace;background-color: #f0f8ff;border: 1px dotted black;border-radius: 0.25em;box-sizing: border-box;margin-bottom: 0.5em;}#sk-container-id-32 div.sk-estimator:hover {background-color: #d4ebff;}#sk-container-id-32 div.sk-parallel-item::after {content: \"\";width: 100%;border-bottom: 1px solid gray;flex-grow: 1;}#sk-container-id-32 div.sk-label:hover label.sk-toggleable__label {background-color: #d4ebff;}#sk-container-id-32 div.sk-serial::before {content: \"\";position: absolute;border-left: 1px solid gray;box-sizing: border-box;top: 0;bottom: 0;left: 50%;z-index: 0;}#sk-container-id-32 div.sk-serial {display: flex;flex-direction: column;align-items: center;background-color: white;padding-right: 0.2em;padding-left: 0.2em;position: relative;}#sk-container-id-32 div.sk-item {position: relative;z-index: 1;}#sk-container-id-32 div.sk-parallel {display: flex;align-items: stretch;justify-content: center;background-color: white;position: relative;}#sk-container-id-32 div.sk-item::before, #sk-container-id-32 div.sk-parallel-item::before {content: \"\";position: absolute;border-left: 1px solid gray;box-sizing: border-box;top: 0;bottom: 0;left: 50%;z-index: -1;}#sk-container-id-32 div.sk-parallel-item {display: flex;flex-direction: column;z-index: 1;position: relative;background-color: white;}#sk-container-id-32 div.sk-parallel-item:first-child::after {align-self: flex-end;width: 50%;}#sk-container-id-32 div.sk-parallel-item:last-child::after {align-self: flex-start;width: 50%;}#sk-container-id-32 div.sk-parallel-item:only-child::after {width: 0;}#sk-container-id-32 div.sk-dashed-wrapped {border: 1px dashed gray;margin: 0 0.4em 0.5em 0.4em;box-sizing: border-box;padding-bottom: 0.4em;background-color: white;}#sk-container-id-32 div.sk-label label {font-family: monospace;font-weight: bold;display: inline-block;line-height: 1.2em;}#sk-container-id-32 div.sk-label-container {text-align: center;}#sk-container-id-32 div.sk-container {/* jupyter's `normalize.less` sets `[hidden] { display: none; }` but bootstrap.min.css set `[hidden] { display: none !important; }` so we also need the `!important` here to be able to override the default hidden behavior on the sphinx rendered scikit-learn.org. See: https://github.com/scikit-learn/scikit-learn/issues/21755 */display: inline-block !important;position: relative;}#sk-container-id-32 div.sk-text-repr-fallback {display: none;}</style><div id=\"sk-container-id-32\" class=\"sk-top-container\"><div class=\"sk-text-repr-fallback\"><pre>GridSearchCV(estimator=LinearSVC(random_state=0),\n",
       "             param_grid={&#x27;C&#x27;: [0.1, 1, 6, 6.5, 8], &#x27;penalty&#x27;: [&#x27;l1&#x27;, &#x27;l2&#x27;],\n",
       "                         &#x27;tol&#x27;: [1e-07, 1e-05, 0.0001, 0.001, 0.01]})</pre><b>In a Jupyter environment, please rerun this cell to show the HTML representation or trust the notebook. <br />On GitHub, the HTML representation is unable to render, please try loading this page with nbviewer.org.</b></div><div class=\"sk-container\" hidden><div class=\"sk-item sk-dashed-wrapped\"><div class=\"sk-label-container\"><div class=\"sk-label sk-toggleable\"><input class=\"sk-toggleable__control sk-hidden--visually\" id=\"sk-estimator-id-42\" type=\"checkbox\" ><label for=\"sk-estimator-id-42\" class=\"sk-toggleable__label sk-toggleable__label-arrow\">GridSearchCV</label><div class=\"sk-toggleable__content\"><pre>GridSearchCV(estimator=LinearSVC(random_state=0),\n",
       "             param_grid={&#x27;C&#x27;: [0.1, 1, 6, 6.5, 8], &#x27;penalty&#x27;: [&#x27;l1&#x27;, &#x27;l2&#x27;],\n",
       "                         &#x27;tol&#x27;: [1e-07, 1e-05, 0.0001, 0.001, 0.01]})</pre></div></div></div><div class=\"sk-parallel\"><div class=\"sk-parallel-item\"><div class=\"sk-item\"><div class=\"sk-label-container\"><div class=\"sk-label sk-toggleable\"><input class=\"sk-toggleable__control sk-hidden--visually\" id=\"sk-estimator-id-43\" type=\"checkbox\" ><label for=\"sk-estimator-id-43\" class=\"sk-toggleable__label sk-toggleable__label-arrow\">estimator: LinearSVC</label><div class=\"sk-toggleable__content\"><pre>LinearSVC(random_state=0)</pre></div></div></div><div class=\"sk-serial\"><div class=\"sk-item\"><div class=\"sk-estimator sk-toggleable\"><input class=\"sk-toggleable__control sk-hidden--visually\" id=\"sk-estimator-id-44\" type=\"checkbox\" ><label for=\"sk-estimator-id-44\" class=\"sk-toggleable__label sk-toggleable__label-arrow\">LinearSVC</label><div class=\"sk-toggleable__content\"><pre>LinearSVC(random_state=0)</pre></div></div></div></div></div></div></div></div></div></div>"
      ],
      "text/plain": [
       "GridSearchCV(estimator=LinearSVC(random_state=0),\n",
       "             param_grid={'C': [0.1, 1, 6, 6.5, 8], 'penalty': ['l1', 'l2'],\n",
       "                         'tol': [1e-07, 1e-05, 0.0001, 0.001, 0.01]})"
      ]
     },
     "execution_count": 361,
     "metadata": {},
     "output_type": "execute_result"
    }
   ],
   "source": [
    "\n",
    "\n",
    "parameters = {'C':[0.1, 1, 6, 6.5, 8], 'penalty':['l1', 'l2'], 'tol':[0.0000001, \n",
    "                                                                      0.00001, 0.0001, 0.001, 0.01]}\n",
    "svc_grid = LinearSVC(random_state=0)\n",
    "clf_grid = GridSearchCV(svc_grid, parameters)\n",
    "clf_grid.fit(X_train_tf, Y_train)"
   ]
  },
  {
   "cell_type": "code",
   "execution_count": 362,
   "id": "0257006b",
   "metadata": {},
   "outputs": [
    {
     "data": {
      "text/plain": [
       "{'C': 6, 'penalty': 'l2', 'tol': 1e-07}"
      ]
     },
     "execution_count": 362,
     "metadata": {},
     "output_type": "execute_result"
    }
   ],
   "source": [
    "clf_grid.best_params_"
   ]
  },
  {
   "attachments": {},
   "cell_type": "markdown",
   "id": "5f41fe48",
   "metadata": {},
   "source": [
    "The hyperparameter that gave the best results was tolerance at 1e-07, the others brought accuracy down so eliminated them"
   ]
  },
  {
   "attachments": {},
   "cell_type": "markdown",
   "id": "7770af44",
   "metadata": {},
   "source": [
    "#### Train and Test Linear SVC model:"
   ]
  },
  {
   "cell_type": "code",
   "execution_count": 359,
   "id": "bfee6923",
   "metadata": {},
   "outputs": [
    {
     "data": {
      "text/html": [
       "<style>#sk-container-id-31 {color: black;background-color: white;}#sk-container-id-31 pre{padding: 0;}#sk-container-id-31 div.sk-toggleable {background-color: white;}#sk-container-id-31 label.sk-toggleable__label {cursor: pointer;display: block;width: 100%;margin-bottom: 0;padding: 0.3em;box-sizing: border-box;text-align: center;}#sk-container-id-31 label.sk-toggleable__label-arrow:before {content: \"▸\";float: left;margin-right: 0.25em;color: #696969;}#sk-container-id-31 label.sk-toggleable__label-arrow:hover:before {color: black;}#sk-container-id-31 div.sk-estimator:hover label.sk-toggleable__label-arrow:before {color: black;}#sk-container-id-31 div.sk-toggleable__content {max-height: 0;max-width: 0;overflow: hidden;text-align: left;background-color: #f0f8ff;}#sk-container-id-31 div.sk-toggleable__content pre {margin: 0.2em;color: black;border-radius: 0.25em;background-color: #f0f8ff;}#sk-container-id-31 input.sk-toggleable__control:checked~div.sk-toggleable__content {max-height: 200px;max-width: 100%;overflow: auto;}#sk-container-id-31 input.sk-toggleable__control:checked~label.sk-toggleable__label-arrow:before {content: \"▾\";}#sk-container-id-31 div.sk-estimator input.sk-toggleable__control:checked~label.sk-toggleable__label {background-color: #d4ebff;}#sk-container-id-31 div.sk-label input.sk-toggleable__control:checked~label.sk-toggleable__label {background-color: #d4ebff;}#sk-container-id-31 input.sk-hidden--visually {border: 0;clip: rect(1px 1px 1px 1px);clip: rect(1px, 1px, 1px, 1px);height: 1px;margin: -1px;overflow: hidden;padding: 0;position: absolute;width: 1px;}#sk-container-id-31 div.sk-estimator {font-family: monospace;background-color: #f0f8ff;border: 1px dotted black;border-radius: 0.25em;box-sizing: border-box;margin-bottom: 0.5em;}#sk-container-id-31 div.sk-estimator:hover {background-color: #d4ebff;}#sk-container-id-31 div.sk-parallel-item::after {content: \"\";width: 100%;border-bottom: 1px solid gray;flex-grow: 1;}#sk-container-id-31 div.sk-label:hover label.sk-toggleable__label {background-color: #d4ebff;}#sk-container-id-31 div.sk-serial::before {content: \"\";position: absolute;border-left: 1px solid gray;box-sizing: border-box;top: 0;bottom: 0;left: 50%;z-index: 0;}#sk-container-id-31 div.sk-serial {display: flex;flex-direction: column;align-items: center;background-color: white;padding-right: 0.2em;padding-left: 0.2em;position: relative;}#sk-container-id-31 div.sk-item {position: relative;z-index: 1;}#sk-container-id-31 div.sk-parallel {display: flex;align-items: stretch;justify-content: center;background-color: white;position: relative;}#sk-container-id-31 div.sk-item::before, #sk-container-id-31 div.sk-parallel-item::before {content: \"\";position: absolute;border-left: 1px solid gray;box-sizing: border-box;top: 0;bottom: 0;left: 50%;z-index: -1;}#sk-container-id-31 div.sk-parallel-item {display: flex;flex-direction: column;z-index: 1;position: relative;background-color: white;}#sk-container-id-31 div.sk-parallel-item:first-child::after {align-self: flex-end;width: 50%;}#sk-container-id-31 div.sk-parallel-item:last-child::after {align-self: flex-start;width: 50%;}#sk-container-id-31 div.sk-parallel-item:only-child::after {width: 0;}#sk-container-id-31 div.sk-dashed-wrapped {border: 1px dashed gray;margin: 0 0.4em 0.5em 0.4em;box-sizing: border-box;padding-bottom: 0.4em;background-color: white;}#sk-container-id-31 div.sk-label label {font-family: monospace;font-weight: bold;display: inline-block;line-height: 1.2em;}#sk-container-id-31 div.sk-label-container {text-align: center;}#sk-container-id-31 div.sk-container {/* jupyter's `normalize.less` sets `[hidden] { display: none; }` but bootstrap.min.css set `[hidden] { display: none !important; }` so we also need the `!important` here to be able to override the default hidden behavior on the sphinx rendered scikit-learn.org. See: https://github.com/scikit-learn/scikit-learn/issues/21755 */display: inline-block !important;position: relative;}#sk-container-id-31 div.sk-text-repr-fallback {display: none;}</style><div id=\"sk-container-id-31\" class=\"sk-top-container\"><div class=\"sk-text-repr-fallback\"><pre>LinearSVC(random_state=0, tol=1e-07)</pre><b>In a Jupyter environment, please rerun this cell to show the HTML representation or trust the notebook. <br />On GitHub, the HTML representation is unable to render, please try loading this page with nbviewer.org.</b></div><div class=\"sk-container\" hidden><div class=\"sk-item\"><div class=\"sk-estimator sk-toggleable\"><input class=\"sk-toggleable__control sk-hidden--visually\" id=\"sk-estimator-id-41\" type=\"checkbox\" checked><label for=\"sk-estimator-id-41\" class=\"sk-toggleable__label sk-toggleable__label-arrow\">LinearSVC</label><div class=\"sk-toggleable__content\"><pre>LinearSVC(random_state=0, tol=1e-07)</pre></div></div></div></div></div>"
      ],
      "text/plain": [
       "LinearSVC(random_state=0, tol=1e-07)"
      ]
     },
     "execution_count": 359,
     "metadata": {},
     "output_type": "execute_result"
    }
   ],
   "source": [
    "# Train Lineary SVC Model with Training Data:\n",
    "\n",
    "model1 = LinearSVC(random_state=0, tol=1e-7)\n",
    "model1.fit(X_train_tf, Y_train)"
   ]
  },
  {
   "cell_type": "code",
   "execution_count": 389,
   "id": "f5eb8a07",
   "metadata": {},
   "outputs": [
    {
     "name": "stdout",
     "output_type": "stream",
     "text": [
      "Training Accuracy Score -  0.9987577639751553\n"
     ]
    }
   ],
   "source": [
    "Y_train_pred = model1.predict(X_train_tf)\n",
    "\n",
    "print ('Training Accuracy Score - ', accuracy_score(Y_train, Y_train_pred))\n"
   ]
  },
  {
   "cell_type": "code",
   "execution_count": 436,
   "id": "a311d2e0",
   "metadata": {},
   "outputs": [
    {
     "name": "stdout",
     "output_type": "stream",
     "text": [
      "              precision    recall  f1-score   support\n",
      "\n",
      "        Left       1.00      1.00      1.00      1014\n",
      "       Right       1.00      1.00      1.00      2206\n",
      "\n",
      "    accuracy                           1.00      3220\n",
      "   macro avg       1.00      1.00      1.00      3220\n",
      "weighted avg       1.00      1.00      1.00      3220\n",
      "\n",
      "[[1012    2]\n",
      " [   2 2204]]\n"
     ]
    },
    {
     "data": {
      "image/png": "[encoded data removed]",
      "text/plain": [
       "<Figure size 432x288 with 2 Axes>"
      ]
     },
     "metadata": {
      "needs_background": "light"
     },
     "output_type": "display_data"
    }
   ],
   "source": [
    "train_svc_pred_cm = confusion_matrix(Y_train, Y_train_pred)\n",
    "\n",
    "print(classification_report(Y_train, Y_train_pred))\n",
    "print(train_svc_pred_cm)\n",
    "\n",
    "train_svc_pred_cm_calc = ConfusionMatrixDisplay(confusion_matrix=train_svc_pred_cm,\n",
    "                                          display_labels=model1.classes_)\n",
    "train_svc_pred_cm_calc.plot()\n",
    "plt.show()"
   ]
  },
  {
   "attachments": {},
   "cell_type": "markdown",
   "id": "8a979e94",
   "metadata": {},
   "source": [
    "#### Test Results Linear SVC: "
   ]
  },
  {
   "cell_type": "code",
   "execution_count": 360,
   "id": "0596ff93",
   "metadata": {},
   "outputs": [
    {
     "name": "stdout",
     "output_type": "stream",
     "text": [
      "Accuracy Score -  0.9069478908188585\n"
     ]
    }
   ],
   "source": [
    "Y_pred = model1.predict(X_test_tf)\n",
    "print ('Accuracy Score - ', accuracy_score(Y_test, Y_pred))\n",
    "#print ('F1 Score - ', recall_score(Y_test, Y_pred))"
   ]
  },
  {
   "cell_type": "code",
   "execution_count": 188,
   "id": "280c3050",
   "metadata": {},
   "outputs": [
    {
     "data": {
      "image/png": "[encoded data removed]",
      "text/plain": [
       "<Figure size 432x288 with 2 Axes>"
      ]
     },
     "metadata": {
      "needs_background": "light"
     },
     "output_type": "display_data"
    }
   ],
   "source": [
    "Y_pred = model1.predict(X_test_tf)\n",
    "confusion_matrix(Y_test, Y_pred)\n",
    "cm = confusion_matrix(Y_test, Y_pred)\n",
    "disp = ConfusionMatrixDisplay(confusion_matrix=cm, display_labels = model1.classes_)\n",
    "disp.plot()\n",
    "plt.show()"
   ]
  },
  {
   "cell_type": "code",
   "execution_count": 189,
   "id": "675d5f3c",
   "metadata": {},
   "outputs": [],
   "source": [
    "TNmodel1=cm[0][0]\n",
    "FPmodel1=cm[0][1]\n",
    "FNmodel1=cm[1][0]\n",
    "TPmodel1=cm[1][1]"
   ]
  },
  {
   "cell_type": "code",
   "execution_count": 190,
   "id": "3d24a7b7",
   "metadata": {},
   "outputs": [
    {
     "name": "stdout",
     "output_type": "stream",
     "text": [
      "╒═══════════════╤════════════════════╕\n",
      "│ Measurement   │   Linear SVC Model │\n",
      "╞═══════════════╪════════════════════╡\n",
      "│ Accuracy      │          0.906948  │\n",
      "├───────────────┼────────────────────┤\n",
      "│ Error Rate    │          0.0930521 │\n",
      "├───────────────┼────────────────────┤\n",
      "│ Sensitivity   │          0.969203  │\n",
      "├───────────────┼────────────────────┤\n",
      "│ Recall        │          0.969203  │\n",
      "├───────────────┼────────────────────┤\n",
      "│ Specificity   │          0.771654  │\n",
      "├───────────────┼────────────────────┤\n",
      "│ Precision     │          0.902192  │\n",
      "├───────────────┼────────────────────┤\n",
      "│ F1            │          0.934498  │\n",
      "├───────────────┼────────────────────┤\n",
      "│ F2            │          0.955016  │\n",
      "├───────────────┼────────────────────┤\n",
      "│ F0.5          │          0.914843  │\n",
      "╘═══════════════╧════════════════════╛\n"
     ]
    }
   ],
   "source": [
    "# Results:\n",
    "\n",
    "TANmodel1=TNmodel1+FPmodel1\n",
    "TAPmodel1=TPmodel1+FNmodel1\n",
    "TPPmodel1=FPmodel1+TPmodel1\n",
    "TPNmodel1=TNmodel1+FNmodel1\n",
    "GTmodel1=TANmodel1+TAPmodel1\n",
    "AccuracyM1=(TNmodel1+TPmodel1)/GTmodel1\n",
    "ErrorRateM1=1-AccuracyM1\n",
    "SensitivityM1=TPmodel1/(TAPmodel1)\n",
    "RecallM1=SensitivityM1\n",
    "SpecificityM1=TNmodel1/TANmodel1\n",
    "PrecisionM1=TPmodel1/TPPmodel1\n",
    "F1M1=2*PrecisionM1*RecallM1/(PrecisionM1 + RecallM1)\n",
    "F2M1=5*(PrecisionM1*RecallM1)/((4*PrecisionM1)+RecallM1)\n",
    "Fp5M1=(1.25)*(PrecisionM1*RecallM1)/((0.25*PrecisionM1)+RecallM1)\n",
    "\n",
    "header = [\"Accuracy\", \"Error Rate\", \"Sensitivity\", \"Recall\", \"Specificity\",\n",
    "          \"Precision\", \"F1\", \"F2\", \"F0.5\"]\n",
    "data1 = [[\"Accuracy\", AccuracyM1], [\"Error Rate\", ErrorRateM1],\n",
    "         [\"Sensitivity\", SensitivityM1],\n",
    "         [\"Recall\", RecallM1], [\"Specificity\", SpecificityM1],\n",
    "         [\"Precision\", PrecisionM1],\n",
    "         [\"F1\", F1M1], [\"F2\", F2M1], [\"F0.5\", Fp5M1]]\n",
    "\n",
    "col_names=[\"Measurement\", \"Linear SVC Model\"]\n",
    "\n",
    "ModelEvaluationTable = tabulate(data1, headers=col_names,\n",
    "                                tablefmt=\"fancy_grid\")\n",
    "\n",
    "print(ModelEvaluationTable)"
   ]
  },
  {
   "cell_type": "code",
   "execution_count": 299,
   "id": "d400245d",
   "metadata": {},
   "outputs": [
    {
     "data": {
      "text/plain": [
       "[['Accuracy', 0.9069478908188585],\n",
       " ['Error Rate', 0.09305210918114148],\n",
       " ['Sensitivity', 0.9692028985507246],\n",
       " ['Recall', 0.9692028985507246],\n",
       " ['Specificity', 0.7716535433070866],\n",
       " ['Precision', 0.9021922428330523],\n",
       " ['F1', 0.9344978165938865],\n",
       " ['F2', 0.9550160656908249],\n",
       " ['F0.5', 0.91484268125855]]"
      ]
     },
     "execution_count": 299,
     "metadata": {},
     "output_type": "execute_result"
    }
   ],
   "source": [
    "data1"
   ]
  },
  {
   "cell_type": "code",
   "execution_count": 303,
   "id": "8552b58a",
   "metadata": {},
   "outputs": [
    {
     "data": {
      "text/html": [
       "<div>\n",
       "<style scoped>\n",
       "    .dataframe tbody tr th:only-of-type {\n",
       "        vertical-align: middle;\n",
       "    }\n",
       "\n",
       "    .dataframe tbody tr th {\n",
       "        vertical-align: top;\n",
       "    }\n",
       "\n",
       "    .dataframe thead th {\n",
       "        text-align: right;\n",
       "    }\n",
       "</style>\n",
       "<table border=\"1\" class=\"dataframe\">\n",
       "  <thead>\n",
       "    <tr style=\"text-align: right;\">\n",
       "      <th></th>\n",
       "      <th>0</th>\n",
       "      <th>1</th>\n",
       "    </tr>\n",
       "  </thead>\n",
       "  <tbody>\n",
       "    <tr>\n",
       "      <th>0</th>\n",
       "      <td>Accuracy</td>\n",
       "      <td>0.906948</td>\n",
       "    </tr>\n",
       "    <tr>\n",
       "      <th>1</th>\n",
       "      <td>Error Rate</td>\n",
       "      <td>0.093052</td>\n",
       "    </tr>\n",
       "    <tr>\n",
       "      <th>2</th>\n",
       "      <td>Sensitivity</td>\n",
       "      <td>0.969203</td>\n",
       "    </tr>\n",
       "    <tr>\n",
       "      <th>3</th>\n",
       "      <td>Recall</td>\n",
       "      <td>0.969203</td>\n",
       "    </tr>\n",
       "    <tr>\n",
       "      <th>4</th>\n",
       "      <td>Specificity</td>\n",
       "      <td>0.771654</td>\n",
       "    </tr>\n",
       "  </tbody>\n",
       "</table>\n",
       "</div>"
      ],
      "text/plain": [
       "             0         1\n",
       "0     Accuracy  0.906948\n",
       "1   Error Rate  0.093052\n",
       "2  Sensitivity  0.969203\n",
       "3       Recall  0.969203\n",
       "4  Specificity  0.771654"
      ]
     },
     "execution_count": 303,
     "metadata": {},
     "output_type": "execute_result"
    }
   ],
   "source": [
    "Data_metric_results_TheHill=pd.DataFrame(data1)\n",
    "Data_metric_results_TheHill.head()"
   ]
  },
  {
   "cell_type": "code",
   "execution_count": 304,
   "id": "712578eb",
   "metadata": {},
   "outputs": [],
   "source": [
    "\n",
    "Data_metric_results_TheHill.rename (columns = {0:'Measurement'}, inplace=True) \n",
    "Data_metric_results_TheHill.rename (columns = {1:'Result'}, inplace=True) "
   ]
  },
  {
   "cell_type": "code",
   "execution_count": 319,
   "id": "532a185c",
   "metadata": {},
   "outputs": [
    {
     "data": {
      "text/plain": [
       "(0.0, 1.15)"
      ]
     },
     "execution_count": 319,
     "metadata": {},
     "output_type": "execute_result"
    },
    {
     "data": {
      "image/png": "[encoded data removed]",
      "text/plain": [
       "<Figure size 360x432 with 1 Axes>"
      ]
     },
     "metadata": {
      "needs_background": "light"
     },
     "output_type": "display_data"
    }
   ],
   "source": [
    "#plt.bar(x=ModelEvaluationTable)\n",
    "\n",
    "\n",
    "ax=Data_metric_results_TheHill[(Data_metric_results_TheHill['Measurement'] == 'Accuracy') | \n",
    "                            (Data_metric_results_TheHill['Measurement'] == 'Recall') |\n",
    "                            (Data_metric_results_TheHill['Measurement'] == 'F1') |\n",
    "                            (Data_metric_results_TheHill['Measurement'] == \\\n",
    "                             'Error Rate')].plot(kind=\"barh\", \n",
    "                                                 x='Measurement',\n",
    "                                  figsize=(5,6),\n",
    "                                  title='Linear SVC Performance metrics on Test Data')\n",
    "ax.bar_label(ax.containers[0])\n",
    "ax.set_xlim(right=1.15)"
   ]
  },
  {
   "attachments": {},
   "cell_type": "markdown",
   "id": "69b8b00f",
   "metadata": {},
   "source": [
    "Because the classifier has a harder time classifying the Left class, our Accuracy is lower than Recall for the Right class. But still within acceptable range. F1 score is above .9 which was the goal. This classifier is good to try with the business case data give its speed and simpler design."
   ]
  },
  {
   "attachments": {},
   "cell_type": "markdown",
   "id": "0022c998",
   "metadata": {},
   "source": [
    "#### Save trained SVC model:"
   ]
  },
  {
   "cell_type": "code",
   "execution_count": 386,
   "id": "3f61c400",
   "metadata": {},
   "outputs": [
    {
     "name": "stdout",
     "output_type": "stream",
     "text": [
      "Model pickled and saved successfully.\n"
     ]
    }
   ],
   "source": [
    "# Path to save the pickled model\n",
    "file_path = \"model1_linSVC.pkl\"\n",
    "\n",
    "# Pickle the model\n",
    "with open(file_path, \"wb\") as file:\n",
    "    pickle.dump(model1, file)\n",
    "\n",
    "print(\"Model pickled and saved successfully.\")"
   ]
  },
  {
   "attachments": {},
   "cell_type": "markdown",
   "id": "ca69694b",
   "metadata": {},
   "source": [
    "### SKLEARN SVC Proba Model:"
   ]
  },
  {
   "cell_type": "code",
   "execution_count": 363,
   "id": "16c84d7b",
   "metadata": {},
   "outputs": [
    {
     "data": {
      "text/html": [
       "<style>#sk-container-id-33 {color: black;background-color: white;}#sk-container-id-33 pre{padding: 0;}#sk-container-id-33 div.sk-toggleable {background-color: white;}#sk-container-id-33 label.sk-toggleable__label {cursor: pointer;display: block;width: 100%;margin-bottom: 0;padding: 0.3em;box-sizing: border-box;text-align: center;}#sk-container-id-33 label.sk-toggleable__label-arrow:before {content: \"▸\";float: left;margin-right: 0.25em;color: #696969;}#sk-container-id-33 label.sk-toggleable__label-arrow:hover:before {color: black;}#sk-container-id-33 div.sk-estimator:hover label.sk-toggleable__label-arrow:before {color: black;}#sk-container-id-33 div.sk-toggleable__content {max-height: 0;max-width: 0;overflow: hidden;text-align: left;background-color: #f0f8ff;}#sk-container-id-33 div.sk-toggleable__content pre {margin: 0.2em;color: black;border-radius: 0.25em;background-color: #f0f8ff;}#sk-container-id-33 input.sk-toggleable__control:checked~div.sk-toggleable__content {max-height: 200px;max-width: 100%;overflow: auto;}#sk-container-id-33 input.sk-toggleable__control:checked~label.sk-toggleable__label-arrow:before {content: \"▾\";}#sk-container-id-33 div.sk-estimator input.sk-toggleable__control:checked~label.sk-toggleable__label {background-color: #d4ebff;}#sk-container-id-33 div.sk-label input.sk-toggleable__control:checked~label.sk-toggleable__label {background-color: #d4ebff;}#sk-container-id-33 input.sk-hidden--visually {border: 0;clip: rect(1px 1px 1px 1px);clip: rect(1px, 1px, 1px, 1px);height: 1px;margin: -1px;overflow: hidden;padding: 0;position: absolute;width: 1px;}#sk-container-id-33 div.sk-estimator {font-family: monospace;background-color: #f0f8ff;border: 1px dotted black;border-radius: 0.25em;box-sizing: border-box;margin-bottom: 0.5em;}#sk-container-id-33 div.sk-estimator:hover {background-color: #d4ebff;}#sk-container-id-33 div.sk-parallel-item::after {content: \"\";width: 100%;border-bottom: 1px solid gray;flex-grow: 1;}#sk-container-id-33 div.sk-label:hover label.sk-toggleable__label {background-color: #d4ebff;}#sk-container-id-33 div.sk-serial::before {content: \"\";position: absolute;border-left: 1px solid gray;box-sizing: border-box;top: 0;bottom: 0;left: 50%;z-index: 0;}#sk-container-id-33 div.sk-serial {display: flex;flex-direction: column;align-items: center;background-color: white;padding-right: 0.2em;padding-left: 0.2em;position: relative;}#sk-container-id-33 div.sk-item {position: relative;z-index: 1;}#sk-container-id-33 div.sk-parallel {display: flex;align-items: stretch;justify-content: center;background-color: white;position: relative;}#sk-container-id-33 div.sk-item::before, #sk-container-id-33 div.sk-parallel-item::before {content: \"\";position: absolute;border-left: 1px solid gray;box-sizing: border-box;top: 0;bottom: 0;left: 50%;z-index: -1;}#sk-container-id-33 div.sk-parallel-item {display: flex;flex-direction: column;z-index: 1;position: relative;background-color: white;}#sk-container-id-33 div.sk-parallel-item:first-child::after {align-self: flex-end;width: 50%;}#sk-container-id-33 div.sk-parallel-item:last-child::after {align-self: flex-start;width: 50%;}#sk-container-id-33 div.sk-parallel-item:only-child::after {width: 0;}#sk-container-id-33 div.sk-dashed-wrapped {border: 1px dashed gray;margin: 0 0.4em 0.5em 0.4em;box-sizing: border-box;padding-bottom: 0.4em;background-color: white;}#sk-container-id-33 div.sk-label label {font-family: monospace;font-weight: bold;display: inline-block;line-height: 1.2em;}#sk-container-id-33 div.sk-label-container {text-align: center;}#sk-container-id-33 div.sk-container {/* jupyter's `normalize.less` sets `[hidden] { display: none; }` but bootstrap.min.css set `[hidden] { display: none !important; }` so we also need the `!important` here to be able to override the default hidden behavior on the sphinx rendered scikit-learn.org. See: https://github.com/scikit-learn/scikit-learn/issues/21755 */display: inline-block !important;position: relative;}#sk-container-id-33 div.sk-text-repr-fallback {display: none;}</style><div id=\"sk-container-id-33\" class=\"sk-top-container\"><div class=\"sk-text-repr-fallback\"><pre>SVC(kernel=&#x27;linear&#x27;, probability=True, random_state=0)</pre><b>In a Jupyter environment, please rerun this cell to show the HTML representation or trust the notebook. <br />On GitHub, the HTML representation is unable to render, please try loading this page with nbviewer.org.</b></div><div class=\"sk-container\" hidden><div class=\"sk-item\"><div class=\"sk-estimator sk-toggleable\"><input class=\"sk-toggleable__control sk-hidden--visually\" id=\"sk-estimator-id-45\" type=\"checkbox\" checked><label for=\"sk-estimator-id-45\" class=\"sk-toggleable__label sk-toggleable__label-arrow\">SVC</label><div class=\"sk-toggleable__content\"><pre>SVC(kernel=&#x27;linear&#x27;, probability=True, random_state=0)</pre></div></div></div></div></div>"
      ],
      "text/plain": [
       "SVC(kernel='linear', probability=True, random_state=0)"
      ]
     },
     "execution_count": 363,
     "metadata": {},
     "output_type": "execute_result"
    }
   ],
   "source": [
    "svm = SVC(random_state=0, kernel='linear', probability=True)\n",
    "svm.fit(X_train_tf, Y_train)"
   ]
  },
  {
   "cell_type": "code",
   "execution_count": 364,
   "id": "660cbfa4",
   "metadata": {},
   "outputs": [
    {
     "name": "stdout",
     "output_type": "stream",
     "text": [
      "Accuracy Score -  0.8957816377171216\n"
     ]
    }
   ],
   "source": [
    "Y_pred_sklearn = svm.predict(X_test_tf)\n",
    "print ('Accuracy Score - ', accuracy_score(Y_test, Y_pred_sklearn))"
   ]
  },
  {
   "cell_type": "code",
   "execution_count": 203,
   "id": "8edba39e",
   "metadata": {},
   "outputs": [
    {
     "data": {
      "image/png": "[encoded data removed]",
      "text/plain": [
       "<Figure size 432x288 with 2 Axes>"
      ]
     },
     "metadata": {
      "needs_background": "light"
     },
     "output_type": "display_data"
    }
   ],
   "source": [
    "#confusion_matrix(Y_test, Y_pred_sklearn)\n",
    "cm_sklearn = confusion_matrix(Y_test, Y_pred_sklearn)\n",
    "disp_sklearn = ConfusionMatrixDisplay(confusion_matrix=cm_sklearn, display_labels = svm.classes_)\n",
    "disp_sklearn.plot()\n",
    "plt.show()"
   ]
  },
  {
   "cell_type": "code",
   "execution_count": 204,
   "id": "7f61b9fe",
   "metadata": {},
   "outputs": [],
   "source": [
    "SK_TNmodel1=cm_sklearn[0][0]\n",
    "SK_FPmodel1=cm_sklearn[0][1]\n",
    "SK_FNmodel1=cm_sklearn[1][0]\n",
    "SK_TPmodel1=cm_sklearn[1][1]"
   ]
  },
  {
   "cell_type": "code",
   "execution_count": 205,
   "id": "37fc29e5",
   "metadata": {},
   "outputs": [
    {
     "name": "stdout",
     "output_type": "stream",
     "text": [
      "╒═══════════════╤════════════════════════════╕\n",
      "│ Measurement   │   SKLEARN Linear SVC Model │\n",
      "╞═══════════════╪════════════════════════════╡\n",
      "│ Accuracy      │                   0.895782 │\n",
      "├───────────────┼────────────────────────────┤\n",
      "│ Error Rate    │                   0.104218 │\n",
      "├───────────────┼────────────────────────────┤\n",
      "│ Sensitivity   │                   0.963768 │\n",
      "├───────────────┼────────────────────────────┤\n",
      "│ Recall        │                   0.963768 │\n",
      "├───────────────┼────────────────────────────┤\n",
      "│ Specificity   │                   0.748031 │\n",
      "├───────────────┼────────────────────────────┤\n",
      "│ Precision     │                   0.892617 │\n",
      "├───────────────┼────────────────────────────┤\n",
      "│ F1            │                   0.926829 │\n",
      "├───────────────┼────────────────────────────┤\n",
      "│ F2            │                   0.948645 │\n",
      "├───────────────┼────────────────────────────┤\n",
      "│ F0.5          │                   0.905995 │\n",
      "╘═══════════════╧════════════════════════════╛\n"
     ]
    }
   ],
   "source": [
    "# Results:\n",
    "\n",
    "SK_TANmodel1=SK_TNmodel1+SK_FPmodel1\n",
    "SK_TAPmodel1=SK_TPmodel1+SK_FNmodel1\n",
    "SK_TPPmodel1=SK_FPmodel1+SK_TPmodel1\n",
    "SK_TPNmodel1=SK_TNmodel1+SK_FNmodel1\n",
    "SK_GTmodel1=SK_TANmodel1+SK_TAPmodel1\n",
    "SK_AccuracyM1=(SK_TNmodel1+SK_TPmodel1)/SK_GTmodel1\n",
    "SK_ErrorRateM1=1-SK_AccuracyM1\n",
    "SK_SensitivityM1=SK_TPmodel1/(SK_TAPmodel1)\n",
    "SK_RecallM1=SK_SensitivityM1\n",
    "SK_SpecificityM1=SK_TNmodel1/SK_TANmodel1\n",
    "SK_PrecisionM1=SK_TPmodel1/SK_TPPmodel1\n",
    "SK_F1M1=2*SK_PrecisionM1*SK_RecallM1/(SK_PrecisionM1 + SK_RecallM1)\n",
    "SK_F2M1=5*(SK_PrecisionM1*SK_RecallM1)/((4*SK_PrecisionM1)+SK_RecallM1)\n",
    "SK_Fp5M1=(1.25)*(SK_PrecisionM1*SK_RecallM1)/((0.25*SK_PrecisionM1)+SK_RecallM1)\n",
    "\n",
    "header = [\"Accuracy\", \"Error Rate\", \"Sensitivity\", \"Recall\", \"Specificity\",\n",
    "          \"Precision\", \"F1\", \"F2\", \"F0.5\"]\n",
    "SK_data1 = [[\"Accuracy\", SK_AccuracyM1], [\"Error Rate\", SK_ErrorRateM1],\n",
    "         [\"Sensitivity\", SK_SensitivityM1],\n",
    "         [\"Recall\", SK_RecallM1], [\"Specificity\", SK_SpecificityM1],\n",
    "         [\"Precision\", SK_PrecisionM1],\n",
    "         [\"F1\", SK_F1M1], [\"F2\", SK_F2M1], [\"F0.5\", SK_Fp5M1]]\n",
    "\n",
    "col_names=[\"Measurement\", \"SKLEARN Linear SVC Model\"]\n",
    "\n",
    "SK_ModelEvaluationTable = tabulate(SK_data1, headers=col_names,\n",
    "                                tablefmt=\"fancy_grid\")\n",
    "\n",
    "print(SK_ModelEvaluationTable)"
   ]
  },
  {
   "attachments": {},
   "cell_type": "markdown",
   "id": "9f2d320e",
   "metadata": {},
   "source": [
    "### Features of Importance:"
   ]
  },
  {
   "cell_type": "code",
   "execution_count": 456,
   "id": "d007e3fe",
   "metadata": {},
   "outputs": [],
   "source": [
    "\n",
    "\n",
    "# Get the most predictive words\n",
    "\n",
    "feature_names = tfidf.get_feature_names_out()\n",
    "#model1.coef_\n",
    "top_words = sorted(zip(model1.coef_[0], feature_names), reverse=True)[:10]\n",
    "#svm.coe\n",
    "#top_words"
   ]
  },
  {
   "cell_type": "code",
   "execution_count": 457,
   "id": "75eb9994",
   "metadata": {},
   "outputs": [],
   "source": [
    "top_words_df=pd.DataFrame(top_words)\n",
    "\n",
    "top_words_df.rename (columns = {0:'var_imp'}, inplace=True) \n",
    "top_words_df.rename (columns = {1:'feature'}, inplace=True) "
   ]
  },
  {
   "cell_type": "code",
   "execution_count": 458,
   "id": "665328fc",
   "metadata": {},
   "outputs": [
    {
     "data": {
      "text/html": [
       "<div>\n",
       "<style scoped>\n",
       "    .dataframe tbody tr th:only-of-type {\n",
       "        vertical-align: middle;\n",
       "    }\n",
       "\n",
       "    .dataframe tbody tr th {\n",
       "        vertical-align: top;\n",
       "    }\n",
       "\n",
       "    .dataframe thead th {\n",
       "        text-align: right;\n",
       "    }\n",
       "</style>\n",
       "<table border=\"1\" class=\"dataframe\">\n",
       "  <thead>\n",
       "    <tr style=\"text-align: right;\">\n",
       "      <th></th>\n",
       "      <th>var_imp</th>\n",
       "      <th>feature</th>\n",
       "    </tr>\n",
       "  </thead>\n",
       "  <tbody>\n",
       "    <tr>\n",
       "      <th>0</th>\n",
       "      <td>1.578366</td>\n",
       "      <td>bidens</td>\n",
       "    </tr>\n",
       "    <tr>\n",
       "      <th>1</th>\n",
       "      <td>1.556567</td>\n",
       "      <td>london</td>\n",
       "    </tr>\n",
       "    <tr>\n",
       "      <th>2</th>\n",
       "      <td>1.493616</td>\n",
       "      <td>trumps</td>\n",
       "    </tr>\n",
       "    <tr>\n",
       "      <th>3</th>\n",
       "      <td>1.359869</td>\n",
       "      <td>amp</td>\n",
       "    </tr>\n",
       "    <tr>\n",
       "      <th>4</th>\n",
       "      <td>1.322696</td>\n",
       "      <td>thats</td>\n",
       "    </tr>\n",
       "  </tbody>\n",
       "</table>\n",
       "</div>"
      ],
      "text/plain": [
       "    var_imp feature\n",
       "0  1.578366  bidens\n",
       "1  1.556567  london\n",
       "2  1.493616  trumps\n",
       "3  1.359869     amp\n",
       "4  1.322696   thats"
      ]
     },
     "execution_count": 458,
     "metadata": {},
     "output_type": "execute_result"
    }
   ],
   "source": [
    "top_words_df.head()"
   ]
  },
  {
   "cell_type": "code",
   "execution_count": 460,
   "id": "0ec777bf",
   "metadata": {},
   "outputs": [
    {
     "data": {
      "image/png": "[encoded data removed]",
      "text/plain": [
       "<Figure size 1080x504 with 1 Axes>"
      ]
     },
     "metadata": {
      "needs_background": "light"
     },
     "output_type": "display_data"
    }
   ],
   "source": [
    "top_words_df.sort_values('var_imp',inplace=True)\n",
    "plt.figure(figsize=(15,7))\n",
    "plt.title('Linear SVC Feature Importance (Top 10)')\n",
    "plt.barh([x for x in range(len(top_words_df['var_imp']))], top_words_df['var_imp'],\n",
    "         tick_label=top_words_df['feature'])\n",
    "plt.show()"
   ]
  },
  {
   "attachments": {},
   "cell_type": "markdown",
   "id": "2f856e68",
   "metadata": {},
   "source": [
    "These words are difficult to analyze without context. However, they help us know if there are any words that are indicative more of the journal/attributes of the news source that might give away the label instead of actual words in the articles that are relevant to political lean. We used this and found that certain phrases were indicating Fox News or other sources which might have helped drive accuracy deceptively high. This output helps us know that it is the text within articles that have helped classify the articles and develop our classifier."
   ]
  },
  {
   "attachments": {},
   "cell_type": "markdown",
   "id": "421e8fe0",
   "metadata": {},
   "source": [
    "----"
   ]
  },
  {
   "attachments": {},
   "cell_type": "markdown",
   "id": "4f629a65",
   "metadata": {},
   "source": [
    "## Apply Classifier to Business Client Data:"
   ]
  },
  {
   "cell_type": "code",
   "execution_count": 243,
   "id": "a34d379a",
   "metadata": {},
   "outputs": [],
   "source": [
    "#Centered data Prep classification:\n",
    "\n",
    "X_data = api_data_complete_df_business['cleaner_text']"
   ]
  },
  {
   "cell_type": "code",
   "execution_count": 244,
   "id": "ca79866c",
   "metadata": {},
   "outputs": [],
   "source": [
    "# TF-IDF Vectorization for Business application:\n",
    "\n",
    "X_Data_Centered = tfidf.transform(X_data)"
   ]
  },
  {
   "attachments": {},
   "cell_type": "markdown",
   "id": "5973e9ab",
   "metadata": {},
   "source": [
    "### Linear SVD:"
   ]
  },
  {
   "cell_type": "code",
   "execution_count": 245,
   "id": "7618d464",
   "metadata": {},
   "outputs": [],
   "source": [
    "Data_Classification_Centered = model1.predict(X_Data_Centered)\n"
   ]
  },
  {
   "cell_type": "code",
   "execution_count": 246,
   "id": "dff04058",
   "metadata": {},
   "outputs": [
    {
     "name": "stdout",
     "output_type": "stream",
     "text": [
      "0        Zach Schonfeld\n",
      "1         Brett Samuels\n",
      "2              the hill\n",
      "3      Alexander Bolton\n",
      "4           Zack Budryk\n",
      "             ...       \n",
      "176        Tobias Burns\n",
      "177       Julia Mueller\n",
      "178      Caroline Vakil\n",
      "179        Tobias Burns\n",
      "180       Lauren Sforza\n",
      "Name: Author, Length: 181, dtype: object\n"
     ]
    }
   ],
   "source": [
    "print(api_data_complete_df_business['Author'])"
   ]
  },
  {
   "cell_type": "code",
   "execution_count": 247,
   "id": "2dbb0f0d",
   "metadata": {},
   "outputs": [
    {
     "data": {
      "text/plain": [
       "array(['Left', 'Left', 'Right', 'Right', 'Right', 'Right', 'Right',\n",
       "       'Left', 'Left', 'Right', 'Left', 'Left', 'Right', 'Left', 'Left',\n",
       "       'Left', 'Left', 'Right', 'Right', 'Right', 'Right', 'Left',\n",
       "       'Right', 'Left', 'Left', 'Right', 'Left', 'Right', 'Right',\n",
       "       'Right', 'Left', 'Left', 'Right', 'Left', 'Left', 'Right', 'Left',\n",
       "       'Left', 'Right', 'Right', 'Left', 'Right', 'Left', 'Left', 'Left',\n",
       "       'Right', 'Right', 'Right', 'Left', 'Right', 'Left', 'Right',\n",
       "       'Right', 'Left', 'Left', 'Left', 'Right', 'Right', 'Left', 'Right',\n",
       "       'Left', 'Right', 'Right', 'Left', 'Right', 'Left', 'Right', 'Left',\n",
       "       'Left', 'Left', 'Right', 'Right', 'Left', 'Right', 'Left', 'Right',\n",
       "       'Right', 'Right', 'Right', 'Right', 'Right', 'Left', 'Right',\n",
       "       'Right', 'Left', 'Left', 'Left', 'Left', 'Right', 'Right', 'Left',\n",
       "       'Right', 'Right', 'Right', 'Right', 'Left', 'Left', 'Left',\n",
       "       'Right', 'Left', 'Left', 'Right', 'Left', 'Left', 'Left', 'Left',\n",
       "       'Left', 'Right', 'Left', 'Right', 'Right', 'Right', 'Left',\n",
       "       'Right', 'Left', 'Right', 'Left', 'Right', 'Left', 'Right', 'Left',\n",
       "       'Right', 'Left', 'Right', 'Left', 'Right', 'Right', 'Left',\n",
       "       'Right', 'Right', 'Right', 'Right', 'Right', 'Right', 'Right',\n",
       "       'Right', 'Right', 'Left', 'Left', 'Right', 'Left', 'Left', 'Left',\n",
       "       'Left', 'Right', 'Right', 'Right', 'Right', 'Right', 'Left',\n",
       "       'Right', 'Left', 'Right', 'Right', 'Right', 'Left', 'Right',\n",
       "       'Left', 'Left', 'Right', 'Right', 'Right', 'Left', 'Right',\n",
       "       'Right', 'Right', 'Left', 'Left', 'Right', 'Left', 'Left', 'Right',\n",
       "       'Right', 'Right', 'Left', 'Left', 'Right', 'Right', 'Right',\n",
       "       'Right', 'Right'], dtype=object)"
      ]
     },
     "execution_count": 247,
     "metadata": {},
     "output_type": "execute_result"
    }
   ],
   "source": [
    "Data_Classification_Centered"
   ]
  },
  {
   "cell_type": "code",
   "execution_count": 248,
   "id": "b1eb94d8",
   "metadata": {},
   "outputs": [
    {
     "name": "stdout",
     "output_type": "stream",
     "text": [
      "Number of Left Articles:  81 \n",
      "Number of Right Articles:  100\n"
     ]
    }
   ],
   "source": [
    "left=0\n",
    "right=0\n",
    "for ii in range(0,len(Data_Classification_Centered)):\n",
    "    if (Data_Classification_Centered[ii] == 'Left'):\n",
    "        left=left+1\n",
    "    elif (Data_Classification_Centered[ii] == 'Right'):\n",
    "        right=right+1\n",
    "\n",
    "print('Number of Left Articles: ', left, '\\nNumber of Right Articles: ',\n",
    "      right)\n"
   ]
  },
  {
   "cell_type": "code",
   "execution_count": 249,
   "id": "7c44fc7c",
   "metadata": {},
   "outputs": [],
   "source": [
    "Data_centered_results=pd.DataFrame(Data_Classification_Centered)"
   ]
  },
  {
   "cell_type": "code",
   "execution_count": 250,
   "id": "0d79aceb",
   "metadata": {},
   "outputs": [],
   "source": [
    "Data_centered_results.rename (columns = {0:'Prediction'}, inplace=True) \n",
    "\n"
   ]
  },
  {
   "cell_type": "code",
   "execution_count": 251,
   "id": "b10b9628",
   "metadata": {},
   "outputs": [
    {
     "data": {
      "text/html": [
       "<div>\n",
       "<style scoped>\n",
       "    .dataframe tbody tr th:only-of-type {\n",
       "        vertical-align: middle;\n",
       "    }\n",
       "\n",
       "    .dataframe tbody tr th {\n",
       "        vertical-align: top;\n",
       "    }\n",
       "\n",
       "    .dataframe thead th {\n",
       "        text-align: right;\n",
       "    }\n",
       "</style>\n",
       "<table border=\"1\" class=\"dataframe\">\n",
       "  <thead>\n",
       "    <tr style=\"text-align: right;\">\n",
       "      <th></th>\n",
       "      <th>Prediction</th>\n",
       "    </tr>\n",
       "  </thead>\n",
       "  <tbody>\n",
       "    <tr>\n",
       "      <th>0</th>\n",
       "      <td>Left</td>\n",
       "    </tr>\n",
       "    <tr>\n",
       "      <th>1</th>\n",
       "      <td>Left</td>\n",
       "    </tr>\n",
       "    <tr>\n",
       "      <th>2</th>\n",
       "      <td>Right</td>\n",
       "    </tr>\n",
       "    <tr>\n",
       "      <th>3</th>\n",
       "      <td>Right</td>\n",
       "    </tr>\n",
       "    <tr>\n",
       "      <th>4</th>\n",
       "      <td>Right</td>\n",
       "    </tr>\n",
       "  </tbody>\n",
       "</table>\n",
       "</div>"
      ],
      "text/plain": [
       "  Prediction\n",
       "0       Left\n",
       "1       Left\n",
       "2      Right\n",
       "3      Right\n",
       "4      Right"
      ]
     },
     "execution_count": 251,
     "metadata": {},
     "output_type": "execute_result"
    }
   ],
   "source": [
    "Data_centered_results.head()"
   ]
  },
  {
   "cell_type": "code",
   "execution_count": 252,
   "id": "41109238",
   "metadata": {},
   "outputs": [
    {
     "data": {
      "text/plain": [
       "<AxesSubplot:title={'center':'Class Predictions The Hill'}, xlabel='Prediction'>"
      ]
     },
     "execution_count": 252,
     "metadata": {},
     "output_type": "execute_result"
    },
    {
     "data": {
      "image/png": "[encoded data removed]",
      "text/plain": [
       "<Figure size 360x432 with 1 Axes>"
      ]
     },
     "metadata": {
      "needs_background": "light"
     },
     "output_type": "display_data"
    }
   ],
   "source": [
    "Data_centered_results['Prediction'].value_counts().plot(kind=\"bar\", \n",
    "                                  legend=True,\n",
    "                                  figsize=(5,6),\n",
    "                                  title='Class Predictions The Hill')"
   ]
  },
  {
   "attachments": {},
   "cell_type": "markdown",
   "id": "1c48d62f",
   "metadata": {},
   "source": [
    "Even with a small dataset of 181 articles, we see almost an even distribution of Right and Left leaning classifications for The Hill. We are interested in seeing the confidence (probability ratings) for these classifications below."
   ]
  },
  {
   "attachments": {},
   "cell_type": "markdown",
   "id": "1a5ba00b",
   "metadata": {},
   "source": [
    "### SKLEARN SVC for probability testing:"
   ]
  },
  {
   "cell_type": "code",
   "execution_count": 253,
   "id": "8153ee61",
   "metadata": {},
   "outputs": [],
   "source": [
    "AP_predictions_proba = svm.predict_proba(X_Data_Centered)\n"
   ]
  },
  {
   "cell_type": "code",
   "execution_count": 254,
   "id": "7e79ae42",
   "metadata": {},
   "outputs": [
    {
     "data": {
      "text/plain": [
       "0.9503953866731141"
      ]
     },
     "execution_count": 254,
     "metadata": {},
     "output_type": "execute_result"
    }
   ],
   "source": [
    "AP_predictions_proba[0][0]"
   ]
  },
  {
   "cell_type": "code",
   "execution_count": 208,
   "id": "04a4370a",
   "metadata": {},
   "outputs": [
    {
     "data": {
      "text/plain": [
       "181"
      ]
     },
     "execution_count": 208,
     "metadata": {},
     "output_type": "execute_result"
    }
   ],
   "source": [
    "len(AP_predictions_proba)"
   ]
  },
  {
   "cell_type": "code",
   "execution_count": 255,
   "id": "ad03b374",
   "metadata": {},
   "outputs": [
    {
     "name": "stdout",
     "output_type": "stream",
     "text": [
      "2 : 0.5973377294016616 Right\n",
      "5 : 0.505540954908968 Right\n",
      "18 : 0.5137707984203023 Right\n",
      "27 : 0.5645007945373783 Right\n",
      "38 : 0.5801257602633187 Right\n",
      "39 : 0.5756885039402224 Right\n",
      "46 : 0.5418546159064842 Right\n",
      "75 : 0.6216635081105005 Right\n",
      "77 : 0.6216635081105005 Right\n",
      "84 : 0.6413191667751802 Left\n",
      "105 : 0.6412982042489684 Left\n",
      "106 : 0.6412982042489684 Left\n",
      "115 : 0.5 Right\n",
      "119 : 0.5 Right\n",
      "136 : 0.5857159103879271 Right\n",
      "147 : 0.5893703782219359 Right\n",
      "150 : 0.5547001230087428 Right\n",
      "157 : 0.6448261346071565 Left\n",
      "166 : 0.6448261346071565 Left\n",
      "168 : 0.6242723322311122 Right\n",
      "172 : 0.616816668944659 Right\n",
      "175 : 0.611971953429539 Left\n",
      "176 : 0.5 Right\n",
      "179 : 0.5 Right\n"
     ]
    }
   ],
   "source": [
    "#from sklearn.svm import SVC\n",
    "#svm = SVC(kernel='linear', probability=True)\n",
    "#svm.fit(X_train_tf, Y_train)\n",
    "\n",
    "#AP_predictions_proba = svm.predict_proba(X_Data_Centered)\n",
    "\n",
    "for pa in range(0,len(AP_predictions_proba)):\n",
    "    for pa2 in range(0,1):\n",
    "        if (AP_predictions_proba[pa][pa2] <= 0.65) & (AP_predictions_proba[pa][pa2] >= 0.5):\n",
    "            print(pa, ':', AP_predictions_proba[pa][pa2], Data_Classification_Centered[pa])\n",
    "    "
   ]
  },
  {
   "cell_type": "code",
   "execution_count": 296,
   "id": "5a90a611",
   "metadata": {},
   "outputs": [
    {
     "data": {
      "image/png": "[encoded data removed]",
      "text/plain": [
       "<Figure size 432x288 with 1 Axes>"
      ]
     },
     "metadata": {
      "needs_background": "light"
     },
     "output_type": "display_data"
    }
   ],
   "source": [
    "#AP_predictions_proba\n",
    "\n",
    "plt.hist(AP_predictions_proba[:, 1], bins=20)\n",
    "plt.xlabel('Probability')\n",
    "plt.ylabel('Frequency')\n",
    "plt.title('Probability Distribution for The Hill Classifier Predictions (Right)')\n",
    "plt.show()"
   ]
  },
  {
   "cell_type": "code",
   "execution_count": 481,
   "id": "0ba2a005",
   "metadata": {},
   "outputs": [
    {
     "data": {
      "image/png": "[encoded data removed]",
      "text/plain": [
       "<Figure size 432x288 with 1 Axes>"
      ]
     },
     "metadata": {
      "needs_background": "light"
     },
     "output_type": "display_data"
    }
   ],
   "source": [
    "# Plotting histograms\n",
    "plt.hist(AP_predictions_proba[:, 0], bins=10,\n",
    "         alpha=0.5, color='blue', label='left')\n",
    "plt.hist(AP_predictions_proba[:, 1], bins=10,\n",
    "         alpha=0.5, color='red', label='right')\n",
    "\n",
    "# Adding legend and title\n",
    "plt.legend()\n",
    "plt.title('Histogram of Left/Right Prediction Probabilities for The Hill')\n",
    "\n",
    "# Displaying the plot\n",
    "plt.show()"
   ]
  },
  {
   "attachments": {},
   "cell_type": "markdown",
   "id": "404eec0b",
   "metadata": {},
   "source": [
    "As we had hoped, The Hill appears to be much more balanced in their political lean, as is confirmed by the AllSides data. We did find a slight increase in Right leaning articles, but upon observation of the probability distribution, it is apparant that there are many low probability (low confidence) classifications for the lean. This distribution reveals that even when there is a lean classification, there is not an overwhelming number of confident classifications, which means The Hill is probably still a Centered online publication."
   ]
  },
  {
   "attachments": {},
   "cell_type": "markdown",
   "id": "673c242f",
   "metadata": {},
   "source": [
    "----"
   ]
  },
  {
   "attachments": {},
   "cell_type": "markdown",
   "id": "35df874e",
   "metadata": {},
   "source": [
    "## Apply Classifier to AP data:"
   ]
  },
  {
   "attachments": {},
   "cell_type": "markdown",
   "id": "42edaa26",
   "metadata": {},
   "source": [
    "Collect data saved in CSV and preprocess:"
   ]
  },
  {
   "cell_type": "code",
   "execution_count": 261,
   "id": "af87745a",
   "metadata": {},
   "outputs": [],
   "source": [
    "api_data_complete_df_AP=pd.read_csv('News_API_AP_wordcount.csv')\n"
   ]
  },
  {
   "cell_type": "code",
   "execution_count": 262,
   "id": "74e49cbf",
   "metadata": {},
   "outputs": [],
   "source": [
    "# Tokenize text:\n",
    "\n",
    "api_data_complete_df_AP['tokens']= api_data_complete_df_AP['article_parsed'].apply(prepare,\n",
    "                                                     pipeline=full_pipeline)\n",
    "# Clean data into lowercase/no punctuation:\n",
    "\n",
    "api_data_complete_df_AP['cleaner_text']= api_data_complete_df_AP['article_parsed'].apply(prepare,\n",
    "                                                     pipeline=first_pipeline)\n",
    "api_data_complete_df_AP['word_count_tokens'] = api_data_complete_df_AP['tokens'].apply(lambda x:\\\n",
    "                                                                                       len(str(x).\\\n",
    "                                                                                           split(\" \")))\n",
    "\n",
    "api_data_complete_df_AP = api_data_complete_df_AP[api_data_complete_df_AP['word_count_tokens']>1]\n",
    "\n",
    "api_data_complete_df_AP.to_csv(\"master_tokenized_AP.csv\", sep=',')\n"
   ]
  },
  {
   "cell_type": "code",
   "execution_count": 269,
   "id": "d744db35",
   "metadata": {},
   "outputs": [],
   "source": [
    "#Centered data Prep classification:\n",
    "\n",
    "X_data_AP = api_data_complete_df_AP['cleaner_text']"
   ]
  },
  {
   "cell_type": "code",
   "execution_count": 270,
   "id": "f87e83a4",
   "metadata": {},
   "outputs": [],
   "source": [
    "# TF-IDF Vectorization for Business application:\n",
    "\n",
    "X_Data_Centered_AP = tfidf.transform(X_data_AP)"
   ]
  },
  {
   "attachments": {},
   "cell_type": "markdown",
   "id": "a7e48c90",
   "metadata": {},
   "source": [
    "### Linear SVD:"
   ]
  },
  {
   "cell_type": "code",
   "execution_count": 271,
   "id": "54e3eca2",
   "metadata": {},
   "outputs": [],
   "source": [
    "Data_Classification_Centered_AP = model1.predict(X_Data_Centered_AP)\n"
   ]
  },
  {
   "cell_type": "code",
   "execution_count": 273,
   "id": "b5c6017f",
   "metadata": {},
   "outputs": [
    {
     "name": "stdout",
     "output_type": "stream",
     "text": [
      "0             By ALANNA DURKIN RICHER - Associated Press\n",
      "1                      By SEUNG MIN KIM Associated Press\n",
      "2                                         Bernard Condon\n",
      "3      By KIMBERLEE KRUESI, SARAH RANKIN and DENISE L...\n",
      "4                                     Brendan Farrington\n",
      "                             ...                        \n",
      "183    By LISA MASCARO, KEVIN FREKING and STEPHEN GRO...\n",
      "184                 By FARNOUSH AMIRI - Associated Press\n",
      "185              By RADUL RADOVANOVIC - Associated Press\n",
      "186                 By FARNOUSH AMIRI - Associated Press\n",
      "187    By LISA MASCARO, KEVIN FREKING and STEPHEN GRO...\n",
      "Name: Author, Length: 188, dtype: object\n"
     ]
    }
   ],
   "source": [
    "print(api_data_complete_df_AP['Author'])"
   ]
  },
  {
   "cell_type": "code",
   "execution_count": 274,
   "id": "5fb88733",
   "metadata": {},
   "outputs": [
    {
     "data": {
      "text/plain": [
       "array(['Left', 'Left', 'Left', 'Left', 'Left', 'Left', 'Left', 'Right',\n",
       "       'Left', 'Left', 'Left', 'Left', 'Left', 'Left', 'Left', 'Left',\n",
       "       'Left', 'Right', 'Left', 'Left', 'Left', 'Left', 'Left', 'Left',\n",
       "       'Left', 'Left', 'Right', 'Left', 'Left', 'Left', 'Left', 'Left',\n",
       "       'Left', 'Left', 'Left', 'Right', 'Left', 'Left', 'Left', 'Left',\n",
       "       'Left', 'Left', 'Left', 'Left', 'Left', 'Left', 'Left', 'Left',\n",
       "       'Left', 'Left', 'Left', 'Left', 'Left', 'Left', 'Left', 'Left',\n",
       "       'Left', 'Left', 'Right', 'Left', 'Left', 'Left', 'Right', 'Right',\n",
       "       'Left', 'Left', 'Left', 'Left', 'Left', 'Left', 'Left', 'Left',\n",
       "       'Left', 'Left', 'Left', 'Right', 'Left', 'Right', 'Left', 'Right',\n",
       "       'Left', 'Left', 'Left', 'Right', 'Left', 'Left', 'Left', 'Left',\n",
       "       'Left', 'Left', 'Left', 'Right', 'Left', 'Left', 'Left', 'Left',\n",
       "       'Right', 'Left', 'Left', 'Left', 'Left', 'Left', 'Left', 'Left',\n",
       "       'Left', 'Right', 'Left', 'Right', 'Left', 'Left', 'Left', 'Left',\n",
       "       'Left', 'Left', 'Left', 'Left', 'Left', 'Left', 'Left', 'Left',\n",
       "       'Left', 'Left', 'Left', 'Left', 'Left', 'Left', 'Left', 'Left',\n",
       "       'Left', 'Left', 'Left', 'Left', 'Left', 'Right', 'Left', 'Left',\n",
       "       'Left', 'Left', 'Left', 'Left', 'Right', 'Left', 'Left', 'Left',\n",
       "       'Left', 'Left', 'Left', 'Right', 'Left', 'Left', 'Left', 'Left',\n",
       "       'Left', 'Left', 'Left', 'Left', 'Left', 'Left', 'Left', 'Left',\n",
       "       'Left', 'Left', 'Left', 'Left', 'Left', 'Left', 'Left', 'Left',\n",
       "       'Right', 'Right', 'Left', 'Right', 'Left', 'Left', 'Right', 'Left',\n",
       "       'Left', 'Left', 'Left', 'Right', 'Left', 'Left', 'Right', 'Left',\n",
       "       'Left', 'Left', 'Left', 'Left'], dtype=object)"
      ]
     },
     "execution_count": 274,
     "metadata": {},
     "output_type": "execute_result"
    }
   ],
   "source": [
    "Data_Classification_Centered_AP"
   ]
  },
  {
   "cell_type": "code",
   "execution_count": 275,
   "id": "3a75dcd6",
   "metadata": {},
   "outputs": [
    {
     "name": "stdout",
     "output_type": "stream",
     "text": [
      "Number of Left Articles:  164 \n",
      "Number of Right Articles:  24\n"
     ]
    }
   ],
   "source": [
    "left=0\n",
    "right=0\n",
    "for ii in range(0,len(Data_Classification_Centered_AP)):\n",
    "    if (Data_Classification_Centered_AP[ii] == 'Left'):\n",
    "        left=left+1\n",
    "    elif (Data_Classification_Centered_AP[ii] == 'Right'):\n",
    "        right=right+1\n",
    "\n",
    "print('Number of Left Articles: ', left, '\\nNumber of Right Articles: ',\n",
    "      right)\n"
   ]
  },
  {
   "cell_type": "code",
   "execution_count": 276,
   "id": "7ef96e56",
   "metadata": {},
   "outputs": [],
   "source": [
    "Data_centered_results_AP=pd.DataFrame(Data_Classification_Centered_AP)"
   ]
  },
  {
   "cell_type": "code",
   "execution_count": 277,
   "id": "cdec69a2",
   "metadata": {},
   "outputs": [],
   "source": [
    "Data_centered_results_AP.rename (columns = {0:'Prediction'}, inplace=True) \n",
    "\n"
   ]
  },
  {
   "cell_type": "code",
   "execution_count": 278,
   "id": "1e695a85",
   "metadata": {},
   "outputs": [
    {
     "data": {
      "text/html": [
       "<div>\n",
       "<style scoped>\n",
       "    .dataframe tbody tr th:only-of-type {\n",
       "        vertical-align: middle;\n",
       "    }\n",
       "\n",
       "    .dataframe tbody tr th {\n",
       "        vertical-align: top;\n",
       "    }\n",
       "\n",
       "    .dataframe thead th {\n",
       "        text-align: right;\n",
       "    }\n",
       "</style>\n",
       "<table border=\"1\" class=\"dataframe\">\n",
       "  <thead>\n",
       "    <tr style=\"text-align: right;\">\n",
       "      <th></th>\n",
       "      <th>Prediction</th>\n",
       "    </tr>\n",
       "  </thead>\n",
       "  <tbody>\n",
       "    <tr>\n",
       "      <th>0</th>\n",
       "      <td>Left</td>\n",
       "    </tr>\n",
       "    <tr>\n",
       "      <th>1</th>\n",
       "      <td>Left</td>\n",
       "    </tr>\n",
       "    <tr>\n",
       "      <th>2</th>\n",
       "      <td>Left</td>\n",
       "    </tr>\n",
       "    <tr>\n",
       "      <th>3</th>\n",
       "      <td>Left</td>\n",
       "    </tr>\n",
       "    <tr>\n",
       "      <th>4</th>\n",
       "      <td>Left</td>\n",
       "    </tr>\n",
       "  </tbody>\n",
       "</table>\n",
       "</div>"
      ],
      "text/plain": [
       "  Prediction\n",
       "0       Left\n",
       "1       Left\n",
       "2       Left\n",
       "3       Left\n",
       "4       Left"
      ]
     },
     "execution_count": 278,
     "metadata": {},
     "output_type": "execute_result"
    }
   ],
   "source": [
    "Data_centered_results_AP.head()"
   ]
  },
  {
   "cell_type": "code",
   "execution_count": 279,
   "id": "a4ecf5aa",
   "metadata": {},
   "outputs": [
    {
     "data": {
      "text/plain": [
       "<AxesSubplot:title={'center':'Class Predictions The Associated Press'}, xlabel='Prediction'>"
      ]
     },
     "execution_count": 279,
     "metadata": {},
     "output_type": "execute_result"
    },
    {
     "data": {
      "image/png": "[encoded data removed]",
      "text/plain": [
       "<Figure size 360x432 with 1 Axes>"
      ]
     },
     "metadata": {
      "needs_background": "light"
     },
     "output_type": "display_data"
    }
   ],
   "source": [
    "Data_centered_results_AP['Prediction'].value_counts().plot(kind=\"bar\", \n",
    "                                  legend=True,\n",
    "                                  figsize=(5,6),\n",
    "                                  title='Class Predictions The Associated Press')"
   ]
  },
  {
   "attachments": {},
   "cell_type": "markdown",
   "id": "72b24532",
   "metadata": {},
   "source": [
    "An overwhelming majority of Associated press articles were categorized as Left Leaning."
   ]
  },
  {
   "attachments": {},
   "cell_type": "markdown",
   "id": "81e4d54d",
   "metadata": {},
   "source": [
    "### SKLEARN SVC for probability testing:"
   ]
  },
  {
   "cell_type": "code",
   "execution_count": 280,
   "id": "eac10afe",
   "metadata": {},
   "outputs": [],
   "source": [
    "AP_predictions_proba_AP = svm.predict_proba(X_Data_Centered_AP)\n"
   ]
  },
  {
   "cell_type": "code",
   "execution_count": 281,
   "id": "cd15a2dd",
   "metadata": {},
   "outputs": [
    {
     "data": {
      "text/plain": [
       "0.9508323188246903"
      ]
     },
     "execution_count": 281,
     "metadata": {},
     "output_type": "execute_result"
    }
   ],
   "source": [
    "AP_predictions_proba_AP[0][0]"
   ]
  },
  {
   "cell_type": "code",
   "execution_count": 292,
   "id": "f90f20cd",
   "metadata": {},
   "outputs": [
    {
     "data": {
      "text/plain": [
       "0.981768860823333"
      ]
     },
     "execution_count": 292,
     "metadata": {},
     "output_type": "execute_result"
    }
   ],
   "source": [
    "AP_predictions_proba_AP[1][0]"
   ]
  },
  {
   "cell_type": "code",
   "execution_count": 294,
   "id": "d9e10699",
   "metadata": {},
   "outputs": [
    {
     "name": "stdout",
     "output_type": "stream",
     "text": [
      "0.9508323188246903\n",
      "Left\n",
      "0.981768860823333\n",
      "Left\n",
      "0.9614810136661492\n",
      "Left\n",
      "0.98661746903831\n",
      "Left\n",
      "0.891259423999621\n",
      "Left\n",
      "0.9906278481561918\n",
      "Left\n",
      "0.9427318115573183\n",
      "Left\n",
      "0.5336534447481074\n",
      "Right\n",
      "0.98661746903831\n",
      "Left\n",
      "0.936648044221054\n",
      "Left\n",
      "0.981768860823333\n",
      "Left\n",
      "0.9630019060086964\n",
      "Left\n",
      "0.6940622912199284\n",
      "Left\n",
      "0.803178366915479\n",
      "Left\n",
      "0.9508323188246903\n",
      "Left\n",
      "0.784522092358475\n",
      "Left\n",
      "0.9808996379009253\n",
      "Left\n",
      "0.26829051965364115\n",
      "Right\n",
      "0.9972611023492843\n",
      "Left\n",
      "0.9183765606311858\n",
      "Left\n",
      "0.9972611023492843\n",
      "Left\n",
      "0.9902424311393712\n",
      "Left\n",
      "0.9972611023492843\n",
      "Left\n",
      "0.9183765606311858\n",
      "Left\n",
      "0.8461805772804466\n",
      "Left\n",
      "0.9902424311393712\n",
      "Left\n",
      "0.08359528360983542\n",
      "Right\n",
      "0.9183765606311858\n",
      "Left\n",
      "0.7147570033831585\n",
      "Left\n",
      "0.7832130005086422\n",
      "Left\n",
      "0.7147570033831585\n",
      "Left\n",
      "0.9865357100592266\n",
      "Left\n",
      "0.7832130005086422\n",
      "Left\n",
      "0.7147570033831585\n",
      "Left\n",
      "0.9865357100592266\n",
      "Left\n",
      "0.278292939996084\n",
      "Right\n",
      "0.7096360056069901\n",
      "Left\n",
      "0.9611433318272665\n",
      "Left\n",
      "0.95338868265243\n",
      "Left\n",
      "0.9822489551465043\n",
      "Left\n",
      "0.7462156028150145\n",
      "Left\n",
      "0.9728761475398888\n",
      "Left\n",
      "0.9611433318272665\n",
      "Left\n",
      "0.8752703633993194\n",
      "Left\n",
      "0.9822489551465043\n",
      "Left\n",
      "0.9420684108893576\n",
      "Left\n",
      "0.95338868265243\n",
      "Left\n",
      "0.7096360056069901\n",
      "Left\n",
      "0.6855629559539462\n",
      "Left\n",
      "0.7462156028150145\n",
      "Left\n",
      "0.9966482796096178\n",
      "Left\n",
      "0.9420684108893576\n",
      "Left\n",
      "0.9822489551465043\n",
      "Left\n",
      "0.9148257284353466\n",
      "Left\n",
      "0.9254239127575978\n",
      "Left\n",
      "0.84331649453353\n",
      "Left\n",
      "0.9931531162628318\n",
      "Left\n",
      "0.9894081760478759\n",
      "Left\n",
      "0.44982791103942854\n",
      "Right\n",
      "0.9148257284353466\n",
      "Left\n",
      "0.9254239127575978\n",
      "Left\n",
      "0.9894081760478759\n",
      "Left\n",
      "0.46262772324766915\n",
      "Right\n",
      "0.44982791103942854\n",
      "Right\n",
      "0.9917164439949772\n",
      "Left\n",
      "0.9937696130487768\n",
      "Left\n",
      "0.7890964292773458\n",
      "Left\n",
      "0.9338817375901171\n",
      "Left\n",
      "0.9359899071544867\n",
      "Left\n",
      "0.9917164439949772\n",
      "Left\n",
      "0.9209507441746894\n",
      "Left\n",
      "0.9937696130487768\n",
      "Left\n",
      "0.8195357680267555\n",
      "Left\n",
      "0.8787682426295289\n",
      "Left\n",
      "0.9338817375901171\n",
      "Left\n",
      "0.35881962996488825\n",
      "Right\n",
      "0.8787682426295289\n",
      "Left\n",
      "0.39819564396189217\n",
      "Right\n",
      "0.9684504456091689\n",
      "Left\n",
      "0.37121384584459777\n",
      "Right\n",
      "0.9936183822776451\n",
      "Left\n",
      "0.9743476710605173\n",
      "Left\n",
      "0.9899141547920952\n",
      "Left\n",
      "0.6174728227984922\n",
      "Right\n",
      "0.8021810684713792\n",
      "Left\n",
      "0.9899141547920952\n",
      "Left\n",
      "0.9684504456091689\n",
      "Left\n",
      "0.9402702376634287\n",
      "Left\n",
      "0.9936183822776451\n",
      "Left\n",
      "0.5516811229058828\n",
      "Left\n",
      "0.9196391841976358\n",
      "Left\n",
      "0.37121384584459777\n",
      "Right\n",
      "0.7540110657838195\n",
      "Left\n",
      "0.9402702376634287\n",
      "Left\n",
      "0.9743476710605173\n",
      "Left\n",
      "0.9062226514282471\n",
      "Left\n",
      "0.3820067013624183\n",
      "Right\n",
      "0.9772896476217972\n",
      "Left\n",
      "0.9359789272722828\n",
      "Left\n",
      "0.9885503134330745\n",
      "Left\n",
      "0.9859512746016549\n",
      "Left\n",
      "0.918172484567357\n",
      "Left\n",
      "0.926695814388605\n",
      "Left\n",
      "0.9772896476217972\n",
      "Left\n",
      "0.9885503134330745\n",
      "Left\n",
      "0.4904534100495921\n",
      "Right\n",
      "0.9859512746016549\n",
      "Left\n",
      "0.4904534100495921\n",
      "Right\n",
      "0.9840803960697755\n",
      "Left\n",
      "0.9830953251625819\n",
      "Left\n",
      "0.8246320108724589\n",
      "Left\n",
      "0.9339851192219057\n",
      "Left\n",
      "0.9742210946142087\n",
      "Left\n",
      "0.9340226402633245\n",
      "Left\n",
      "0.9830953251625819\n",
      "Left\n",
      "0.9840803960697755\n",
      "Left\n",
      "0.9877542937101121\n",
      "Left\n",
      "0.8369809868732206\n",
      "Left\n",
      "0.9529389556665637\n",
      "Left\n",
      "0.9339851192219057\n",
      "Left\n",
      "0.9165376832636434\n",
      "Left\n",
      "0.5888748501334558\n",
      "Left\n",
      "0.9742210946142087\n",
      "Left\n",
      "0.8246320108724589\n",
      "Left\n",
      "0.9340226402633245\n",
      "Left\n",
      "0.8369809868732206\n",
      "Left\n",
      "0.5888748501334558\n",
      "Left\n",
      "0.9610896091745622\n",
      "Left\n",
      "0.8440574965883695\n",
      "Left\n",
      "0.9789949454217545\n",
      "Left\n",
      "0.8187578291283613\n",
      "Left\n",
      "0.9950459775743616\n",
      "Left\n",
      "0.7701341569045096\n",
      "Left\n",
      "0.053833868875404915\n",
      "Right\n",
      "0.9610896091745622\n",
      "Left\n",
      "0.9789949454217545\n",
      "Left\n",
      "0.9950459775743616\n",
      "Left\n",
      "0.7701341569045096\n",
      "Left\n",
      "0.8440574965883695\n",
      "Left\n",
      "0.9789949454217545\n",
      "Left\n",
      "0.15366794586119084\n",
      "Right\n",
      "0.9986985071050143\n",
      "Left\n",
      "0.9087452087801907\n",
      "Left\n",
      "0.9986985071050143\n",
      "Left\n",
      "0.9087452087801907\n",
      "Left\n",
      "0.9892408164327222\n",
      "Left\n",
      "0.9087452087801907\n",
      "Left\n",
      "0.18927868289788397\n",
      "Right\n",
      "0.9892408164327222\n",
      "Left\n",
      "0.7060289973370131\n",
      "Left\n",
      "0.8516094144446876\n",
      "Left\n",
      "0.905086157170679\n",
      "Left\n",
      "0.8516094144446876\n",
      "Left\n",
      "0.9432652689556511\n",
      "Left\n",
      "0.6177850658464895\n",
      "Left\n",
      "0.4646506935547059\n",
      "Left\n",
      "0.990994520082568\n",
      "Left\n",
      "0.8820320456271037\n",
      "Left\n",
      "0.8916856427246771\n",
      "Left\n",
      "0.990994520082568\n",
      "Left\n",
      "0.8916856427246771\n",
      "Left\n",
      "0.990994520082568\n",
      "Left\n",
      "0.9603541164657194\n",
      "Left\n",
      "0.9426983425095306\n",
      "Left\n",
      "0.9426983425095306\n",
      "Left\n",
      "0.9603541164657194\n",
      "Left\n",
      "0.963316826150573\n",
      "Left\n",
      "0.9426983425095306\n",
      "Left\n",
      "0.5747207232364414\n",
      "Right\n",
      "0.4093535342776969\n",
      "Right\n",
      "0.989238652072837\n",
      "Left\n",
      "0.5747207232364414\n",
      "Right\n",
      "0.989238652072837\n",
      "Left\n",
      "0.5757840366788696\n",
      "Left\n",
      "0.4234077367859415\n",
      "Right\n",
      "0.9615758479910338\n",
      "Left\n",
      "0.5757840366788696\n",
      "Left\n",
      "0.9615758479910338\n",
      "Left\n",
      "0.8313556036673061\n",
      "Left\n",
      "0.4320092771823249\n",
      "Right\n",
      "0.5750196473917903\n",
      "Left\n",
      "0.9851058336025954\n",
      "Left\n",
      "0.4320092771823249\n",
      "Right\n",
      "0.9770739568593986\n",
      "Left\n",
      "0.5750196473917903\n",
      "Left\n",
      "0.9677301593531965\n",
      "Left\n",
      "0.5750196473917903\n",
      "Left\n",
      "0.9770739568593986\n",
      "Left\n"
     ]
    }
   ],
   "source": [
    "for x in range(0,len(AP_predictions_proba_AP)):\n",
    "    print(AP_predictions_proba_AP[x][0])\n",
    "    print(Data_Classification_Centered_AP[x])"
   ]
  },
  {
   "cell_type": "code",
   "execution_count": 282,
   "id": "09bf1e84",
   "metadata": {},
   "outputs": [
    {
     "data": {
      "text/plain": [
       "188"
      ]
     },
     "execution_count": 282,
     "metadata": {},
     "output_type": "execute_result"
    }
   ],
   "source": [
    "len(AP_predictions_proba_AP)"
   ]
  },
  {
   "cell_type": "code",
   "execution_count": 283,
   "id": "f3197784",
   "metadata": {},
   "outputs": [
    {
     "name": "stdout",
     "output_type": "stream",
     "text": [
      "180 : 0.5336534447481074 Right\n",
      "180 : 0.6174728227984922 Right\n",
      "180 : 0.5516811229058828 Left\n",
      "180 : 0.5888748501334558 Left\n",
      "180 : 0.5888748501334558 Left\n",
      "180 : 0.6177850658464895 Left\n",
      "180 : 0.5747207232364414 Right\n",
      "180 : 0.5747207232364414 Right\n",
      "180 : 0.5757840366788696 Left\n",
      "180 : 0.5757840366788696 Left\n",
      "180 : 0.5750196473917903 Left\n",
      "180 : 0.5750196473917903 Left\n",
      "180 : 0.5750196473917903 Left\n"
     ]
    }
   ],
   "source": [
    "#from sklearn.svm import SVC\n",
    "#svm = SVC(kernel='linear', probability=True)\n",
    "#svm.fit(X_train_tf, Y_train)\n",
    "\n",
    "#AP_predictions_proba = svm.predict_proba(X_Data_Centered)\n",
    "\n",
    "for paAP in range(0,len(AP_predictions_proba_AP)):\n",
    "    for pa2AP in range(0,1):\n",
    "        if (AP_predictions_proba_AP[paAP][pa2AP] <= 0.65) & \\\n",
    "        (AP_predictions_proba_AP[paAP][pa2AP] >= 0.5):\n",
    "            print(pa, ':', AP_predictions_proba_AP[paAP][pa2AP], \n",
    "                  Data_Classification_Centered_AP[paAP])\n",
    "    "
   ]
  },
  {
   "cell_type": "code",
   "execution_count": 286,
   "id": "bd35607c",
   "metadata": {},
   "outputs": [
    {
     "data": {
      "image/png": "[encoded data removed]",
      "text/plain": [
       "<Figure size 432x288 with 1 Axes>"
      ]
     },
     "metadata": {
      "needs_background": "light"
     },
     "output_type": "display_data"
    }
   ],
   "source": [
    "#AP_predictions_proba\n",
    "\n",
    "plt.hist(AP_predictions_proba_AP[:, 0], bins=20)\n",
    "plt.xlabel('Probability')\n",
    "plt.ylabel('Frequency')\n",
    "plt.title('Probability Distribution for The Associated Press Classifier Predictions (Left)')\n",
    "plt.show()"
   ]
  },
  {
   "attachments": {},
   "cell_type": "markdown",
   "id": "afcfbc12",
   "metadata": {},
   "source": [
    "As could be expected from the AllSides experts, the Associated Press online publication is, in fact more confidently left leaning. Since all our left leaning data was first order left lean, this makes sense. The distribution for left leaning data is pretty confident when it is leaning and most articles are categorized as left leaning.\""
   ]
  },
  {
   "attachments": {},
   "cell_type": "markdown",
   "id": "df5d0da6",
   "metadata": {},
   "source": [
    "---"
   ]
  },
  {
   "attachments": {},
   "cell_type": "markdown",
   "id": "e919b79d",
   "metadata": {},
   "source": [
    "### FOX vs MSNBC political audience disparities (presentation data)"
   ]
  },
  {
   "cell_type": "code",
   "execution_count": null,
   "id": "c91bd8ff",
   "metadata": {},
   "outputs": [],
   "source": [
    "MSNBC_political_demographic = [['MSN',0.95, 0.05],['FOX',0.07, 0.93]]\n",
    "FOX_political_demographic = []\n",
    "News_political_demographic=pd.DataFrame(MSNBC_political_demographic)"
   ]
  },
  {
   "cell_type": "code",
   "execution_count": null,
   "id": "88f41251",
   "metadata": {},
   "outputs": [
    {
     "data": {
      "text/html": [
       "<div>\n",
       "<style scoped>\n",
       "    .dataframe tbody tr th:only-of-type {\n",
       "        vertical-align: middle;\n",
       "    }\n",
       "\n",
       "    .dataframe tbody tr th {\n",
       "        vertical-align: top;\n",
       "    }\n",
       "\n",
       "    .dataframe thead th {\n",
       "        text-align: right;\n",
       "    }\n",
       "</style>\n",
       "<table border=\"1\" class=\"dataframe\">\n",
       "  <thead>\n",
       "    <tr style=\"text-align: right;\">\n",
       "      <th></th>\n",
       "      <th>0</th>\n",
       "      <th>1</th>\n",
       "      <th>2</th>\n",
       "    </tr>\n",
       "  </thead>\n",
       "  <tbody>\n",
       "    <tr>\n",
       "      <th>0</th>\n",
       "      <td>MSN</td>\n",
       "      <td>0.95</td>\n",
       "      <td>0.05</td>\n",
       "    </tr>\n",
       "    <tr>\n",
       "      <th>1</th>\n",
       "      <td>FOX</td>\n",
       "      <td>0.07</td>\n",
       "      <td>0.93</td>\n",
       "    </tr>\n",
       "  </tbody>\n",
       "</table>\n",
       "</div>"
      ],
      "text/plain": [
       "     0     1     2\n",
       "0  MSN  0.95  0.05\n",
       "1  FOX  0.07  0.93"
      ]
     },
     "metadata": {},
     "output_type": "display_data"
    }
   ],
   "source": [
    "News_political_demographic.head()"
   ]
  },
  {
   "cell_type": "code",
   "execution_count": null,
   "id": "955ac847",
   "metadata": {},
   "outputs": [],
   "source": [
    "News_political_demographic.rename (columns = {0:'News_Source'}, inplace=True) \n",
    "News_political_demographic.rename (columns = {1:'Left_Leaning'}, inplace=True) \n",
    "News_political_demographic.rename (columns = {2:'Right_Leaning'}, inplace=True) "
   ]
  },
  {
   "cell_type": "code",
   "execution_count": 474,
   "id": "1f568a42",
   "metadata": {},
   "outputs": [
    {
     "data": {
      "text/plain": [
       "[Text(0, 0, '0.95'), Text(0, 0, '0.07')]"
      ]
     },
     "execution_count": 474,
     "metadata": {},
     "output_type": "execute_result"
    },
    {
     "data": {
      "image/png": "[encoded data removed]",
      "text/plain": [
       "<Figure size 360x432 with 1 Axes>"
      ]
     },
     "metadata": {
      "needs_background": "light"
     },
     "output_type": "display_data"
    }
   ],
   "source": [
    "ax2=News_political_demographic.plot(kind=\"bar\", x='News_Source',rot=0,\n",
    "                                  legend=True,\n",
    "                                  figsize=(5,6),\n",
    "                                  xlabel='News Source',\n",
    "                                  ylabel='Percentage',\n",
    "                                  title='Political Demographic per News Source')\n",
    "ax2.bar_label(ax2.containers[0])\n"
   ]
  },
  {
   "attachments": {},
   "cell_type": "markdown",
   "id": "c909104e",
   "metadata": {},
   "source": [
    "### Concentration ratio Charts (presentation data)"
   ]
  },
  {
   "cell_type": "code",
   "execution_count": 475,
   "id": "01bd6937",
   "metadata": {},
   "outputs": [],
   "source": [
    "Concentration_Ratios=[['Right','nyc',17.49],['Right','reparations',16.89],['Right','aliens',12.7],\n",
    "                      ['Right','ccp',11.5],['Right','locker',11.07],['Right','comey',9.58],\n",
    "                      ['Right','lula',9.2],['Right','busch',8.9],['Right','fidelity',8.77],\n",
    "                      ['Left','anonymity',17.39],['Left','thomnass',16.14],['Left','willis',14.19],\n",
    "                      ['Left','mehta',13.6],['Left','docket',13.08],['Left','ginni',12.24],\n",
    "                      ['Left','pork',11.59],\n",
    "                      ['Left','uncertainty',9.54],['Left','hush',9.74],['Left','gorsuch',9.74]]\n",
    "\n",
    "Concentration_Ratios_df=pd.DataFrame(Concentration_Ratios)"
   ]
  },
  {
   "cell_type": "code",
   "execution_count": 476,
   "id": "3c46aa43",
   "metadata": {},
   "outputs": [],
   "source": [
    "Concentration_Ratios_df.rename (columns = {0:'Political_Lean'}, inplace=True) \n",
    "Concentration_Ratios_df.rename (columns = {1:'Word'}, inplace=True) \n",
    "Concentration_Ratios_df.rename (columns = {2:'Factor_of_Concentration'}, inplace=True) "
   ]
  },
  {
   "cell_type": "code",
   "execution_count": 477,
   "id": "30e006df",
   "metadata": {},
   "outputs": [
    {
     "data": {
      "text/html": [
       "<div>\n",
       "<style scoped>\n",
       "    .dataframe tbody tr th:only-of-type {\n",
       "        vertical-align: middle;\n",
       "    }\n",
       "\n",
       "    .dataframe tbody tr th {\n",
       "        vertical-align: top;\n",
       "    }\n",
       "\n",
       "    .dataframe thead th {\n",
       "        text-align: right;\n",
       "    }\n",
       "</style>\n",
       "<table border=\"1\" class=\"dataframe\">\n",
       "  <thead>\n",
       "    <tr style=\"text-align: right;\">\n",
       "      <th></th>\n",
       "      <th>Political_Lean</th>\n",
       "      <th>Word</th>\n",
       "      <th>Factor_of_Concentration</th>\n",
       "    </tr>\n",
       "  </thead>\n",
       "  <tbody>\n",
       "    <tr>\n",
       "      <th>0</th>\n",
       "      <td>Right</td>\n",
       "      <td>nyc</td>\n",
       "      <td>17.49</td>\n",
       "    </tr>\n",
       "    <tr>\n",
       "      <th>1</th>\n",
       "      <td>Right</td>\n",
       "      <td>reparations</td>\n",
       "      <td>16.89</td>\n",
       "    </tr>\n",
       "    <tr>\n",
       "      <th>2</th>\n",
       "      <td>Right</td>\n",
       "      <td>aliens</td>\n",
       "      <td>12.70</td>\n",
       "    </tr>\n",
       "    <tr>\n",
       "      <th>3</th>\n",
       "      <td>Right</td>\n",
       "      <td>ccp</td>\n",
       "      <td>11.50</td>\n",
       "    </tr>\n",
       "    <tr>\n",
       "      <th>4</th>\n",
       "      <td>Right</td>\n",
       "      <td>locker</td>\n",
       "      <td>11.07</td>\n",
       "    </tr>\n",
       "  </tbody>\n",
       "</table>\n",
       "</div>"
      ],
      "text/plain": [
       "  Political_Lean         Word  Factor_of_Concentration\n",
       "0          Right          nyc                    17.49\n",
       "1          Right  reparations                    16.89\n",
       "2          Right       aliens                    12.70\n",
       "3          Right          ccp                    11.50\n",
       "4          Right       locker                    11.07"
      ]
     },
     "execution_count": 477,
     "metadata": {},
     "output_type": "execute_result"
    }
   ],
   "source": [
    "Concentration_Ratios_df.head()"
   ]
  },
  {
   "cell_type": "code",
   "execution_count": 478,
   "id": "f046312f",
   "metadata": {},
   "outputs": [
    {
     "data": {
      "text/plain": [
       "[Text(0, 0, '17.49'),\n",
       " Text(0, 0, '16.89'),\n",
       " Text(0, 0, '12.7'),\n",
       " Text(0, 0, '11.5'),\n",
       " Text(0, 0, '11.07'),\n",
       " Text(0, 0, '9.58'),\n",
       " Text(0, 0, '9.2'),\n",
       " Text(0, 0, '8.9'),\n",
       " Text(0, 0, '8.77')]"
      ]
     },
     "execution_count": 478,
     "metadata": {},
     "output_type": "execute_result"
    },
    {
     "data": {
      "image/png": "[encoded data removed]",
      "text/plain": [
       "<Figure size 360x432 with 1 Axes>"
      ]
     },
     "metadata": {
      "needs_background": "light"
     },
     "output_type": "display_data"
    }
   ],
   "source": [
    "ax3=Concentration_Ratios_df[Concentration_Ratios_df['Political_Lean']=='Right'].plot(kind=\"bar\", \n",
    "                                                                                     x='Word',rot=45,\n",
    "                                  legend=True,\n",
    "                                  figsize=(5,6),\n",
    "                                  xlabel='Words',\n",
    "                                  ylabel='Factor_of_Concentration',\n",
    "                                  #='Political_Lean',\n",
    "                                  title='Word Factor of Concentration based on Right Leaning Articles')\n",
    "ax3.bar_label(ax3.containers[0])"
   ]
  },
  {
   "cell_type": "code",
   "execution_count": 479,
   "id": "c7996cc8",
   "metadata": {},
   "outputs": [
    {
     "data": {
      "text/plain": [
       "[Text(0, 0, '17.39'),\n",
       " Text(0, 0, '16.14'),\n",
       " Text(0, 0, '14.19'),\n",
       " Text(0, 0, '13.6'),\n",
       " Text(0, 0, '13.08'),\n",
       " Text(0, 0, '12.24'),\n",
       " Text(0, 0, '11.59'),\n",
       " Text(0, 0, '9.54'),\n",
       " Text(0, 0, '9.74'),\n",
       " Text(0, 0, '9.74')]"
      ]
     },
     "execution_count": 479,
     "metadata": {},
     "output_type": "execute_result"
    },
    {
     "data": {
      "image/png": "[encoded data removed]",
      "text/plain": [
       "<Figure size 360x432 with 1 Axes>"
      ]
     },
     "metadata": {
      "needs_background": "light"
     },
     "output_type": "display_data"
    }
   ],
   "source": [
    "ax3=Concentration_Ratios_df[Concentration_Ratios_df['Political_Lean']=='Left'].plot(kind=\"bar\", \n",
    "                                                                                    x='Word',rot=45,\n",
    "                                  legend=True,\n",
    "                                  figsize=(5,6),\n",
    "                                  xlabel='Words',\n",
    "                                  ylabel='Factor_of_Concentration',\n",
    "                                  #='Political_Lean',\n",
    "                                  title='Word Factor of Concentration based on Left Leaning Articles')\n",
    "ax3.bar_label(ax3.containers[0])"
   ]
  },
  {
   "cell_type": "code",
   "execution_count": null,
   "id": "eff63304",
   "metadata": {},
   "outputs": [],
   "source": []
  }
 ],
 "metadata": {
  "kernelspec": {
   "display_name": "Python 3 (ipykernel)",
   "language": "python",
   "name": "python3"
  },
  "language_info": {
   "codemirror_mode": {
    "name": "ipython",
    "version": 3
   },
   "file_extension": ".py",
   "mimetype": "text/x-python",
   "name": "python",
   "nbconvert_exporter": "python",
   "pygments_lexer": "ipython3",
   "version": "3.9.7"
  }
 },
 "nbformat": 4,
 "nbformat_minor": 5
}
