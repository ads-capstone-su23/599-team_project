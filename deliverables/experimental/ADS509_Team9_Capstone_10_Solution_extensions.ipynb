{
  "cells": [
    {
      "cell_type": "markdown",
      "id": "fa1fb104",
      "metadata": {
        "id": "fa1fb104"
      },
      "source": [
        "# Daily Retreat: Using Sentiment Analysis to<br>Find, Personalize, and Share Positive News from Popular Online Sources\n",
        "__Aaron Carr, Azucena Faus, and Dave Friesen - ADS-599-01-SU23__"
      ]
    },
    {
      "cell_type": "code",
      "execution_count": 1,
      "id": "1fba1818",
      "metadata": {
        "id": "1fba1818"
      },
      "outputs": [],
      "source": [
        "__author__ = 'Aaron Carr, Azucena Faus, Dave Friesen'\n",
        "__email__ = 'acarr@sandiego.edu, afaus@sandiego.edu, dfriesen@sandiego.edu'\n",
        "__version__ = '1.0'\n",
        "__date__ = 'July/August 2023'"
      ]
    },
    {
      "cell_type": "markdown",
      "id": "ad681e6c",
      "metadata": {
        "id": "ad681e6c"
      },
      "source": [
        "## Setup"
      ]
    },
    {
      "cell_type": "code",
      "execution_count": 2,
      "id": "5cbe64ad",
      "metadata": {
        "colab": {
          "base_uri": "https://localhost:8080/"
        },
        "id": "5cbe64ad",
        "outputId": "73d1348e-2e42-4b8b-d6f5-c0aa4d79c047"
      },
      "outputs": [
        {
          "output_type": "stream",
          "name": "stdout",
          "text": [
            "Mounted at /content/drive\n",
            "/content/drive/My Drive/599_team_project/deliverables\n"
          ]
        }
      ],
      "source": [
        "# Are we running in Google Colab, or not?\n",
        "try:\n",
        "    from google.colab import drive\n",
        "    COLAB = True\n",
        "except:\n",
        "    COLAB = False\n",
        "\n",
        "if COLAB:\n",
        "    # Establish Google Drive connection\n",
        "    drive.mount('/content/drive', force_remount = True)\n",
        "\n",
        "    # Establish working directory\n",
        "    %cd '/content/drive/My Drive/599_team_project/deliverables'"
      ]
    },
    {
      "cell_type": "code",
      "execution_count": 3,
      "id": "758c5c30",
      "metadata": {
        "scrolled": false,
        "colab": {
          "base_uri": "https://localhost:8080/"
        },
        "id": "758c5c30",
        "outputId": "4ad72c89-7964-4d47-a8a0-12c442707b39"
      },
      "outputs": [
        {
          "output_type": "stream",
          "name": "stdout",
          "text": [
            "Requirement already satisfied: transformers in /usr/local/lib/python3.10/dist-packages (4.31.0)\n",
            "Requirement already satisfied: filelock in /usr/local/lib/python3.10/dist-packages (from transformers) (3.12.2)\n",
            "Requirement already satisfied: huggingface-hub<1.0,>=0.14.1 in /usr/local/lib/python3.10/dist-packages (from transformers) (0.16.4)\n",
            "Requirement already satisfied: numpy>=1.17 in /usr/local/lib/python3.10/dist-packages (from transformers) (1.22.4)\n",
            "Requirement already satisfied: packaging>=20.0 in /usr/local/lib/python3.10/dist-packages (from transformers) (23.1)\n",
            "Requirement already satisfied: pyyaml>=5.1 in /usr/local/lib/python3.10/dist-packages (from transformers) (6.0.1)\n",
            "Requirement already satisfied: regex!=2019.12.17 in /usr/local/lib/python3.10/dist-packages (from transformers) (2022.10.31)\n",
            "Requirement already satisfied: requests in /usr/local/lib/python3.10/dist-packages (from transformers) (2.27.1)\n",
            "Requirement already satisfied: tokenizers!=0.11.3,<0.14,>=0.11.1 in /usr/local/lib/python3.10/dist-packages (from transformers) (0.13.3)\n",
            "Requirement already satisfied: safetensors>=0.3.1 in /usr/local/lib/python3.10/dist-packages (from transformers) (0.3.1)\n",
            "Requirement already satisfied: tqdm>=4.27 in /usr/local/lib/python3.10/dist-packages (from transformers) (4.65.0)\n",
            "Requirement already satisfied: fsspec in /usr/local/lib/python3.10/dist-packages (from huggingface-hub<1.0,>=0.14.1->transformers) (2023.6.0)\n",
            "Requirement already satisfied: typing-extensions>=3.7.4.3 in /usr/local/lib/python3.10/dist-packages (from huggingface-hub<1.0,>=0.14.1->transformers) (4.7.1)\n",
            "Requirement already satisfied: urllib3<1.27,>=1.21.1 in /usr/local/lib/python3.10/dist-packages (from requests->transformers) (1.26.16)\n",
            "Requirement already satisfied: certifi>=2017.4.17 in /usr/local/lib/python3.10/dist-packages (from requests->transformers) (2023.7.22)\n",
            "Requirement already satisfied: charset-normalizer~=2.0.0 in /usr/local/lib/python3.10/dist-packages (from requests->transformers) (2.0.12)\n",
            "Requirement already satisfied: idna<4,>=2.5 in /usr/local/lib/python3.10/dist-packages (from requests->transformers) (3.4)\n",
            "Requirement already satisfied: openai in /usr/local/lib/python3.10/dist-packages (0.27.8)\n",
            "Requirement already satisfied: requests>=2.20 in /usr/local/lib/python3.10/dist-packages (from openai) (2.27.1)\n",
            "Requirement already satisfied: tqdm in /usr/local/lib/python3.10/dist-packages (from openai) (4.65.0)\n",
            "Requirement already satisfied: aiohttp in /usr/local/lib/python3.10/dist-packages (from openai) (3.8.5)\n",
            "Requirement already satisfied: urllib3<1.27,>=1.21.1 in /usr/local/lib/python3.10/dist-packages (from requests>=2.20->openai) (1.26.16)\n",
            "Requirement already satisfied: certifi>=2017.4.17 in /usr/local/lib/python3.10/dist-packages (from requests>=2.20->openai) (2023.7.22)\n",
            "Requirement already satisfied: charset-normalizer~=2.0.0 in /usr/local/lib/python3.10/dist-packages (from requests>=2.20->openai) (2.0.12)\n",
            "Requirement already satisfied: idna<4,>=2.5 in /usr/local/lib/python3.10/dist-packages (from requests>=2.20->openai) (3.4)\n",
            "Requirement already satisfied: attrs>=17.3.0 in /usr/local/lib/python3.10/dist-packages (from aiohttp->openai) (23.1.0)\n",
            "Requirement already satisfied: multidict<7.0,>=4.5 in /usr/local/lib/python3.10/dist-packages (from aiohttp->openai) (6.0.4)\n",
            "Requirement already satisfied: async-timeout<5.0,>=4.0.0a3 in /usr/local/lib/python3.10/dist-packages (from aiohttp->openai) (4.0.2)\n",
            "Requirement already satisfied: yarl<2.0,>=1.0 in /usr/local/lib/python3.10/dist-packages (from aiohttp->openai) (1.9.2)\n",
            "Requirement already satisfied: frozenlist>=1.1.1 in /usr/local/lib/python3.10/dist-packages (from aiohttp->openai) (1.4.0)\n",
            "Requirement already satisfied: aiosignal>=1.1.2 in /usr/local/lib/python3.10/dist-packages (from aiohttp->openai) (1.3.1)\n",
            "Requirement already satisfied: langchain in /usr/local/lib/python3.10/dist-packages (0.0.247)\n",
            "Requirement already satisfied: PyYAML>=5.4.1 in /usr/local/lib/python3.10/dist-packages (from langchain) (6.0.1)\n",
            "Requirement already satisfied: SQLAlchemy<3,>=1.4 in /usr/local/lib/python3.10/dist-packages (from langchain) (2.0.19)\n",
            "Requirement already satisfied: aiohttp<4.0.0,>=3.8.3 in /usr/local/lib/python3.10/dist-packages (from langchain) (3.8.5)\n",
            "Requirement already satisfied: async-timeout<5.0.0,>=4.0.0 in /usr/local/lib/python3.10/dist-packages (from langchain) (4.0.2)\n",
            "Requirement already satisfied: dataclasses-json<0.6.0,>=0.5.7 in /usr/local/lib/python3.10/dist-packages (from langchain) (0.5.13)\n",
            "Requirement already satisfied: langsmith<0.1.0,>=0.0.11 in /usr/local/lib/python3.10/dist-packages (from langchain) (0.0.15)\n",
            "Requirement already satisfied: numexpr<3.0.0,>=2.8.4 in /usr/local/lib/python3.10/dist-packages (from langchain) (2.8.4)\n",
            "Requirement already satisfied: numpy<2,>=1 in /usr/local/lib/python3.10/dist-packages (from langchain) (1.22.4)\n",
            "Requirement already satisfied: openapi-schema-pydantic<2.0,>=1.2 in /usr/local/lib/python3.10/dist-packages (from langchain) (1.2.4)\n",
            "Requirement already satisfied: pydantic<2,>=1 in /usr/local/lib/python3.10/dist-packages (from langchain) (1.10.12)\n",
            "Requirement already satisfied: requests<3,>=2 in /usr/local/lib/python3.10/dist-packages (from langchain) (2.27.1)\n",
            "Requirement already satisfied: tenacity<9.0.0,>=8.1.0 in /usr/local/lib/python3.10/dist-packages (from langchain) (8.2.2)\n",
            "Requirement already satisfied: attrs>=17.3.0 in /usr/local/lib/python3.10/dist-packages (from aiohttp<4.0.0,>=3.8.3->langchain) (23.1.0)\n",
            "Requirement already satisfied: charset-normalizer<4.0,>=2.0 in /usr/local/lib/python3.10/dist-packages (from aiohttp<4.0.0,>=3.8.3->langchain) (2.0.12)\n",
            "Requirement already satisfied: multidict<7.0,>=4.5 in /usr/local/lib/python3.10/dist-packages (from aiohttp<4.0.0,>=3.8.3->langchain) (6.0.4)\n",
            "Requirement already satisfied: yarl<2.0,>=1.0 in /usr/local/lib/python3.10/dist-packages (from aiohttp<4.0.0,>=3.8.3->langchain) (1.9.2)\n",
            "Requirement already satisfied: frozenlist>=1.1.1 in /usr/local/lib/python3.10/dist-packages (from aiohttp<4.0.0,>=3.8.3->langchain) (1.4.0)\n",
            "Requirement already satisfied: aiosignal>=1.1.2 in /usr/local/lib/python3.10/dist-packages (from aiohttp<4.0.0,>=3.8.3->langchain) (1.3.1)\n",
            "Requirement already satisfied: marshmallow<4.0.0,>=3.18.0 in /usr/local/lib/python3.10/dist-packages (from dataclasses-json<0.6.0,>=0.5.7->langchain) (3.20.1)\n",
            "Requirement already satisfied: typing-inspect<1,>=0.4.0 in /usr/local/lib/python3.10/dist-packages (from dataclasses-json<0.6.0,>=0.5.7->langchain) (0.9.0)\n",
            "Requirement already satisfied: typing-extensions>=4.2.0 in /usr/local/lib/python3.10/dist-packages (from pydantic<2,>=1->langchain) (4.7.1)\n",
            "Requirement already satisfied: urllib3<1.27,>=1.21.1 in /usr/local/lib/python3.10/dist-packages (from requests<3,>=2->langchain) (1.26.16)\n",
            "Requirement already satisfied: certifi>=2017.4.17 in /usr/local/lib/python3.10/dist-packages (from requests<3,>=2->langchain) (2023.7.22)\n",
            "Requirement already satisfied: idna<4,>=2.5 in /usr/local/lib/python3.10/dist-packages (from requests<3,>=2->langchain) (3.4)\n",
            "Requirement already satisfied: greenlet!=0.4.17 in /usr/local/lib/python3.10/dist-packages (from SQLAlchemy<3,>=1.4->langchain) (2.0.2)\n",
            "Requirement already satisfied: packaging>=17.0 in /usr/local/lib/python3.10/dist-packages (from marshmallow<4.0.0,>=3.18.0->dataclasses-json<0.6.0,>=0.5.7->langchain) (23.1)\n",
            "Requirement already satisfied: mypy-extensions>=0.3.0 in /usr/local/lib/python3.10/dist-packages (from typing-inspect<1,>=0.4.0->dataclasses-json<0.6.0,>=0.5.7->langchain) (1.0.0)\n",
            "Requirement already satisfied: pinecone-client in /usr/local/lib/python3.10/dist-packages (2.2.2)\n",
            "Requirement already satisfied: requests>=2.19.0 in /usr/local/lib/python3.10/dist-packages (from pinecone-client) (2.27.1)\n",
            "Requirement already satisfied: pyyaml>=5.4 in /usr/local/lib/python3.10/dist-packages (from pinecone-client) (6.0.1)\n",
            "Requirement already satisfied: loguru>=0.5.0 in /usr/local/lib/python3.10/dist-packages (from pinecone-client) (0.7.0)\n",
            "Requirement already satisfied: typing-extensions>=3.7.4 in /usr/local/lib/python3.10/dist-packages (from pinecone-client) (4.7.1)\n",
            "Requirement already satisfied: dnspython>=2.0.0 in /usr/local/lib/python3.10/dist-packages (from pinecone-client) (2.4.1)\n",
            "Requirement already satisfied: python-dateutil>=2.5.3 in /usr/local/lib/python3.10/dist-packages (from pinecone-client) (2.8.2)\n",
            "Requirement already satisfied: urllib3>=1.21.1 in /usr/local/lib/python3.10/dist-packages (from pinecone-client) (1.26.16)\n",
            "Requirement already satisfied: tqdm>=4.64.1 in /usr/local/lib/python3.10/dist-packages (from pinecone-client) (4.65.0)\n",
            "Requirement already satisfied: numpy>=1.22.0 in /usr/local/lib/python3.10/dist-packages (from pinecone-client) (1.22.4)\n",
            "Requirement already satisfied: six>=1.5 in /usr/local/lib/python3.10/dist-packages (from python-dateutil>=2.5.3->pinecone-client) (1.16.0)\n",
            "Requirement already satisfied: certifi>=2017.4.17 in /usr/local/lib/python3.10/dist-packages (from requests>=2.19.0->pinecone-client) (2023.7.22)\n",
            "Requirement already satisfied: charset-normalizer~=2.0.0 in /usr/local/lib/python3.10/dist-packages (from requests>=2.19.0->pinecone-client) (2.0.12)\n",
            "Requirement already satisfied: idna<4,>=2.5 in /usr/local/lib/python3.10/dist-packages (from requests>=2.19.0->pinecone-client) (3.4)\n"
          ]
        }
      ],
      "source": [
        "if COLAB:\n",
        "    # Install known missing libraries in Colab\n",
        "    !pip install transformers\n",
        "    !pip install openai\n",
        "    !pip install langchain\n",
        "    !pip install pinecone-client\n",
        "\n",
        "# Import basic and data access libraries\n",
        "import numpy as np\n",
        "import pandas as pd\n",
        "\n",
        "# Import base model and evaluation libraries\n",
        "from sklearn.model_selection import train_test_split\n",
        "\n",
        "# Import transformeres, LLM libraries and support\n",
        "import transformers\n",
        "import torch\n",
        "\n",
        "from huggingface_hub import login\n",
        "import openai\n",
        "from langchain import HuggingFacePipeline, PromptTemplate, LLMChain\n",
        "from langchain.llms import OpenAI\n",
        "\n",
        "# Import vector database (senmantic search) libraries\n",
        "import tqdm; import warnings; warnings.filterwarnings(\"ignore\", category=tqdm.TqdmExperimentalWarning)\n",
        "import pinecone\n",
        "from pinecone import ApiException\n",
        "\n",
        "# Import visualization libraries\n",
        "from matplotlib import pyplot as plt\n",
        "%matplotlib inline\n",
        "\n",
        "# Import utility libraries\n",
        "import os\n",
        "import getpass\n",
        "from tqdm import tqdm\n",
        "import time\n",
        "import textwrap"
      ]
    },
    {
      "cell_type": "code",
      "execution_count": 4,
      "id": "cf8e0f3b",
      "metadata": {
        "id": "cf8e0f3b"
      },
      "outputs": [],
      "source": [
        "# Set basic np, pd, and plt output defaults (keeping this code 'clean')\n",
        "%run -i 'defaults.py'"
      ]
    },
    {
      "cell_type": "code",
      "execution_count": 5,
      "id": "4e0aa8f5",
      "metadata": {
        "colab": {
          "base_uri": "https://localhost:8080/"
        },
        "id": "4e0aa8f5",
        "outputId": "1e6aeef5-e3c8-4090-e89e-d01158c011a1"
      },
      "outputs": [
        {
          "output_type": "stream",
          "name": "stdout",
          "text": [
            "cuda\n"
          ]
        }
      ],
      "source": [
        "# Establish GPU support \"if\" exists\n",
        "device = torch.device(\n",
        "    'mps' if torch.backends.mps.is_available()\n",
        "    else 'cuda' if torch.cuda.is_available()\n",
        "    else 'cpu'\n",
        ")\n",
        "print(device)"
      ]
    },
    {
      "cell_type": "code",
      "execution_count": 6,
      "id": "ac42c64f",
      "metadata": {
        "id": "ac42c64f"
      },
      "outputs": [],
      "source": [
        "warnings.filterwarnings(action='ignore', category=UserWarning, module='bitsandbytes')"
      ]
    },
    {
      "cell_type": "markdown",
      "id": "13a3db9e",
      "metadata": {
        "id": "13a3db9e"
      },
      "source": [
        "## Data Load and Validation"
      ]
    },
    {
      "cell_type": "code",
      "execution_count": 7,
      "id": "9e25f494",
      "metadata": {
        "colab": {
          "base_uri": "https://localhost:8080/"
        },
        "id": "9e25f494",
        "outputId": "762fdaa3-d3e5-4913-eb1a-dbf3274ffb9b"
      },
      "outputs": [
        {
          "output_type": "stream",
          "name": "stdout",
          "text": [
            "<class 'pandas.core.frame.DataFrame'>\n",
            "Int64Index: 36405 entries, 0 to 36404\n",
            "Data columns (total 27 columns):\n",
            " #   Column                     Non-Null Count  Dtype  \n",
            "---  ------                     --------------  -----  \n",
            " 0   text_id                    36405 non-null  int64  \n",
            " 1   source_name                36405 non-null  object \n",
            " 2   author                     36196 non-null  object \n",
            " 3   title                      36405 non-null  object \n",
            " 4   url                        36405 non-null  object \n",
            " 5   publish_date               36405 non-null  object \n",
            " 6   article_text               36405 non-null  object \n",
            " 7   content                    36405 non-null  object \n",
            " 8   processed_text             36403 non-null  object \n",
            " 9   processed_text_split       36405 non-null  object \n",
            " 10  num_tokens                 36405 non-null  int64  \n",
            " 11  sentiment_vader            36405 non-null  object \n",
            " 12  sentiment_vader_compound   36405 non-null  float64\n",
            " 13  sentiment_vader_cat        36405 non-null  object \n",
            " 14  sentiment_distilbert_cat   36405 non-null  object \n",
            " 15  sentiment_distilbert_prob  36405 non-null  float64\n",
            " 16  sentiment_distilbert       36405 non-null  float64\n",
            " 17  sentiment_bert_cat         36405 non-null  object \n",
            " 18  sentiment_bert_prob        36405 non-null  float64\n",
            " 19  sentiment_bert             36405 non-null  float64\n",
            " 20  sentiment_roberta_cat      36405 non-null  object \n",
            " 21  sentiment_roberta_prob     36405 non-null  float64\n",
            " 22  sentiment_roberta          36405 non-null  float64\n",
            " 23  sentiment_roberta_m_cat    36405 non-null  object \n",
            " 24  sentiment_roberta_m_prob   36405 non-null  float64\n",
            " 25  sentiment_roberta_m        36405 non-null  float64\n",
            " 26  embeddings                 36405 non-null  object \n",
            "dtypes: float64(9), int64(2), object(16)\n",
            "memory usage: 7.8+ MB\n",
            "None\n"
          ]
        }
      ],
      "source": [
        "# Instantiate and confirm master dataframe\n",
        "news_00_df = pd.read_csv('../data/data_preprocessed_w_sw_2023-07-20_13-02-01408354.csv')\n",
        "\n",
        "# Load pre-processed sentiment\n",
        "news_05_df = pd.read_csv('../data/news-05.csv')\n",
        "news_05_df = pd.merge(news_00_df, news_05_df, on='text_id')\n",
        "\n",
        "# Load pre-processed embeddings as numpy array\n",
        "embeddings = np.load('../data/embeddings.npy', allow_pickle=True)\n",
        "news_05_df['embeddings'] = list(embeddings)\n",
        "\n",
        "print(news_05_df.info())"
      ]
    },
    {
      "cell_type": "markdown",
      "id": "bfd9ea16",
      "metadata": {
        "id": "bfd9ea16"
      },
      "source": [
        "## Semantic Similarity (experimental)"
      ]
    },
    {
      "cell_type": "code",
      "execution_count": 8,
      "id": "7135b7ab",
      "metadata": {
        "colab": {
          "base_uri": "https://localhost:8080/"
        },
        "id": "7135b7ab",
        "outputId": "c1619633-fa2d-4611-f5c1-ebfed9692ef8"
      },
      "outputs": [
        {
          "output_type": "stream",
          "name": "stdout",
          "text": [
            "Enter Pinecone key··········\n",
            "The index 'news' exists.\n"
          ]
        }
      ],
      "source": [
        "if COLAB:\n",
        "    PINECONE_API_KEY = getpass.getpass('Enter Pinecone key')\n",
        "else:\n",
        "    PINECONE_API_KEY = os.environ['PINECONE_API_KEY']\n",
        "\n",
        "V_INDEX = 'news'\n",
        "\n",
        "# Establish connection to Pinecone\n",
        "pinecone.init(api_key=PINECONE_API_KEY, environment='us-west1-gcp-free')\n",
        "\n",
        "indexes = pinecone.list_indexes()\n",
        "if V_INDEX in indexes:\n",
        "    print(f\"The index '{V_INDEX}' exists.\")\n",
        "else:\n",
        "    print(f\"The index '{V_INDEX}' does not exist.\")"
      ]
    },
    {
      "cell_type": "code",
      "execution_count": 9,
      "id": "6c4b9eb9",
      "metadata": {
        "colab": {
          "base_uri": "https://localhost:8080/"
        },
        "id": "6c4b9eb9",
        "outputId": "bfa4c4e2-01b4-4a73-d6d3-6ffacee0135a",
        "scrolled": false
      },
      "outputs": [
        {
          "output_type": "execute_result",
          "data": {
            "text/plain": [
              "{'dimension': 384,\n",
              " 'index_fullness': 0.2,\n",
              " 'namespaces': {'': {'vector_count': 36405}},\n",
              " 'total_vector_count': 36405}"
            ]
          },
          "metadata": {},
          "execution_count": 9
        }
      ],
      "source": [
        "# Set index and refresh\n",
        "index = pinecone.Index(V_INDEX)\n",
        "index.describe_index_stats()"
      ]
    },
    {
      "cell_type": "code",
      "execution_count": 10,
      "id": "c9e9705c",
      "metadata": {
        "colab": {
          "base_uri": "https://localhost:8080/"
        },
        "id": "c9e9705c",
        "outputId": "652077c1-cc68-4520-b006-4f323291b228"
      },
      "outputs": [
        {
          "output_type": "stream",
          "name": "stdout",
          "text": [
            "ID: 11, Title: Look: Stetson Bennett caught a massive fish in Montauk\n",
            "ID: 34886, Title: North Carolina anglers go swordfishing, instead catch rare species: 'Prehistoric, almost'\n",
            "ID: 12473, Title: \"Prehistoric, almost': Friends set out swordfishing, catch rare, record-setting pomfret\n"
          ]
        }
      ],
      "source": [
        "# Query function\n",
        "def query_vector(index, df, idx, top_k):\n",
        "    vector = news_05_df.loc[idx, 'embeddings'].tolist()  # convert numpy array to list\n",
        "    results = index.query(vector=vector, top_k=top_k, include_values=True)\n",
        "    return results\n",
        "\n",
        "# Usage example\n",
        "results = query_vector(index, news_05_df, 11, 3)\n",
        "\n",
        "# Extract ids from results and convert to integers\n",
        "ids = [int(match['id']) for match in results['matches']]\n",
        "\n",
        "# Get corresponding records from 'news_00_df'\n",
        "records = news_05_df.loc[ids]\n",
        "\n",
        "# Display 'article_title' for each record\n",
        "for id, row in records.iterrows():\n",
        "    print(f'ID: {id}, Title: {row[\"title\"]}')"
      ]
    },
    {
      "cell_type": "markdown",
      "id": "f6d9485d",
      "metadata": {
        "id": "f6d9485d"
      },
      "source": [
        "## Summarization (experimental)"
      ]
    },
    {
      "cell_type": "code",
      "execution_count": 11,
      "id": "fb5adff9",
      "metadata": {
        "colab": {
          "base_uri": "https://localhost:8080/",
          "height": 174,
          "referenced_widgets": [
            "c2d032f7644d449499bab8c5ea354ca0",
            "f349884961b4405ba298e55e8cbb8f3e",
            "e49b2d3de0244ec689d80dbeaa989aa5",
            "ca4364e3796644fd83c5cade0263090e",
            "29f4670956c7465f8e2585c4be25c68c",
            "762101596dbc44c39fe7386c5d49cdb1",
            "5d2e762ad5bd48fa92bb8141b2b90d43",
            "85878a8d04d14c1c8b0752ab1505e57e",
            "d5a3296b4c874365a33210317d2b66ae",
            "04c49a42971b4befb6bd9f66d7270e7c",
            "3fb521efa6d4419384e15b714d58e3e3"
          ]
        },
        "id": "fb5adff9",
        "outputId": "bc2c679d-48a6-40ac-a7ca-039dbc85e638"
      },
      "outputs": [
        {
          "output_type": "stream",
          "name": "stdout",
          "text": [
            "Enter Hugging Face token··········\n",
            "Token will not been saved to git credential helper. Pass `add_to_git_credential=True` if you want to set the git credential as well.\n",
            "Token is valid (permission: read).\n",
            "Your token has been saved to /root/.cache/huggingface/token\n",
            "Login successful\n"
          ]
        },
        {
          "output_type": "display_data",
          "data": {
            "text/plain": [
              "Loading checkpoint shards:   0%|          | 0/2 [00:00<?, ?it/s]"
            ],
            "application/vnd.jupyter.widget-view+json": {
              "version_major": 2,
              "version_minor": 0,
              "model_id": "c2d032f7644d449499bab8c5ea354ca0"
            }
          },
          "metadata": {}
        },
        {
          "output_type": "stream",
          "name": "stderr",
          "text": [
            "Xformers is not installed correctly. If you want to use memory_efficient_attention to accelerate training use the following command to install Xformers\n",
            "pip install xformers.\n"
          ]
        }
      ],
      "source": [
        "if COLAB:\n",
        "    HUGGINGFACEHUB_API_TOKEN = getpass.getpass('Enter Hugging Face token')\n",
        "else:\n",
        "    HUGGINGFACEHUB_API_TOKEN = os.environ['HUGGINGFACEHUB_API_TOKEN']\n",
        "\n",
        "# Establish pre-trained model and pipeline\n",
        "hf_token = HUGGINGFACEHUB_API_TOKEN\n",
        "login(token=hf_token)\n",
        "\n",
        "model_id = 'meta-llama/Llama-2-7b-chat-hf'\n",
        "\n",
        "model_config = transformers.AutoConfig.from_pretrained(\n",
        "    model_id,\n",
        "    token=hf_token\n",
        ")\n",
        "\n",
        "model = transformers.AutoModelForCausalLM.from_pretrained(\n",
        "    model_id,\n",
        "    trust_remote_code=True,\n",
        "    config=model_config,\n",
        "    token=hf_token\n",
        ")\n",
        "\n",
        "tokenizer = transformers.AutoTokenizer.from_pretrained(\n",
        "    model_id,\n",
        "    token=hf_token\n",
        ")\n",
        "\n",
        "# Create a text generation pipeline\n",
        "gen_pipe = transformers.pipeline(\n",
        "    'text-generation',\n",
        "    model=model,\n",
        "    tokenizer=tokenizer,\n",
        "    torch_dtype=torch.bfloat16,\n",
        "    max_length=1024\n",
        ")\n",
        "\n",
        "llm = HuggingFacePipeline(pipeline=gen_pipe, model_kwargs={'temperature': 0})"
      ]
    },
    {
      "cell_type": "code",
      "execution_count": 12,
      "id": "fd1ec73e",
      "metadata": {
        "colab": {
          "base_uri": "https://localhost:8080/"
        },
        "id": "fd1ec73e",
        "outputId": "03aeaa1e-4066-4d1d-e63c-1cd84484597e"
      },
      "outputs": [
        {
          "output_type": "stream",
          "name": "stderr",
          "text": [
            "20it [04:58, 14.91s/it]"
          ]
        },
        {
          "output_type": "stream",
          "name": "stdout",
          "text": [
            "Start time: Sun Jul 30 05:04:03 2023\n",
            "Stop time: Sun Jul 30 05:09:02 2023\n",
            "Elapsed time: 4.97 minutes\n"
          ]
        },
        {
          "output_type": "stream",
          "name": "stderr",
          "text": [
            "\n"
          ]
        }
      ],
      "source": [
        "start_time = time.time()\n",
        "\n",
        "template = \"\"\"\n",
        "Write a one-sentence summary of the following text delimited by triple backquotes.\n",
        "'''{text}'''\n",
        "ONE-SENTENCE-ONLY SUMMARY:\n",
        "\"\"\"\n",
        "\n",
        "prompt = PromptTemplate(template=template, input_variables=['text'])\n",
        "\n",
        "llm_chain = LLMChain(prompt=prompt, llm=llm)\n",
        "\n",
        "def get_first_n_chars(text, n):\n",
        "    if len(text) <= n:\n",
        "        return text\n",
        "    else:\n",
        "        short_text = text[:n]\n",
        "        return short_text.rsplit(' ', 1)[0]\n",
        "\n",
        "selected_rows = news_05_df.loc[0:19].copy()\n",
        "\n",
        "summaries = []\n",
        "for _, row in tqdm(selected_rows.iterrows()):\n",
        "    text = get_first_n_chars(row['processed_text'], 200)\n",
        "    input_dict = {'text': text}\n",
        "    summary = llm_chain.run(input_dict)\n",
        "    summaries.append(summary)\n",
        "\n",
        "selected_rows['summary'] = summaries\n",
        "\n",
        "stop_time = time.time()\n",
        "elapsed_time = (stop_time - start_time) / 60.0\n",
        "print(f'Start time: {time.ctime(start_time)}')\n",
        "print(f'Stop time: {time.ctime(stop_time)}')\n",
        "print(f\"Elapsed time: {format(elapsed_time, '.2f')} minutes\")"
      ]
    },
    {
      "cell_type": "code",
      "source": [
        "# Show sample summarization\n",
        "lwidth = 80\n",
        "\n",
        "wrapper = textwrap.TextWrapper(width=lwidth)\n",
        "\n",
        "for idx, row in selected_rows.iterrows():\n",
        "    title = wrapper.fill(text=row['title'])\n",
        "    summary = wrapper.fill(text=row['summary'])\n",
        "    print(f\"\\nTitle: {title}\\nSummary: {summary}\\n{'-'*lwidth}\")"
      ],
      "metadata": {
        "id": "BqgX3D7QIEn5",
        "outputId": "14e3db98-d80c-4ab6-c644-8ee76996da43",
        "colab": {
          "base_uri": "https://localhost:8080/"
        }
      },
      "id": "BqgX3D7QIEn5",
      "execution_count": 14,
      "outputs": [
        {
          "output_type": "stream",
          "name": "stdout",
          "text": [
            "\n",
            "Title: Tito's launches 'Tito's in a Big Can,' an empty cocktail keg listed at $200\n",
            "Summary: Owning your own keg of Tito's Handmade Vodka can now become a reality with the\n",
            "brand's launch of a 1-ounce stainless steel mini cocktail keg.\n",
            "--------------------------------------------------------------------------------\n",
            "\n",
            "Title: Search for missing actor Julian Sands continues in 'limited capacity'\n",
            "Summary: The ongoing search for actor Julian Sands, who went missing during a solo hike\n",
            "in California over five months ago, will continue in a limited capacity, with\n",
            "the San Bernardino authorities involved in the investigation.\n",
            "--------------------------------------------------------------------------------\n",
            "\n",
            "Title: Four star running back picks Michigan State over UNC\n",
            "Summary: Four-star running back picks Michigan State over UNC.\n",
            "--------------------------------------------------------------------------------\n",
            "\n",
            "Title: Alabama center Charles Bediako signs one-year deal with San Antonio Spurs\n",
            "Summary: Alabama center Charles Bediako signs a one-year deal with the San Antonio Spurs.\n",
            "--------------------------------------------------------------------------------\n",
            "\n",
            "Title: Ralph Sampson breaks down iconic Boston Celtics-Houston Rockets fight in 1986\n",
            "playoffs\n",
            "Summary: Ralph Sampson breaks down the iconic Boston Celtics vs. Houston Rockets fight in\n",
            "the playoffs.\n",
            "--------------------------------------------------------------------------------\n",
            "\n",
            "Title: Cowherd: Lakers are delusional for wanting to pay Austin Reaves big bucks\n",
            "Summary: The Los Angeles Lakers are delusional for wanting to pay Austin Reaves big\n",
            "bucks.\n",
            "--------------------------------------------------------------------------------\n",
            "\n",
            "Title: Recruiting Roundup: Latest Alabama Football recruiting news\n",
            "Summary: Alabama football recruiting news and updates are shared in the latest recruiting\n",
            "roundup.\n",
            "--------------------------------------------------------------------------------\n",
            "\n",
            "Title: Eagles’ 2023 training camp preview: Jalen Hurts joins an elite tier of NFL\n",
            "quarterbacks\n",
            "Summary: Jalen Hurts joins an elite tier of NFL quarterbacks at training camp.\n",
            "--------------------------------------------------------------------------------\n",
            "\n",
            "Title: Lincoln Riley’s late-night emoji tweets equal four USC commits on Tuesday\n",
            "Summary: Lincoln Riley's late-night emoji tweets have resulted in four USC commits on\n",
            "Tuesday.\n",
            "--------------------------------------------------------------------------------\n",
            "\n",
            "Title: Washington passes California as most expensive state for gas: AAA\n",
            "Summary: Washington has surpassed California as the most expensive state for gas, with\n",
            "the average price of gas in Washington being $3.00 per gallon, according to AAA.\n",
            "--------------------------------------------------------------------------------\n",
            "\n",
            "Title: Check out the pics of Steelers players with dogs that you didn’t know you needed\n",
            "Summary: The article shares pictures of NFL players with their dogs, providing an\n",
            "unexpected and delightful look into their personal lives.\n",
            "--------------------------------------------------------------------------------\n",
            "\n",
            "Title: Look: Stetson Bennett caught a massive fish in Montauk\n",
            "Summary: Stetson Bennett caught a massive fish in Montauk and shared the news on social\n",
            "media.\n",
            "--------------------------------------------------------------------------------\n",
            "\n",
            "Title: Alabama to remain a national title contender for at least the next three seasons\n",
            "Summary: Alabama is expected to remain a national title contender for at least the next\n",
            "three seasons.\n",
            "--------------------------------------------------------------------------------\n",
            "\n",
            "Title: Badger football fans ranked average for overall passion in Big Ten\n",
            "Summary: Badger football fans ranked average for overall passion in Big Ten.\n",
            "--------------------------------------------------------------------------------\n",
            "\n",
            "Title: Rams get 2 more draft picks under contract, 8 remain unsigned\n",
            "Summary: The NFL draft picks who remain unsigned are seeking more contracts.\n",
            "--------------------------------------------------------------------------------\n",
            "\n",
            "Title: Giants great Tiki Barber will announce CBS games in 2023\n",
            "Summary: Great Tiki Barber will announce CBS games.\n",
            "--------------------------------------------------------------------------------\n",
            "\n",
            "Title: 13 things we're buying that are inspired by Hulu's 'The Bear'\n",
            "Summary: The second season of the blockbuster FX hit was independently chosen by\n",
            "Reviewed's editors, and purchases made through the links below may earn us and\n",
            "our publishing partners a commission.\n",
            "--------------------------------------------------------------------------------\n",
            "\n",
            "Title: College football analyst reveals Pac-12 coaches are ‘anxious’ to see Colorado\n",
            "Summary: The college football analyst revealed that Pac-12 coaches are eager to see how\n",
            "Colorado will perform in their upcoming games.\n",
            "--------------------------------------------------------------------------------\n",
            "\n",
            "Title: PFF: Bills have a top-10 coach in Sean McDermott\n",
            "Summary: Sean McDermott, the top coach of the Buffalo Bills, shares an article on the\n",
            "importance of football focus.\n",
            "--------------------------------------------------------------------------------\n",
            "\n",
            "Title: Against backdrop of a mental health care shortage, emergency room doctors are\n",
            "overwhelmed\n",
            "Summary: A year old boy was left in a hospital emergency room for weeks, dressed in paper\n",
            "scrubs, due to his parents' inability to care for him and the state's social\n",
            "services agency lacking adequate placement options.\n",
            "--------------------------------------------------------------------------------\n"
          ]
        }
      ]
    },
    {
      "cell_type": "markdown",
      "id": "ac839e17",
      "metadata": {
        "scrolled": false,
        "id": "ac839e17"
      },
      "source": [
        "## Other (experimentation)"
      ]
    },
    {
      "cell_type": "code",
      "execution_count": 15,
      "id": "32e832da",
      "metadata": {
        "colab": {
          "base_uri": "https://localhost:8080/"
        },
        "id": "32e832da",
        "outputId": "4608c7a2-94c2-4cd6-9d74-db78ca999db1"
      },
      "outputs": [
        {
          "output_type": "stream",
          "name": "stdout",
          "text": [
            "Enter OpenAI key··········\n",
            "\n",
            "What is news sentiment analysis?\n",
            "\n",
            "News sentiment analysis is a type of natural language processing which uses\n",
            "techniques from text mining, natural language understanding, and computational\n",
            "linguistics to detect and analyze the sentiment of news articles and other types\n",
            "of text. This type of analysis enables businesses to gain insight into consumer\n",
            "opinion and sentiment surrounding a particular topic or trend. By analyzing the\n",
            "sentiment of news articles, marketers can better understand how their brand is\n",
            "being perceived by the public, and make decisions about how to adjust their\n",
            "strategies accordingly.\n",
            "--------------------------------------------------------------------------------\n"
          ]
        }
      ],
      "source": [
        "if COLAB:\n",
        "    OPENAI_API_KEY = getpass.getpass('Enter OpenAI key')\n",
        "else:\n",
        "    OPENAI_API_KEY = os.environ['OPENAI_API_KEY']\n",
        "\n",
        "# Establish OpenAI connection\n",
        "#openai_organization = os.getenv('OPENAI_ORG')\n",
        "#openai_api_key = os.getenv('OPENAI_API_KEY')\n",
        "\n",
        "# Experiment with a simple, related question:-)\n",
        "llm = OpenAI(openai_api_key = OPENAI_API_KEY,\n",
        "             model_name='text-davinci-003')\n",
        "\n",
        "answer = wrapper.fill(text=llm('What is news sentiment analysis?').lstrip())\n",
        "print(f\"\\nWhat is news sentiment analysis?\\n\\n{answer}\\n{'-'*lwidth}\")"
      ]
    },
    {
      "cell_type": "markdown",
      "id": "f4a817c6",
      "metadata": {
        "id": "f4a817c6"
      },
      "source": [
        "## Data Partitioning (retained but not used here)"
      ]
    },
    {
      "cell_type": "code",
      "execution_count": 16,
      "id": "8de234d8",
      "metadata": {
        "id": "8de234d8"
      },
      "outputs": [],
      "source": [
        "# Set splits\n",
        "train_ratio = 0.7; val_ratio = 0.20; test_ratio = 0.10\n",
        "\n",
        "# Split and profile\n",
        "train_df, test_df = train_test_split(news_05_df, test_size=1-train_ratio,\n",
        "                                     random_state=42)\n",
        "val_df, test_df = train_test_split(test_df, test_size=test_ratio/(test_ratio+val_ratio),\n",
        "                                   random_state=42)"
      ]
    },
    {
      "cell_type": "code",
      "execution_count": null,
      "id": "c28d84a3",
      "metadata": {
        "id": "c28d84a3"
      },
      "outputs": [],
      "source": []
    }
  ],
  "metadata": {
    "accelerator": "GPU",
    "colab": {
      "gpuType": "A100",
      "machine_shape": "hm",
      "provenance": []
    },
    "kernelspec": {
      "display_name": "Python 3 (ipykernel)",
      "language": "python",
      "name": "python3"
    },
    "language_info": {
      "codemirror_mode": {
        "name": "ipython",
        "version": 3
      },
      "file_extension": ".py",
      "mimetype": "text/x-python",
      "name": "python",
      "nbconvert_exporter": "python",
      "pygments_lexer": "ipython3",
      "version": "3.9.7"
    },
    "widgets": {
      "application/vnd.jupyter.widget-state+json": {
        "c2d032f7644d449499bab8c5ea354ca0": {
          "model_module": "@jupyter-widgets/controls",
          "model_name": "HBoxModel",
          "model_module_version": "1.5.0",
          "state": {
            "_dom_classes": [],
            "_model_module": "@jupyter-widgets/controls",
            "_model_module_version": "1.5.0",
            "_model_name": "HBoxModel",
            "_view_count": null,
            "_view_module": "@jupyter-widgets/controls",
            "_view_module_version": "1.5.0",
            "_view_name": "HBoxView",
            "box_style": "",
            "children": [
              "IPY_MODEL_f349884961b4405ba298e55e8cbb8f3e",
              "IPY_MODEL_e49b2d3de0244ec689d80dbeaa989aa5",
              "IPY_MODEL_ca4364e3796644fd83c5cade0263090e"
            ],
            "layout": "IPY_MODEL_29f4670956c7465f8e2585c4be25c68c"
          }
        },
        "f349884961b4405ba298e55e8cbb8f3e": {
          "model_module": "@jupyter-widgets/controls",
          "model_name": "HTMLModel",
          "model_module_version": "1.5.0",
          "state": {
            "_dom_classes": [],
            "_model_module": "@jupyter-widgets/controls",
            "_model_module_version": "1.5.0",
            "_model_name": "HTMLModel",
            "_view_count": null,
            "_view_module": "@jupyter-widgets/controls",
            "_view_module_version": "1.5.0",
            "_view_name": "HTMLView",
            "description": "",
            "description_tooltip": null,
            "layout": "IPY_MODEL_762101596dbc44c39fe7386c5d49cdb1",
            "placeholder": "​",
            "style": "IPY_MODEL_5d2e762ad5bd48fa92bb8141b2b90d43",
            "value": "Loading checkpoint shards: 100%"
          }
        },
        "e49b2d3de0244ec689d80dbeaa989aa5": {
          "model_module": "@jupyter-widgets/controls",
          "model_name": "FloatProgressModel",
          "model_module_version": "1.5.0",
          "state": {
            "_dom_classes": [],
            "_model_module": "@jupyter-widgets/controls",
            "_model_module_version": "1.5.0",
            "_model_name": "FloatProgressModel",
            "_view_count": null,
            "_view_module": "@jupyter-widgets/controls",
            "_view_module_version": "1.5.0",
            "_view_name": "ProgressView",
            "bar_style": "success",
            "description": "",
            "description_tooltip": null,
            "layout": "IPY_MODEL_85878a8d04d14c1c8b0752ab1505e57e",
            "max": 2,
            "min": 0,
            "orientation": "horizontal",
            "style": "IPY_MODEL_d5a3296b4c874365a33210317d2b66ae",
            "value": 2
          }
        },
        "ca4364e3796644fd83c5cade0263090e": {
          "model_module": "@jupyter-widgets/controls",
          "model_name": "HTMLModel",
          "model_module_version": "1.5.0",
          "state": {
            "_dom_classes": [],
            "_model_module": "@jupyter-widgets/controls",
            "_model_module_version": "1.5.0",
            "_model_name": "HTMLModel",
            "_view_count": null,
            "_view_module": "@jupyter-widgets/controls",
            "_view_module_version": "1.5.0",
            "_view_name": "HTMLView",
            "description": "",
            "description_tooltip": null,
            "layout": "IPY_MODEL_04c49a42971b4befb6bd9f66d7270e7c",
            "placeholder": "​",
            "style": "IPY_MODEL_3fb521efa6d4419384e15b714d58e3e3",
            "value": " 2/2 [00:02&lt;00:00,  1.02it/s]"
          }
        },
        "29f4670956c7465f8e2585c4be25c68c": {
          "model_module": "@jupyter-widgets/base",
          "model_name": "LayoutModel",
          "model_module_version": "1.2.0",
          "state": {
            "_model_module": "@jupyter-widgets/base",
            "_model_module_version": "1.2.0",
            "_model_name": "LayoutModel",
            "_view_count": null,
            "_view_module": "@jupyter-widgets/base",
            "_view_module_version": "1.2.0",
            "_view_name": "LayoutView",
            "align_content": null,
            "align_items": null,
            "align_self": null,
            "border": null,
            "bottom": null,
            "display": null,
            "flex": null,
            "flex_flow": null,
            "grid_area": null,
            "grid_auto_columns": null,
            "grid_auto_flow": null,
            "grid_auto_rows": null,
            "grid_column": null,
            "grid_gap": null,
            "grid_row": null,
            "grid_template_areas": null,
            "grid_template_columns": null,
            "grid_template_rows": null,
            "height": null,
            "justify_content": null,
            "justify_items": null,
            "left": null,
            "margin": null,
            "max_height": null,
            "max_width": null,
            "min_height": null,
            "min_width": null,
            "object_fit": null,
            "object_position": null,
            "order": null,
            "overflow": null,
            "overflow_x": null,
            "overflow_y": null,
            "padding": null,
            "right": null,
            "top": null,
            "visibility": null,
            "width": null
          }
        },
        "762101596dbc44c39fe7386c5d49cdb1": {
          "model_module": "@jupyter-widgets/base",
          "model_name": "LayoutModel",
          "model_module_version": "1.2.0",
          "state": {
            "_model_module": "@jupyter-widgets/base",
            "_model_module_version": "1.2.0",
            "_model_name": "LayoutModel",
            "_view_count": null,
            "_view_module": "@jupyter-widgets/base",
            "_view_module_version": "1.2.0",
            "_view_name": "LayoutView",
            "align_content": null,
            "align_items": null,
            "align_self": null,
            "border": null,
            "bottom": null,
            "display": null,
            "flex": null,
            "flex_flow": null,
            "grid_area": null,
            "grid_auto_columns": null,
            "grid_auto_flow": null,
            "grid_auto_rows": null,
            "grid_column": null,
            "grid_gap": null,
            "grid_row": null,
            "grid_template_areas": null,
            "grid_template_columns": null,
            "grid_template_rows": null,
            "height": null,
            "justify_content": null,
            "justify_items": null,
            "left": null,
            "margin": null,
            "max_height": null,
            "max_width": null,
            "min_height": null,
            "min_width": null,
            "object_fit": null,
            "object_position": null,
            "order": null,
            "overflow": null,
            "overflow_x": null,
            "overflow_y": null,
            "padding": null,
            "right": null,
            "top": null,
            "visibility": null,
            "width": null
          }
        },
        "5d2e762ad5bd48fa92bb8141b2b90d43": {
          "model_module": "@jupyter-widgets/controls",
          "model_name": "DescriptionStyleModel",
          "model_module_version": "1.5.0",
          "state": {
            "_model_module": "@jupyter-widgets/controls",
            "_model_module_version": "1.5.0",
            "_model_name": "DescriptionStyleModel",
            "_view_count": null,
            "_view_module": "@jupyter-widgets/base",
            "_view_module_version": "1.2.0",
            "_view_name": "StyleView",
            "description_width": ""
          }
        },
        "85878a8d04d14c1c8b0752ab1505e57e": {
          "model_module": "@jupyter-widgets/base",
          "model_name": "LayoutModel",
          "model_module_version": "1.2.0",
          "state": {
            "_model_module": "@jupyter-widgets/base",
            "_model_module_version": "1.2.0",
            "_model_name": "LayoutModel",
            "_view_count": null,
            "_view_module": "@jupyter-widgets/base",
            "_view_module_version": "1.2.0",
            "_view_name": "LayoutView",
            "align_content": null,
            "align_items": null,
            "align_self": null,
            "border": null,
            "bottom": null,
            "display": null,
            "flex": null,
            "flex_flow": null,
            "grid_area": null,
            "grid_auto_columns": null,
            "grid_auto_flow": null,
            "grid_auto_rows": null,
            "grid_column": null,
            "grid_gap": null,
            "grid_row": null,
            "grid_template_areas": null,
            "grid_template_columns": null,
            "grid_template_rows": null,
            "height": null,
            "justify_content": null,
            "justify_items": null,
            "left": null,
            "margin": null,
            "max_height": null,
            "max_width": null,
            "min_height": null,
            "min_width": null,
            "object_fit": null,
            "object_position": null,
            "order": null,
            "overflow": null,
            "overflow_x": null,
            "overflow_y": null,
            "padding": null,
            "right": null,
            "top": null,
            "visibility": null,
            "width": null
          }
        },
        "d5a3296b4c874365a33210317d2b66ae": {
          "model_module": "@jupyter-widgets/controls",
          "model_name": "ProgressStyleModel",
          "model_module_version": "1.5.0",
          "state": {
            "_model_module": "@jupyter-widgets/controls",
            "_model_module_version": "1.5.0",
            "_model_name": "ProgressStyleModel",
            "_view_count": null,
            "_view_module": "@jupyter-widgets/base",
            "_view_module_version": "1.2.0",
            "_view_name": "StyleView",
            "bar_color": null,
            "description_width": ""
          }
        },
        "04c49a42971b4befb6bd9f66d7270e7c": {
          "model_module": "@jupyter-widgets/base",
          "model_name": "LayoutModel",
          "model_module_version": "1.2.0",
          "state": {
            "_model_module": "@jupyter-widgets/base",
            "_model_module_version": "1.2.0",
            "_model_name": "LayoutModel",
            "_view_count": null,
            "_view_module": "@jupyter-widgets/base",
            "_view_module_version": "1.2.0",
            "_view_name": "LayoutView",
            "align_content": null,
            "align_items": null,
            "align_self": null,
            "border": null,
            "bottom": null,
            "display": null,
            "flex": null,
            "flex_flow": null,
            "grid_area": null,
            "grid_auto_columns": null,
            "grid_auto_flow": null,
            "grid_auto_rows": null,
            "grid_column": null,
            "grid_gap": null,
            "grid_row": null,
            "grid_template_areas": null,
            "grid_template_columns": null,
            "grid_template_rows": null,
            "height": null,
            "justify_content": null,
            "justify_items": null,
            "left": null,
            "margin": null,
            "max_height": null,
            "max_width": null,
            "min_height": null,
            "min_width": null,
            "object_fit": null,
            "object_position": null,
            "order": null,
            "overflow": null,
            "overflow_x": null,
            "overflow_y": null,
            "padding": null,
            "right": null,
            "top": null,
            "visibility": null,
            "width": null
          }
        },
        "3fb521efa6d4419384e15b714d58e3e3": {
          "model_module": "@jupyter-widgets/controls",
          "model_name": "DescriptionStyleModel",
          "model_module_version": "1.5.0",
          "state": {
            "_model_module": "@jupyter-widgets/controls",
            "_model_module_version": "1.5.0",
            "_model_name": "DescriptionStyleModel",
            "_view_count": null,
            "_view_module": "@jupyter-widgets/base",
            "_view_module_version": "1.2.0",
            "_view_name": "StyleView",
            "description_width": ""
          }
        }
      }
    }
  },
  "nbformat": 4,
  "nbformat_minor": 5
}