{
 "cells": [
  {
   "cell_type": "markdown",
   "id": "72e49e21-4b1f-4603-a619-84b9e1998f03",
   "metadata": {},
   "source": [
    "# 599 Capstone Project"
   ]
  },
  {
   "cell_type": "markdown",
   "id": "67145b5b-5bfa-422d-9b5f-0b5ff807e3d3",
   "metadata": {},
   "source": [
    "The notebook is for text data preprocessing."
   ]
  },
  {
   "cell_type": "markdown",
   "id": "81c57862-dbc2-4515-b62e-14adccbf6d2b",
   "metadata": {},
   "source": [
    "## Globally import libraries and set display parameters"
   ]
  },
  {
   "cell_type": "markdown",
   "id": "34560828-2bee-4fc3-8880-41a6d291b1d6",
   "metadata": {},
   "source": [
    "Libraries needed mostly pertain to dataframe manipulation for data preprocessing."
   ]
  },
  {
   "cell_type": "code",
   "execution_count": 1,
   "id": "f3c1e3ef-8619-4237-88c3-e4a06edaf6c5",
   "metadata": {},
   "outputs": [],
   "source": [
    "from collections import defaultdict, Counter\n",
    "import datetime as dt\n",
    "import emoji\n",
    "from icecream import ic\n",
    "from IPython.display import display_html \n",
    "import itertools\n",
    "import matplotlib.pyplot as plt\n",
    "import numpy as np\n",
    "import os\n",
    "import pandas as pd\n",
    "import pickle\n",
    "import random\n",
    "import re\n",
    "import regex as rex\n",
    "import shutil\n",
    "from string import punctuation\n",
    "import time\n",
    "from tqdm import tqdm\n",
    "\n",
    "import nltk\n",
    "from nltk.corpus import stopwords\n",
    "\n",
    "import spacy\n",
    "\n",
    "from sklearn.feature_extraction.text import TfidfTransformer, \\\n",
    "CountVectorizer, TfidfVectorizer\n",
    "from sklearn.model_selection import train_test_split\n",
    "from sklearn.pipeline import make_pipeline, Pipeline\n",
    "\n",
    "import textacy.preprocessing as tprep\n",
    "from textacy.extract import keyword_in_context"
   ]
  },
  {
   "cell_type": "markdown",
   "id": "ad016c12-a5ed-4e00-b8d4-068a03bb71dd",
   "metadata": {},
   "source": [
    "Set global parameters."
   ]
  },
  {
   "cell_type": "code",
   "execution_count": 2,
   "id": "84851602-fd72-48b8-913f-4f936ab7861c",
   "metadata": {},
   "outputs": [],
   "source": [
    "global_start_time = time.perf_counter()\n",
    "\n",
    "random.seed(1699)\n",
    "\n",
    "# Set pandas global options\n",
    "pd.options.display.max_rows = 23\n",
    "pd.options.display.precision = 4\n",
    "np.set_printoptions(suppress=True,\n",
    "                    precision=4)\n",
    "\n",
    "%matplotlib inline\n",
    "\n",
    "# Set tqdm package progress bar\n",
    "tqdm.pandas(ncols=50)\n",
    "\n",
    "dply_rng_end01 = 0\n",
    "dply_rng_end02 = 2\n",
    "\n",
    "to_csv_flag = True"
   ]
  },
  {
   "cell_type": "markdown",
   "id": "d1823454-8427-4340-8a71-dd73fdf9932f",
   "metadata": {},
   "source": [
    "## Upload data from CSV"
   ]
  },
  {
   "cell_type": "markdown",
   "id": "25e499a4-03d2-4d9a-b83e-fe7a24840641",
   "metadata": {},
   "source": [
    "Establish working directories for saving dataframes as CSV files."
   ]
  },
  {
   "cell_type": "code",
   "execution_count": 3,
   "id": "f2e909d4-6cad-425c-8cee-2f0bfd303bfa",
   "metadata": {},
   "outputs": [
    {
     "name": "stderr",
     "output_type": "stream",
     "text": [
      "ic| curr_dir: 'C:\\\\Users\\\\acarr\\\\Documents\\\\GitHub\\\\599_team_project\\\\deliverables'\n",
      "ic| up1_dir: 'C:\\\\Users\\\\acarr\\\\Documents\\\\GitHub\\\\599_team_project'\n",
      "ic| 652109981.py:9 in <module> at 13:11:04.701\n"
     ]
    }
   ],
   "source": [
    "'''Dir nav citation:\n",
    "https://softhints.com/python-change-directory-parent/\n",
    "'''\n",
    "curr_dir = os.path.abspath(os.curdir)\n",
    "ic(curr_dir)\n",
    "os.chdir(\"..\")\n",
    "up1_dir = os.path.abspath(os.curdir)\n",
    "ic(up1_dir)\n",
    "ic()"
   ]
  },
  {
   "cell_type": "markdown",
   "id": "6a019665-ecbd-4049-ba60-1bec1fc598b4",
   "metadata": {},
   "source": [
    "Get current date/time to append to file name string."
   ]
  },
  {
   "cell_type": "code",
   "execution_count": 4,
   "id": "5b5470e4-6f28-4d80-9c81-dac5293f235b",
   "metadata": {},
   "outputs": [
    {
     "name": "stderr",
     "output_type": "stream",
     "text": [
      "ic| today: '2023-07-25_13-11-04731013'\n",
      "ic| type(today): <class 'str'>\n",
      "ic| 3990198718.py:6 in <module> at 13:11:04.802\n"
     ]
    }
   ],
   "source": [
    "today = dt.datetime.today()\n",
    "today= str(today)\n",
    "today = today.replace(':', '-').replace('.', '').replace(' ', '_')\n",
    "ic(today)\n",
    "ic(type(today))\n",
    "ic()"
   ]
  },
  {
   "cell_type": "markdown",
   "id": "867767d3-7156-4af0-9050-bda3165d5fca",
   "metadata": {},
   "source": [
    "Establish full file name path."
   ]
  },
  {
   "cell_type": "code",
   "execution_count": 5,
   "id": "45f949b7-2dbb-4644-a792-35b2edf6c5fb",
   "metadata": {},
   "outputs": [
    {
     "name": "stdout",
     "output_type": "stream",
     "text": [
      "CSV file in 1 path: C:\\Users\\acarr\\Documents\\GitHub\\599_team_project\\data\\data_preprocessed_wo_sw_2023-07-20_13-02-01408354.csv\n"
     ]
    }
   ],
   "source": [
    "# change `data_location` to the location of the folder on your machine.\n",
    "data_location = 'data'\n",
    "ref_docs_location = 'ref_docs'\n",
    "\n",
    "file_in_name01 = 'data_preprocessed_wo_sw_2023-07-20_13-02-01408354.csv'\n",
    "\n",
    "file_in_path01 = os.path.join(up1_dir, data_location, file_in_name01)\n",
    "\n",
    "print(f'CSV file in 1 path: {file_in_path01}')"
   ]
  },
  {
   "cell_type": "markdown",
   "id": "bad30d7f-1009-4e26-b659-068edb48d048",
   "metadata": {},
   "source": [
    "### Review dataframe"
   ]
  },
  {
   "cell_type": "markdown",
   "id": "f92c4626-d457-49ec-9d1e-2cd64dc4c702",
   "metadata": {},
   "source": [
    "Read in data from CSV, check resulting dataframe shape, and display first several records."
   ]
  },
  {
   "cell_type": "code",
   "execution_count": 6,
   "id": "001ea078-0f38-4692-b6bb-318957f1cb63",
   "metadata": {},
   "outputs": [
    {
     "name": "stdout",
     "output_type": "stream",
     "text": [
      "Dataframe shape: (36405, 11)\n"
     ]
    },
    {
     "data": {
      "text/html": [
       "<div>\n",
       "<style scoped>\n",
       "    .dataframe tbody tr th:only-of-type {\n",
       "        vertical-align: middle;\n",
       "    }\n",
       "\n",
       "    .dataframe tbody tr th {\n",
       "        vertical-align: top;\n",
       "    }\n",
       "\n",
       "    .dataframe thead th {\n",
       "        text-align: right;\n",
       "    }\n",
       "</style>\n",
       "<table border=\"1\" class=\"dataframe\">\n",
       "  <thead>\n",
       "    <tr style=\"text-align: right;\">\n",
       "      <th></th>\n",
       "      <th>text_id</th>\n",
       "      <th>source_name</th>\n",
       "      <th>author</th>\n",
       "      <th>title</th>\n",
       "      <th>url</th>\n",
       "      <th>publish_date</th>\n",
       "      <th>article_text</th>\n",
       "      <th>content</th>\n",
       "      <th>processed_text</th>\n",
       "      <th>processed_text_split</th>\n",
       "      <th>num_tokens</th>\n",
       "    </tr>\n",
       "  </thead>\n",
       "  <tbody>\n",
       "    <tr>\n",
       "      <th>0</th>\n",
       "      <td>2</td>\n",
       "      <td>USA Today</td>\n",
       "      <td>USA TODAY, Emily DeLetter, USA TODAY</td>\n",
       "      <td>Tito's launches 'Tito's in a Big Can,' an empt...</td>\n",
       "      <td>https://www.usatoday.com/story/money/food/2023...</td>\n",
       "      <td>2023-06-21T17:37:40Z</td>\n",
       "      <td>Have you ever wanted to own your very own keg ...</td>\n",
       "      <td>Have you ever wanted to own your very own keg ...</td>\n",
       "      <td>ever wanted keg titos handmade vodka dream bec...</td>\n",
       "      <td>['ever', 'wanted', 'keg', 'titos', 'handmade',...</td>\n",
       "      <td>117</td>\n",
       "    </tr>\n",
       "    <tr>\n",
       "      <th>1</th>\n",
       "      <td>3</td>\n",
       "      <td>USA Today</td>\n",
       "      <td>USA TODAY, Joy Ashford, USA TODAY</td>\n",
       "      <td>Search for missing actor Julian Sands continue...</td>\n",
       "      <td>https://www.usatoday.com/story/entertainment/c...</td>\n",
       "      <td>2023-06-20T17:36:09Z</td>\n",
       "      <td>Over five months after Julian Sands went missi...</td>\n",
       "      <td>Over five months after Julian Sandswent missin...</td>\n",
       "      <td>five months julian sands went missing solo hik...</td>\n",
       "      <td>['five', 'months', 'julian', 'sands', 'went', ...</td>\n",
       "      <td>215</td>\n",
       "    </tr>\n",
       "    <tr>\n",
       "      <th>2</th>\n",
       "      <td>5</td>\n",
       "      <td>USA Today</td>\n",
       "      <td>Tar Heels Wire</td>\n",
       "      <td>Four star running back picks Michigan State ov...</td>\n",
       "      <td>https://tarheelswire.usatoday.com/2023/06/24/f...</td>\n",
       "      <td>2023-06-25T03:51:10Z</td>\n",
       "      <td>\\n\\n\\n\\n\\n\\n\\n\\n\\n\\n\\n\\n\\n\\nFour star running ...</td>\n",
       "      <td>Mack Brown and the UNC football program have b...</td>\n",
       "      <td>four star running back picks michigan state un...</td>\n",
       "      <td>['four', 'star', 'running', 'back', 'picks', '...</td>\n",
       "      <td>161</td>\n",
       "    </tr>\n",
       "    <tr>\n",
       "      <th>3</th>\n",
       "      <td>6</td>\n",
       "      <td>USA Today</td>\n",
       "      <td>Roll Tide Wire</td>\n",
       "      <td>Alabama center Charles Bediako signs one-year ...</td>\n",
       "      <td>https://rolltidewire.usatoday.com/2023/06/23/a...</td>\n",
       "      <td>2023-06-23T21:29:24Z</td>\n",
       "      <td>\\n\\n\\n\\n\\n\\n\\n\\n\\n\\n\\n\\n\\n\\nAlabama center Cha...</td>\n",
       "      <td>Alabama center Charles Bediako was signed to a...</td>\n",
       "      <td>alabama center charles bediako signs one year ...</td>\n",
       "      <td>['alabama', 'center', 'charles', 'bediako', 's...</td>\n",
       "      <td>237</td>\n",
       "    </tr>\n",
       "    <tr>\n",
       "      <th>4</th>\n",
       "      <td>7</td>\n",
       "      <td>USA Today</td>\n",
       "      <td>Celtics Wire</td>\n",
       "      <td>Ralph Sampson breaks down iconic Boston Celtic...</td>\n",
       "      <td>https://celticswire.usatoday.com/2023/06/23/nb...</td>\n",
       "      <td>2023-06-23T11:00:41Z</td>\n",
       "      <td>\\n\\n\\n\\n\\n\\n\\n\\n\\n\\n\\n\\n\\n\\nRalph Sampson brea...</td>\n",
       "      <td>It was one of the most memorable moments in NB...</td>\n",
       "      <td>ralph sampson breaks iconic boston houston roc...</td>\n",
       "      <td>['ralph', 'sampson', 'breaks', 'iconic', 'bost...</td>\n",
       "      <td>134</td>\n",
       "    </tr>\n",
       "  </tbody>\n",
       "</table>\n",
       "</div>"
      ],
      "text/plain": [
       "   text_id source_name                                author  \\\n",
       "0        2   USA Today  USA TODAY, Emily DeLetter, USA TODAY   \n",
       "1        3   USA Today     USA TODAY, Joy Ashford, USA TODAY   \n",
       "2        5   USA Today                        Tar Heels Wire   \n",
       "3        6   USA Today                        Roll Tide Wire   \n",
       "4        7   USA Today                          Celtics Wire   \n",
       "\n",
       "                                               title  \\\n",
       "0  Tito's launches 'Tito's in a Big Can,' an empt...   \n",
       "1  Search for missing actor Julian Sands continue...   \n",
       "2  Four star running back picks Michigan State ov...   \n",
       "3  Alabama center Charles Bediako signs one-year ...   \n",
       "4  Ralph Sampson breaks down iconic Boston Celtic...   \n",
       "\n",
       "                                                 url          publish_date  \\\n",
       "0  https://www.usatoday.com/story/money/food/2023...  2023-06-21T17:37:40Z   \n",
       "1  https://www.usatoday.com/story/entertainment/c...  2023-06-20T17:36:09Z   \n",
       "2  https://tarheelswire.usatoday.com/2023/06/24/f...  2023-06-25T03:51:10Z   \n",
       "3  https://rolltidewire.usatoday.com/2023/06/23/a...  2023-06-23T21:29:24Z   \n",
       "4  https://celticswire.usatoday.com/2023/06/23/nb...  2023-06-23T11:00:41Z   \n",
       "\n",
       "                                        article_text  \\\n",
       "0  Have you ever wanted to own your very own keg ...   \n",
       "1  Over five months after Julian Sands went missi...   \n",
       "2  \\n\\n\\n\\n\\n\\n\\n\\n\\n\\n\\n\\n\\n\\nFour star running ...   \n",
       "3  \\n\\n\\n\\n\\n\\n\\n\\n\\n\\n\\n\\n\\n\\nAlabama center Cha...   \n",
       "4  \\n\\n\\n\\n\\n\\n\\n\\n\\n\\n\\n\\n\\n\\nRalph Sampson brea...   \n",
       "\n",
       "                                             content  \\\n",
       "0  Have you ever wanted to own your very own keg ...   \n",
       "1  Over five months after Julian Sandswent missin...   \n",
       "2  Mack Brown and the UNC football program have b...   \n",
       "3  Alabama center Charles Bediako was signed to a...   \n",
       "4  It was one of the most memorable moments in NB...   \n",
       "\n",
       "                                      processed_text  \\\n",
       "0  ever wanted keg titos handmade vodka dream bec...   \n",
       "1  five months julian sands went missing solo hik...   \n",
       "2  four star running back picks michigan state un...   \n",
       "3  alabama center charles bediako signs one year ...   \n",
       "4  ralph sampson breaks iconic boston houston roc...   \n",
       "\n",
       "                                processed_text_split  num_tokens  \n",
       "0  ['ever', 'wanted', 'keg', 'titos', 'handmade',...         117  \n",
       "1  ['five', 'months', 'julian', 'sands', 'went', ...         215  \n",
       "2  ['four', 'star', 'running', 'back', 'picks', '...         161  \n",
       "3  ['alabama', 'center', 'charles', 'bediako', 's...         237  \n",
       "4  ['ralph', 'sampson', 'breaks', 'iconic', 'bost...         134  "
      ]
     },
     "metadata": {},
     "output_type": "display_data"
    }
   ],
   "source": [
    "slct_tbl_full_df01 = pd.read_csv(file_in_path01)\n",
    "print(f'Dataframe shape: {slct_tbl_full_df01.shape}')\n",
    "display(slct_tbl_full_df01.head())"
   ]
  },
  {
   "cell_type": "markdown",
   "id": "064029d1-d255-4cd4-b124-8d2fd98be38a",
   "metadata": {},
   "source": [
    "## Initial (prior to preprocessing) Exploratory Data Analysis (EDA)"
   ]
  },
  {
   "cell_type": "markdown",
   "id": "651ae295-9552-4097-a693-93f00ab3c117",
   "metadata": {},
   "source": [
    "Perform only the EDA steps needed to preprocess the data, e.g., checking for missing values."
   ]
  },
  {
   "cell_type": "markdown",
   "id": "1638aba9-0192-4877-8cf7-927307a05917",
   "metadata": {},
   "source": [
    "### Count missing `article_text` feature"
   ]
  },
  {
   "cell_type": "markdown",
   "id": "40bc2d34-1bac-44a9-9e3b-46efe38ad671",
   "metadata": {},
   "source": [
    "The majority of null values appear in the `author` column. There are also two in `article_text`. The `author` feature will not be used for current modeling efforts, therefore it is not a factor. The instances with missing article text will be removed."
   ]
  },
  {
   "cell_type": "code",
   "execution_count": 7,
   "id": "023f3505-3e5a-4675-8fda-dd795da00113",
   "metadata": {},
   "outputs": [
    {
     "name": "stdout",
     "output_type": "stream",
     "text": [
      "Missing value counts:\n",
      "text_id                   0\n",
      "source_name               0\n",
      "author                  209\n",
      "title                     0\n",
      "url                       0\n",
      "publish_date              0\n",
      "article_text              0\n",
      "content                   0\n",
      "processed_text            3\n",
      "processed_text_split      0\n",
      "num_tokens                0\n"
     ]
    }
   ],
   "source": [
    "na_cnt = slct_tbl_full_df01.isnull().sum()\n",
    " \n",
    "# Display missing values\n",
    "print('Missing value counts:\\n' + na_cnt.to_string())"
   ]
  },
  {
   "cell_type": "markdown",
   "id": "bf0406b0-bdd5-4527-a603-a787c2513864",
   "metadata": {},
   "source": [
    "### Count blank `article_text` feature"
   ]
  },
  {
   "cell_type": "markdown",
   "id": "3832e127-1b56-40da-8784-3146a00733c5",
   "metadata": {},
   "source": [
    "Show instances with blank or missing `article_text` values; *n* = 2."
   ]
  },
  {
   "cell_type": "code",
   "execution_count": 8,
   "id": "af713abe-82b2-4132-9414-693d71ad3b9b",
   "metadata": {},
   "outputs": [
    {
     "name": "stderr",
     "output_type": "stream",
     "text": [
      "ic| len(slct_tbl_full_df01[slct_tbl_full_df01['processed_text']==None]): 0\n"
     ]
    },
    {
     "data": {
      "text/html": [
       "<div>\n",
       "<style scoped>\n",
       "    .dataframe tbody tr th:only-of-type {\n",
       "        vertical-align: middle;\n",
       "    }\n",
       "\n",
       "    .dataframe tbody tr th {\n",
       "        vertical-align: top;\n",
       "    }\n",
       "\n",
       "    .dataframe thead th {\n",
       "        text-align: right;\n",
       "    }\n",
       "</style>\n",
       "<table border=\"1\" class=\"dataframe\">\n",
       "  <thead>\n",
       "    <tr style=\"text-align: right;\">\n",
       "      <th></th>\n",
       "      <th>text_id</th>\n",
       "      <th>source_name</th>\n",
       "      <th>author</th>\n",
       "      <th>title</th>\n",
       "      <th>url</th>\n",
       "      <th>publish_date</th>\n",
       "      <th>article_text</th>\n",
       "      <th>content</th>\n",
       "      <th>processed_text</th>\n",
       "      <th>processed_text_split</th>\n",
       "      <th>num_tokens</th>\n",
       "    </tr>\n",
       "  </thead>\n",
       "  <tbody>\n",
       "    <tr>\n",
       "      <th>6140</th>\n",
       "      <td>7609</td>\n",
       "      <td>Forbes</td>\n",
       "      <td>EY Contributor, EY, \\n EY Contributor, EY\\n ht...</td>\n",
       "      <td>5 Ways Consumer Companies Unlock Value From Su...</td>\n",
       "      <td>https://www.forbes.com/sites/ey/2023/06/22/5-w...</td>\n",
       "      <td>2023-06-22T17:08:16Z</td>\n",
       "      <td>\\n\\n\\n\\n\\n\\n\\n\\n</td>\n",
       "      <td>This publication contains information in summa...</td>\n",
       "      <td>NaN</td>\n",
       "      <td>[]</td>\n",
       "      <td>0</td>\n",
       "    </tr>\n",
       "    <tr>\n",
       "      <th>31421</th>\n",
       "      <td>33725</td>\n",
       "      <td>Forbes</td>\n",
       "      <td>Fidelity Viewpoints Team, Fidelity, \\n Fidelit...</td>\n",
       "      <td>Balancing Growth And Protection</td>\n",
       "      <td>https://www.forbes.com/sites/fidelity/2023/06/...</td>\n",
       "      <td>2023-06-09T16:24:08Z</td>\n",
       "      <td>\\n\\n\\n\\n\\n\\n</td>\n",
       "      <td>Investing involves risk, including risk of los...</td>\n",
       "      <td>NaN</td>\n",
       "      <td>[]</td>\n",
       "      <td>0</td>\n",
       "    </tr>\n",
       "    <tr>\n",
       "      <th>34739</th>\n",
       "      <td>66724</td>\n",
       "      <td>The Washington Post</td>\n",
       "      <td>Philip Bump</td>\n",
       "      <td>The other revelation from Hunter Biden’s plea ...</td>\n",
       "      <td>https://www.washingtonpost.com/politics/2023/0...</td>\n",
       "      <td>2023-06-20T15:34:49Z</td>\n",
       "      <td>This article has been updated.</td>\n",
       "      <td>Comment on this story\\r\\nComment\\r\\nThose tuni...</td>\n",
       "      <td>NaN</td>\n",
       "      <td>[]</td>\n",
       "      <td>0</td>\n",
       "    </tr>\n",
       "  </tbody>\n",
       "</table>\n",
       "</div>"
      ],
      "text/plain": [
       "       text_id          source_name  \\\n",
       "6140      7609               Forbes   \n",
       "31421    33725               Forbes   \n",
       "34739    66724  The Washington Post   \n",
       "\n",
       "                                                  author  \\\n",
       "6140   EY Contributor, EY, \\n EY Contributor, EY\\n ht...   \n",
       "31421  Fidelity Viewpoints Team, Fidelity, \\n Fidelit...   \n",
       "34739                                        Philip Bump   \n",
       "\n",
       "                                                   title  \\\n",
       "6140   5 Ways Consumer Companies Unlock Value From Su...   \n",
       "31421                    Balancing Growth And Protection   \n",
       "34739  The other revelation from Hunter Biden’s plea ...   \n",
       "\n",
       "                                                     url  \\\n",
       "6140   https://www.forbes.com/sites/ey/2023/06/22/5-w...   \n",
       "31421  https://www.forbes.com/sites/fidelity/2023/06/...   \n",
       "34739  https://www.washingtonpost.com/politics/2023/0...   \n",
       "\n",
       "               publish_date                    article_text  \\\n",
       "6140   2023-06-22T17:08:16Z                \\n\\n\\n\\n\\n\\n\\n\\n   \n",
       "31421  2023-06-09T16:24:08Z                    \\n\\n\\n\\n\\n\\n   \n",
       "34739  2023-06-20T15:34:49Z  This article has been updated.   \n",
       "\n",
       "                                                 content processed_text  \\\n",
       "6140   This publication contains information in summa...            NaN   \n",
       "31421  Investing involves risk, including risk of los...            NaN   \n",
       "34739  Comment on this story\\r\\nComment\\r\\nThose tuni...            NaN   \n",
       "\n",
       "      processed_text_split  num_tokens  \n",
       "6140                    []           0  \n",
       "31421                   []           0  \n",
       "34739                   []           0  "
      ]
     },
     "metadata": {},
     "output_type": "display_data"
    }
   ],
   "source": [
    "ic(len(slct_tbl_full_df01[slct_tbl_full_df01['processed_text']==None]))\n",
    "display(slct_tbl_full_df01[slct_tbl_full_df01['processed_text'].isna()].head(23))"
   ]
  },
  {
   "cell_type": "markdown",
   "id": "e3227f0a-dead-400d-b7e5-9e71605d4a0d",
   "metadata": {},
   "source": [
    "### Remove missing `article_text` row(s)"
   ]
  },
  {
   "cell_type": "markdown",
   "id": "2d2c1971-e203-4448-884a-2d418d3bb366",
   "metadata": {},
   "source": [
    "Use pandas' `dropna()` method to remove instances with null values; send results to a new dataframe. Print resulting df shape and head."
   ]
  },
  {
   "cell_type": "code",
   "execution_count": 9,
   "id": "a4b240a7-c114-46dd-abd7-9d0abfd38192",
   "metadata": {},
   "outputs": [
    {
     "name": "stdout",
     "output_type": "stream",
     "text": [
      "Dataframe shape: (36402, 11)\n"
     ]
    },
    {
     "data": {
      "text/html": [
       "<div>\n",
       "<style scoped>\n",
       "    .dataframe tbody tr th:only-of-type {\n",
       "        vertical-align: middle;\n",
       "    }\n",
       "\n",
       "    .dataframe tbody tr th {\n",
       "        vertical-align: top;\n",
       "    }\n",
       "\n",
       "    .dataframe thead th {\n",
       "        text-align: right;\n",
       "    }\n",
       "</style>\n",
       "<table border=\"1\" class=\"dataframe\">\n",
       "  <thead>\n",
       "    <tr style=\"text-align: right;\">\n",
       "      <th></th>\n",
       "      <th>text_id</th>\n",
       "      <th>source_name</th>\n",
       "      <th>author</th>\n",
       "      <th>title</th>\n",
       "      <th>url</th>\n",
       "      <th>publish_date</th>\n",
       "      <th>article_text</th>\n",
       "      <th>content</th>\n",
       "      <th>processed_text</th>\n",
       "      <th>processed_text_split</th>\n",
       "      <th>num_tokens</th>\n",
       "    </tr>\n",
       "  </thead>\n",
       "  <tbody>\n",
       "    <tr>\n",
       "      <th>0</th>\n",
       "      <td>2</td>\n",
       "      <td>USA Today</td>\n",
       "      <td>USA TODAY, Emily DeLetter, USA TODAY</td>\n",
       "      <td>Tito's launches 'Tito's in a Big Can,' an empt...</td>\n",
       "      <td>https://www.usatoday.com/story/money/food/2023...</td>\n",
       "      <td>2023-06-21T17:37:40Z</td>\n",
       "      <td>Have you ever wanted to own your very own keg ...</td>\n",
       "      <td>Have you ever wanted to own your very own keg ...</td>\n",
       "      <td>ever wanted keg titos handmade vodka dream bec...</td>\n",
       "      <td>['ever', 'wanted', 'keg', 'titos', 'handmade',...</td>\n",
       "      <td>117</td>\n",
       "    </tr>\n",
       "    <tr>\n",
       "      <th>1</th>\n",
       "      <td>3</td>\n",
       "      <td>USA Today</td>\n",
       "      <td>USA TODAY, Joy Ashford, USA TODAY</td>\n",
       "      <td>Search for missing actor Julian Sands continue...</td>\n",
       "      <td>https://www.usatoday.com/story/entertainment/c...</td>\n",
       "      <td>2023-06-20T17:36:09Z</td>\n",
       "      <td>Over five months after Julian Sands went missi...</td>\n",
       "      <td>Over five months after Julian Sandswent missin...</td>\n",
       "      <td>five months julian sands went missing solo hik...</td>\n",
       "      <td>['five', 'months', 'julian', 'sands', 'went', ...</td>\n",
       "      <td>215</td>\n",
       "    </tr>\n",
       "    <tr>\n",
       "      <th>2</th>\n",
       "      <td>5</td>\n",
       "      <td>USA Today</td>\n",
       "      <td>Tar Heels Wire</td>\n",
       "      <td>Four star running back picks Michigan State ov...</td>\n",
       "      <td>https://tarheelswire.usatoday.com/2023/06/24/f...</td>\n",
       "      <td>2023-06-25T03:51:10Z</td>\n",
       "      <td>\\n\\n\\n\\n\\n\\n\\n\\n\\n\\n\\n\\n\\n\\nFour star running ...</td>\n",
       "      <td>Mack Brown and the UNC football program have b...</td>\n",
       "      <td>four star running back picks michigan state un...</td>\n",
       "      <td>['four', 'star', 'running', 'back', 'picks', '...</td>\n",
       "      <td>161</td>\n",
       "    </tr>\n",
       "    <tr>\n",
       "      <th>3</th>\n",
       "      <td>6</td>\n",
       "      <td>USA Today</td>\n",
       "      <td>Roll Tide Wire</td>\n",
       "      <td>Alabama center Charles Bediako signs one-year ...</td>\n",
       "      <td>https://rolltidewire.usatoday.com/2023/06/23/a...</td>\n",
       "      <td>2023-06-23T21:29:24Z</td>\n",
       "      <td>\\n\\n\\n\\n\\n\\n\\n\\n\\n\\n\\n\\n\\n\\nAlabama center Cha...</td>\n",
       "      <td>Alabama center Charles Bediako was signed to a...</td>\n",
       "      <td>alabama center charles bediako signs one year ...</td>\n",
       "      <td>['alabama', 'center', 'charles', 'bediako', 's...</td>\n",
       "      <td>237</td>\n",
       "    </tr>\n",
       "    <tr>\n",
       "      <th>4</th>\n",
       "      <td>7</td>\n",
       "      <td>USA Today</td>\n",
       "      <td>Celtics Wire</td>\n",
       "      <td>Ralph Sampson breaks down iconic Boston Celtic...</td>\n",
       "      <td>https://celticswire.usatoday.com/2023/06/23/nb...</td>\n",
       "      <td>2023-06-23T11:00:41Z</td>\n",
       "      <td>\\n\\n\\n\\n\\n\\n\\n\\n\\n\\n\\n\\n\\n\\nRalph Sampson brea...</td>\n",
       "      <td>It was one of the most memorable moments in NB...</td>\n",
       "      <td>ralph sampson breaks iconic boston houston roc...</td>\n",
       "      <td>['ralph', 'sampson', 'breaks', 'iconic', 'bost...</td>\n",
       "      <td>134</td>\n",
       "    </tr>\n",
       "  </tbody>\n",
       "</table>\n",
       "</div>"
      ],
      "text/plain": [
       "   text_id source_name                                author  \\\n",
       "0        2   USA Today  USA TODAY, Emily DeLetter, USA TODAY   \n",
       "1        3   USA Today     USA TODAY, Joy Ashford, USA TODAY   \n",
       "2        5   USA Today                        Tar Heels Wire   \n",
       "3        6   USA Today                        Roll Tide Wire   \n",
       "4        7   USA Today                          Celtics Wire   \n",
       "\n",
       "                                               title  \\\n",
       "0  Tito's launches 'Tito's in a Big Can,' an empt...   \n",
       "1  Search for missing actor Julian Sands continue...   \n",
       "2  Four star running back picks Michigan State ov...   \n",
       "3  Alabama center Charles Bediako signs one-year ...   \n",
       "4  Ralph Sampson breaks down iconic Boston Celtic...   \n",
       "\n",
       "                                                 url          publish_date  \\\n",
       "0  https://www.usatoday.com/story/money/food/2023...  2023-06-21T17:37:40Z   \n",
       "1  https://www.usatoday.com/story/entertainment/c...  2023-06-20T17:36:09Z   \n",
       "2  https://tarheelswire.usatoday.com/2023/06/24/f...  2023-06-25T03:51:10Z   \n",
       "3  https://rolltidewire.usatoday.com/2023/06/23/a...  2023-06-23T21:29:24Z   \n",
       "4  https://celticswire.usatoday.com/2023/06/23/nb...  2023-06-23T11:00:41Z   \n",
       "\n",
       "                                        article_text  \\\n",
       "0  Have you ever wanted to own your very own keg ...   \n",
       "1  Over five months after Julian Sands went missi...   \n",
       "2  \\n\\n\\n\\n\\n\\n\\n\\n\\n\\n\\n\\n\\n\\nFour star running ...   \n",
       "3  \\n\\n\\n\\n\\n\\n\\n\\n\\n\\n\\n\\n\\n\\nAlabama center Cha...   \n",
       "4  \\n\\n\\n\\n\\n\\n\\n\\n\\n\\n\\n\\n\\n\\nRalph Sampson brea...   \n",
       "\n",
       "                                             content  \\\n",
       "0  Have you ever wanted to own your very own keg ...   \n",
       "1  Over five months after Julian Sandswent missin...   \n",
       "2  Mack Brown and the UNC football program have b...   \n",
       "3  Alabama center Charles Bediako was signed to a...   \n",
       "4  It was one of the most memorable moments in NB...   \n",
       "\n",
       "                                      processed_text  \\\n",
       "0  ever wanted keg titos handmade vodka dream bec...   \n",
       "1  five months julian sands went missing solo hik...   \n",
       "2  four star running back picks michigan state un...   \n",
       "3  alabama center charles bediako signs one year ...   \n",
       "4  ralph sampson breaks iconic boston houston roc...   \n",
       "\n",
       "                                processed_text_split  num_tokens  \n",
       "0  ['ever', 'wanted', 'keg', 'titos', 'handmade',...         117  \n",
       "1  ['five', 'months', 'julian', 'sands', 'went', ...         215  \n",
       "2  ['four', 'star', 'running', 'back', 'picks', '...         161  \n",
       "3  ['alabama', 'center', 'charles', 'bediako', 's...         237  \n",
       "4  ['ralph', 'sampson', 'breaks', 'iconic', 'bost...         134  "
      ]
     },
     "metadata": {},
     "output_type": "display_data"
    }
   ],
   "source": [
    "'''Drop missing citation:\n",
    "https://pandas.pydata.org/pandas-docs/stable/reference\n",
    "/api/pandas.DataFrame.dropna.html#pandas.DataFrame.dropna\n",
    "'''\n",
    "slct_tbl_full_df02 = slct_tbl_full_df01.dropna(subset=['processed_text'])\n",
    "slct_tbl_full_df02 = slct_tbl_full_df02.reset_index(drop=True)\n",
    "\n",
    "slct_tbl_full_df03 = slct_tbl_full_df02.copy()\n",
    "\n",
    "print(f'Dataframe shape: {slct_tbl_full_df03.shape}')\n",
    "display(slct_tbl_full_df03.head())"
   ]
  },
  {
   "cell_type": "markdown",
   "id": "a635c1f0-1c0e-49ab-b804-7952d3d26ba3",
   "metadata": {},
   "source": [
    "### Display Source counts"
   ]
  },
  {
   "cell_type": "markdown",
   "id": "b1be721d-cec4-4465-bafe-28b3d7151ee3",
   "metadata": {},
   "source": [
    "Count the number of instances within each news source, e.g., ABC, CNN, USA Today."
   ]
  },
  {
   "cell_type": "code",
   "execution_count": 10,
   "id": "462696cb-d311-4045-bca1-6d6858e44cd4",
   "metadata": {},
   "outputs": [
    {
     "name": "stdout",
     "output_type": "stream",
     "text": [
      "Source counts:\n",
      "Forbes                 7784\n",
      "New York Post          6862\n",
      "USA Today              6752\n",
      "ABC News               4858\n",
      "CNN                    1686\n",
      "Business Insider       1563\n",
      "Fox News               1379\n",
      "CNBC                   1338\n",
      "NBC News               1111\n",
      "Breitbart News         1038\n",
      "Buzzfeed                750\n",
      "The Washington Post     373\n",
      "PEOPLE                  245\n",
      "MSNBC                   225\n",
      "Vox                     213\n",
      "Wired                   129\n",
      "Reuters                  96\n"
     ]
    }
   ],
   "source": [
    "source_cnt = slct_tbl_full_df03['source_name'].value_counts()\n",
    " \n",
    "# Display missing values\n",
    "print('Source counts:\\n' + source_cnt.to_string())\n",
    "\n",
    "source_cnt.to_csv(os.path.join(up1_dir,\n",
    "                               ref_docs_location,\n",
    "                               'source_dist.csv'))"
   ]
  },
  {
   "cell_type": "markdown",
   "id": "06d66ce1-0dae-4c5f-92d4-53204a368966",
   "metadata": {},
   "source": [
    "Set list of dataframe columns to export."
   ]
  },
  {
   "cell_type": "code",
   "execution_count": 11,
   "id": "54c22a70-0395-47a8-97cb-e13561cc0984",
   "metadata": {},
   "outputs": [],
   "source": [
    "export_col_names_lst = ['processed_text',\n",
    "                       ]"
   ]
  },
  {
   "cell_type": "markdown",
   "id": "03a5f4b7-0598-4910-908b-9964b08d2640",
   "metadata": {},
   "source": [
    "### Write file without stop words to CSV - data subset 1"
   ]
  },
  {
   "cell_type": "markdown",
   "id": "190c05e6-32cc-4588-843b-319ff7a26941",
   "metadata": {},
   "source": [
    "Set path to write CSV file to."
   ]
  },
  {
   "cell_type": "code",
   "execution_count": 12,
   "id": "360e6ee9-271f-4125-91f5-5303496eed00",
   "metadata": {
    "tags": []
   },
   "outputs": [
    {
     "name": "stdout",
     "output_type": "stream",
     "text": [
      "CSV file out 1 path: C:\\Users\\acarr\\Documents\\GitHub\\599_team_project\\data\\data_preprocessed_wo_sw_X2_2023-07-25_13-11-04731013.csv\n"
     ]
    }
   ],
   "source": [
    "file_out_name01 = f'data_preprocessed_wo_sw_X2_{today}.csv'\n",
    "file_out_path01 = os.path.join(up1_dir, data_location, file_out_name01)\n",
    "print(f'CSV file out 1 path: {file_out_path01}')"
   ]
  },
  {
   "cell_type": "markdown",
   "id": "49dd93d8-2a30-4d88-8f0e-ac544b21210b",
   "metadata": {},
   "source": [
    "Write pandas dataframe to CSV; save locally."
   ]
  },
  {
   "cell_type": "code",
   "execution_count": 13,
   "id": "847166c2-4068-4ba9-b09a-f61d520d042d",
   "metadata": {},
   "outputs": [
    {
     "name": "stdout",
     "output_type": "stream",
     "text": [
      "0.0\n"
     ]
    },
    {
     "ename": "TypeError",
     "evalue": "cannot do slice indexing on RangeIndex with these indexers [0.0] of type float",
     "output_type": "error",
     "traceback": [
      "\u001b[1;31m---------------------------------------------------------------------------\u001b[0m",
      "\u001b[1;31mTypeError\u001b[0m                                 Traceback (most recent call last)",
      "Cell \u001b[1;32mIn[13], line 7\u001b[0m\n\u001b[0;32m      5\u001b[0m     \u001b[38;5;28;01mpass\u001b[39;00m\n\u001b[0;32m      6\u001b[0m \u001b[38;5;28;01melse\u001b[39;00m:\n\u001b[1;32m----> 7\u001b[0m     \u001b[43mslct_tbl_full_df03\u001b[49m\u001b[43m[\u001b[49m\u001b[43mexport_col_names_lst\u001b[49m\u001b[43m]\u001b[49m\u001b[43m[\u001b[49m\u001b[43m:\u001b[49m\u001b[43mlen_half\u001b[49m\u001b[43m]\u001b[49m\u001b[38;5;241m.\u001b[39mto_csv(file_out_path01,\n\u001b[0;32m      8\u001b[0m                                                     index\u001b[38;5;241m=\u001b[39m\u001b[38;5;28;01mFalse\u001b[39;00m)\n",
      "File \u001b[1;32m~\\anaconda3\\envs\\ds-py39-tx\\lib\\site-packages\\pandas\\core\\frame.py:3779\u001b[0m, in \u001b[0;36mDataFrame.__getitem__\u001b[1;34m(self, key)\u001b[0m\n\u001b[0;32m   3777\u001b[0m         \u001b[38;5;28;01mreturn\u001b[39;00m \u001b[38;5;28mself\u001b[39m\u001b[38;5;241m.\u001b[39m_getitem_multilevel(key)\n\u001b[0;32m   3778\u001b[0m \u001b[38;5;66;03m# Do we have a slicer (on rows)?\u001b[39;00m\n\u001b[1;32m-> 3779\u001b[0m indexer \u001b[38;5;241m=\u001b[39m \u001b[43mconvert_to_index_sliceable\u001b[49m\u001b[43m(\u001b[49m\u001b[38;5;28;43mself\u001b[39;49m\u001b[43m,\u001b[49m\u001b[43m \u001b[49m\u001b[43mkey\u001b[49m\u001b[43m)\u001b[49m\n\u001b[0;32m   3780\u001b[0m \u001b[38;5;28;01mif\u001b[39;00m indexer \u001b[38;5;129;01mis\u001b[39;00m \u001b[38;5;129;01mnot\u001b[39;00m \u001b[38;5;28;01mNone\u001b[39;00m:\n\u001b[0;32m   3781\u001b[0m     \u001b[38;5;28;01mif\u001b[39;00m \u001b[38;5;28misinstance\u001b[39m(indexer, np\u001b[38;5;241m.\u001b[39mndarray):\n",
      "File \u001b[1;32m~\\anaconda3\\envs\\ds-py39-tx\\lib\\site-packages\\pandas\\core\\indexing.py:2494\u001b[0m, in \u001b[0;36mconvert_to_index_sliceable\u001b[1;34m(obj, key)\u001b[0m\n\u001b[0;32m   2492\u001b[0m idx \u001b[38;5;241m=\u001b[39m obj\u001b[38;5;241m.\u001b[39mindex\n\u001b[0;32m   2493\u001b[0m \u001b[38;5;28;01mif\u001b[39;00m \u001b[38;5;28misinstance\u001b[39m(key, \u001b[38;5;28mslice\u001b[39m):\n\u001b[1;32m-> 2494\u001b[0m     \u001b[38;5;28;01mreturn\u001b[39;00m \u001b[43midx\u001b[49m\u001b[38;5;241;43m.\u001b[39;49m\u001b[43m_convert_slice_indexer\u001b[49m\u001b[43m(\u001b[49m\u001b[43mkey\u001b[49m\u001b[43m,\u001b[49m\u001b[43m \u001b[49m\u001b[43mkind\u001b[49m\u001b[38;5;241;43m=\u001b[39;49m\u001b[38;5;124;43m\"\u001b[39;49m\u001b[38;5;124;43mgetitem\u001b[39;49m\u001b[38;5;124;43m\"\u001b[39;49m\u001b[43m)\u001b[49m\n\u001b[0;32m   2496\u001b[0m \u001b[38;5;28;01melif\u001b[39;00m \u001b[38;5;28misinstance\u001b[39m(key, \u001b[38;5;28mstr\u001b[39m):\n\u001b[0;32m   2497\u001b[0m \n\u001b[0;32m   2498\u001b[0m     \u001b[38;5;66;03m# we are an actual column\u001b[39;00m\n\u001b[0;32m   2499\u001b[0m     \u001b[38;5;28;01mif\u001b[39;00m key \u001b[38;5;129;01min\u001b[39;00m obj\u001b[38;5;241m.\u001b[39mcolumns:\n",
      "File \u001b[1;32m~\\anaconda3\\envs\\ds-py39-tx\\lib\\site-packages\\pandas\\core\\indexes\\numeric.py:234\u001b[0m, in \u001b[0;36mNumericIndex._convert_slice_indexer\u001b[1;34m(self, key, kind)\u001b[0m\n\u001b[0;32m    228\u001b[0m     \u001b[38;5;66;03m# TODO: can we write this as a condition based on\u001b[39;00m\n\u001b[0;32m    229\u001b[0m     \u001b[38;5;66;03m#  e.g. _should_fallback_to_positional?\u001b[39;00m\n\u001b[0;32m    230\u001b[0m     \u001b[38;5;66;03m# We always treat __getitem__ slicing as label-based\u001b[39;00m\n\u001b[0;32m    231\u001b[0m     \u001b[38;5;66;03m# translate to locations\u001b[39;00m\n\u001b[0;32m    232\u001b[0m     \u001b[38;5;28;01mreturn\u001b[39;00m \u001b[38;5;28mself\u001b[39m\u001b[38;5;241m.\u001b[39mslice_indexer(key\u001b[38;5;241m.\u001b[39mstart, key\u001b[38;5;241m.\u001b[39mstop, key\u001b[38;5;241m.\u001b[39mstep)\n\u001b[1;32m--> 234\u001b[0m \u001b[38;5;28;01mreturn\u001b[39;00m \u001b[38;5;28;43msuper\u001b[39;49m\u001b[43m(\u001b[49m\u001b[43m)\u001b[49m\u001b[38;5;241;43m.\u001b[39;49m\u001b[43m_convert_slice_indexer\u001b[49m\u001b[43m(\u001b[49m\u001b[43mkey\u001b[49m\u001b[43m,\u001b[49m\u001b[43m \u001b[49m\u001b[43mkind\u001b[49m\u001b[38;5;241;43m=\u001b[39;49m\u001b[43mkind\u001b[49m\u001b[43m)\u001b[49m\n",
      "File \u001b[1;32m~\\anaconda3\\envs\\ds-py39-tx\\lib\\site-packages\\pandas\\core\\indexes\\base.py:4251\u001b[0m, in \u001b[0;36mIndex._convert_slice_indexer\u001b[1;34m(self, key, kind)\u001b[0m\n\u001b[0;32m   4248\u001b[0m \u001b[38;5;28;01mif\u001b[39;00m \u001b[38;5;28mself\u001b[39m\u001b[38;5;241m.\u001b[39mis_integer() \u001b[38;5;129;01mor\u001b[39;00m is_index_slice:\n\u001b[0;32m   4249\u001b[0m     \u001b[38;5;66;03m# Note: these checks are redundant if we know is_index_slice\u001b[39;00m\n\u001b[0;32m   4250\u001b[0m     \u001b[38;5;28mself\u001b[39m\u001b[38;5;241m.\u001b[39m_validate_indexer(\u001b[38;5;124m\"\u001b[39m\u001b[38;5;124mslice\u001b[39m\u001b[38;5;124m\"\u001b[39m, key\u001b[38;5;241m.\u001b[39mstart, \u001b[38;5;124m\"\u001b[39m\u001b[38;5;124mgetitem\u001b[39m\u001b[38;5;124m\"\u001b[39m)\n\u001b[1;32m-> 4251\u001b[0m     \u001b[38;5;28;43mself\u001b[39;49m\u001b[38;5;241;43m.\u001b[39;49m\u001b[43m_validate_indexer\u001b[49m\u001b[43m(\u001b[49m\u001b[38;5;124;43m\"\u001b[39;49m\u001b[38;5;124;43mslice\u001b[39;49m\u001b[38;5;124;43m\"\u001b[39;49m\u001b[43m,\u001b[49m\u001b[43m \u001b[49m\u001b[43mkey\u001b[49m\u001b[38;5;241;43m.\u001b[39;49m\u001b[43mstop\u001b[49m\u001b[43m,\u001b[49m\u001b[43m \u001b[49m\u001b[38;5;124;43m\"\u001b[39;49m\u001b[38;5;124;43mgetitem\u001b[39;49m\u001b[38;5;124;43m\"\u001b[39;49m\u001b[43m)\u001b[49m\n\u001b[0;32m   4252\u001b[0m     \u001b[38;5;28mself\u001b[39m\u001b[38;5;241m.\u001b[39m_validate_indexer(\u001b[38;5;124m\"\u001b[39m\u001b[38;5;124mslice\u001b[39m\u001b[38;5;124m\"\u001b[39m, key\u001b[38;5;241m.\u001b[39mstep, \u001b[38;5;124m\"\u001b[39m\u001b[38;5;124mgetitem\u001b[39m\u001b[38;5;124m\"\u001b[39m)\n\u001b[0;32m   4253\u001b[0m     \u001b[38;5;28;01mreturn\u001b[39;00m key\n",
      "File \u001b[1;32m~\\anaconda3\\envs\\ds-py39-tx\\lib\\site-packages\\pandas\\core\\indexes\\base.py:6591\u001b[0m, in \u001b[0;36mIndex._validate_indexer\u001b[1;34m(self, form, key, kind)\u001b[0m\n\u001b[0;32m   6588\u001b[0m \u001b[38;5;28;01massert\u001b[39;00m kind \u001b[38;5;129;01min\u001b[39;00m [\u001b[38;5;124m\"\u001b[39m\u001b[38;5;124mgetitem\u001b[39m\u001b[38;5;124m\"\u001b[39m, \u001b[38;5;124m\"\u001b[39m\u001b[38;5;124miloc\u001b[39m\u001b[38;5;124m\"\u001b[39m]\n\u001b[0;32m   6590\u001b[0m \u001b[38;5;28;01mif\u001b[39;00m key \u001b[38;5;129;01mis\u001b[39;00m \u001b[38;5;129;01mnot\u001b[39;00m \u001b[38;5;28;01mNone\u001b[39;00m \u001b[38;5;129;01mand\u001b[39;00m \u001b[38;5;129;01mnot\u001b[39;00m is_integer(key):\n\u001b[1;32m-> 6591\u001b[0m     \u001b[38;5;28;01mraise\u001b[39;00m \u001b[38;5;28mself\u001b[39m\u001b[38;5;241m.\u001b[39m_invalid_indexer(form, key)\n",
      "\u001b[1;31mTypeError\u001b[0m: cannot do slice indexing on RangeIndex with these indexers [0.0] of type float"
     ]
    }
   ],
   "source": [
    "len_half = round(len(export_col_names_lst)/2,0)\n",
    "print(len_half)\n",
    "\n",
    "if to_csv_flag == False:\n",
    "    pass\n",
    "else:\n",
    "    slct_tbl_full_df03[export_col_names_lst][:len_half].to_csv(file_out_path01,\n",
    "                                                    index=False)"
   ]
  },
  {
   "cell_type": "code",
   "execution_count": null,
   "id": "253d3912-5010-443c-a715-b868ce61fe6f",
   "metadata": {
    "tags": []
   },
   "outputs": [],
   "source": [
    "print(slct_tbl_full_df03.shape)"
   ]
  },
  {
   "cell_type": "markdown",
   "id": "fde8fcd2-aab0-4439-93ae-da56d0a7065c",
   "metadata": {},
   "source": [
    "#### Display globally unique tokens"
   ]
  },
  {
   "cell_type": "code",
   "execution_count": null,
   "id": "f3c6c6e9-bab0-4cbc-97df-de00190cef54",
   "metadata": {},
   "outputs": [],
   "source": [
    "import ast\n",
    "def uniq_tok(df_col=pd.DataFrame([''])):\n",
    "    '''Display all unique tokens across all instances'''\n",
    "    start_time = time.perf_counter()\n",
    "    df_cols1 = pd.Series(df_col)\n",
    "    #print(df_cols1)\n",
    "\n",
    "    all_tokens_lst01 = []\n",
    "    \n",
    "    counter = 0\n",
    "    #for f in df_cols1:\n",
    "    #    if counter < 5:\n",
    "            #print(ast.literal_eval(f))\n",
    "            #print(type(ast.literal_eval(f)))\n",
    "    #    counter += 1\n",
    "\n",
    "    [all_tokens_lst01.append(ast.literal_eval(f)) for f in df_cols1]\n",
    "    all_tokens_lst01 = list(itertools.chain\\\n",
    "                            .from_iterable(all_tokens_lst01))\n",
    "    #print(all_tokens_lst01[:100])\n",
    "    all_tokens_set01 = set(all_tokens_lst01)\n",
    "    #print(all_tokens_set01)\n",
    "    print(len(sorted(all_tokens_set01)))\n",
    "    #print(sorted(all_tokens_set01))\n",
    "    end_time = time.perf_counter()\n",
    "    print(f'\\nElapsed processing time = {end_time - start_time}')\n",
    "    \n",
    "    return sorted(all_tokens_set01)\n",
    "\n",
    "df03_t = uniq_tok(df_col=slct_tbl_full_df03['processed_text_split'])"
   ]
  },
  {
   "cell_type": "code",
   "execution_count": null,
   "id": "5758def1-b782-46bb-b0cd-aa49d1af0232",
   "metadata": {
    "tags": []
   },
   "outputs": [],
   "source": [
    "slct_tbl_full_df03['url'].iloc[36400]"
   ]
  },
  {
   "cell_type": "code",
   "execution_count": null,
   "id": "fe689b37-4adc-4af6-96d8-3d2e6c36f01c",
   "metadata": {
    "tags": []
   },
   "outputs": [],
   "source": [
    "slct_tbl_full_df03['url'].iloc[36401]"
   ]
  },
  {
   "cell_type": "code",
   "execution_count": null,
   "id": "607ec20f-5a1a-43a2-b53d-52d3387c2a48",
   "metadata": {
    "tags": []
   },
   "outputs": [],
   "source": [
    "print(slct_tbl_full_df03.duplicated(subset=['processed_text'], keep='last').sum())\n",
    "slct_tbl_full_df03a = slct_tbl_full_df03.loc[slct_tbl_full_df03.duplicated(subset=['processed_text'], keep='last') == True]\n",
    "slct_tbl_full_df03a = slct_tbl_full_df03a.sort_values(by=['processed_text', 'url'])\n",
    "#display(slct_tbl_full_df03a[['processed_text', 'url']].head())\n",
    "for r in slct_tbl_full_df03a['url']:\n",
    "    print(r)"
   ]
  },
  {
   "cell_type": "code",
   "execution_count": null,
   "id": "a00e951e-7ed0-4fdf-bda2-971050cfefe7",
   "metadata": {},
   "outputs": [],
   "source": [
    "ic(len(df03_t))\n",
    "print(slct_tbl_full_df03['num_tokens'].sum())\n",
    "#print(df03_t)"
   ]
  },
  {
   "cell_type": "markdown",
   "id": "d25cadab-f54e-489a-a695-d3d2672a80e6",
   "metadata": {},
   "source": [
    "## Display runtime"
   ]
  },
  {
   "cell_type": "code",
   "execution_count": null,
   "id": "b7e50fc1-03b2-4be8-b29b-8ff56361b13f",
   "metadata": {},
   "outputs": [],
   "source": [
    "global_end_time = time.perf_counter()"
   ]
  },
  {
   "cell_type": "code",
   "execution_count": null,
   "id": "70f84127-4840-4f28-a604-c810ff0afca4",
   "metadata": {},
   "outputs": [],
   "source": [
    "print(f'''\\nElapsed processing time = {round((global_end_time \n",
    "- global_start_time)/60,2)} mins''')"
   ]
  },
  {
   "cell_type": "markdown",
   "id": "429b2704-5b1e-4a85-80d2-ed16426a8237",
   "metadata": {},
   "source": [
    "## References"
   ]
  }
 ],
 "metadata": {
  "kernelspec": {
   "display_name": "Python 3 (ipykernel)",
   "language": "python",
   "name": "python3"
  },
  "language_info": {
   "codemirror_mode": {
    "name": "ipython",
    "version": 3
   },
   "file_extension": ".py",
   "mimetype": "text/x-python",
   "name": "python",
   "nbconvert_exporter": "python",
   "pygments_lexer": "ipython3",
   "version": "3.9.16"
  }
 },
 "nbformat": 4,
 "nbformat_minor": 5
}
